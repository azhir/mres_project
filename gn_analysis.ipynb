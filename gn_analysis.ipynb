{
 "cells": [
  {
   "cell_type": "code",
   "execution_count": 1,
   "metadata": {},
   "outputs": [
    {
     "name": "stderr",
     "output_type": "stream",
     "text": [
      "c:\\Users\\azhir\\anaconda3\\envs\\gundam\\lib\\site-packages\\tqdm\\auto.py:22: TqdmWarning: IProgress not found. Please update jupyter and ipywidgets. See https://ipywidgets.readthedocs.io/en/stable/user_install.html\n",
      "  from .autonotebook import tqdm as notebook_tqdm\n"
     ]
    }
   ],
   "source": [
    "# initial set-up\n",
    "import numpy as np\n",
    "import torch\n",
    "import torch.nn as nn\n",
    "import torch.nn.functional as F\n",
    "from torch.nn.parameter import Parameter\n",
    "import matplotlib.pyplot as plt\n",
    "from sklearn.model_selection import train_test_split\n",
    "from torch.utils.data import Dataset, DataLoader, TensorDataset\n",
    "import operator\n",
    "from functools import reduce\n",
    "from functools import partial\n",
    "from timeit import default_timer\n",
    "from utilities3 import *\n",
    "\n",
    "from Adam import Adam\n",
    "from sewar.full_ref import rmse, uqi\n",
    "from skimage.metrics import structural_similarity as ssim\n",
    "from skimage.metrics import peak_signal_noise_ratio as psnr\n",
    "import timeit\n",
    "\n",
    "torch.manual_seed(0)\n",
    "np.random.seed(0)"
   ]
  },
  {
   "cell_type": "code",
   "execution_count": 30,
   "metadata": {},
   "outputs": [],
   "source": [
    "# MODEL METRICS\n",
    "###################################\n",
    "# MODEL METRICS\n",
    "###################################\n",
    "def basic_metrics(recon_data,true_data, no_recon):\n",
    "    rms_values, psnr_values, ssim_values, uqi_values = [], [], [], []\n",
    "\n",
    "    for test_num in range(no_recon):\n",
    "        predicted_np = np.reshape(recon_data[test_num,:],(16,16))\n",
    "        truth_np = np.reshape(true_data[test_num,:],(16,16))\n",
    "\n",
    "        rms_values.append(rmse(predicted_np, truth_np))\n",
    "        psnr_values.append(psnr(truth_np, predicted_np, data_range=predicted_np.max() - predicted_np.min()))\n",
    "        ssim_values.append(ssim(truth_np, predicted_np, data_range=predicted_np.max() - predicted_np.min()))\n",
    "        uqi_values.append(uqi(predicted_np, truth_np))\n",
    "\n",
    "    model_rms = sum(rms_values)/ len(rms_values)\n",
    "    std_rms = np.std(np.array(rms_values))\n",
    "\n",
    "    model_psnr = sum(psnr_values)/ len(psnr_values)\n",
    "    std_psnr = np.std(np.array(psnr_values))\n",
    "\n",
    "    model_ssim = sum(ssim_values)/ len(ssim_values)\n",
    "    std_ssim = np.std(np.array(ssim_values))\n",
    "\n",
    "    model_uqi = sum(uqi_values)/ len(uqi_values)\n",
    "    std_uqi = np.std(np.array(uqi_values))\n",
    "\n",
    "\n",
    "    print(\"RMSE: \", model_rms, std_rms, sep=\"---\")\n",
    "    print(\"PSNR: \", model_psnr, std_psnr, sep=\"---\")\n",
    "    print(\"SSIM: \", model_ssim, std_ssim, sep=\"---\")\n",
    "\n",
    "    output = {\n",
    "    \"rms\": rms_values,\n",
    "    \"psnr\": psnr_values,\n",
    "    \"ssim\": ssim_values,\n",
    "    # average values\n",
    "    'model_rms': [round(model_rms,5),round(std_rms,5)],\n",
    "    'model_psnr': [round(model_psnr,5),round(std_psnr,5)],\n",
    "    'model_ssim': [round(model_ssim,5),round(std_ssim,5)]\n",
    "    }\n",
    "    return output "
   ]
  },
  {
   "cell_type": "code",
   "execution_count": 9,
   "metadata": {},
   "outputs": [],
   "source": [
    "measurement_list = ['recon000', 'recon005', 'recon010', 'recon015', 'recon020', 'recon025', 'recon030']\n",
    "noise_levels = [0, 0.005, 0.010, 0.015, 0.020, 0.025, 0.030]"
   ]
  },
  {
   "cell_type": "code",
   "execution_count": 65,
   "metadata": {},
   "outputs": [],
   "source": [
    "gn_raw_data = scipy.io.loadmat('./datasets/recon_info_v2')\n",
    "truth_gn = np.asarray(gn_raw_data['solution_data'])\n",
    "\n",
    "gn_stats = scipy.io.loadmat('./datasets/recon_means_finalv2')"
   ]
  },
  {
   "cell_type": "code",
   "execution_count": 66,
   "metadata": {},
   "outputs": [],
   "source": [
    "mean_itr = np.asarray(gn_stats['mean_itr'][0])\n",
    "std_itr = np.asarray(gn_stats['std_itr'][0])\n",
    "\n",
    "mean_time = np.asarray(gn_stats['mean_time'][0])\n",
    "std_time = np.asarray(gn_stats['std_time'][0])"
   ]
  },
  {
   "cell_type": "code",
   "execution_count": 70,
   "metadata": {},
   "outputs": [
    {
     "data": {
      "text/plain": [
       "(array([3.86754111, 8.20684976, 6.12760351, 5.54010804, 6.17872694,\n",
       "        5.10849386, 5.39823338]),\n",
       " array([25.89124692, 27.74351994, 23.66078866, 19.200918  , 16.01148558,\n",
       "        12.16665366, 10.92320083]))"
      ]
     },
     "execution_count": 70,
     "metadata": {},
     "output_type": "execute_result"
    }
   ],
   "source": [
    "std_time, mean_time"
   ]
  },
  {
   "cell_type": "code",
   "execution_count": 69,
   "metadata": {},
   "outputs": [
    {
     "data": {
      "text/plain": [
       "(array([3.31319675, 6.59031276, 5.01604496, 4.83475423, 5.29913277,\n",
       "        4.49259773, 4.75568772]),\n",
       " array([22.55, 23.39, 20.03, 16.67, 13.8 , 10.72,  9.64]))"
      ]
     },
     "execution_count": 69,
     "metadata": {},
     "output_type": "execute_result"
    }
   ],
   "source": [
    "std_itr, mean_itr"
   ]
  },
  {
   "cell_type": "code",
   "execution_count": 31,
   "metadata": {},
   "outputs": [
    {
     "name": "stdout",
     "output_type": "stream",
     "text": [
      "RMSE: ---0.006460539945241115---0.0010965694762980463\n",
      "PSNR: ---20.197436717593877---1.595893637789947\n",
      "SSIM: ---0.6282667556705349---0.13365973825350877\n"
     ]
    }
   ],
   "source": [
    "noise = 6\n",
    "\n",
    "truth_gn = np.asarray(gn_raw_data['solution_data'])\n",
    "recon_gn = np.asarray(gn_raw_data[measurement_list[noise]])\n",
    "\n",
    "gn_metrics = basic_metrics( recon_gn, truth_gn, truth_gn.shape[0] )"
   ]
  },
  {
   "cell_type": "code",
   "execution_count": 71,
   "metadata": {},
   "outputs": [],
   "source": [
    "output_file_name = 'gn_recon_results2.txt'\n",
    "with open(output_file_name, 'w') as output:\n",
    "    output.write('textbf{ Model 4} & textbf{ Noise Level } & textbf{Itr No} & textbf{Recon Time /sec}  & textbf{RMSE} & textbf{PSNR} & textbf{SSIM} \\n')"
   ]
  },
  {
   "cell_type": "code",
   "execution_count": 72,
   "metadata": {},
   "outputs": [
    {
     "name": "stdout",
     "output_type": "stream",
     "text": [
      "noise levels: 0\n",
      "RMSE: ---0.002126769821239712---0.0010751243920038114\n",
      "PSNR: ---27.55968813673472---3.270859093169652\n",
      "SSIM: ---0.9120946800401533---0.029141184757937876\n",
      "noise levels: 0.005\n",
      "RMSE: ---0.002532853875159845---0.0009469211681225116\n",
      "PSNR: ---25.436127994083662---2.026794346920264\n",
      "SSIM: ---0.8707387035745963---0.05766196204568056\n",
      "noise levels: 0.01\n",
      "RMSE: ---0.0034055384415148625---0.0008300492885507383\n",
      "PSNR: ---22.496028072720264---1.951590032046097\n",
      "SSIM: ---0.7956642796877724---0.099433352722498\n",
      "noise levels: 0.015\n",
      "RMSE: ---0.004270500600128336---0.0007294567573465639\n",
      "PSNR: ---20.400193580904382---2.026507107843556\n",
      "SSIM: ---0.7312914740319164---0.1230194557603316\n",
      "noise levels: 0.02\n",
      "RMSE: ---0.005171009979237973---0.0009707666156347102\n",
      "PSNR: ---18.759777824141555---2.537701000341775\n",
      "SSIM: ---0.6842881071094462---0.13390849462896065\n",
      "noise levels: 0.025\n",
      "RMSE: ---0.00572828675206471---0.0009249365819147889\n",
      "PSNR: ---17.83087201691088---2.282764285080629\n",
      "SSIM: ---0.6479082310080864---0.1335030284241368\n",
      "noise levels: 0.03\n",
      "RMSE: ---0.006460539945241115---0.0010965694762980463\n",
      "PSNR: ---16.800993282336677---2.4754033781463507\n",
      "SSIM: ---0.6163982927402122---0.13929333946441416\n"
     ]
    }
   ],
   "source": [
    "for i in range(7):\n",
    "\n",
    "    print('noise levels:', noise_levels[i])\n",
    "\n",
    "    truth_gn = np.asarray(gn_raw_data['solution_data'])\n",
    "    recon_gn = np.asarray(gn_raw_data[measurement_list[i]])\n",
    "\n",
    "    gn_metrics = basic_metrics(truth_gn, recon_gn, truth_gn.shape[0] )\n",
    "\n",
    "    ###########################################################\n",
    "    # Open a file with access mode 'a'\n",
    "    file_object = open(output_file_name, 'a')\n",
    "    # Append 'hello' at the end of file\n",
    "    info = 'GN | ' + ' & ' + str(noise_levels[i]) + ' & ' + str(round(mean_itr[i],2)) + ' \\ textpm ' + str(round(std_itr[i],2)) + ' & '+ str(round(mean_time[i],2)) + ' \\ textpm ' + str(round(std_time[i],2)) + ' & '\n",
    "    info_rms = str(gn_metrics.get('model_rms')[0]) + ' \\ textpm ' + str(gn_metrics.get('model_rms')[1]) + '  &  '\n",
    "    info_psnr = str(gn_metrics.get('model_psnr')[0]) + ' \\ textpm ' + str(gn_metrics.get('model_psnr')[1]) + '  &  '\n",
    "    info_ssim = str(gn_metrics.get('model_ssim')[0]) + ' \\ textpm ' + str(gn_metrics.get('model_ssim')[1]) + '  \\ \\  ' + '\\n'\n",
    "\n",
    "    file_object.write(info + info_rms + info_psnr + info_ssim)\n",
    "    # Close the file\n",
    "    file_object.close()"
   ]
  }
 ],
 "metadata": {
  "kernelspec": {
   "display_name": "Python 3.10.4 ('gundam')",
   "language": "python",
   "name": "python3"
  },
  "language_info": {
   "codemirror_mode": {
    "name": "ipython",
    "version": 3
   },
   "file_extension": ".py",
   "mimetype": "text/x-python",
   "name": "python",
   "nbconvert_exporter": "python",
   "pygments_lexer": "ipython3",
   "version": "3.10.4"
  },
  "orig_nbformat": 4,
  "vscode": {
   "interpreter": {
    "hash": "cddc3d62f9a7e02ecb46a81ab11648d63c0573e5e13f25e036352996103f8463"
   }
  }
 },
 "nbformat": 4,
 "nbformat_minor": 2
}
