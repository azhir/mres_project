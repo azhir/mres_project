{
 "cells": [
  {
   "cell_type": "code",
   "execution_count": 1,
   "id": "2337a998",
   "metadata": {},
   "outputs": [
    {
     "name": "stderr",
     "output_type": "stream",
     "text": [
      "c:\\Users\\azhir\\anaconda3\\envs\\gundam\\lib\\site-packages\\tqdm\\auto.py:22: TqdmWarning: IProgress not found. Please update jupyter and ipywidgets. See https://ipywidgets.readthedocs.io/en/stable/user_install.html\n",
      "  from .autonotebook import tqdm as notebook_tqdm\n"
     ]
    }
   ],
   "source": [
    "# initial set-up\n",
    "import numpy as np\n",
    "import torch\n",
    "import torch.nn as nn\n",
    "import torch.nn.functional as F\n",
    "from torch.nn.parameter import Parameter\n",
    "import matplotlib.pyplot as plt\n",
    "from sklearn.model_selection import train_test_split\n",
    "from torch.utils.data import Dataset, DataLoader, TensorDataset\n",
    "import operator\n",
    "from functools import reduce\n",
    "from functools import partial\n",
    "from timeit import default_timer\n",
    "from utilities3 import *\n",
    "\n",
    "from Adam import Adam\n",
    "from sewar.full_ref import rmse, uqi\n",
    "from skimage.metrics import structural_similarity as ssim\n",
    "from skimage.metrics import peak_signal_noise_ratio as psnr\n",
    "\n",
    "torch.manual_seed(0)\n",
    "np.random.seed(0)"
   ]
  },
  {
   "cell_type": "code",
   "execution_count": 2,
   "id": "fe429689",
   "metadata": {},
   "outputs": [],
   "source": [
    "#  CONFIGURATIONS - HYPER PARAMETERS\n",
    "################################################################\n",
    "#  configurations - HYPER PARAMETERS\n",
    "################################################################\n",
    "\n",
    "batch_size = 10\n",
    "learning_rate = 0.001\n",
    "\n",
    "epochs = 100\n",
    "step_size = 50\n",
    "gamma = 0.5\n",
    "\n",
    "modes = 16\n",
    "width = 64\n",
    "\n",
    "weight_decay=1e-4\n",
    "\n",
    "# Hyperparameters to change - epoch{10,100,200}, step_size{}, batchsize{}, gamma{}, modes{}, weight_decay{}"
   ]
  },
  {
   "cell_type": "code",
   "execution_count": 3,
   "id": "d6f4ac92",
   "metadata": {},
   "outputs": [],
   "source": [
    "#   DEFINING THE TOP FOURIER LAYER\n",
    "#####################################################################\n",
    "#   DEFINING THE TOP FOURIER LAYER\n",
    "#####################################################################\n",
    "class SpectralConv2d(nn.Module):\n",
    "    def __init__(self, in_channels, out_channels, modes1, modes2):\n",
    "        super(SpectralConv2d, self).__init__()\n",
    "\n",
    "        \"\"\"\n",
    "        2D Fourier layer. It does FFT, linear transform, and Inverse FFT.    \n",
    "        \"\"\"\n",
    "\n",
    "        self.in_channels = in_channels\n",
    "        self.out_channels = out_channels\n",
    "        self.modes1 = modes1 #Number of Fourier modes to multiply, at most floor(N/2) + 1\n",
    "        self.modes2 = modes2\n",
    "\n",
    "        self.scale = (1 / (in_channels * out_channels))\n",
    "        self.weights1 = nn.Parameter(self.scale * torch.rand(in_channels, out_channels, self.modes1, self.modes2, dtype=torch.cfloat))\n",
    "        self.weights2 = nn.Parameter(self.scale * torch.rand(in_channels, out_channels, self.modes1, self.modes2, dtype=torch.cfloat))\n",
    "\n",
    "    # Complex multiplication\n",
    "    def compl_mul2d(self, input, weights):\n",
    "        # (batch, in_channel, x,y ), (in_channel, out_channel, x,y) -> (batch, out_channel, x,y)\n",
    "        return torch.einsum(\"bixy,ioxy->boxy\", input, weights)\n",
    "\n",
    "    def forward(self, x):\n",
    "        batchsize = x.shape[0]\n",
    "        #Compute Fourier coeffcients up to factor of e^(- something constant)\n",
    "        x_ft = torch.fft.rfft2(x)\n",
    "\n",
    "        # Multiply relevant Fourier modes\n",
    "        out_ft = torch.zeros(batchsize, self.out_channels,  x.size(-2), x.size(-1)//2 + 1, dtype=torch.cfloat, device=x.device)\n",
    "        out_ft[:, :, :self.modes1, :self.modes2] = \\\n",
    "            self.compl_mul2d(x_ft[:, :, :self.modes1, :self.modes2], self.weights1)\n",
    "        out_ft[:, :, -self.modes1:, :self.modes2] = \\\n",
    "            self.compl_mul2d(x_ft[:, :, -self.modes1:, :self.modes2], self.weights2)\n",
    "\n",
    "        #Return to physical space\n",
    "        x = torch.fft.irfft2(out_ft, s=(x.size(-2), x.size(-1)))\n",
    "        return x"
   ]
  },
  {
   "cell_type": "code",
   "execution_count": 4,
   "id": "cdf399c2",
   "metadata": {},
   "outputs": [],
   "source": [
    "# DIFFERENING MODELS WITH DIFFERING FOURIER LAYERS\n",
    "\n",
    "#####################################################################\n",
    "#  1 FOURIER LAYER\n",
    "#####################################################################\n",
    "class FNO1_1L(nn.Module):\n",
    "    def __init__(self, modes, width):\n",
    "        super(FNO1_1L, self).__init__()\n",
    "\n",
    "        self.modes1 = modes\n",
    "        self.width = width\n",
    "        self.padding = 2 # pad the domain if input is non-periodic\n",
    "        self.fc0 = nn.Linear(2, self.width) # input channel is 2: (a(x), x)\n",
    "\n",
    "        self.conv0 = SpectralConv1d(self.width, self.width, self.modes1)\n",
    "        self.w0 = nn.Conv1d(self.width, self.width, 1)\n",
    "\n",
    "\n",
    "        self.fc1 = nn.Linear(self.width, 128)\n",
    "        self.fc2 = nn.Linear(128, 2)\n",
    "\n",
    "    def forward(self, x):\n",
    "        grid = self.get_grid(x.shape, x.device)\n",
    "        x = torch.cat((x, grid), dim=-1)\n",
    "        x = self.fc0(x)\n",
    "        x = x.permute(0, 2, 1)\n",
    "        # x = F.pad(x, [0,self.padding]) # pad the domain if input is non-periodic\n",
    "\n",
    "        # x = x[..., :-self.padding] # pad the domain if input is non-periodic\n",
    "        x = x.permute(0, 2, 1)\n",
    "        x = self.fc1(x)\n",
    "        x = F.gelu(x)\n",
    "        x = self.fc2(x)\n",
    "        return x\n",
    "\n",
    "    def get_grid(self, shape, device):\n",
    "        batchsize, size_x = shape[0], shape[1]\n",
    "        gridx = torch.tensor(np.linspace(0, 1, size_x), dtype=torch.float)\n",
    "        gridx = gridx.reshape(1, size_x, 1).repeat([batchsize, 1, 1])\n",
    "        return gridx.to(device)\n",
    "\n",
    "\n",
    "#####################################################################\n",
    "#  2 FOURIER LAYER\n",
    "#####################################################################\n",
    "class FNO1_2L(nn.Module):\n",
    "    def __init__(self, modes, width):\n",
    "        super(FNO1_2L, self).__init__()\n",
    "\n",
    "        self.modes1 = modes\n",
    "        self.width = width\n",
    "        self.padding = 2 # pad the domain if input is non-periodic\n",
    "        self.fc0 = nn.Linear(2, self.width) # input channel is 2: (a(x), x)\n",
    "\n",
    "        self.conv0 = SpectralConv1d(self.width, self.width, self.modes1)\n",
    "        self.conv1 = SpectralConv1d(self.width, self.width, self.modes1)\n",
    "        self.w0 = nn.Conv1d(self.width, self.width, 1)\n",
    "        self.w1 = nn.Conv1d(self.width, self.width, 1)\n",
    "\n",
    "\n",
    "        self.fc1 = nn.Linear(self.width, 128)\n",
    "        self.fc2 = nn.Linear(128, 2)\n",
    "\n",
    "    def forward(self, x):\n",
    "        grid = self.get_grid(x.shape, x.device)\n",
    "        x = torch.cat((x, grid), dim=-1)\n",
    "        x = self.fc0(x)\n",
    "        x = x.permute(0, 2, 1)\n",
    "        # x = F.pad(x, [0,self.padding]) # pad the domain if input is non-periodic\n",
    "\n",
    "        x1 = self.conv0(x)\n",
    "        x2 = self.w0(x)\n",
    "        x = x1 + x2\n",
    "        x = F.gelu(x)\n",
    "\n",
    "        x1 = self.conv1(x)\n",
    "        x2 = self.w1(x)\n",
    "        x = x1 + x2\n",
    "        x = F.gelu(x)\n",
    "\n",
    "        # x = x[..., :-self.padding] # pad the domain if input is non-periodic\n",
    "        x = x.permute(0, 2, 1)\n",
    "        x = self.fc1(x)\n",
    "        x = F.gelu(x)\n",
    "        x = self.fc2(x)\n",
    "        return x\n",
    "\n",
    "    def get_grid(self, shape, device):\n",
    "        batchsize, size_x = shape[0], shape[1]\n",
    "        gridx = torch.tensor(np.linspace(0, 1, size_x), dtype=torch.float)\n",
    "        gridx = gridx.reshape(1, size_x, 1).repeat([batchsize, 1, 1])\n",
    "        return gridx.to(device)\n",
    "\n",
    "\n",
    "\n",
    "\n",
    "#####################################################################\n",
    "#  4 FOURIER LAYER\n",
    "#####################################################################\n",
    "\n",
    "class FNO2d_4L(nn.Module):\n",
    "    def __init__(self, modes1, modes2,  width):\n",
    "        super(FNO2d_4L, self).__init__()        \n",
    "        self.modes1 = modes1\n",
    "        self.modes2 = modes2\n",
    "        self.width = width\n",
    "        self.padding = 9 # pad the domain if input is non-periodic\n",
    "        self.fc0 = nn.Linear(3, self.width) # input channel is 3: (a(x, y), x, y)\n",
    "\n",
    "        self.conv0 = SpectralConv2d(self.width, self.width, self.modes1, self.modes2)\n",
    "        self.conv1 = SpectralConv2d(self.width, self.width, self.modes1, self.modes2)\n",
    "        self.conv2 = SpectralConv2d(self.width, self.width, self.modes1, self.modes2)\n",
    "        self.conv3 = SpectralConv2d(self.width, self.width, self.modes1, self.modes2)\n",
    "        self.w0 = nn.Conv2d(self.width, self.width, 1)\n",
    "        self.w1 = nn.Conv2d(self.width, self.width, 1)\n",
    "        self.w2 = nn.Conv2d(self.width, self.width, 1)\n",
    "        self.w3 = nn.Conv2d(self.width, self.width, 1)\n",
    "\n",
    "        self.fc1 = nn.Linear(self.width, 128)\n",
    "        self.fc2 = nn.Linear(128, 1)\n",
    "\n",
    "    def forward(self, x):\n",
    "        grid = self.get_grid(x.shape, x.device)\n",
    "        x = torch.cat((x, grid), dim=-1)\n",
    "        x = self.fc0(x)\n",
    "        x = x.permute(0, 3, 1, 2)\n",
    "        x = F.pad(x, [0,self.padding, 0,self.padding])\n",
    "\n",
    "        x1 = self.conv0(x)\n",
    "        x2 = self.w0(x)\n",
    "        x = x1 + x2\n",
    "        x = F.gelu(x)\n",
    "\n",
    "        x1 = self.conv1(x)\n",
    "        x2 = self.w1(x)\n",
    "        x = x1 + x2\n",
    "        x = F.gelu(x)\n",
    "\n",
    "        x1 = self.conv2(x)\n",
    "        x2 = self.w2(x)\n",
    "        x = x1 + x2\n",
    "        x = F.gelu(x)\n",
    "\n",
    "        x1 = self.conv3(x)\n",
    "        x2 = self.w3(x)\n",
    "        x = x1 + x2\n",
    "\n",
    "        x = x[..., :-self.padding, :-self.padding]\n",
    "        x = x.permute(0, 2, 3, 1)\n",
    "        x = self.fc1(x)\n",
    "        x = F.gelu(x)\n",
    "        x = self.fc2(x)\n",
    "        return x\n",
    "    \n",
    "    def get_grid(self, shape, device):\n",
    "        batchsize, size_x, size_y = shape[0], shape[1], shape[2]\n",
    "        gridx = torch.tensor(np.linspace(0, 1, size_x), dtype=torch.float)\n",
    "        gridx = gridx.reshape(1, size_x, 1, 1).repeat([batchsize, 1, size_y, 1])\n",
    "        gridy = torch.tensor(np.linspace(0, 1, size_y), dtype=torch.float)\n",
    "        gridy = gridy.reshape(1, 1, size_y, 1).repeat([batchsize, size_x, 1, 1])\n",
    "        return torch.cat((gridx, gridy), dim=-1).to(device)\n",
    "\n",
    "\n",
    "\n",
    "#####################################################################\n",
    "# 6 FOURIER LAYER\n",
    "#####################################################################\n",
    "class FNO1_6L(nn.Module):\n",
    "    def __init__(self, modes, width):\n",
    "        super(FNO1_6L, self).__init__()\n",
    "\n",
    "        self.modes1 = modes\n",
    "        self.width = width\n",
    "        self.padding = 2 # pad the domain if input is non-periodic\n",
    "        self.fc0 = nn.Linear(2, self.width) # input channel is 2: (a(x), x)\n",
    "\n",
    "        self.conv0 = SpectralConv1d(self.width, self.width, self.modes1)\n",
    "        self.conv1 = SpectralConv1d(self.width, self.width, self.modes1)\n",
    "        self.conv2 = SpectralConv1d(self.width, self.width, self.modes1)\n",
    "        self.conv3 = SpectralConv1d(self.width, self.width, self.modes1)\n",
    "        self.conv4 = SpectralConv1d(self.width, self.width, self.modes1)\n",
    "        self.conv5 = SpectralConv1d(self.width, self.width, self.modes1)\n",
    "\n",
    "\n",
    "        self.w0 = nn.Conv1d(self.width, self.width, 1)\n",
    "        self.w1 = nn.Conv1d(self.width, self.width, 1)\n",
    "        self.w2 = nn.Conv1d(self.width, self.width, 1)\n",
    "        self.w3 = nn.Conv1d(self.width, self.width, 1)\n",
    "        self.w4 = nn.Conv1d(self.width, self.width, 1)\n",
    "        self.w5 = nn.Conv1d(self.width, self.width, 1)\n",
    "\n",
    "\n",
    "        self.fc1 = nn.Linear(self.width, 128)\n",
    "        self.fc2 = nn.Linear(128, 2)\n",
    "\n",
    "    def forward(self, x):\n",
    "        grid = self.get_grid(x.shape, x.device)\n",
    "        x = torch.cat((x, grid), dim=-1)\n",
    "        x = self.fc0(x)\n",
    "        x = x.permute(0, 2, 1)\n",
    "        # x = F.pad(x, [0,self.padding]) # pad the domain if input is non-periodic\n",
    "\n",
    "        x1 = self.conv0(x)\n",
    "        x2 = self.w0(x)\n",
    "        x = x1 + x2\n",
    "        x = F.gelu(x)\n",
    "\n",
    "        x1 = self.conv1(x)\n",
    "        x2 = self.w1(x)\n",
    "        x = x1 + x2\n",
    "        x = F.gelu(x)\n",
    "\n",
    "        x1 = self.conv2(x)\n",
    "        x2 = self.w2(x)\n",
    "        x = x1 + x2\n",
    "        x = F.gelu(x)\n",
    "\n",
    "        x1 = self.conv3(x)\n",
    "        x2 = self.w3(x)\n",
    "        x = x1 + x2\n",
    "\n",
    "        x1 = self.conv4(x)\n",
    "        x2 = self.w4(x)\n",
    "        x = x1 + x2\n",
    "\n",
    "\n",
    "        x1 = self.conv5(x)\n",
    "        x2 = self.w5(x)\n",
    "        x = x1 + x2\n",
    "\n",
    "        # x = x[..., :-self.padding] # pad the domain if input is non-periodic\n",
    "        x = x.permute(0, 2, 1)\n",
    "        x = self.fc1(x)\n",
    "        x = F.gelu(x)\n",
    "        x = self.fc2(x)\n",
    "        return x\n",
    "\n",
    "    def get_grid(self, shape, device):\n",
    "        batchsize, size_x = shape[0], shape[1]\n",
    "        gridx = torch.tensor(np.linspace(0, 1, size_x), dtype=torch.float)\n",
    "        gridx = gridx.reshape(1, size_x, 1).repeat([batchsize, 1, 1])\n",
    "        return gridx.to(device)\n",
    "\n",
    "\n",
    "\n",
    "\n",
    "#####################################################################\n",
    "# 8 FOURIER LAYER\n",
    "#####################################################################\n",
    "class FNO1_8L(nn.Module):\n",
    "    def __init__(self, modes, width):\n",
    "        super(FNO1_8L, self).__init__()\n",
    "\n",
    "        self.modes1 = modes\n",
    "        self.width = width\n",
    "        self.padding = 2 # pad the domain if input is non-periodic\n",
    "        self.fc0 = nn.Linear(2, self.width) # input channel is 2: (a(x), x)\n",
    "\n",
    "        self.conv0 = SpectralConv1d(self.width, self.width, self.modes1)\n",
    "        self.conv1 = SpectralConv1d(self.width, self.width, self.modes1)\n",
    "        self.conv2 = SpectralConv1d(self.width, self.width, self.modes1)\n",
    "        self.conv3 = SpectralConv1d(self.width, self.width, self.modes1)\n",
    "        self.conv4 = SpectralConv1d(self.width, self.width, self.modes1)\n",
    "        self.conv5 = SpectralConv1d(self.width, self.width, self.modes1)\n",
    "        self.conv6 = SpectralConv1d(self.width, self.width, self.modes1)\n",
    "        self.conv7 = SpectralConv1d(self.width, self.width, self.modes1)\n",
    "\n",
    "\n",
    "\n",
    "        self.w0 = nn.Conv1d(self.width, self.width, 1)\n",
    "        self.w1 = nn.Conv1d(self.width, self.width, 1)\n",
    "        self.w2 = nn.Conv1d(self.width, self.width, 1)\n",
    "        self.w3 = nn.Conv1d(self.width, self.width, 1)\n",
    "        self.w4 = nn.Conv1d(self.width, self.width, 1)\n",
    "        self.w5 = nn.Conv1d(self.width, self.width, 1)\n",
    "        self.w6 = nn.Conv1d(self.width, self.width, 1)\n",
    "        self.w7 = nn.Conv1d(self.width, self.width, 1)\n",
    "\n",
    "\n",
    "        self.fc1 = nn.Linear(self.width, 128)\n",
    "        self.fc2 = nn.Linear(128, 2)\n",
    "\n",
    "    def forward(self, x):\n",
    "        grid = self.get_grid(x.shape, x.device)\n",
    "        x = torch.cat((x, grid), dim=-1)\n",
    "        x = self.fc0(x)\n",
    "        x = x.permute(0, 2, 1)\n",
    "        # x = F.pad(x, [0,self.padding]) # pad the domain if input is non-periodic\n",
    "\n",
    "        x1 = self.conv0(x)\n",
    "        x2 = self.w0(x)\n",
    "        x = x1 + x2\n",
    "        x = F.gelu(x)\n",
    "\n",
    "        x1 = self.conv1(x)\n",
    "        x2 = self.w1(x)\n",
    "        x = x1 + x2\n",
    "        x = F.gelu(x)\n",
    "\n",
    "        x1 = self.conv2(x)\n",
    "        x2 = self.w2(x)\n",
    "        x = x1 + x2\n",
    "        x = F.gelu(x)\n",
    "\n",
    "        x1 = self.conv3(x)\n",
    "        x2 = self.w3(x)\n",
    "        x = x1 + x2\n",
    "\n",
    "        x1 = self.conv4(x)\n",
    "        x2 = self.w4(x)\n",
    "        x = x1 + x2\n",
    "\n",
    "\n",
    "        x1 = self.conv5(x)\n",
    "        x2 = self.w5(x)\n",
    "        x = x1 + x2\n",
    "\n",
    "        x1 = self.conv6(x)\n",
    "        x2 = self.w6(x)\n",
    "        x = x1 + x2\n",
    "\n",
    "        x1 = self.conv7(x)\n",
    "        x2 = self.w7(x)\n",
    "        x = x1 + x2\n",
    "\n",
    "        # x = x[..., :-self.padding] # pad the domain if input is non-periodic\n",
    "        x = x.permute(0, 2, 1)\n",
    "        x = self.fc1(x)\n",
    "        x = F.gelu(x)\n",
    "        x = self.fc2(x)\n",
    "        return x\n",
    "\n",
    "    def get_grid(self, shape, device):\n",
    "        batchsize, size_x = shape[0], shape[1]\n",
    "        gridx = torch.tensor(np.linspace(0, 1, size_x), dtype=torch.float)\n",
    "        gridx = gridx.reshape(1, size_x, 1).repeat([batchsize, 1, 1])\n",
    "        return gridx.to(device)\n",
    "\n",
    "\n"
   ]
  },
  {
   "cell_type": "code",
   "execution_count": 5,
   "id": "9bbba4f9",
   "metadata": {},
   "outputs": [],
   "source": [
    "raw_data = scipy.io.loadmat('./datasets/training_data_16x16_10k')\n",
    "\n",
    "sol = np.asarray(raw_data['solution_data'])\n",
    "mes = np.asarray(raw_data['measurement_data'])\n",
    "\n",
    "sol_temp = np.expand_dims(sol,axis = 1 )\n",
    "#sol_temp = np.sqeeze(sol_temp)\n",
    "mes_temp = np.transpose(np.expand_dims(mes,axis = 1 ),(0,2,1))\n",
    "\n",
    "\n",
    "def convert_data(data_x, data_y):\n",
    "    data_X = torch.from_numpy(data_x).float()\n",
    "    data_Y = torch.from_numpy(data_y).float()\n",
    "    return data_X, data_Y\n",
    "\n",
    "# we are solving the inverse problem, so going from measurements, to solutions\n",
    "X, y = convert_data(mes_temp, sol_temp)\n",
    "X_train, X_test, y_train, y_test = train_test_split(X, y, test_size=0.2, random_state=42)\n",
    "y_train = y_train.squeeze()\n",
    "y_test = y_test.squeeze()\n",
    "\n",
    "#batch_size = 10\n",
    "\n",
    "#train_loader = DataLoader(data_utils.TensorDataset(X_train, Y_train), batch_size=batch_size, shuffle=True)\n",
    "train_dataset = TensorDataset( X_train, y_train )\n",
    "test_dataset = TensorDataset( X_test, y_test )\n",
    "\n",
    "train_loader = DataLoader(train_dataset, shuffle=True, batch_size=batch_size)\n",
    "test_loader = torch.utils.data.DataLoader(test_dataset, batch_size=batch_size, shuffle=False)"
   ]
  },
  {
   "cell_type": "code",
   "execution_count": 6,
   "id": "de3ad43b",
   "metadata": {},
   "outputs": [],
   "source": [
    "ntrain = 8000\n",
    "ntest = 2000"
   ]
  },
  {
   "cell_type": "code",
   "execution_count": 7,
   "id": "1544ea96",
   "metadata": {},
   "outputs": [],
   "source": [
    "# TRAINING AND EVALUATION\n",
    "################################################################\n",
    "# TRAINING AND EVALUATION\n",
    "################################################################\n",
    "\n",
    "\n",
    "def train_model(model, epochs, batch_size, learning_rate, weight_decay, step_size, gamma):\n",
    "    optimizer = Adam(model.parameters(), lr=learning_rate, weight_decay=weight_decay)\n",
    "    scheduler = torch.optim.lr_scheduler.StepLR(optimizer, step_size=step_size, gamma=gamma)\n",
    "    train_losses, test_losses, epoch_time = [], [], []\n",
    "\n",
    "    myloss = LpLoss(size_average=False)\n",
    "    for ep in range(epochs):\n",
    "        model.train()\n",
    "        t1 = default_timer()\n",
    "        train_mse = 0\n",
    "        train_l2 = 0\n",
    "        total_time = 0\n",
    "        for x, y in train_loader:\n",
    "            x, y = x.cuda(), y.cuda()\n",
    "\n",
    "            optimizer.zero_grad()\n",
    "            #print('in: ',x.shape)\n",
    "            out = model(x)\n",
    "            #print('out: ',out.shape)\n",
    "\n",
    "            mse = F.mse_loss(out.view(batch_size, -1), y.view(batch_size, -1), reduction='mean')\n",
    "            l2 = myloss(out.view(batch_size, -1), y.view(batch_size, -1))\n",
    "            l2.backward() # use the l2 relative loss\n",
    "\n",
    "            optimizer.step()\n",
    "            train_mse += mse.item()\n",
    "            train_l2 += l2.item()\n",
    "\n",
    "        scheduler.step()\n",
    "        model.eval()\n",
    "        test_l2 = 0.0\n",
    "        with torch.no_grad():\n",
    "            for x, y in test_loader:\n",
    "                x, y = x.cuda(), y.cuda()\n",
    "\n",
    "                out = model(x)\n",
    "                test_l2 += myloss(out.view(batch_size, -1), y.view(batch_size, -1)).item()\n",
    "\n",
    "        #train_mse /= len(train_loader)\n",
    "        train_l2 /= ntrain\n",
    "        train_losses.append(train_l2)\n",
    "        test_l2 /= ntest\n",
    "        test_losses.append(test_l2)\n",
    "\n",
    "\n",
    "        t2 = default_timer()\n",
    "        epoch_time.append(t2 - t1)\n",
    "\n",
    "        print(ep, t2 - t1, train_l2, test_l2)\n",
    "    total_time = sum(epoch_time)\n",
    "    print(\"TOTAL TIME: \", total_time, sep=\"---\")\n",
    "\n",
    "    output = {\n",
    "    \"train_losses\": train_losses,\n",
    "    \"test_losses\": test_losses,\n",
    "    \"epoch_time\": epoch_time,\n",
    "    \"training_time\": total_time,\n",
    "    \"model\": model\n",
    "    }\n",
    "    return output \n",
    "# torch.save(model, 'model/ns_fourier_burgers')\n",
    "\n",
    "# scipy.io.savemat('pred/burger_test.mat', mdict={'pred': pred.cpu().numpy()})"
   ]
  },
  {
   "cell_type": "code",
   "execution_count": 8,
   "id": "18591592",
   "metadata": {},
   "outputs": [],
   "source": [
    "# MODEL METRICS\n",
    "###################################\n",
    "# MODEL METRICS\n",
    "###################################\n",
    "def model_metrics(model,test_loader,ntrain):\n",
    "    rms_values, psnr_values, ssim_values, uqi_values = [], [], [], []\n",
    "\n",
    "    for test_num in range(ntest):\n",
    "        K = torch.unsqueeze(test_loader.dataset[test_num][0], 0).cuda()\n",
    "        model.eval()\n",
    "        predicted_np = np.reshape(model(K).detach().cpu().numpy(),(16,16))\n",
    "\n",
    "        truth = test_loader.dataset[test_num][1]\n",
    "        truth_np = np.reshape(truth.numpy(),(16,16))\n",
    "\n",
    "        #diff_image = predicted - truth_np\n",
    "        #np.sqrt(np.sum(diff_image**2)/256)\n",
    "\n",
    "        rms_values.append(rmse(predicted_np, truth_np))\n",
    "        psnr_values.append(psnr(truth_np, predicted_np, data_range=predicted_np.max() - predicted_np.min()))\n",
    "        ssim_values.append(ssim(truth_np, predicted_np, data_range=predicted_np.max() - predicted_np.min()))\n",
    "        uqi_values.append(uqi(predicted_np, truth_np))\n",
    "\n",
    "    model_rms = sum(rms_values)/ len(rms_values)\n",
    "    std_rms = np.std(np.array(rms_values))\n",
    "\n",
    "    model_psnr = sum(psnr_values)/ len(psnr_values)\n",
    "    std_psnr = np.std(np.array(psnr_values))\n",
    "\n",
    "    model_ssim = sum(ssim_values)/ len(ssim_values)\n",
    "    std_ssim = np.std(np.array(ssim_values))\n",
    "\n",
    "    model_uqi = sum(uqi_values)/ len(uqi_values)\n",
    "    std_uqi = np.std(np.array(uqi_values))\n",
    "\n",
    "\n",
    "    print(\"RMSE: \", model_rms, std_rms, sep=\"---\")\n",
    "    print(\"PSNR: \", model_psnr, std_psnr, sep=\"---\")\n",
    "    print(\"SSIM: \", model_ssim, std_ssim, sep=\"---\")\n",
    "    print(\"UQI: \", model_uqi, std_uqi, sep=\"---\")\n",
    "\n",
    "\n",
    "    output = {\n",
    "    \"rms\": rms_values,\n",
    "    \"psnr\": psnr_values,\n",
    "    \"ssim\": ssim_values,\n",
    "    \"uqi\": uqi_values,\n",
    "    }\n",
    "    return output "
   ]
  },
  {
   "cell_type": "code",
   "execution_count": 9,
   "id": "0215fad7",
   "metadata": {},
   "outputs": [
    {
     "data": {
      "text/plain": [
       "<matplotlib.image.AxesImage at 0x1dc58e0ad10>"
      ]
     },
     "execution_count": 9,
     "metadata": {},
     "output_type": "execute_result"
    },
    {
     "data": {
      "image/png": "[encoded data removed]",
      "text/plain": [
       "<Figure size 432x288 with 1 Axes>"
      ]
     },
     "metadata": {
      "needs_background": "light"
     },
     "output_type": "display_data"
    }
   ],
   "source": [
    "#Actual\n",
    "test_num = 434\n",
    "truth_out = test_loader.dataset[test_num][1]\n",
    "plt.imshow(np.reshape(truth_out.numpy(),(16,16)))"
   ]
  },
  {
   "cell_type": "code",
   "execution_count": 10,
   "id": "7f4d1e08",
   "metadata": {},
   "outputs": [
    {
     "name": "stdout",
     "output_type": "stream",
     "text": [
      "144002\n",
      "0 5.3905890000169165 1.6837567244768143 0.7607434301376342\n",
      "1 1.7113465999718755 1.2706949682831765 0.6310855305194855\n",
      "2 1.7096285999868996 0.8090912868976593 0.7191653058528901\n",
      "3 1.8602397000067867 0.6928838359713554 0.7577410230636596\n",
      "4 1.8047917000076268 0.7008604464530945 0.6533919696807862\n",
      "5 1.7667005999828689 0.6973225303888321 0.5682682752609253\n",
      "6 1.745587199984584 0.6705251295566559 0.5156613082885743\n",
      "7 1.724752999987686 0.6391557497382164 0.5168564925193787\n",
      "8 1.7636724000039976 0.5766154074668884 0.565042191028595\n",
      "9 1.754718000011053 0.6157612931728363 0.7042083134651184\n",
      "10 1.8066997000132687 0.5513832587599754 0.5614344980716706\n",
      "11 1.8035890999890398 0.5298238949179649 0.5388074440956115\n",
      "12 1.7731262000161223 0.5316722220778465 0.48920339703559873\n",
      "13 1.7805073000199627 0.5160743546485901 0.48789998769760135\n",
      "14 1.769066999986535 0.5086829540729523 0.5057367532253265\n",
      "15 1.7780450999853201 0.5051182231903076 0.5076851232051849\n",
      "16 1.7883680000086315 0.5031859120726585 0.48353625655174254\n",
      "17 1.7918959000089671 0.49865280944108964 0.48184141945838926\n",
      "18 1.7994554000033531 0.4967099395990372 0.5193388228416442\n",
      "19 1.7504912000149488 0.49220112758874895 0.4835425522327423\n",
      "TOTAL TIME: ---39.073271700006444\n",
      "RMSE: ---0.01265196177334401---0.002670271925675282\n",
      "PSNR: ---10.749582805589087---1.7174541600157496\n",
      "SSIM: ---0.284687322717583---0.07086855525430798\n",
      "UQI: ---0.907548633596253---0.057670149980738404\n"
     ]
    },
    {
     "data": {
      "text/plain": [
       "<matplotlib.image.AxesImage at 0x1dc000456c0>"
      ]
     },
     "execution_count": 10,
     "metadata": {},
     "output_type": "execute_result"
    },
    {
     "data": {
      "image/png": "[encoded data removed]",
      "text/plain": [
       "<Figure size 432x288 with 1 Axes>"
      ]
     },
     "metadata": {
      "needs_background": "light"
     },
     "output_type": "display_data"
    }
   ],
   "source": [
    "# ONE LAYER RESULTS\n",
    "############################################################################\n",
    "\n",
    "model_1L = FNO1_1L(modes, width).cuda()\n",
    "print(count_params(model_1L))\n",
    "output_1L = train_model(model_1L, 20, batch_size, learning_rate, weight_decay, step_size, gamma)\n",
    "\n",
    "output_1L_model = output_1L.get(\"model\")\n",
    "torch.save(output_1L_model, 'fno1_1l.h5')\n",
    "results_1L = model_metrics(output_1L_model,test_loader,ntrain)\n",
    "\n",
    "# ONE LAYER RESULTS\n",
    "############################################################################\n",
    "K = torch.unsqueeze(test_loader.dataset[test_num][0], 0).cuda()\n",
    "output_1L_model.eval()\n",
    "predicted = np.reshape(output_1L_model(K).detach().cpu().numpy(),(16,16))\n",
    "plt.imshow(predicted)"
   ]
  },
  {
   "cell_type": "code",
   "execution_count": 11,
   "id": "68613faf",
   "metadata": {},
   "outputs": [
    {
     "name": "stdout",
     "output_type": "stream",
     "text": [
      "279234\n",
      "0 9.106321300001582 0.2609807772487402 0.17020273661613464\n",
      "1 4.208037800010061 0.15307909786701202 0.1443658378124237\n",
      "2 4.233151699998416 0.14493380524218083 0.15036042422056198\n",
      "3 4.170041499979561 0.14160164055228233 0.13674884554743766\n",
      "4 4.259774000005564 0.138371366687119 0.13773244351148606\n",
      "5 4.171877499989932 0.13656446355581284 0.13111641839146615\n",
      "6 4.185374399996363 0.1335538504719734 0.13220510163903237\n",
      "7 4.167069800023455 0.13217060383409263 0.1300633925497532\n",
      "8 4.291156399995089 0.1313081597685814 0.12848189103603364\n",
      "9 4.2025451000081375 0.12944459034502506 0.1280494778752327\n",
      "10 4.189971799991326 0.1290146569237113 0.1261695058643818\n",
      "11 4.150289300014265 0.12703247871249915 0.1255175274014473\n",
      "12 4.2009983000170905 0.12599038685113192 0.12650243720412255\n",
      "13 4.224406799999997 0.12537141797691584 0.12178224581480027\n",
      "14 4.160706399998162 0.1235887546390295 0.12251620841026306\n",
      "15 4.159042600018438 0.1232437065243721 0.12055965349078178\n",
      "16 4.173868499987293 0.12161102983355522 0.1211745913028717\n",
      "17 4.153911000001244 0.12031143300235271 0.12247689202427864\n",
      "18 4.210953300003894 0.11914998608082533 0.12059902453422547\n",
      "19 4.165081399987685 0.11842741121351719 0.11673989138007164\n",
      "TOTAL TIME: ---88.78457890002755\n",
      "RMSE: ---0.0031548738111445867---0.0014689766861731444\n",
      "PSNR: ---24.793149622560207---3.189927034838861\n",
      "SSIM: ---0.8473304983702198---0.04665340744746336\n",
      "UQI: ---0.9923971041373488---0.005668540894659157\n"
     ]
    },
    {
     "data": {
      "text/plain": [
       "<matplotlib.image.AxesImage at 0x1dc000fd390>"
      ]
     },
     "execution_count": 11,
     "metadata": {},
     "output_type": "execute_result"
    },
    {
     "data": {
      "image/png": "[encoded data removed]",
      "text/plain": [
       "<Figure size 432x288 with 1 Axes>"
      ]
     },
     "metadata": {
      "needs_background": "light"
     },
     "output_type": "display_data"
    }
   ],
   "source": [
    "# TWO LAYER RESULTS\n",
    "############################################################################\n",
    "\n",
    "model_2L = FNO1_2L(modes, width).cuda()\n",
    "print(count_params(model_2L))\n",
    "output_2L = train_model(model_2L, 20, batch_size, learning_rate, weight_decay, step_size, gamma)\n",
    "\n",
    "output_2L_model = output_2L.get(\"model\")\n",
    "torch.save(output_2L_model, 'fno1_2l.h5')\n",
    "\n",
    "\n",
    "results_2L = model_metrics(output_2L_model,test_loader,ntrain)\n",
    "\n",
    "# TWO LAYER RESULTS\n",
    "############################################################################\n",
    "output_2L_model.eval()\n",
    "predicted = np.reshape(output_2L_model(K).detach().cpu().numpy(),(16,16))\n",
    "plt.imshow(predicted)"
   ]
  },
  {
   "cell_type": "code",
   "execution_count": 12,
   "id": "a802dd60",
   "metadata": {},
   "outputs": [
    {
     "name": "stdout",
     "output_type": "stream",
     "text": [
      "549698\n",
      "0 6.404017799999565 0.18449390682578087 0.15109824335575103\n",
      "1 6.199470699997619 0.14443238405883313 0.14396299344301225\n",
      "2 6.237803800002439 0.13769646862149237 0.13518560633063317\n",
      "3 6.206661400006851 0.13230391158908605 0.1284161661863327\n",
      "4 6.258401600003708 0.12885837510973214 0.12540512272715568\n",
      "5 6.194368799973745 0.12713882322609424 0.13105934834480285\n",
      "6 6.339502399991034 0.1244605615362525 0.12430596435070038\n",
      "7 6.259577599994373 0.12424768628925086 0.1259360540509224\n",
      "8 6.197749199985992 0.12155753980576992 0.12433938312530518\n",
      "9 6.3388437000103295 0.12134084083884955 0.12068328127264977\n",
      "10 6.187165100011043 0.11906310987472535 0.1199188358783722\n",
      "11 6.255617999995593 0.1176935795545578 0.11526108887791633\n",
      "12 6.2237403000181075 0.11664791383594275 0.11469886565208436\n",
      "13 6.254057799989823 0.11484709335118533 0.11396812295913697\n",
      "14 6.242013600014616 0.11315433244407178 0.11670295163989067\n",
      "15 6.236995000013849 0.11181135468184948 0.11131675300002099\n",
      "16 6.280872900009854 0.11078896280378103 0.11017727330327035\n",
      "17 6.271802600007504 0.10950822823494673 0.1097170342206955\n",
      "18 6.23268299998017 0.10879239532351494 0.10954664570093155\n",
      "19 6.23367089999374 0.1079535025805235 0.10802128329873086\n",
      "TOTAL TIME: ---125.05501619999995\n",
      "RMSE: ---0.002921873033641198---0.0013743774746190023\n",
      "PSNR: ---25.38492845235877---3.279803191961345\n",
      "SSIM: ---0.8728050016246075---0.04403550860693007\n",
      "UQI: ---0.9934636968712048---0.0048345471152553025\n"
     ]
    },
    {
     "data": {
      "text/plain": [
       "<matplotlib.image.AxesImage at 0x1dc211d6d70>"
      ]
     },
     "execution_count": 12,
     "metadata": {},
     "output_type": "execute_result"
    },
    {
     "data": {
      "image/png": "[encoded data removed]",
      "text/plain": [
       "<Figure size 432x288 with 1 Axes>"
      ]
     },
     "metadata": {
      "needs_background": "light"
     },
     "output_type": "display_data"
    }
   ],
   "source": [
    "# FOUR LAYER RESULTS\n",
    "############################################################################\n",
    "\n",
    "model_4L = FNO1_4L(modes, width).cuda()\n",
    "print(count_params(model_4L))\n",
    "output_4L = train_model(model_4L, 20, batch_size, learning_rate, weight_decay, step_size, gamma)\n",
    "\n",
    "output_4L_model = output_4L.get(\"model\")\n",
    "torch.save(output_4L_model, 'fno1_4l.h5')\n",
    "\n",
    "\n",
    "results_4L = model_metrics(output_4L_model,test_loader,ntrain)\n",
    "\n",
    "# FOUR LAYER RESULTS\n",
    "############################################################################\n",
    "output_4L_model.eval()\n",
    "predicted = np.reshape(output_4L_model(K).detach().cpu().numpy(),(16,16))\n",
    "plt.imshow(predicted)"
   ]
  },
  {
   "cell_type": "code",
   "execution_count": 13,
   "id": "6c2c6fed",
   "metadata": {},
   "outputs": [
    {
     "name": "stdout",
     "output_type": "stream",
     "text": [
      "820162\n",
      "0 8.334174999996321 0.1944724222421646 0.1452626613974571\n",
      "1 8.145089199999347 0.14303136382251977 0.13941806083917618\n",
      "2 8.082685400004266 0.13644619077444076 0.13133250653743744\n",
      "3 8.193100200005574 0.13183627954125404 0.13373710790276527\n",
      "4 8.122195100004319 0.12843080496788026 0.1246140518784523\n",
      "5 8.113878300006036 0.12644807436317204 0.13115922701358795\n",
      "6 8.157747699995525 0.12524397820234298 0.12256593054533005\n",
      "7 8.21518400000059 0.12307948318123818 0.1221008380651474\n",
      "8 8.279461099999025 0.1214543874040246 0.1263821978867054\n",
      "9 8.340252499998314 0.12042500338703394 0.11819556325674058\n",
      "10 8.31819020002149 0.11936251091957092 0.12064940279722214\n",
      "11 8.317054699989967 0.11858418937027454 0.11650421983003616\n",
      "12 8.192944300011732 0.11749739966541528 0.11763650634884834\n",
      "13 8.060389700025553 0.11646292595565319 0.11705405107140542\n",
      "14 8.254359499987913 0.11459202242642641 0.11601061928272248\n",
      "15 8.21769660001155 0.11423906745761633 0.11536124923825264\n",
      "16 8.059573000005912 0.1131728444248438 0.11341188907623291\n",
      "17 8.010622199974023 0.1118361627086997 0.1105550083220005\n",
      "18 8.179709000018192 0.11068316271901131 0.11500166749954224\n",
      "19 8.277755499992054 0.11024686716496944 0.1110869822204113\n",
      "TOTAL TIME: ---163.8720632000477\n",
      "RMSE: ---0.003000283709886595---0.001383065669906795\n",
      "PSNR: ---25.21698777868017---3.1314446232432975\n",
      "SSIM: ---0.8659359766371609---0.04356416497967936\n",
      "UQI: ---0.9931553125791941---0.004926396934605918\n"
     ]
    },
    {
     "data": {
      "text/plain": [
       "<matplotlib.image.AxesImage at 0x1dca2f17d00>"
      ]
     },
     "execution_count": 13,
     "metadata": {},
     "output_type": "execute_result"
    },
    {
     "data": {
      "image/png": "[encoded data removed]",
      "text/plain": [
       "<Figure size 432x288 with 1 Axes>"
      ]
     },
     "metadata": {
      "needs_background": "light"
     },
     "output_type": "display_data"
    }
   ],
   "source": [
    "# SIX LAYER RESULTS\n",
    "############################################################################\n",
    "\n",
    "model_6L = FNO1_6L(modes, width).cuda()\n",
    "print(count_params(model_6L))\n",
    "output_6L = train_model(model_6L, 20, batch_size, learning_rate, weight_decay, step_size, gamma)\n",
    "\n",
    "output_6L_model = output_6L.get(\"model\")\n",
    "torch.save(output_6L_model, 'fno1_6l.h5')\n",
    "\n",
    "\n",
    "results_6L = model_metrics(output_6L_model,test_loader,ntrain)\n",
    "\n",
    "# SIX LAYER RESULTS\n",
    "############################################################################\n",
    "output_6L_model.eval()\n",
    "predicted = np.reshape(output_6L_model(K).detach().cpu().numpy(),(16,16))\n",
    "plt.imshow(predicted)"
   ]
  },
  {
   "cell_type": "code",
   "execution_count": 14,
   "id": "4f7cb916",
   "metadata": {},
   "outputs": [
    {
     "name": "stdout",
     "output_type": "stream",
     "text": [
      "1090626\n",
      "0 10.422043899976416 0.19451672023534775 0.14492493569850923\n",
      "1 10.257803599990439 0.14783211312443018 0.13622976765036582\n",
      "2 10.16716070001712 0.13828644032031298 0.13237658628821372\n",
      "3 10.062135999993188 0.13354669811576605 0.12765995380282402\n",
      "4 10.219370000006165 0.1298150615170598 0.13292837619781495\n",
      "5 10.240936999995029 0.12829487758874894 0.13141003659367562\n",
      "6 10.121634100010851 0.1264157769754529 0.13023789966106414\n",
      "7 10.187588100001449 0.1244572140276432 0.12751986432075502\n",
      "8 10.195110899978317 0.12359631526470184 0.12102750942111015\n",
      "9 10.399986100004753 0.12231433493643999 0.12018359875679016\n",
      "10 10.156233599991538 0.12091872810572386 0.12875349709391595\n",
      "11 10.380066899990197 0.11991866211593151 0.12033808681368828\n",
      "12 10.26049369998509 0.11863358943164348 0.11639658871293068\n",
      "13 10.531012999999803 0.11699010615050792 0.12493280881643296\n",
      "14 9.936706600012258 0.11622034214437008 0.12068713703751564\n",
      "15 10.139544800011208 0.11465766655653716 0.11514144334197045\n",
      "16 10.094614599976921 0.11375183196365833 0.11427454045414924\n",
      "17 10.382720699999481 0.1118957774490118 0.115633440554142\n",
      "18 10.021607200003928 0.11166939929872752 0.1220788076221943\n",
      "19 10.195580799976597 0.11068551140278578 0.10910602614283561\n",
      "TOTAL TIME: ---204.37235229992075\n",
      "RMSE: ---0.0029517139182667503---0.0014023392455352252\n",
      "PSNR: ---25.21023146844071---3.317478289439974\n",
      "SSIM: ---0.8689102929344539---0.04494354730056784\n",
      "UQI: ---0.993437625633455---0.005015459805926921\n"
     ]
    },
    {
     "data": {
      "text/plain": [
       "<matplotlib.image.AxesImage at 0x1dcdcc0cf70>"
      ]
     },
     "execution_count": 14,
     "metadata": {},
     "output_type": "execute_result"
    },
    {
     "data": {
      "image/png": "[encoded data removed]",
      "text/plain": [
       "<Figure size 432x288 with 1 Axes>"
      ]
     },
     "metadata": {
      "needs_background": "light"
     },
     "output_type": "display_data"
    }
   ],
   "source": [
    "# EIGHT LAYER RESULTS\n",
    "############################################################################\n",
    "\n",
    "model_8L = FNO1_8L(modes, width).cuda()\n",
    "print(count_params(model_8L))\n",
    "output_8L = train_model(model_8L, 20, batch_size, learning_rate, weight_decay, step_size, gamma)\n",
    "\n",
    "output_8L_model = output_8L.get(\"model\")\n",
    "torch.save(output_8L_model, 'fno1_8l.h5')\n",
    "\n",
    "\n",
    "results_8L = model_metrics(output_8L_model,test_loader,ntrain)\n",
    "\n",
    "# EIGHT LAYER RESULTS\n",
    "############################################################################\n",
    "output_8L_model.eval()\n",
    "predicted = np.reshape(output_8L_model(K).detach().cpu().numpy(),(16,16))\n",
    "plt.imshow(predicted)"
   ]
  },
  {
   "cell_type": "code",
   "execution_count": 15,
   "id": "5d447fcb",
   "metadata": {},
   "outputs": [
    {
     "data": {
      "text/plain": [
       "' \\nOne Layer\\n144002\\nTOTAL TIME: ---39.073271700006444\\nRMSE: ---0.01265196177334401---0.002670271925675282\\nPSNR: ---10.749582805589087---1.7174541600157496\\nSSIM: ---0.284687322717583---0.07086855525430798\\nUQI: ---0.907548633596253---0.057670149980738404\\n\\n\\nTwo Layers\\n279234\\n()TOTAL TIME: ---4.11846680000599\\nRMSE: ---0.003158811306540759---0.0014685497455065371\\nPSNR: ---24.71717780169559---3.1661043424866926\\nSSIM: ---0.8448236801383773---0.04552967450139212\\nUQI: ---0.9923488872787619---0.005677528797604667\\n\\n\\nFour Layers\\n549698\\nTOTAL TIME: --- 125.05501619999995\\nRMSE: ---0.0029248563892472937---0.0013724690240738302\\nPSNR: ---25.392143863793912---3.281997302834296\\nSSIM: ---0.8731085960563277---0.04375513687360756\\nUQI: ---0.9934156493888673---0.00482059550424276\\n\\nSIX LAYERS\\n820162\\nTOTAL TIME: ---7.934657399993739\\nRMSE: ---0.0030005403392746517---0.0013890247881787083\\nPSNR: ---25.219707683154038---3.1605086180064412\\nSSIM: ---0.8667007541307281---0.04393800171047696\\nUQI: ---0.993108352823714---0.004953352099787523\\n\\n\\n\\nEIGHT LAYERS\\n1090626\\nTOTAL TIME: ---9.983367499997257\\nRMSE: ---0.0029498494149794103---0.0014104242757421977\\nPSNR: ---25.23802341267495---3.378959858100774\\nSSIM: ---0.8680572058835299---0.0449140282654318\\nUQI: ---0.9934188000289267---0.005030645969928413\\n\\n'"
      ]
     },
     "execution_count": 15,
     "metadata": {},
     "output_type": "execute_result"
    }
   ],
   "source": [
    "''' \n",
    "One Layer\n",
    "144002\n",
    "TOTAL TIME: ---39.073271700006444\n",
    "RMSE: ---0.01265196177334401---0.002670271925675282\n",
    "PSNR: ---10.749582805589087---1.7174541600157496\n",
    "SSIM: ---0.284687322717583---0.07086855525430798\n",
    "UQI: ---0.907548633596253---0.057670149980738404\n",
    "\n",
    "\n",
    "Two Layers\n",
    "279234\n",
    "TOTAL TIME: --- 88.78457890002755\n",
    "RMSE: ---0.003158811306540759---0.0014685497455065371\n",
    "PSNR: ---24.71717780169559---3.1661043424866926\n",
    "SSIM: ---0.8448236801383773---0.04552967450139212\n",
    "UQI: ---0.9923488872787619---0.005677528797604667\n",
    "\n",
    "\n",
    "Four Layers\n",
    "549698\n",
    "TOTAL TIME: --- 125.05501619999995\n",
    "RMSE: ---0.0029248563892472937---0.0013724690240738302\n",
    "PSNR: ---25.392143863793912---3.281997302834296\n",
    "SSIM: ---0.8731085960563277---0.04375513687360756\n",
    "UQI: ---0.9934156493888673---0.00482059550424276\n",
    "\n",
    "SIX LAYERS\n",
    "820162\n",
    "TOTAL TIME: ---163.8720632000477\n",
    "RMSE: ---0.0030005403392746517---0.0013890247881787083\n",
    "PSNR: ---25.219707683154038---3.1605086180064412\n",
    "SSIM: ---0.8667007541307281---0.04393800171047696\n",
    "UQI: ---0.993108352823714---0.004953352099787523\n",
    "\n",
    "\n",
    "\n",
    "EIGHT LAYERS\n",
    "1090626\n",
    "TOTAL TIME: --- 204.37235229992075\n",
    "RMSE: ---0.0029498494149794103---0.0014104242757421977\n",
    "PSNR: ---25.23802341267495---3.378959858100774\n",
    "SSIM: ---0.8680572058835299---0.0449140282654318\n",
    "UQI: ---0.9934188000289267---0.005030645969928413\n",
    "\n",
    "'''\n"
   ]
  },
  {
   "cell_type": "code",
   "execution_count": 16,
   "id": "a241b73f",
   "metadata": {},
   "outputs": [
    {
     "data": {
      "text/plain": [
       "<function matplotlib.pyplot.show(close=None, block=None)>"
      ]
     },
     "execution_count": 16,
     "metadata": {},
     "output_type": "execute_result"
    },
    {
     "data": {
      "image/png": "[encoded data removed]",
      "text/plain": [
       "<Figure size 432x288 with 1 Axes>"
      ]
     },
     "metadata": {
      "needs_background": "light"
     },
     "output_type": "display_data"
    }
   ],
   "source": [
    "fig1, ax1 = plt.subplots()\n",
    "red_cross = dict(markerfacecolor='r', marker='x')\n",
    "data = (results_1L.get(\"rms\"), results_2L.get(\"rms\"), results_4L.get(\"rms\"), results_6L.get(\"rms\"), results_8L.get(\"rms\"))\n",
    "labels = ('1 fourier layer', '2 fourier layers', '4 fourier layers', '6 fourier layers', '8 fourier layers')\n",
    "\n",
    "ax1.boxplot(data, vert=False, flierprops=red_cross)\n",
    "plt.yticks(np.arange(len(labels))+1,labels)\n",
    "plt.xlabel('RMSE')\n",
    "plt.show"
   ]
  },
  {
   "cell_type": "code",
   "execution_count": 48,
   "id": "12d684e6",
   "metadata": {},
   "outputs": [
    {
     "data": {
      "text/plain": [
       "[0.000483480059892079, 0.006965591655010221]"
      ]
     },
     "execution_count": 48,
     "metadata": {},
     "output_type": "execute_result"
    },
    {
     "data": {
      "image/png": "[encoded data removed]",
      "text/plain": [
       "<Figure size 432x288 with 1 Axes>"
      ]
     },
     "metadata": {
      "needs_background": "light"
     },
     "output_type": "display_data"
    }
   ],
   "source": [
    "# Obtaining whisker values \n",
    "B = plt.boxplot(results_4L.get(\"rms\"))\n",
    "[item.get_ydata()[1] for item in B['whiskers']]"
   ]
  },
  {
   "cell_type": "code",
   "execution_count": 75,
   "id": "460fd3d5",
   "metadata": {},
   "outputs": [
    {
     "data": {
      "text/plain": [
       "326"
      ]
     },
     "execution_count": 75,
     "metadata": {},
     "output_type": "execute_result"
    }
   ],
   "source": [
    "L = results_4L.get(\"rms\")\n",
    "next(x[0] for x in enumerate(L) if x[1] > 0.006965591655010221)\n"
   ]
  },
  {
   "cell_type": "code",
   "execution_count": 77,
   "id": "99763206",
   "metadata": {},
   "outputs": [
    {
     "data": {
      "text/plain": [
       "<matplotlib.image.AxesImage at 0x1dda07c50c0>"
      ]
     },
     "execution_count": 77,
     "metadata": {},
     "output_type": "execute_result"
    },
    {
     "data": {
      "image/png": "[encoded data removed]",
      "text/plain": [
       "<Figure size 432x288 with 1 Axes>"
      ]
     },
     "metadata": {
      "needs_background": "light"
     },
     "output_type": "display_data"
    }
   ],
   "source": [
    "truth_out = test_loader.dataset[326][1]\n",
    "plt.imshow(np.reshape(truth_out.numpy(),(16,16)))"
   ]
  },
  {
   "cell_type": "code",
   "execution_count": 84,
   "id": "e5f5eb07",
   "metadata": {},
   "outputs": [
    {
     "data": {
      "text/plain": [
       "<matplotlib.image.AxesImage at 0x1dda1a5e140>"
      ]
     },
     "execution_count": 84,
     "metadata": {},
     "output_type": "execute_result"
    },
    {
     "data": {
      "image/png": "[encoded data removed]",
      "text/plain": [
       "<Figure size 432x288 with 1 Axes>"
      ]
     },
     "metadata": {
      "needs_background": "light"
     },
     "output_type": "display_data"
    }
   ],
   "source": [
    "K = torch.unsqueeze(test_loader.dataset[326][0], 0).cuda()\n",
    "output_4L_model.eval()\n",
    "predicted = np.reshape(output_4L_model(K).detach().cpu().numpy(),(16,16))\n",
    "plt.imshow(predicted)"
   ]
  },
  {
   "cell_type": "code",
   "execution_count": 89,
   "id": "7108d07a",
   "metadata": {},
   "outputs": [
    {
     "data": {
      "text/plain": [
       "0.007205825841706953"
      ]
     },
     "execution_count": 89,
     "metadata": {},
     "output_type": "execute_result"
    }
   ],
   "source": [
    "rmse(predicted, np.reshape(truth_out.numpy(),(16,16)))"
   ]
  },
  {
   "cell_type": "code",
   "execution_count": 17,
   "id": "4e18dfbe",
   "metadata": {},
   "outputs": [
    {
     "data": {
      "text/plain": [
       "<function matplotlib.pyplot.show(close=None, block=None)>"
      ]
     },
     "execution_count": 17,
     "metadata": {},
     "output_type": "execute_result"
    },
    {
     "data": {
      "image/png": "[encoded data removed]",
      "text/plain": [
       "<Figure size 432x288 with 1 Axes>"
      ]
     },
     "metadata": {
      "needs_background": "light"
     },
     "output_type": "display_data"
    }
   ],
   "source": [
    "fig1, ax1 = plt.subplots()\n",
    "red_cross = dict(markerfacecolor='r', marker='x')\n",
    "data = (results_1L.get(\"ssim\"), results_2L.get(\"ssim\"), results_4L.get(\"ssim\"), results_6L.get(\"ssim\"), results_8L.get(\"ssim\"))\n",
    "labels = ('1 fourier layer', '2 fourier layers', '4 fourier layers', '6 fourier layers', '8 fourier layers')\n",
    "\n",
    "ax1.boxplot(data, vert=False, flierprops=red_cross)\n",
    "plt.yticks(np.arange(len(labels))+1,labels)\n",
    "plt.xlabel('SSIM')\n",
    "plt.show"
   ]
  },
  {
   "cell_type": "code",
   "execution_count": 18,
   "id": "25b4dd65",
   "metadata": {},
   "outputs": [
    {
     "data": {
      "text/plain": [
       "<function matplotlib.pyplot.show(close=None, block=None)>"
      ]
     },
     "execution_count": 18,
     "metadata": {},
     "output_type": "execute_result"
    },
    {
     "data": {
      "image/png": "[encoded data removed]",
      "text/plain": [
       "<Figure size 432x288 with 1 Axes>"
      ]
     },
     "metadata": {
      "needs_background": "light"
     },
     "output_type": "display_data"
    }
   ],
   "source": [
    "fig1, ax1 = plt.subplots()\n",
    "red_cross = dict(markerfacecolor='r', marker='x')\n",
    "data = (results_1L.get(\"psnr\"), results_2L.get(\"psnr\"), results_4L.get(\"psnr\"), results_6L.get(\"psnr\"), results_8L.get(\"psnr\"))\n",
    "labels = ('1 fourier layer', '2 fourier layers', '4 fourier layers', '6 fourier layers', '8 fourier layers')\n",
    "\n",
    "ax1.boxplot(data, vert=False, flierprops=red_cross)\n",
    "plt.yticks(np.arange(len(labels))+1,labels)\n",
    "plt.xlabel('PSNR')\n",
    "plt.show"
   ]
  },
  {
   "cell_type": "code",
   "execution_count": 43,
   "id": "fdb303e1",
   "metadata": {},
   "outputs": [
    {
     "data": {
      "text/plain": [
       "<matplotlib.legend.Legend at 0x1dd9ec717b0>"
      ]
     },
     "execution_count": 43,
     "metadata": {},
     "output_type": "execute_result"
    },
    {
     "data": {
      "image/png": "[encoded data removed]",
      "text/plain": [
       "<Figure size 432x288 with 1 Axes>"
      ]
     },
     "metadata": {
      "needs_background": "light"
     },
     "output_type": "display_data"
    }
   ],
   "source": [
    "#plt.plot(output_1L.get('train_losses')[5:20], label='1 fourier layer')\n",
    "plt.plot(range(5,20),output_2L.get('train_losses')[5:20], label='2 fourier layers')\n",
    "plt.plot(range(5,20),output_4L.get('train_losses')[5:20],label='4 fourier layers')\n",
    "plt.plot(range(5,20),output_6L.get('train_losses')[5:20], label='6 fourier layers')\n",
    "plt.plot(range(5,20),output_8L.get('train_losses')[5:20], label='8 fourier layers')\n",
    "#plt.yscale('log')\n",
    "plt.xlabel('epoch')\n",
    "plt.ylabel('RMSE')\n",
    "plt.legend(frameon=False)"
   ]
  },
  {
   "cell_type": "code",
   "execution_count": 36,
   "id": "27243f63",
   "metadata": {},
   "outputs": [
    {
     "data": {
      "text/plain": [
       "<matplotlib.legend.Legend at 0x1dda01f3c10>"
      ]
     },
     "execution_count": 36,
     "metadata": {},
     "output_type": "execute_result"
    },
    {
     "data": {
      "image/png": "[encoded data removed]",
      "text/plain": [
       "<Figure size 432x288 with 1 Axes>"
      ]
     },
     "metadata": {
      "needs_background": "light"
     },
     "output_type": "display_data"
    }
   ],
   "source": [
    "plt.plot(output_1L.get('test_losses'), label='1 fourier layer')\n",
    "plt.plot(output_2L.get('test_losses'), label='2 fourier layers')\n",
    "plt.plot(output_4L.get('test_losses'), label='4 fourier layers')\n",
    "plt.plot(output_6L.get('test_losses'), label='6 fourier layers')\n",
    "plt.plot(output_8L.get('test_losses'), label='8 fourier layers')\n",
    "plt.yscale('log')\n",
    "plt.xlabel('epoch')\n",
    "plt.ylabel('RMSE')\n",
    "plt.legend(frameon=False)"
   ]
  }
 ],
 "metadata": {
  "kernelspec": {
   "display_name": "Python 3.10.4 ('gundam')",
   "language": "python",
   "name": "python3"
  },
  "language_info": {
   "codemirror_mode": {
    "name": "ipython",
    "version": 3
   },
   "file_extension": ".py",
   "mimetype": "text/x-python",
   "name": "python",
   "nbconvert_exporter": "python",
   "pygments_lexer": "ipython3",
   "version": "3.10.4"
  },
  "vscode": {
   "interpreter": {
    "hash": "cddc3d62f9a7e02ecb46a81ab11648d63c0573e5e13f25e036352996103f8463"
   }
  }
 },
 "nbformat": 4,
 "nbformat_minor": 5
}
