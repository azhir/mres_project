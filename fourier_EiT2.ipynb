{
 "cells": [
  {
   "cell_type": "code",
   "execution_count": 1,
   "id": "2337a998",
   "metadata": {},
   "outputs": [],
   "source": [
    "\"\"\"\n",
    "@author: Zongyi Li\n",
    "This file is the Fourier Neural Operator for 1D problem such as the (time-independent) Burgers equation discussed in Section 5.1 in the [paper](https://arxiv.org/pdf/2010.08895.pdf).\n",
    "\"\"\"\n",
    "\n",
    "import numpy as np\n",
    "import torch\n",
    "import torch.nn as nn\n",
    "import torch.nn.functional as F\n",
    "from torch.nn.parameter import Parameter\n",
    "import matplotlib.pyplot as plt\n",
    "from sklearn.model_selection import train_test_split\n",
    "from torch.utils.data import Dataset, DataLoader, TensorDataset\n",
    "import operator\n",
    "from functools import reduce\n",
    "from functools import partial\n",
    "from timeit import default_timer\n",
    "from utilities3 import *\n",
    "\n",
    "from Adam import Adam\n",
    "\n",
    "torch.manual_seed(0)\n",
    "np.random.seed(0)"
   ]
  },
  {
   "cell_type": "code",
   "execution_count": 3,
   "id": "cdf399c2",
   "metadata": {},
   "outputs": [],
   "source": [
    "\n",
    "################################################################\n",
    "#  1d fourier layer\n",
    "################################################################\n",
    "class SpectralConv1d(nn.Module):\n",
    "    def __init__(self, in_channels, out_channels, modes1):\n",
    "        super(SpectralConv1d, self).__init__()\n",
    "\n",
    "        \"\"\"\n",
    "        1D Fourier layer. It does FFT, linear transform, and Inverse FFT.    \n",
    "        \"\"\"\n",
    "\n",
    "        self.in_channels = in_channels\n",
    "        self.out_channels = out_channels\n",
    "        self.modes1 = modes1  #Number of Fourier modes to multiply, at most floor(N/2) + 1\n",
    "\n",
    "        self.scale = (1 / (in_channels*out_channels))\n",
    "        self.weights1 = nn.Parameter(self.scale * torch.rand(in_channels, out_channels, self.modes1, dtype=torch.cfloat))\n",
    "\n",
    "    # Complex multiplication\n",
    "    def compl_mul1d(self, input, weights):\n",
    "        # (batch, in_channel, x ), (in_channel, out_channel, x) -> (batch, out_channel, x)\n",
    "        return torch.einsum(\"bix,iox->box\", input, weights)\n",
    "\n",
    "    def forward(self, x):\n",
    "        batchsize = x.shape[0]\n",
    "        #Compute Fourier coeffcients up to factor of e^(- something constant)\n",
    "        x_ft = torch.fft.rfft(x)\n",
    "\n",
    "        # Multiply relevant Fourier modes\n",
    "        out_ft = torch.zeros(batchsize, self.out_channels, x.size(-1)//2 + 1,  device=x.device, dtype=torch.cfloat)\n",
    "        out_ft[:, :, :self.modes1] = self.compl_mul1d(x_ft[:, :, :self.modes1], self.weights1)\n",
    "\n",
    "        #Return to physical space\n",
    "        x = torch.fft.irfft(out_ft, n=x.size(-1))\n",
    "        return x\n",
    "\n",
    "class FNO1d(nn.Module):\n",
    "    def __init__(self, modes, width):\n",
    "        super(FNO1d, self).__init__()\n",
    "\n",
    "        \"\"\"\n",
    "        The overall network. It contains 4 layers of the Fourier layer.\n",
    "        1. Lift the input to the desire channel dimension by self.fc0 .\n",
    "        2. 4 layers of the integral operators u' = (W + K)(u).\n",
    "            W defined by self.w; K defined by self.conv .\n",
    "        3. Project from the channel space to the output space by self.fc1 and self.fc2 .\n",
    "        \n",
    "        input: the solution of the initial condition and location (a(x), x)\n",
    "        input shape: (batchsize, x=s, c=2)\n",
    "        output: the solution of a later timestep\n",
    "        output shape: (batchsize, x=s, c=1)\n",
    "        \"\"\"\n",
    "\n",
    "        self.modes1 = modes\n",
    "        self.width = width\n",
    "        self.padding = 2 # pad the domain if input is non-periodic\n",
    "        self.fc0 = nn.Linear(2, self.width) # input channel is 2: (a(x), x)\n",
    "\n",
    "        self.conv0 = SpectralConv1d(self.width, self.width, self.modes1)\n",
    "        self.conv1 = SpectralConv1d(self.width, self.width, self.modes1)\n",
    "        self.conv2 = SpectralConv1d(self.width, self.width, self.modes1)\n",
    "        self.conv3 = SpectralConv1d(self.width, self.width, self.modes1)\n",
    "        self.w0 = nn.Conv1d(self.width, self.width, 1)\n",
    "        self.w1 = nn.Conv1d(self.width, self.width, 1)\n",
    "        self.w2 = nn.Conv1d(self.width, self.width, 1)\n",
    "        self.w3 = nn.Conv1d(self.width, self.width, 1)\n",
    "\n",
    "        self.fc1 = nn.Linear(self.width, 128)\n",
    "        self.fc2 = nn.Linear(128, 2)\n",
    "\n",
    "    def forward(self, x):\n",
    "        grid = self.get_grid(x.shape, x.device)\n",
    "        x = torch.cat((x, grid), dim=-1)\n",
    "        x = self.fc0(x)\n",
    "        x = x.permute(0, 2, 1)\n",
    "        # x = F.pad(x, [0,self.padding]) # pad the domain if input is non-periodic\n",
    "\n",
    "        x1 = self.conv0(x)\n",
    "        x2 = self.w0(x)\n",
    "        x = x1 + x2\n",
    "        x = F.gelu(x)\n",
    "\n",
    "        x1 = self.conv1(x)\n",
    "        x2 = self.w1(x)\n",
    "        x = x1 + x2\n",
    "        x = F.gelu(x)\n",
    "\n",
    "        x1 = self.conv2(x)\n",
    "        x2 = self.w2(x)\n",
    "        x = x1 + x2\n",
    "        x = F.gelu(x)\n",
    "\n",
    "        x1 = self.conv3(x)\n",
    "        x2 = self.w3(x)\n",
    "        x = x1 + x2\n",
    "\n",
    "        # x = x[..., :-self.padding] # pad the domain if input is non-periodic\n",
    "        x = x.permute(0, 2, 1)\n",
    "        x = self.fc1(x)\n",
    "        x = F.gelu(x)\n",
    "        x = self.fc2(x)\n",
    "        return x\n",
    "\n",
    "    def get_grid(self, shape, device):\n",
    "        batchsize, size_x = shape[0], shape[1]\n",
    "        gridx = torch.tensor(np.linspace(0, 1, size_x), dtype=torch.float)\n",
    "        gridx = gridx.reshape(1, size_x, 1).repeat([batchsize, 1, 1])\n",
    "        return gridx.to(device)\n"
   ]
  },
  {
   "cell_type": "code",
   "execution_count": 4,
   "id": "c4836801",
   "metadata": {},
   "outputs": [],
   "source": [
    "\n",
    "################################################################\n",
    "#  configurations - HYPER PARAMETERS\n",
    "################################################################\n",
    "\n",
    "batch_size = 10\n",
    "learning_rate = 0.001\n",
    "\n",
    "epochs = 100\n",
    "step_size = 50\n",
    "gamma = 0.5\n",
    "\n",
    "modes = 16\n",
    "width = 64\n",
    "\n",
    "weight_decay=1e-4\n",
    "\n",
    "# Hyperparameters to change - epoch{10,100,200}, step_size{}, batchsize{}, gamma{}, modes{}, weight_decay{}"
   ]
  },
  {
   "cell_type": "code",
   "execution_count": 5,
   "id": "9bbba4f9",
   "metadata": {},
   "outputs": [],
   "source": [
    "raw_data = scipy.io.loadmat('../datasets/training_data_16x16_10k')\n",
    "\n",
    "sol = np.asarray(raw_data['solution_data'])\n",
    "mes = np.asarray(raw_data['measurement_data'])\n",
    "\n",
    "sol_temp = np.expand_dims(sol,axis = 1 )\n",
    "#sol_temp = np.sqeeze(sol_temp)\n",
    "mes_temp = np.transpose(np.expand_dims(mes,axis = 1 ),(0,2,1))\n",
    "\n",
    "\n",
    "def convert_data(data_x, data_y):\n",
    "    data_X = torch.from_numpy(data_x).float()\n",
    "    data_Y = torch.from_numpy(data_y).float()\n",
    "    return data_X, data_Y\n",
    "\n",
    "# we are solving the inverse problem, so going from measurements, to solutions\n",
    "X, y = convert_data(mes_temp, sol_temp)\n",
    "X_train, X_test, y_train, y_test = train_test_split(X, y, test_size=0.2, random_state=42)\n",
    "y_train = y_train.squeeze()\n",
    "y_test = y_test.squeeze()\n",
    "\n",
    "#batch_size = 10\n",
    "\n",
    "#train_loader = DataLoader(data_utils.TensorDataset(X_train, Y_train), batch_size=batch_size, shuffle=True)\n",
    "train_dataset = TensorDataset( X_train, y_train )\n",
    "test_dataset = TensorDataset( X_test, y_test )\n",
    "\n",
    "train_loader = DataLoader(train_dataset, shuffle=True, batch_size=batch_size)\n",
    "test_loader = torch.utils.data.DataLoader(test_dataset, batch_size=batch_size, shuffle=False)"
   ]
  },
  {
   "cell_type": "code",
   "execution_count": 5,
   "id": "e9959395",
   "metadata": {},
   "outputs": [
    {
     "data": {
      "text/plain": [
       "(torch.Size([8000, 128, 1]), torch.Size([8000, 256]))"
      ]
     },
     "execution_count": 5,
     "metadata": {},
     "output_type": "execute_result"
    }
   ],
   "source": [
    "X_train.shape,y_train.shape"
   ]
  },
  {
   "cell_type": "code",
   "execution_count": 6,
   "id": "96d626e6",
   "metadata": {},
   "outputs": [
    {
     "data": {
      "text/plain": [
       "(torch.Size([2000, 128, 1]), torch.Size([2000, 256]))"
      ]
     },
     "execution_count": 6,
     "metadata": {},
     "output_type": "execute_result"
    }
   ],
   "source": [
    "X_test.shape,y_test.shape"
   ]
  },
  {
   "cell_type": "code",
   "execution_count": 7,
   "id": "fd78e444",
   "metadata": {},
   "outputs": [
    {
     "data": {
      "text/plain": [
       "(torch.Size([128, 1]), torch.Size([256]))"
      ]
     },
     "execution_count": 7,
     "metadata": {},
     "output_type": "execute_result"
    }
   ],
   "source": [
    "train_loader.dataset[0][0].shape, train_loader.dataset[0][1].shape"
   ]
  },
  {
   "cell_type": "code",
   "execution_count": 8,
   "id": "60e15021",
   "metadata": {},
   "outputs": [
    {
     "data": {
      "text/plain": [
       "(torch.Size([128, 1]), torch.Size([256]))"
      ]
     },
     "execution_count": 8,
     "metadata": {},
     "output_type": "execute_result"
    }
   ],
   "source": [
    "test_loader.dataset[0][0].shape, test_loader.dataset[0][1].shape"
   ]
  },
  {
   "cell_type": "code",
   "execution_count": 13,
   "id": "de3ad43b",
   "metadata": {},
   "outputs": [],
   "source": [
    "ntrain = 8000\n",
    "ntest = 2000\n"
   ]
  },
  {
   "cell_type": "code",
   "execution_count": 10,
   "id": "44b7a47b",
   "metadata": {},
   "outputs": [
    {
     "name": "stdout",
     "output_type": "stream",
     "text": [
      "549698\n",
      "0 13.697290799987968 3.826727068144464e-05 0.18986112922430037 0.16855735445022582\n",
      "1 8.209480900026392 1.8294202429274265e-05 0.14466062892973422 0.14185199445486069\n",
      "2 8.11171219998505 1.6514663768134598e-05 0.13704217831790447 0.13704083719849586\n",
      "3 8.2251584000187 1.539214894421548e-05 0.13210456984490157 0.12803907313942908\n",
      "4 8.095038199971896 1.4882138320899686e-05 0.13000552174448968 0.12470890918374061\n",
      "5 7.970145600032993 1.4186220172405228e-05 0.12671571732312442 0.12452027383446694\n",
      "6 7.768745100009255 1.3801476764001563e-05 0.12494727930426598 0.12484308576583862\n",
      "7 7.801986400038004 1.3474212084929605e-05 0.12341640069335699 0.12329395937919617\n",
      "8 8.060661800031085 1.3181052841559903e-05 0.12213653600215912 0.11903270855545997\n",
      "9 8.131456600036472 1.2762032241653287e-05 0.11975796611607074 0.12378824052214622\n",
      "10 8.402459600009024 1.2519607385002018e-05 0.11876947359740735 0.11610901826620101\n",
      "11 8.200581900018733 1.2168129328529176e-05 0.11697520181536675 0.11650291353464126\n",
      "12 8.167216099973302 1.1804858351638358e-05 0.11522684706002474 0.113827607691288\n",
      "13 8.087762299983297 1.1549552545488951e-05 0.11396196706593037 0.11330286636948586\n",
      "14 8.110994899994694 1.1185175840466854e-05 0.11194380789250136 0.11039341226220131\n",
      "15 8.09879129996989 1.0944081747368273e-05 0.11065802001953125 0.1092472759783268\n",
      "16 8.186710799986031 1.0710593198837159e-05 0.10945159461349249 0.11088708525896072\n",
      "17 8.11284610000439 1.0547101319104967e-05 0.10868840515613556 0.11341535422205926\n",
      "18 8.109490900009405 1.0322124467734283e-05 0.10726698670536279 0.10916622948646545\n",
      "19 8.187595699972007 1.0247918295931412e-05 0.10702270914614201 0.10931333336234093\n",
      "20 8.10125710000284 1.0030920536507893e-05 0.1057822790965438 0.10640010675787925\n",
      "21 8.10634779999964 9.953283202719376e-06 0.10542008484899998 0.10987171402573585\n",
      "22 8.059801200055517 9.860663359120281e-06 0.10489358026534319 0.1043545024394989\n",
      "23 8.06031059997622 9.688184299534441e-06 0.10390951639413834 0.10489093458652496\n",
      "24 8.078554300009273 9.58830450969117e-06 0.10334084745496512 0.10270179533958435\n",
      "25 8.088487299974076 9.443444398868905e-06 0.1024862121194601 0.10506218165159226\n",
      "26 8.101690999988932 9.342899147384287e-06 0.10204817617684603 0.10171312725543975\n",
      "27 8.12848730001133 9.228733446917658e-06 0.10124853944778442 0.10283401563763618\n",
      "28 8.113970700011123 9.177800561701588e-06 0.1010273268893361 0.10246275568008423\n",
      "29 8.051518099964596 9.13746902284629e-06 0.10085408757627011 0.1005656116604805\n",
      "30 8.103998100035824 8.976597185039736e-06 0.09986283230036497 0.10127052396535874\n",
      "31 8.200744000030681 8.895773437700426e-06 0.09944009204208851 0.09980150893330574\n",
      "32 8.089597399986815 8.823119914609379e-06 0.09898684950172901 0.09985567089915276\n",
      "33 8.041666499979328 8.790481591915978e-06 0.09888705459982157 0.10021974095702171\n",
      "34 8.113360699964687 8.692927195568245e-06 0.09817824958264827 0.10048306906223298\n",
      "35 8.022612699947786 8.641034763456901e-06 0.09796881613880395 0.10387037938833237\n",
      "36 8.03648999996949 8.569837953871229e-06 0.09756735679507256 0.0996928376853466\n",
      "37 8.07502220000606 8.505168802344087e-06 0.09712211895734071 0.09754758325219154\n",
      "38 8.14903949998552 8.475374531542457e-06 0.09699826714396477 0.09881975239515305\n",
      "39 8.324644000036642 8.409035760621464e-06 0.09650399300456047 0.09779618000984192\n",
      "40 7.80783629999496 8.348489594709462e-06 0.09622335617244243 0.09988739025592804\n",
      "41 7.828637499944307 8.30697198892949e-06 0.09595708368718624 0.09802117410302162\n",
      "42 7.934453599969856 8.254661991600188e-06 0.09560068587213755 0.09732856857776642\n",
      "43 8.000280199979898 8.222920716036697e-06 0.09544292741268873 0.09615967473387718\n",
      "44 8.178462099982426 8.172006440076985e-06 0.09517069351673126 0.0986602788567543\n",
      "45 7.998448800004553 8.144179560929387e-06 0.09497299745678901 0.09668425199389458\n",
      "46 7.9403132000006735 8.065297624000323e-06 0.09450786954909562 0.09597543758153916\n",
      "47 8.092116399959195 8.040911741034051e-06 0.09431915327906609 0.0954593109190464\n",
      "48 8.139760899997782 7.983297911664523e-06 0.09401962069422007 0.09571073353290557\n",
      "49 8.087096100032795 7.977211280376651e-06 0.09399854128807783 0.09697836795449256\n",
      "50 8.066732499981299 7.226232838490887e-06 0.08886613261699676 0.09181755071878434\n",
      "51 8.404088800016325 7.145682981786195e-06 0.0883739792406559 0.09112052646279335\n",
      "52 8.125598499958869 7.104876780203995e-06 0.08815771406143903 0.09197267606854438\n",
      "53 8.1550093999831 7.071738076263045e-06 0.08807080286741256 0.09059973961114884\n",
      "54 8.301921399950515 7.000788096434008e-06 0.08751022020727396 0.09175671181082726\n",
      "55 7.964144900033716 6.983038842349742e-06 0.08742745055258275 0.09055193784832954\n",
      "56 7.822433700028341 6.9354124326537205e-06 0.08715921647846699 0.09053586220741272\n",
      "57 7.810577599972021 6.9162327105232176e-06 0.08701948264241219 0.09018706485629081\n",
      "58 7.768833700043615 6.882324748005431e-06 0.08685346449166537 0.08955452704429627\n",
      "59 7.761519899999257 6.849458916633466e-06 0.08660588447749615 0.09048884457349778\n",
      "60 7.751824899984058 6.829752531984923e-06 0.08650368096679449 0.08990738072991371\n",
      "61 7.801214900042396 6.791763121469785e-06 0.0862455113530159 0.09073828718066215\n",
      "62 7.83079820004059 6.769259898078417e-06 0.08610873075574636 0.0893280511200428\n",
      "63 7.81276619998971 6.752829230265433e-06 0.08600563637912273 0.0892631987631321\n",
      "64 7.762912999955006 6.712285791365957e-06 0.08573851102590561 0.08861974984407425\n",
      "65 7.72109000000637 6.6961809585563966e-06 0.08560463324934244 0.08907905194163322\n",
      "66 7.725419400027022 6.6853660942456375e-06 0.08559313721954823 0.08956960311532021\n",
      "67 7.785608999955002 6.652212452706863e-06 0.08537692540884018 0.08863316723704338\n",
      "68 7.789297999988776 6.629035258356453e-06 0.08519826123863458 0.08867891696095466\n",
      "69 7.767045499989763 6.595930460377986e-06 0.08504003309458494 0.0891602540910244\n",
      "70 7.750978700001724 6.589628187896324e-06 0.08497011233493686 0.09026241853833199\n",
      "71 7.791484399989713 6.56291314498958e-06 0.08477862667292356 0.08907961884140968\n",
      "72 7.7547188000171445 6.565758527585786e-06 0.08483104705810547 0.08880160656571388\n",
      "73 7.816101099946536 6.550316814752933e-06 0.08472097164392471 0.08785119283199311\n",
      "74 7.770090300007723 6.501698071872397e-06 0.08440850242972374 0.08823364984989167\n",
      "75 7.752963600039948 6.507548383183348e-06 0.08442775372415781 0.08965211999416352\n",
      "76 7.779886999982409 6.458864861826896e-06 0.08406248322129249 0.08797662007808685\n",
      "77 7.771454099973198 6.4583430321363265e-06 0.08407934630662203 0.08950391274690628\n",
      "78 7.790936300007161 6.432211577305225e-06 0.08392514628171921 0.08864300215244293\n",
      "79 7.774347200000193 6.412950920662297e-06 0.0837815063148737 0.08772040104866027\n",
      "80 7.80587199999718 6.386728738334569e-06 0.08359536425769329 0.08788323840498924\n",
      "81 7.77274079999188 6.3836231322511595e-06 0.08359672997891902 0.08742296403646468\n",
      "82 7.805747200036421 6.371495830990171e-06 0.08356147841364145 0.08729731276631356\n",
      "83 7.846617100003641 6.329900572836777e-06 0.0832560853138566 0.08805329325795173\n",
      "84 7.791151400015224 6.345544456962671e-06 0.0833848067522049 0.087629410892725\n",
      "85 7.775786500016693 6.313690358012991e-06 0.08318165605515242 0.08733357653021813\n",
      "86 7.966578899999149 6.288288522569019e-06 0.08296768294274807 0.08658645072579384\n",
      "87 7.745420999999624 6.289073267851108e-06 0.08299002050980926 0.08686606478691102\n",
      "88 7.75622789998306 6.26869919116757e-06 0.08286485727503896 0.08691766893863678\n",
      "89 7.958401400013827 6.2602671678746446e-06 0.08277392089366913 0.08708718493580818\n",
      "90 7.803937400050927 6.232816858187107e-06 0.0826085031554103 0.08700135028362274\n",
      "91 7.68139300000621 6.2340044384256994e-06 0.08263230430707336 0.0873632462322712\n",
      "92 7.724767799954861 6.215466636376732e-06 0.0824815901517868 0.08824907463788986\n",
      "93 7.703378200007137 6.19532466430428e-06 0.08233949679136277 0.08661542904376984\n",
      "94 7.738367900019512 6.196424403697165e-06 0.08239640583842993 0.08677809423208237\n",
      "95 7.693865600042045 6.154833483833499e-06 0.08205387628823518 0.0867589886188507\n",
      "96 7.717716000042856 6.1631422639152335e-06 0.08209409447014332 0.08711179262399674\n",
      "97 7.700184500019532 6.144007693933417e-06 0.08199022516608238 0.08584893822669983\n",
      "98 7.692906000011135 6.128388762363102e-06 0.08194987405836582 0.08696769332885743\n",
      "99 7.678220200003125 6.106057446686463e-06 0.08172121305018663 0.08662327015399933\n"
     ]
    }
   ],
   "source": [
    "\n",
    "# model\n",
    "model = FNO1d(modes, width).cuda()\n",
    "print(count_params(model))\n",
    "\n",
    "################################################################\n",
    "# training and evaluation\n",
    "################################################################\n",
    "optimizer = Adam(model.parameters(), lr=learning_rate, weight_decay=weight_decay)\n",
    "scheduler = torch.optim.lr_scheduler.StepLR(optimizer, step_size=step_size, gamma=gamma)\n",
    "train_losses, test_losses = [], []\n",
    "\n",
    "myloss = LpLoss(size_average=False)\n",
    "for ep in range(epochs):\n",
    "    model.train()\n",
    "    t1 = default_timer()\n",
    "    train_mse = 0\n",
    "    train_l2 = 0\n",
    "    for x, y in train_loader:\n",
    "        x, y = x.cuda(), y.cuda()\n",
    "\n",
    "        optimizer.zero_grad()\n",
    "        #print('in: ',x.shape)\n",
    "        out = model(x)\n",
    "        #print('out: ',out.shape)\n",
    "\n",
    "        mse = F.mse_loss(out.view(batch_size, -1), y.view(batch_size, -1), reduction='mean')\n",
    "        l2 = myloss(out.view(batch_size, -1), y.view(batch_size, -1))\n",
    "        l2.backward() # use the l2 relative loss\n",
    "\n",
    "        optimizer.step()\n",
    "        train_mse += mse.item()\n",
    "        train_l2 += l2.item()\n",
    "\n",
    "    scheduler.step()\n",
    "    model.eval()\n",
    "    test_l2 = 0.0\n",
    "    with torch.no_grad():\n",
    "        for x, y in test_loader:\n",
    "            x, y = x.cuda(), y.cuda()\n",
    "\n",
    "            out = model(x)\n",
    "            test_l2 += myloss(out.view(batch_size, -1), y.view(batch_size, -1)).item()\n",
    "\n",
    "    train_mse /= len(train_loader)\n",
    "    train_l2 /= ntrain\n",
    "    train_losses.append(train_l2)\n",
    "    test_l2 /= ntest\n",
    "    test_losses.append(test_l2)\n",
    "\n",
    "\n",
    "    t2 = default_timer()\n",
    "    print(ep, t2-t1, train_mse, train_l2, test_l2)\n",
    "\n",
    "# torch.save(model, 'model/ns_fourier_burgers')\n",
    "\n",
    "# scipy.io.savemat('pred/burger_test.mat', mdict={'pred': pred.cpu().numpy()})\n"
   ]
  },
  {
   "cell_type": "code",
   "execution_count": 43,
   "id": "f65e9b9e",
   "metadata": {},
   "outputs": [],
   "source": [
    "net = NeuralNetClassifier(\n",
    "    model,\n",
    "    max_epochs=10,\n",
    "    lr=0.1,\n",
    "    # Shuffle training data on each epoch\n",
    "    iterator_train__shuffle=True,\n",
    ")"
   ]
  },
  {
   "cell_type": "code",
   "execution_count": 11,
   "id": "4bb96013",
   "metadata": {},
   "outputs": [
    {
     "data": {
      "text/plain": [
       "<matplotlib.legend.Legend at 0x1e2fe513dc0>"
      ]
     },
     "execution_count": 11,
     "metadata": {},
     "output_type": "execute_result"
    },
    {
     "data": {
      "image/png": "[encoded data removed]",
      "text/plain": [
       "<Figure size 432x288 with 1 Axes>"
      ]
     },
     "metadata": {
      "needs_background": "light"
     },
     "output_type": "display_data"
    }
   ],
   "source": [
    "plt.plot(train_losses, label='Training loss')\n",
    "plt.plot(test_losses, label='Test loss')\n",
    "plt.legend(frameon=False)"
   ]
  },
  {
   "cell_type": "code",
   "execution_count": 18,
   "id": "c347863a",
   "metadata": {},
   "outputs": [
    {
     "data": {
      "text/plain": [
       "0.08662327015399933"
      ]
     },
     "execution_count": 18,
     "metadata": {},
     "output_type": "execute_result"
    }
   ],
   "source": [
    "test_losses[-1]"
   ]
  },
  {
   "cell_type": "code",
   "execution_count": 12,
   "id": "416a2a44",
   "metadata": {},
   "outputs": [],
   "source": [
    "torch.save(model, 'fno_model.h5')"
   ]
  },
  {
   "cell_type": "code",
   "execution_count": 6,
   "id": "4ef7d439",
   "metadata": {},
   "outputs": [],
   "source": [
    "model = torch.load('fno_model.h5')"
   ]
  },
  {
   "cell_type": "code",
   "execution_count": 7,
   "id": "54185f3f",
   "metadata": {},
   "outputs": [],
   "source": [
    "test_num = 434"
   ]
  },
  {
   "cell_type": "code",
   "execution_count": 8,
   "id": "4af43ef5",
   "metadata": {},
   "outputs": [
    {
     "data": {
      "text/plain": [
       "<matplotlib.image.AxesImage at 0x1ce7d8ab880>"
      ]
     },
     "execution_count": 8,
     "metadata": {},
     "output_type": "execute_result"
    },
    {
     "data": {
      "image/png": "[encoded data removed]",
      "text/plain": [
       "<Figure size 432x288 with 1 Axes>"
      ]
     },
     "metadata": {
      "needs_background": "light"
     },
     "output_type": "display_data"
    }
   ],
   "source": [
    "#Prediction\n",
    "K = torch.unsqueeze(test_loader.dataset[test_num][0], 0).cuda()\n",
    "model.eval()\n",
    "predicted = np.reshape(model(K).detach().cpu().numpy(),(16,16))\n",
    "plt.imshow(predicted)"
   ]
  },
  {
   "cell_type": "code",
   "execution_count": 9,
   "id": "c44827bd",
   "metadata": {},
   "outputs": [
    {
     "data": {
      "text/plain": [
       "<matplotlib.image.AxesImage at 0x1ce39d9d5a0>"
      ]
     },
     "execution_count": 9,
     "metadata": {},
     "output_type": "execute_result"
    },
    {
     "data": {
      "image/png": "[encoded data removed]",
      "text/plain": [
       "<Figure size 432x288 with 1 Axes>"
      ]
     },
     "metadata": {
      "needs_background": "light"
     },
     "output_type": "display_data"
    }
   ],
   "source": [
    "#Actual\n",
    "acual_Out = test_loader.dataset[test_num][1]\n",
    "out = np.reshape(acual_Out.numpy(),(16,16))\n",
    "plt.imshow(out)"
   ]
  },
  {
   "cell_type": "code",
   "execution_count": 28,
   "id": "a2dd5700",
   "metadata": {},
   "outputs": [],
   "source": [
    "from skimage.metrics import structural_similarity as ssim\n",
    "from skimage.metrics import peak_signal_noise_ratio as psnr"
   ]
  },
  {
   "cell_type": "code",
   "execution_count": 27,
   "id": "6a4c4757",
   "metadata": {},
   "outputs": [
    {
     "data": {
      "text/plain": [
       "0.8948697036504746"
      ]
     },
     "execution_count": 27,
     "metadata": {},
     "output_type": "execute_result"
    }
   ],
   "source": [
    "ssim_values = ssim(out, predicted, data_range=predicted.max() - predicted.min())\n",
    "ssim_values"
   ]
  },
  {
   "cell_type": "code",
   "execution_count": 30,
   "id": "054da74c",
   "metadata": {},
   "outputs": [
    {
     "data": {
      "text/plain": [
       "24.041535142577256"
      ]
     },
     "execution_count": 30,
     "metadata": {},
     "output_type": "execute_result"
    }
   ],
   "source": [
    "psnr_values = psnr(out, predicted, data_range=predicted.max() - predicted.min())\n",
    "psnr_values"
   ]
  },
  {
   "cell_type": "code",
   "execution_count": 10,
   "id": "077214aa",
   "metadata": {},
   "outputs": [
    {
     "data": {
      "text/plain": [
       "0.003213705007029884"
      ]
     },
     "execution_count": 10,
     "metadata": {},
     "output_type": "execute_result"
    }
   ],
   "source": [
    "diff_image = predicted - out\n",
    "np.sqrt(np.sum(diff_image**2)/256)"
   ]
  },
  {
   "cell_type": "code",
   "execution_count": 15,
   "id": "07dfeb58",
   "metadata": {},
   "outputs": [],
   "source": [
    "from sewar.full_ref import rmse, uqi"
   ]
  },
  {
   "cell_type": "code",
   "execution_count": 31,
   "id": "99286ebb",
   "metadata": {},
   "outputs": [],
   "source": [
    "rms_values = []\n",
    "psnr_values = []\n",
    "ssim_values = []\n",
    "uqi_values = []\n",
    "\n",
    "for test_num in range(ntest):\n",
    "    K = torch.unsqueeze(test_loader.dataset[test_num][0], 0).cuda()\n",
    "    model.eval()\n",
    "    predicted_np = np.reshape(model(K).detach().cpu().numpy(),(16,16))\n",
    "\n",
    "    truth = test_loader.dataset[test_num][1]\n",
    "    truth_np = np.reshape(truth.numpy(),(16,16))\n",
    "\n",
    "    #diff_image = predicted - truth_np\n",
    "    #np.sqrt(np.sum(diff_image**2)/256)\n",
    "\n",
    "    rms_values.append(rmse(predicted_np, truth_np))\n",
    "    psnr_values.append(psnr(truth_np, predicted_np, data_range=predicted_np.max() - predicted_np.min()))\n",
    "    ssim_values.append(ssim(truth_np, predicted_np, data_range=predicted_np.max() - predicted_np.min()))\n",
    "    uqi_values.append(uqi(predicted_np, truth_np))"
   ]
  },
  {
   "cell_type": "code",
   "execution_count": 32,
   "id": "a241b73f",
   "metadata": {},
   "outputs": [
    {
     "name": "stdout",
     "output_type": "stream",
     "text": [
      "RMSE:  0.0023541291470087363\n",
      "PSNR:  27.468521709166044\n",
      "SSIM:  0.9153840425265811\n",
      "UQI:  0.9956912685207058\n"
     ]
    }
   ],
   "source": [
    "print(\"RMSE: \", sum(rms_values)/ len(rms_values))\n",
    "print(\"PSNR: \", sum(psnr_values)/ len(psnr_values))\n",
    "print(\"SSIM: \", sum(ssim_values)/ len(ssim_values))\n",
    "print(\"UQI: \", sum(uqi_values)/ len(uqi_values))"
   ]
  },
  {
   "cell_type": "code",
   "execution_count": 42,
   "id": "766ce5e7",
   "metadata": {},
   "outputs": [],
   "source": [
    "from sklearn.model_selection import GridSearchCV\n",
    "from skorch import NeuralNetClassifier\n"
   ]
  },
  {
   "cell_type": "code",
   "execution_count": 44,
   "id": "acb4e4fb",
   "metadata": {},
   "outputs": [
    {
     "ename": "BrokenProcessPool",
     "evalue": "A task has failed to un-serialize. Please ensure that the arguments of the function are all picklable.",
     "output_type": "error",
     "traceback": [
      "\u001b[1;31m---------------------------------------------------------------------------\u001b[0m",
      "\u001b[1;31m_RemoteTraceback\u001b[0m                          Traceback (most recent call last)",
      "\u001b[1;31m_RemoteTraceback\u001b[0m: \n\"\"\"\nTraceback (most recent call last):\n  File \"c:\\Users\\azhir\\anaconda3\\envs\\gundam\\lib\\site-packages\\joblib\\externals\\loky\\process_executor.py\", line 407, in _process_worker\n    call_item = call_queue.get(block=True, timeout=timeout)\n  File \"c:\\Users\\azhir\\anaconda3\\envs\\gundam\\lib\\multiprocessing\\queues.py\", line 122, in get\n    return _ForkingPickler.loads(res)\n  File \"c:\\Users\\azhir\\anaconda3\\envs\\gundam\\lib\\site-packages\\skorch\\__init__.py\", line 9, in <module>\n    from .history import History\n  File \"c:\\Users\\azhir\\anaconda3\\envs\\gundam\\lib\\site-packages\\skorch\\history.py\", line 5, in <module>\n    from skorch.utils import open_file_like\n  File \"c:\\Users\\azhir\\anaconda3\\envs\\gundam\\lib\\site-packages\\skorch\\utils.py\", line 19, in <module>\n    import torch\n  File \"c:\\Users\\azhir\\anaconda3\\envs\\gundam\\lib\\site-packages\\torch\\__init__.py\", line 126, in <module>\n    raise err\nOSError: [WinError 1455] The paging file is too small for this operation to complete. Error loading \"c:\\Users\\azhir\\anaconda3\\envs\\gundam\\lib\\site-packages\\torch\\lib\\shm.dll\" or one of its dependencies.\n\"\"\"",
      "\nThe above exception was the direct cause of the following exception:\n",
      "\u001b[1;31mBrokenProcessPool\u001b[0m                         Traceback (most recent call last)",
      "\u001b[1;32mc:\\Users\\azhir\\Documents\\mres_project_temp\\data_gen_dot\\final_code\\networks\\fourier_EiT2.ipynb Cell 27'\u001b[0m in \u001b[0;36m<cell line: 6>\u001b[1;34m()\u001b[0m\n\u001b[0;32m      <a href='vscode-notebook-cell:/c%3A/Users/azhir/Documents/mres_project_temp/data_gen_dot/final_code/networks/fourier_EiT2.ipynb#ch0000026?line=2'>3</a>\u001b[0m param_grid \u001b[39m=\u001b[39m \u001b[39mdict\u001b[39m(batch_size\u001b[39m=\u001b[39mbatch_size, epochs\u001b[39m=\u001b[39mepochs)\n\u001b[0;32m      <a href='vscode-notebook-cell:/c%3A/Users/azhir/Documents/mres_project_temp/data_gen_dot/final_code/networks/fourier_EiT2.ipynb#ch0000026?line=3'>4</a>\u001b[0m grid \u001b[39m=\u001b[39m GridSearchCV(estimator\u001b[39m=\u001b[39mnet, param_grid\u001b[39m=\u001b[39mparam_grid, n_jobs\u001b[39m=\u001b[39m\u001b[39m-\u001b[39m\u001b[39m1\u001b[39m, cv\u001b[39m=\u001b[39m\u001b[39m3\u001b[39m)\n\u001b[1;32m----> <a href='vscode-notebook-cell:/c%3A/Users/azhir/Documents/mres_project_temp/data_gen_dot/final_code/networks/fourier_EiT2.ipynb#ch0000026?line=5'>6</a>\u001b[0m grid_result \u001b[39m=\u001b[39m grid\u001b[39m.\u001b[39;49mfit(X, y)\n\u001b[0;32m      <a href='vscode-notebook-cell:/c%3A/Users/azhir/Documents/mres_project_temp/data_gen_dot/final_code/networks/fourier_EiT2.ipynb#ch0000026?line=7'>8</a>\u001b[0m \u001b[39m# summarize results\u001b[39;00m\n\u001b[0;32m      <a href='vscode-notebook-cell:/c%3A/Users/azhir/Documents/mres_project_temp/data_gen_dot/final_code/networks/fourier_EiT2.ipynb#ch0000026?line=8'>9</a>\u001b[0m \u001b[39mprint\u001b[39m(\u001b[39m\"\u001b[39m\u001b[39mBest: \u001b[39m\u001b[39m%f\u001b[39;00m\u001b[39m using \u001b[39m\u001b[39m%s\u001b[39;00m\u001b[39m\"\u001b[39m \u001b[39m%\u001b[39m (grid_result\u001b[39m.\u001b[39mbest_score_, grid_result\u001b[39m.\u001b[39mbest_params_))\n",
      "File \u001b[1;32mc:\\Users\\azhir\\anaconda3\\envs\\gundam\\lib\\site-packages\\sklearn\\model_selection\\_search.py:875\u001b[0m, in \u001b[0;36mBaseSearchCV.fit\u001b[1;34m(self, X, y, groups, **fit_params)\u001b[0m\n\u001b[0;32m    869\u001b[0m     results \u001b[39m=\u001b[39m \u001b[39mself\u001b[39m\u001b[39m.\u001b[39m_format_results(\n\u001b[0;32m    870\u001b[0m         all_candidate_params, n_splits, all_out, all_more_results\n\u001b[0;32m    871\u001b[0m     )\n\u001b[0;32m    873\u001b[0m     \u001b[39mreturn\u001b[39;00m results\n\u001b[1;32m--> 875\u001b[0m \u001b[39mself\u001b[39;49m\u001b[39m.\u001b[39;49m_run_search(evaluate_candidates)\n\u001b[0;32m    877\u001b[0m \u001b[39m# multimetric is determined here because in the case of a callable\u001b[39;00m\n\u001b[0;32m    878\u001b[0m \u001b[39m# self.scoring the return type is only known after calling\u001b[39;00m\n\u001b[0;32m    879\u001b[0m first_test_score \u001b[39m=\u001b[39m all_out[\u001b[39m0\u001b[39m][\u001b[39m\"\u001b[39m\u001b[39mtest_scores\u001b[39m\u001b[39m\"\u001b[39m]\n",
      "File \u001b[1;32mc:\\Users\\azhir\\anaconda3\\envs\\gundam\\lib\\site-packages\\sklearn\\model_selection\\_search.py:1375\u001b[0m, in \u001b[0;36mGridSearchCV._run_search\u001b[1;34m(self, evaluate_candidates)\u001b[0m\n\u001b[0;32m   1373\u001b[0m \u001b[39mdef\u001b[39;00m \u001b[39m_run_search\u001b[39m(\u001b[39mself\u001b[39m, evaluate_candidates):\n\u001b[0;32m   1374\u001b[0m     \u001b[39m\"\"\"Search all candidates in param_grid\"\"\"\u001b[39;00m\n\u001b[1;32m-> 1375\u001b[0m     evaluate_candidates(ParameterGrid(\u001b[39mself\u001b[39;49m\u001b[39m.\u001b[39;49mparam_grid))\n",
      "File \u001b[1;32mc:\\Users\\azhir\\anaconda3\\envs\\gundam\\lib\\site-packages\\sklearn\\model_selection\\_search.py:822\u001b[0m, in \u001b[0;36mBaseSearchCV.fit.<locals>.evaluate_candidates\u001b[1;34m(candidate_params, cv, more_results)\u001b[0m\n\u001b[0;32m    814\u001b[0m \u001b[39mif\u001b[39;00m \u001b[39mself\u001b[39m\u001b[39m.\u001b[39mverbose \u001b[39m>\u001b[39m \u001b[39m0\u001b[39m:\n\u001b[0;32m    815\u001b[0m     \u001b[39mprint\u001b[39m(\n\u001b[0;32m    816\u001b[0m         \u001b[39m\"\u001b[39m\u001b[39mFitting \u001b[39m\u001b[39m{0}\u001b[39;00m\u001b[39m folds for each of \u001b[39m\u001b[39m{1}\u001b[39;00m\u001b[39m candidates,\u001b[39m\u001b[39m\"\u001b[39m\n\u001b[0;32m    817\u001b[0m         \u001b[39m\"\u001b[39m\u001b[39m totalling \u001b[39m\u001b[39m{2}\u001b[39;00m\u001b[39m fits\u001b[39m\u001b[39m\"\u001b[39m\u001b[39m.\u001b[39mformat(\n\u001b[0;32m    818\u001b[0m             n_splits, n_candidates, n_candidates \u001b[39m*\u001b[39m n_splits\n\u001b[0;32m    819\u001b[0m         )\n\u001b[0;32m    820\u001b[0m     )\n\u001b[1;32m--> 822\u001b[0m out \u001b[39m=\u001b[39m parallel(\n\u001b[0;32m    823\u001b[0m     delayed(_fit_and_score)(\n\u001b[0;32m    824\u001b[0m         clone(base_estimator),\n\u001b[0;32m    825\u001b[0m         X,\n\u001b[0;32m    826\u001b[0m         y,\n\u001b[0;32m    827\u001b[0m         train\u001b[39m=\u001b[39;49mtrain,\n\u001b[0;32m    828\u001b[0m         test\u001b[39m=\u001b[39;49mtest,\n\u001b[0;32m    829\u001b[0m         parameters\u001b[39m=\u001b[39;49mparameters,\n\u001b[0;32m    830\u001b[0m         split_progress\u001b[39m=\u001b[39;49m(split_idx, n_splits),\n\u001b[0;32m    831\u001b[0m         candidate_progress\u001b[39m=\u001b[39;49m(cand_idx, n_candidates),\n\u001b[0;32m    832\u001b[0m         \u001b[39m*\u001b[39;49m\u001b[39m*\u001b[39;49mfit_and_score_kwargs,\n\u001b[0;32m    833\u001b[0m     )\n\u001b[0;32m    834\u001b[0m     \u001b[39mfor\u001b[39;49;00m (cand_idx, parameters), (split_idx, (train, test)) \u001b[39min\u001b[39;49;00m product(\n\u001b[0;32m    835\u001b[0m         \u001b[39menumerate\u001b[39;49m(candidate_params), \u001b[39menumerate\u001b[39;49m(cv\u001b[39m.\u001b[39;49msplit(X, y, groups))\n\u001b[0;32m    836\u001b[0m     )\n\u001b[0;32m    837\u001b[0m )\n\u001b[0;32m    839\u001b[0m \u001b[39mif\u001b[39;00m \u001b[39mlen\u001b[39m(out) \u001b[39m<\u001b[39m \u001b[39m1\u001b[39m:\n\u001b[0;32m    840\u001b[0m     \u001b[39mraise\u001b[39;00m \u001b[39mValueError\u001b[39;00m(\n\u001b[0;32m    841\u001b[0m         \u001b[39m\"\u001b[39m\u001b[39mNo fits were performed. \u001b[39m\u001b[39m\"\u001b[39m\n\u001b[0;32m    842\u001b[0m         \u001b[39m\"\u001b[39m\u001b[39mWas the CV iterator empty? \u001b[39m\u001b[39m\"\u001b[39m\n\u001b[0;32m    843\u001b[0m         \u001b[39m\"\u001b[39m\u001b[39mWere there no candidates?\u001b[39m\u001b[39m\"\u001b[39m\n\u001b[0;32m    844\u001b[0m     )\n",
      "File \u001b[1;32mc:\\Users\\azhir\\anaconda3\\envs\\gundam\\lib\\site-packages\\joblib\\parallel.py:1056\u001b[0m, in \u001b[0;36mParallel.__call__\u001b[1;34m(self, iterable)\u001b[0m\n\u001b[0;32m   1053\u001b[0m     \u001b[39mself\u001b[39m\u001b[39m.\u001b[39m_iterating \u001b[39m=\u001b[39m \u001b[39mFalse\u001b[39;00m\n\u001b[0;32m   1055\u001b[0m \u001b[39mwith\u001b[39;00m \u001b[39mself\u001b[39m\u001b[39m.\u001b[39m_backend\u001b[39m.\u001b[39mretrieval_context():\n\u001b[1;32m-> 1056\u001b[0m     \u001b[39mself\u001b[39;49m\u001b[39m.\u001b[39;49mretrieve()\n\u001b[0;32m   1057\u001b[0m \u001b[39m# Make sure that we get a last message telling us we are done\u001b[39;00m\n\u001b[0;32m   1058\u001b[0m elapsed_time \u001b[39m=\u001b[39m time\u001b[39m.\u001b[39mtime() \u001b[39m-\u001b[39m \u001b[39mself\u001b[39m\u001b[39m.\u001b[39m_start_time\n",
      "File \u001b[1;32mc:\\Users\\azhir\\anaconda3\\envs\\gundam\\lib\\site-packages\\joblib\\parallel.py:935\u001b[0m, in \u001b[0;36mParallel.retrieve\u001b[1;34m(self)\u001b[0m\n\u001b[0;32m    933\u001b[0m \u001b[39mtry\u001b[39;00m:\n\u001b[0;32m    934\u001b[0m     \u001b[39mif\u001b[39;00m \u001b[39mgetattr\u001b[39m(\u001b[39mself\u001b[39m\u001b[39m.\u001b[39m_backend, \u001b[39m'\u001b[39m\u001b[39msupports_timeout\u001b[39m\u001b[39m'\u001b[39m, \u001b[39mFalse\u001b[39;00m):\n\u001b[1;32m--> 935\u001b[0m         \u001b[39mself\u001b[39m\u001b[39m.\u001b[39m_output\u001b[39m.\u001b[39mextend(job\u001b[39m.\u001b[39;49mget(timeout\u001b[39m=\u001b[39;49m\u001b[39mself\u001b[39;49m\u001b[39m.\u001b[39;49mtimeout))\n\u001b[0;32m    936\u001b[0m     \u001b[39melse\u001b[39;00m:\n\u001b[0;32m    937\u001b[0m         \u001b[39mself\u001b[39m\u001b[39m.\u001b[39m_output\u001b[39m.\u001b[39mextend(job\u001b[39m.\u001b[39mget())\n",
      "File \u001b[1;32mc:\\Users\\azhir\\anaconda3\\envs\\gundam\\lib\\site-packages\\joblib\\_parallel_backends.py:542\u001b[0m, in \u001b[0;36mLokyBackend.wrap_future_result\u001b[1;34m(future, timeout)\u001b[0m\n\u001b[0;32m    539\u001b[0m \u001b[39m\"\"\"Wrapper for Future.result to implement the same behaviour as\u001b[39;00m\n\u001b[0;32m    540\u001b[0m \u001b[39mAsyncResults.get from multiprocessing.\"\"\"\u001b[39;00m\n\u001b[0;32m    541\u001b[0m \u001b[39mtry\u001b[39;00m:\n\u001b[1;32m--> 542\u001b[0m     \u001b[39mreturn\u001b[39;00m future\u001b[39m.\u001b[39;49mresult(timeout\u001b[39m=\u001b[39;49mtimeout)\n\u001b[0;32m    543\u001b[0m \u001b[39mexcept\u001b[39;00m CfTimeoutError \u001b[39mas\u001b[39;00m e:\n\u001b[0;32m    544\u001b[0m     \u001b[39mraise\u001b[39;00m \u001b[39mTimeoutError\u001b[39;00m \u001b[39mfrom\u001b[39;00m \u001b[39me\u001b[39;00m\n",
      "File \u001b[1;32mc:\\Users\\azhir\\anaconda3\\envs\\gundam\\lib\\concurrent\\futures\\_base.py:446\u001b[0m, in \u001b[0;36mFuture.result\u001b[1;34m(self, timeout)\u001b[0m\n\u001b[0;32m    444\u001b[0m     \u001b[39mraise\u001b[39;00m CancelledError()\n\u001b[0;32m    445\u001b[0m \u001b[39melif\u001b[39;00m \u001b[39mself\u001b[39m\u001b[39m.\u001b[39m_state \u001b[39m==\u001b[39m FINISHED:\n\u001b[1;32m--> 446\u001b[0m     \u001b[39mreturn\u001b[39;00m \u001b[39mself\u001b[39;49m\u001b[39m.\u001b[39;49m__get_result()\n\u001b[0;32m    447\u001b[0m \u001b[39melse\u001b[39;00m:\n\u001b[0;32m    448\u001b[0m     \u001b[39mraise\u001b[39;00m \u001b[39mTimeoutError\u001b[39;00m()\n",
      "File \u001b[1;32mc:\\Users\\azhir\\anaconda3\\envs\\gundam\\lib\\concurrent\\futures\\_base.py:391\u001b[0m, in \u001b[0;36mFuture.__get_result\u001b[1;34m(self)\u001b[0m\n\u001b[0;32m    389\u001b[0m \u001b[39mif\u001b[39;00m \u001b[39mself\u001b[39m\u001b[39m.\u001b[39m_exception:\n\u001b[0;32m    390\u001b[0m     \u001b[39mtry\u001b[39;00m:\n\u001b[1;32m--> 391\u001b[0m         \u001b[39mraise\u001b[39;00m \u001b[39mself\u001b[39m\u001b[39m.\u001b[39m_exception\n\u001b[0;32m    392\u001b[0m     \u001b[39mfinally\u001b[39;00m:\n\u001b[0;32m    393\u001b[0m         \u001b[39m# Break a reference cycle with the exception in self._exception\u001b[39;00m\n\u001b[0;32m    394\u001b[0m         \u001b[39mself\u001b[39m \u001b[39m=\u001b[39m \u001b[39mNone\u001b[39;00m\n",
      "\u001b[1;31mBrokenProcessPool\u001b[0m: A task has failed to un-serialize. Please ensure that the arguments of the function are all picklable."
     ]
    }
   ],
   "source": [
    "batch_size = [10, 50, 100, 200]\n",
    "epochs = [10, 50, 100]\n",
    "param_grid = dict(batch_size=batch_size, epochs=epochs)\n",
    "grid = GridSearchCV(estimator=net, param_grid=param_grid, n_jobs=-1, cv=3)\n",
    "\n",
    "grid_result = grid.fit(X, y)\n",
    "\n",
    "# summarize results\n",
    "print(\"Best: %f using %s\" % (grid_result.best_score_, grid_result.best_params_))\n",
    "means = grid_result.cv_results_['mean_test_score']\n",
    "stds = grid_result.cv_results_['std_test_score']\n",
    "params = grid_result.cv_results_['params']\n",
    "for mean, stdev, param in zip(means, stds, params):\n",
    "    print(\"%f (%f) with: %r\" % (mean, stdev, param))"
   ]
  }
 ],
 "metadata": {
  "kernelspec": {
   "display_name": "Python 3.10.4 ('gundam')",
   "language": "python",
   "name": "python3"
  },
  "language_info": {
   "codemirror_mode": {
    "name": "ipython",
    "version": 3
   },
   "file_extension": ".py",
   "mimetype": "text/x-python",
   "name": "python",
   "nbconvert_exporter": "python",
   "pygments_lexer": "ipython3",
   "version": "3.10.4"
  },
  "vscode": {
   "interpreter": {
    "hash": "cddc3d62f9a7e02ecb46a81ab11648d63c0573e5e13f25e036352996103f8463"
   }
  }
 },
 "nbformat": 4,
 "nbformat_minor": 5
}
