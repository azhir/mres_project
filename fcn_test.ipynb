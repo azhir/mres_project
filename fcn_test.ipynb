{
 "cells": [
  {
   "cell_type": "code",
   "execution_count": 4,
   "metadata": {},
   "outputs": [
    {
     "name": "stderr",
     "output_type": "stream",
     "text": [
      "c:\\Users\\azhir\\anaconda3\\envs\\gundam\\lib\\site-packages\\tqdm\\auto.py:22: TqdmWarning: IProgress not found. Please update jupyter and ipywidgets. See https://ipywidgets.readthedocs.io/en/stable/user_install.html\n",
      "  from .autonotebook import tqdm as notebook_tqdm\n"
     ]
    }
   ],
   "source": [
    "# initial set-up\n",
    "import numpy as np\n",
    "import torch\n",
    "import torch.nn as nn\n",
    "import torch.nn.functional as F\n",
    "from torch.nn.parameter import Parameter\n",
    "import matplotlib.pyplot as plt\n",
    "from sklearn.model_selection import train_test_split\n",
    "from torch.utils.data import Dataset, DataLoader, TensorDataset\n",
    "import operator\n",
    "from functools import reduce\n",
    "from functools import partial\n",
    "from timeit import default_timer\n",
    "from utilities3 import *\n",
    "\n",
    "from Adam import Adam\n",
    "from sewar.full_ref import rmse, uqi\n",
    "from skimage.metrics import structural_similarity as ssim\n",
    "from skimage.metrics import peak_signal_noise_ratio as psnr\n",
    "\n",
    "torch.manual_seed(0)\n",
    "np.random.seed(0)"
   ]
  },
  {
   "cell_type": "code",
   "execution_count": 5,
   "metadata": {},
   "outputs": [],
   "source": [
    "#  CONFIGURATIONS - HYPER PARAMETERS\n",
    "################################################################\n",
    "#  configurations - HYPER PARAMETERS\n",
    "################################################################\n",
    "epochs = 20\n",
    "batch_size = 10\n",
    "learning_rate = 0.001\n",
    "step_size = 50\n",
    "gamma = 0.5\n",
    "\n",
    "weight_decay=1e-4\n",
    "\n",
    "width = 400\n",
    "output_file_name = 'output_fcn_100.txt'\n",
    "# Hyperparameters to change - epoch{10,100,200}, step_size{}, batchsize{}, gamma{}, modes{}, weight_decay{}"
   ]
  },
  {
   "cell_type": "code",
   "execution_count": 13,
   "metadata": {},
   "outputs": [],
   "source": [
    "class FCN_sigma(nn.Module):\n",
    "    def __init__(self):\n",
    "        super(FCN_sigma, self).__init__()\n",
    "       \n",
    "        self.fc0 = nn.Linear(64, 500)\n",
    "        self.fc1 = nn.Linear(500, 500)\n",
    "        self.fc2 = nn.Linear(500, 256)\n",
    "\n",
    "    def forward(self, x):\n",
    "       \n",
    "        x = self.fc0(x)\n",
    "        x = F.relu(x)\n",
    "\n",
    "        x = self.fc1(x)\n",
    "        x = F.relu(x)\n",
    "\n",
    "        x = self.fc2(x)        \n",
    "        x = F.sigmoid(x)\n",
    "        return x\n",
    "\n",
    "\n",
    "\n",
    "\n",
    "\n",
    "#########################################################\n",
    "class FCN(nn.Module):\n",
    "    def __init__(self):\n",
    "        super(FCN, self).__init__()\n",
    "        self.fc0 = nn.Linear(64, 256)\n",
    "        \n",
    "    def forward(self, x):       \n",
    "        x = self.fc0(x)\n",
    "        x = F.sigmoid(x)\n",
    "        return x\n",
    "\n",
    "\n",
    "############################################################\n",
    "class FCN2(nn.Module):\n",
    "    def __init__(self):\n",
    "        super(FCN2, self).__init__()\n",
    "       \n",
    "        self.fc0 = nn.Linear(64, 400)\n",
    "        self.fc1 = nn.Linear(400, 256)\n",
    "\n",
    "    def forward(self, x):       \n",
    "        x = self.fc0(x)\n",
    "        x = F.relu(x)\n",
    "\n",
    "        x = self.fc1(x)\n",
    "        x = F.sigmoid(x)\n",
    "        return x\n",
    "\n",
    "\n",
    "##########################################################\n",
    "class FCN3(nn.Module):\n",
    "    def __init__(self):\n",
    "        super(FCN3, self).__init__()\n",
    "       \n",
    "        self.fc0 = nn.Linear(64, 400)\n",
    "        self.fc1 = nn.Linear(400, 400)\n",
    "        self.fc2 = nn.Linear(400, 256)\n",
    "\n",
    "    def forward(self, x):\n",
    "       \n",
    "        x = self.fc0(x)\n",
    "        x = F.relu(x)\n",
    "\n",
    "        x = self.fc1(x)\n",
    "        x = F.relu(x)\n",
    "\n",
    "        x = self.fc2(x)\n",
    "        x = F.sigmoid(x)\n",
    "        return x"
   ]
  },
  {
   "cell_type": "code",
   "execution_count": 7,
   "metadata": {},
   "outputs": [
    {
     "name": "stdout",
     "output_type": "stream",
     "text": [
      "training: measurement torch.Size([8000, 64]) solution torch.Size([8000, 256])\n",
      "test: measurement torch.Size([2000, 64]) solution torch.Size([2000, 256])\n"
     ]
    }
   ],
   "source": [
    "# DATA LOADING\n",
    "############################## DATA LOADING ########################################\n",
    "raw_data = scipy.io.loadmat('./datasets/complete_data')\n",
    "\n",
    "sol = np.asarray(raw_data['solution_data'])\n",
    "mes = np.asarray(raw_data['measurement_data'])\n",
    "\n",
    "\n",
    "def convert_data(data_x, data_y):\n",
    "    data_X = torch.from_numpy(data_x).float()\n",
    "    data_Y = torch.from_numpy(data_y).float()\n",
    "    return data_X, data_Y\n",
    "\n",
    "# we are solving the inverse problem, so going from measurements, to solutions\n",
    "X, y = convert_data(mes, sol)\n",
    "X_train, X_test, y_train, y_test = train_test_split(X, y, test_size=0.2, random_state=42)\n",
    "\n",
    "#y_normalizer = UnitGaussianNormalizer(y_train)\n",
    "#y_train = y_normalizer.encode(y_train)\n",
    "\n",
    "#x_normalizer = UnitGaussianNormalizer(X_train)\n",
    "#X_train = x_normalizer.encode(X_train)\n",
    "#X_test = x_normalizer.encode(X_test)\n",
    "\n",
    "\n",
    "#batch_size = 10\n",
    "#train_loader = DataLoader(data_utils.TensorDataset(X_train, Y_train), batch_size=batch_size, shuffle=True)\n",
    "train_dataset = TensorDataset( X_train, y_train )\n",
    "test_dataset = TensorDataset( X_test, y_test )\n",
    "\n",
    "train_loader = DataLoader(train_dataset, shuffle=True, batch_size=batch_size)\n",
    "test_loader = torch.utils.data.DataLoader(test_dataset, batch_size=batch_size, shuffle=False)\n",
    "\n",
    "ntrain = X_train.shape[0]\n",
    "ntest = X_test.shape[0]\n",
    "\n",
    "print('training: measurement', X_train.shape, 'solution', y_train.shape)\n",
    "print('test: measurement', X_test.shape, 'solution', y_test.shape)"
   ]
  },
  {
   "cell_type": "code",
   "execution_count": 8,
   "metadata": {},
   "outputs": [],
   "source": [
    "# MODEL METRICS\n",
    "###################################\n",
    "# MODEL METRICS\n",
    "###################################\n",
    "def model_metrics(model,test_loader,ntrain):\n",
    "    rms_values, psnr_values, ssim_values, uqi_values = [], [], [], []\n",
    "\n",
    "    for test_num in range(ntest):\n",
    "        K = torch.unsqueeze(test_loader.dataset[test_num][0], 0).cuda()\n",
    "        model.eval()\n",
    "\n",
    "        predicted_np = np.reshape(model(K).detach().cpu().numpy(),(16,16))\n",
    "\n",
    "        truth = test_loader.dataset[test_num][1]\n",
    "        truth_np = np.reshape(truth.numpy(),(16,16))\n",
    "\n",
    "        #diff_image = predicted - truth_np\n",
    "        #np.sqrt(np.sum(diff_image**2)/256)\n",
    "\n",
    "        rms_values.append(rmse(predicted_np, truth_np))\n",
    "        psnr_values.append(psnr(truth_np, predicted_np, data_range=predicted_np.max() - predicted_np.min()))\n",
    "        ssim_values.append(ssim(truth_np, predicted_np, data_range=predicted_np.max() - predicted_np.min()))\n",
    "        uqi_values.append(uqi(predicted_np, truth_np))\n",
    "\n",
    "    model_rms = sum(rms_values)/ len(rms_values)\n",
    "    std_rms = np.std(np.array(rms_values))\n",
    "\n",
    "    model_psnr = sum(psnr_values)/ len(psnr_values)\n",
    "    std_psnr = np.std(np.array(psnr_values))\n",
    "\n",
    "    model_ssim = sum(ssim_values)/ len(ssim_values)\n",
    "    std_ssim = np.std(np.array(ssim_values))\n",
    "\n",
    "    model_uqi = sum(uqi_values)/ len(uqi_values)\n",
    "    std_uqi = np.std(np.array(uqi_values))\n",
    "\n",
    "\n",
    "    print(\"RMSE: \", round(model_rms,5), round(std_rms,5), sep=\"---\")\n",
    "    print(\"PSNR: \", round(model_psnr,5), round(std_psnr,5), sep=\"---\")\n",
    "    print(\"SSIM: \", round(model_ssim,5), round(std_ssim,5), sep=\"---\")\n",
    "    #print(\"UQI: \", model_uqi, std_uqi, sep=\"---\")\n",
    "\n",
    "\n",
    "    output = {\n",
    "    \"rms\": rms_values,\n",
    "    \"psnr\": psnr_values,\n",
    "    \"ssim\": ssim_values,\n",
    "    \"uqi\": uqi_values,\n",
    "    # average values\n",
    "    'model_rms': [round(model_rms,5),round(std_rms,5)],\n",
    "    'model_psnr': [round(model_psnr,5),round(std_psnr,5)],\n",
    "    'model_ssim': [round(model_ssim,5),round(std_ssim,5)]\n",
    "    }\n",
    "    return output "
   ]
  },
  {
   "cell_type": "code",
   "execution_count": 9,
   "metadata": {},
   "outputs": [],
   "source": [
    "# TRAINING AND EVALUATION\n",
    "################################################################\n",
    "# TRAINING AND EVALUATION\n",
    "################################################################\n",
    "\n",
    "\n",
    "def train_model(model, epochs, batch_size, learning_rate, weight_decay, step_size, gamma):\n",
    "    optimizer = Adam(model.parameters(), lr=learning_rate, weight_decay=weight_decay)\n",
    "    scheduler = torch.optim.lr_scheduler.StepLR(optimizer, step_size=step_size, gamma=gamma)\n",
    "    train_losses, test_losses, epoch_time = [], [], []\n",
    "\n",
    "    myloss = LpLoss(size_average=False)\n",
    "    for ep in range(epochs):\n",
    "        model.train()\n",
    "        t1 = default_timer()\n",
    "        train_mse = 0\n",
    "        train_l2 = 0\n",
    "        total_time = 0\n",
    "        for x, y in train_loader:\n",
    "            x, y = x.cuda(), y.cuda()\n",
    "\n",
    "            optimizer.zero_grad()\n",
    "            #print('in: ',x.shape)\n",
    "            out = model(x)\n",
    "            #print('out: ',out.shape)\n",
    "\n",
    "            mse = F.mse_loss(out.view(batch_size, -1), y.view(batch_size, -1), reduction='mean')\n",
    "            l2 = myloss(out.view(batch_size, -1), y.view(batch_size, -1))\n",
    "            l2.backward() # use the l2 relative loss\n",
    "\n",
    "            optimizer.step()\n",
    "            train_mse += mse.item()\n",
    "            train_l2 += l2.item()\n",
    "\n",
    "        scheduler.step()\n",
    "        model.eval()\n",
    "        test_l2 = 0.0\n",
    "        with torch.no_grad():\n",
    "            for x, y in test_loader:\n",
    "                x, y = x.cuda(), y.cuda()\n",
    "\n",
    "                out = model(x)\n",
    "                test_l2 += myloss(out.view(batch_size, -1), y.view(batch_size, -1)).item()\n",
    "\n",
    "        #train_mse /= len(train_loader)\n",
    "        train_l2 /= ntrain\n",
    "        train_losses.append(train_l2)\n",
    "        test_l2 /= ntest\n",
    "        test_losses.append(test_l2)\n",
    "\n",
    "\n",
    "        t2 = default_timer()\n",
    "        epoch_time.append(t2 - t1)\n",
    "\n",
    "        print(ep, t2 - t1, train_l2, test_l2)\n",
    "    total_time = sum(epoch_time)\n",
    "    print(\"TOTAL TIME: \", round(total_time,2), sep=\"---\")\n",
    "\n",
    "    output = {\n",
    "    \"train_losses\": train_losses,\n",
    "    \"test_losses\": test_losses,\n",
    "    \"epoch_time\": epoch_time,\n",
    "    \"training_time\": total_time,\n",
    "    \"model\": model\n",
    "    }\n",
    "    return output "
   ]
  },
  {
   "cell_type": "code",
   "execution_count": 10,
   "metadata": {},
   "outputs": [
    {
     "data": {
      "text/plain": [
       "<matplotlib.colorbar.Colorbar at 0x1d126579690>"
      ]
     },
     "execution_count": 10,
     "metadata": {},
     "output_type": "execute_result"
    },
    {
     "data": {
      "image/png": "[encoded data removed]",
      "text/plain": [
       "<Figure size 432x288 with 2 Axes>"
      ]
     },
     "metadata": {
      "needs_background": "light"
     },
     "output_type": "display_data"
    }
   ],
   "source": [
    "#Actual\n",
    "test_num = 434\n",
    "truth_out = test_loader.dataset[test_num][1]\n",
    "plt.imshow(np.reshape(truth_out.numpy(),(16,16)))\n",
    "plt.colorbar()"
   ]
  },
  {
   "cell_type": "code",
   "execution_count": 8,
   "metadata": {},
   "outputs": [
    {
     "data": {
      "text/plain": [
       "torch.Size([64])"
      ]
     },
     "execution_count": 8,
     "metadata": {},
     "output_type": "execute_result"
    }
   ],
   "source": [
    "test_loader.dataset[test_num][0].shape "
   ]
  },
  {
   "cell_type": "code",
   "execution_count": 9,
   "metadata": {},
   "outputs": [],
   "source": [
    "\n",
    "with open(output_file_name, 'w') as output:\n",
    "    output.write('textbf{No of Layers} & textbf{Width} & textbf{No of Parameters} & textbf{Training Time /sec} & textbf{RMSE} & textbf{PSNR} & textbf{SSIM} \\n')\n"
   ]
  },
  {
   "cell_type": "code",
   "execution_count": 10,
   "metadata": {},
   "outputs": [
    {
     "data": {
      "text/plain": [
       "' \\n# ONE LAYER\\n############################################################################\\n\\nmodel_fcn1 = FCN().cuda()\\nno_param1 = count_params(model_fcn1)\\nprint(no_param1)\\noutput1 = train_model(model_fcn1, 20, batch_size, learning_rate, weight_decay, step_size, gamma)\\ntimeL1  = round(output1.get(\\'training_time\\'),2)\\n\\n\\noutput1_model = output1.get(\"model\")\\n#torch.save(output_1L_model, \\'fno2D_1l.h5\\')\\nresultsL1 = model_metrics(output1_model,test_loader,ntrain)\\n\\n# TEST NETWORK RESULTS\\n############################################################################\\nK = torch.unsqueeze(test_loader.dataset[test_num][0], 0).cuda()\\noutput1_model.eval()\\npredicted = np.reshape(output1_model(K).detach().cpu().numpy(),(16,16))\\nplt.imshow(predicted)\\nplt.colorbar()\\n'"
      ]
     },
     "execution_count": 10,
     "metadata": {},
     "output_type": "execute_result"
    }
   ],
   "source": [
    "''' \n",
    "# ONE LAYER\n",
    "############################################################################\n",
    "\n",
    "model_fcn1 = FCN().cuda()\n",
    "no_param1 = count_params(model_fcn1)\n",
    "print(no_param1)\n",
    "output1 = train_model(model_fcn1, 20, batch_size, learning_rate, weight_decay, step_size, gamma)\n",
    "timeL1  = round(output1.get('training_time'),2)\n",
    "\n",
    "\n",
    "output1_model = output1.get(\"model\")\n",
    "#torch.save(output_1L_model, 'fno2D_1l.h5')\n",
    "resultsL1 = model_metrics(output1_model,test_loader,ntrain)\n",
    "\n",
    "# TEST NETWORK RESULTS\n",
    "############################################################################\n",
    "K = torch.unsqueeze(test_loader.dataset[test_num][0], 0).cuda()\n",
    "output1_model.eval()\n",
    "predicted = np.reshape(output1_model(K).detach().cpu().numpy(),(16,16))\n",
    "plt.imshow(predicted)\n",
    "plt.colorbar()\n",
    "'''"
   ]
  },
  {
   "cell_type": "code",
   "execution_count": 11,
   "metadata": {},
   "outputs": [
    {
     "data": {
      "text/plain": [
       "\" \\n# Open a file with access mode 'a'\\nfile_object = open('output.txt', 'a')\\n# Append 'hello' at the end of file\\ninfo1 = '1 & ' + 'none*' + ' & ' + str(no_param1) + ' & ' + str(timeL1) + ' & '\\ninfo2 = str(resultsL1.get('model_rms')[0]) + ' \\\\ textpm ' + str(resultsL1.get('model_rms')[1]) + '  &  ' + str(resultsL1.get('model_psnr')[0]) + ' \\\\ textpm ' + str(resultsL1.get('model_psnr')[1]) + '  &  ' + str(resultsL1.get('model_ssim')[0]) + ' \\\\ textpm ' + str(resultsL1.get('model_ssim')[1]) + '\\n'\\nfile_object.write(info1 + info2)\\n\\n# Close the file\\nfile_object.close()\\n\\n\""
      ]
     },
     "execution_count": 11,
     "metadata": {},
     "output_type": "execute_result"
    }
   ],
   "source": [
    "''' \n",
    "# Open a file with access mode 'a'\n",
    "file_object = open('output.txt', 'a')\n",
    "# Append 'hello' at the end of file\n",
    "info1 = '1 & ' + 'none*' + ' & ' + str(no_param1) + ' & ' + str(timeL1) + ' & '\n",
    "info2 = str(resultsL1.get('model_rms')[0]) + ' \\ textpm ' + str(resultsL1.get('model_rms')[1]) + '  &  ' + str(resultsL1.get('model_psnr')[0]) + ' \\ textpm ' + str(resultsL1.get('model_psnr')[1]) + '  &  ' + str(resultsL1.get('model_ssim')[0]) + ' \\ textpm ' + str(resultsL1.get('model_ssim')[1]) + '\\n'\n",
    "file_object.write(info1 + info2)\n",
    "\n",
    "# Close the file\n",
    "file_object.close()\n",
    "\n",
    "'''"
   ]
  },
  {
   "cell_type": "code",
   "execution_count": 11,
   "metadata": {},
   "outputs": [
    {
     "name": "stdout",
     "output_type": "stream",
     "text": [
      "128656\n"
     ]
    },
    {
     "name": "stderr",
     "output_type": "stream",
     "text": [
      "c:\\Users\\azhir\\anaconda3\\envs\\gundam\\lib\\site-packages\\torch\\nn\\functional.py:1944: UserWarning: nn.functional.sigmoid is deprecated. Use torch.sigmoid instead.\n",
      "  warnings.warn(\"nn.functional.sigmoid is deprecated. Use torch.sigmoid instead.\")\n"
     ]
    },
    {
     "name": "stdout",
     "output_type": "stream",
     "text": [
      "0 3.197155199944973 0.9119410774111748 0.7521727843284607\n",
      "1 1.6431064999196678 0.575157448232174 0.296885752081871\n",
      "2 1.5764730999944732 0.2242545426338911 0.18706919527053834\n",
      "3 1.6207447999622673 0.16769941971451044 0.1536287080645561\n",
      "4 1.6829776000231504 0.1576163707524538 0.13855916517972947\n",
      "5 1.591161899967119 0.14765839265286923 0.13531669068336488\n",
      "6 1.5701330000301823 0.14247638905793428 0.18413459461927414\n",
      "7 1.5962349999463186 0.14197741666436195 0.14153910583257676\n",
      "8 1.5230751000344753 0.13944823931157588 0.1350480511188507\n",
      "9 1.584695199970156 0.13691485399752856 0.1592027051448822\n",
      "10 1.6564148999750614 0.13707302509248256 0.15944594019651412\n",
      "11 1.5336395999183878 0.13429278789460658 0.1306845116019249\n",
      "12 1.5617027999833226 0.1340274101793766 0.1461604592204094\n",
      "13 1.5753542000893503 0.132887466609478 0.13465478706359862\n",
      "14 1.6040580000262707 0.13206025048345327 0.13380742114782335\n",
      "15 1.428711700020358 0.1318327595293522 0.12624918386340142\n",
      "16 1.6081125000491738 0.13077936578541993 0.1253791929781437\n",
      "17 1.6228412999771535 0.1296651113331318 0.15195512223243712\n",
      "18 1.5840763000305742 0.12987967051565646 0.12688595110177994\n",
      "19 1.617366399965249 0.12859109593182802 0.12364518421888351\n",
      "TOTAL TIME: ---33.38\n",
      "RMSE: ---0.00334---0.0015\n",
      "PSNR: ---23.83111---2.74431\n",
      "SSIM: ---0.83015---0.03948\n"
     ]
    },
    {
     "data": {
      "text/plain": [
       "<matplotlib.colorbar.Colorbar at 0x1d139c44550>"
      ]
     },
     "execution_count": 11,
     "metadata": {},
     "output_type": "execute_result"
    },
    {
     "data": {
      "image/png": "[encoded data removed]",
      "text/plain": [
       "<Figure size 432x288 with 2 Axes>"
      ]
     },
     "metadata": {
      "needs_background": "light"
     },
     "output_type": "display_data"
    }
   ],
   "source": [
    "# TWO LAYER\n",
    "############################################################################\n",
    "model_fcn2 = FCN2().cuda()\n",
    "no_param2 = count_params(model_fcn2)\n",
    "print(no_param2)\n",
    "output2 = train_model(model_fcn2, 20, batch_size, learning_rate, weight_decay, step_size, gamma)\n",
    "output2_model = output2.get(\"model\")\n",
    "\n",
    "\n",
    "timeL2  = round(output2.get('training_time'),2)\n",
    "resultsL2 = model_metrics(output2_model,test_loader,ntrain)\n",
    "\n",
    "\n",
    "#torch.save(output_1L_model, 'fno2D_1l.h5')\n",
    "\n",
    "# TEST NETWORK RESULTS\n",
    "############################################################################\n",
    "K = torch.unsqueeze(test_loader.dataset[test_num][0], 0).cuda()\n",
    "output2_model.eval()\n",
    "predicted = np.reshape(output2_model(K).detach().cpu().numpy(),(16,16))\n",
    "plt.imshow(predicted)\n",
    "plt.colorbar()"
   ]
  },
  {
   "cell_type": "code",
   "execution_count": 12,
   "metadata": {},
   "outputs": [],
   "source": [
    "# Open a file with access mode 'a'\n",
    "file_object = open(output_file_name, 'a')\n",
    "# Append 'hello' at the end of file\n",
    "info1 = '2 & ' + str(width) + ' & ' + str(no_param2) + ' & ' + str(timeL2) + ' & '\n",
    "info2 = str(resultsL2.get('model_rms')[0]) + ' \\ textpm ' + str(resultsL2.get('model_rms')[1]) + '  &  ' + str(resultsL2.get('model_psnr')[0]) + ' \\ textpm ' + str(resultsL2.get('model_psnr')[1]) + '  &  ' + str(resultsL2.get('model_ssim')[0]) + ' \\ textpm ' + str(resultsL2.get('model_ssim')[1]) + '\\n'\n",
    "file_object.write(info1 + info2)\n",
    "\n",
    "# Close the file\n",
    "file_object.close()"
   ]
  },
  {
   "cell_type": "code",
   "execution_count": 14,
   "metadata": {},
   "outputs": [
    {
     "name": "stdout",
     "output_type": "stream",
     "text": [
      "289056\n",
      "0 2.2135635999729857 0.939951595723629 0.49452982091903686\n",
      "1 2.0449315999867395 0.282130237787962 0.21305916839838027\n",
      "2 2.0410994000267237 0.20313525448739528 0.1775503379702568\n",
      "3 2.085913799935952 0.1786620838344097 0.1601683583855629\n",
      "4 2.01488979998976 0.16419396424293517 0.1491869422197342\n",
      "5 2.131561900023371 0.15682946875691414 0.14852228730916978\n",
      "6 2.0743433999596164 0.15018903087824584 0.14965168815851213\n",
      "7 2.0270866999635473 0.14708281724154948 0.14080936497449875\n",
      "8 2.062727899989113 0.14559601406008005 0.13945918619632722\n",
      "9 2.040704199927859 0.1423572358340025 0.15912907946109772\n",
      "10 2.046419500024058 0.14211763389408588 0.13027481922507286\n",
      "11 1.9834735000040382 0.1391742772012949 0.13581470876932145\n",
      "12 2.0307451999979094 0.13770953357964755 0.14209034216403962\n",
      "13 2.045580300036818 0.13662788850814103 0.14564795672893524\n",
      "14 2.0786774998996407 0.13727646717429162 0.14688783699274063\n",
      "15 2.05497979989741 0.13373088172823192 0.12841226172447204\n",
      "16 2.023143899976276 0.13317721895873547 0.13824116027355193\n",
      "17 2.091274500009604 0.13357085981220007 0.12579975539445878\n",
      "18 2.1640494000166655 0.13275507009774445 0.1254272494316101\n",
      "19 2.0268158999970183 0.1308270792812109 0.1389662815928459\n",
      "TOTAL TIME: ---41.28\n",
      "RMSE: ---0.00372---0.00145\n",
      "PSNR: ---22.07932---2.12344\n",
      "SSIM: ---0.80674---0.04839\n"
     ]
    },
    {
     "data": {
      "text/plain": [
       "<matplotlib.colorbar.Colorbar at 0x1d139a7d0c0>"
      ]
     },
     "execution_count": 14,
     "metadata": {},
     "output_type": "execute_result"
    },
    {
     "data": {
      "image/png": "[encoded data removed]",
      "text/plain": [
       "<Figure size 432x288 with 2 Axes>"
      ]
     },
     "metadata": {
      "needs_background": "light"
     },
     "output_type": "display_data"
    }
   ],
   "source": [
    "# THREE LAYER\n",
    "############################################################################\n",
    "\n",
    "model_fcn3 = FCN3().cuda()\n",
    "no_param3 = count_params(model_fcn3)\n",
    "print(no_param3)\n",
    "\n",
    "output3 = train_model(model_fcn3, 20, batch_size, learning_rate, weight_decay, step_size, gamma)\n",
    "timeL3  = round(output3.get('training_time'),2)\n",
    "\n",
    "output3_model = output3.get(\"model\")\n",
    "#torch.save(output_1L_model, 'fno2D_1l.h5')\n",
    "resultsL3 = model_metrics(output3_model,test_loader,ntrain)\n",
    "\n",
    "# TEST NETWORK RESULTS\n",
    "############################################################################\n",
    "K = torch.unsqueeze(test_loader.dataset[test_num][0], 0).cuda()\n",
    "output3_model.eval()\n",
    "predicted = np.reshape(output3_model(K).detach().cpu().numpy(),(16,16))\n",
    "plt.imshow(predicted)\n",
    "plt.colorbar()"
   ]
  },
  {
   "cell_type": "code",
   "execution_count": 15,
   "metadata": {},
   "outputs": [],
   "source": [
    "# Open a file with access mode 'a'\n",
    "file_object = open(output_file_name, 'a')\n",
    "# Append 'hello' at the end of file\n",
    "info1 = '3 & ' + str(width) + ' & ' + str(no_param3) + ' & ' + str(timeL3) + ' & '\n",
    "info2 = str(resultsL3.get('model_rms')[0]) + ' \\ textpm ' + str(resultsL3.get('model_rms')[1]) + '  &  ' + str(resultsL3.get('model_psnr')[0]) + ' \\ textpm ' + str(resultsL3.get('model_psnr')[1]) + '  &  ' + str(resultsL3.get('model_ssim')[0]) + ' \\ textpm ' + str(resultsL3.get('model_ssim')[1]) + '\\n'\n",
    "file_object.write(info1 + info2)\n",
    "\n",
    "# Close the file\n",
    "file_object.close()"
   ]
  },
  {
   "cell_type": "markdown",
   "metadata": {},
   "source": [
    "# OTHER STUFF"
   ]
  },
  {
   "cell_type": "code",
   "execution_count": 16,
   "metadata": {},
   "outputs": [
    {
     "ename": "NameError",
     "evalue": "name 'output_sigma_model' is not defined",
     "output_type": "error",
     "traceback": [
      "\u001b[1;31m---------------------------------------------------------------------------\u001b[0m",
      "\u001b[1;31mNameError\u001b[0m                                 Traceback (most recent call last)",
      "\u001b[1;32mc:\\Users\\azhir\\Desktop\\final_results\\fcn_test.ipynb Cell 17\u001b[0m in \u001b[0;36m<cell line: 5>\u001b[1;34m()\u001b[0m\n\u001b[0;32m      <a href='vscode-notebook-cell:/c%3A/Users/azhir/Desktop/final_results/fcn_test.ipynb#X12sZmlsZQ%3D%3D?line=4'>5</a>\u001b[0m \u001b[39mfor\u001b[39;00m test_num \u001b[39min\u001b[39;00m \u001b[39mrange\u001b[39m(\u001b[39m2000\u001b[39m):\n\u001b[0;32m      <a href='vscode-notebook-cell:/c%3A/Users/azhir/Desktop/final_results/fcn_test.ipynb#X12sZmlsZQ%3D%3D?line=5'>6</a>\u001b[0m     K \u001b[39m=\u001b[39m torch\u001b[39m.\u001b[39munsqueeze(test_loader\u001b[39m.\u001b[39mdataset[test_num][\u001b[39m0\u001b[39m], \u001b[39m0\u001b[39m)\u001b[39m.\u001b[39mcuda()\n\u001b[1;32m----> <a href='vscode-notebook-cell:/c%3A/Users/azhir/Desktop/final_results/fcn_test.ipynb#X12sZmlsZQ%3D%3D?line=6'>7</a>\u001b[0m     output_sigma_model\u001b[39m.\u001b[39meval()\n\u001b[0;32m      <a href='vscode-notebook-cell:/c%3A/Users/azhir/Desktop/final_results/fcn_test.ipynb#X12sZmlsZQ%3D%3D?line=7'>8</a>\u001b[0m     predicted \u001b[39m=\u001b[39m np\u001b[39m.\u001b[39mreshape(output_sigma_model(K)\u001b[39m.\u001b[39mdetach()\u001b[39m.\u001b[39mcpu()\u001b[39m.\u001b[39mnumpy(),(\u001b[39m16\u001b[39m,\u001b[39m16\u001b[39m))\n\u001b[0;32m     <a href='vscode-notebook-cell:/c%3A/Users/azhir/Desktop/final_results/fcn_test.ipynb#X12sZmlsZQ%3D%3D?line=9'>10</a>\u001b[0m stop \u001b[39m=\u001b[39m timeit\u001b[39m.\u001b[39mdefault_timer()\n",
      "\u001b[1;31mNameError\u001b[0m: name 'output_sigma_model' is not defined"
     ]
    }
   ],
   "source": [
    "# Inference test\n",
    "import timeit\n",
    "\n",
    "start = timeit.default_timer()\n",
    "for test_num in range(2000):\n",
    "    K = torch.unsqueeze(test_loader.dataset[test_num][0], 0).cuda()\n",
    "    output_sigma_model.eval()\n",
    "    predicted = np.reshape(output_sigma_model(K).detach().cpu().numpy(),(16,16))\n",
    "    \n",
    "stop = timeit.default_timer()\n",
    "print('Time: ', stop - start) \n"
   ]
  },
  {
   "cell_type": "code",
   "execution_count": null,
   "metadata": {},
   "outputs": [],
   "source": [
    "'''\n",
    "3 LAYERS, 100 between layers \n",
    "TOTAL TIME: ---41.235324100009166\n",
    "RMSE: ---0.0036905181528051408---0.0016030583832068695 \\n\n",
    "PSNR: ---22.192018796148748---2.4898589131934084 \\n\n",
    "SSIM: ---0.8061080868645687---0.04830101196953558 \\n\n",
    "UQI: ---0.9881714888559991---0.00820526242779294 \\n\n",
    "\n",
    "2 Layers, 300 between layers\n",
    "TOTAL TIME: ---31.88879379998616\n",
    "RMSE: ---0.003442944375075244---0.0014584607390701226\n",
    "PSNR: ---23.53519948358796---2.3388028309876634\n",
    "SSIM: ---0.8161173935399294---0.04641244210837502\n",
    "UQI: ---0.9909905319520759---0.005908317355641168\n",
    "'''"
   ]
  },
  {
   "cell_type": "code",
   "execution_count": null,
   "metadata": {},
   "outputs": [],
   "source": [
    "# No Activation - TEST NETWORK\n",
    "############################################################################\n",
    "\n",
    "model_fcn_sigma = FCN_lin().cuda()\n",
    "print(count_params(model_fcn_sigma))\n",
    "output_sigma = train_model(model_fcn_sigma, 20, batch_size, learning_rate, weight_decay, step_size, gamma)\n",
    "\n",
    "output_sigma_model = output_sigma.get(\"model\")\n",
    "#torch.save(output_1L_model, 'fno2D_1l.h5')\n",
    "results_linear = model_metrics(output_sigma_model,test_loader,ntrain)\n",
    "\n",
    "# TEST NETWORK RESULTS\n",
    "############################################################################\n",
    "K = torch.unsqueeze(test_loader.dataset[test_num][0], 0).cuda()\n",
    "output_sigma_model.eval()\n",
    "predicted = np.reshape(output_sigma_model(K).detach().cpu().numpy(),(16,16))\n",
    "plt.imshow(predicted)\n",
    "plt.colorbar()"
   ]
  },
  {
   "cell_type": "code",
   "execution_count": null,
   "metadata": {},
   "outputs": [],
   "source": [
    "\n",
    "# SOFTMAX - TEST NETWORK\n",
    "############################################################################\n",
    "\n",
    "model_softmax = FCN_softmax().cuda()\n",
    "print(count_params(model_softmax))\n",
    "output_softmax = train_model(model_softmax, 20, batch_size, learning_rate, weight_decay, step_size, gamma)\n",
    "\n",
    "output_softmax_model = output_softmax.get(\"model\")\n",
    "#torch.save(output_1L_model, 'fno2D_1l.h5')\n",
    "results_softmax = model_metrics(output_softmax_model,test_loader,ntrain)\n",
    "\n",
    "# TEST NETWORK RESULTS\n",
    "############################################################################\n",
    "K = torch.unsqueeze(test_loader.dataset[test_num][0], 0).cuda()\n",
    "output_softmax_model.eval()\n",
    "predicted = np.reshape(output_softmax_model(K).detach().cpu().numpy(),(16,16))\n",
    "plt.imshow(predicted)\n",
    "plt.colorbar()"
   ]
  },
  {
   "cell_type": "code",
   "execution_count": null,
   "metadata": {},
   "outputs": [],
   "source": [
    "#plt.plot(output_1L.get('train_losses')[5:20], label='1 fourier layer')\n",
    "plt.plot(range(5,20),output_1L.get('train_losses')[5:20], label='2 fourier layers')\n",
    "#plt.yscale('log')\n",
    "plt.xlabel('epoch')\n",
    "plt.ylabel('RMSE')\n",
    "plt.legend(frameon=False)"
   ]
  },
  {
   "cell_type": "markdown",
   "metadata": {},
   "source": [
    "# Analysing performance"
   ]
  },
  {
   "cell_type": "code",
   "execution_count": null,
   "metadata": {},
   "outputs": [],
   "source": [
    "# Models\n",
    "#############################################################################\n",
    "model = model_fcn_sigma\n",
    "results =  results_sigma\n"
   ]
  },
  {
   "cell_type": "code",
   "execution_count": null,
   "metadata": {},
   "outputs": [],
   "source": [
    "metric_type = 'ssim'         # can be the following rms, ssim, psnr\n",
    "\n",
    "fig1, ax1 = plt.subplots()\n",
    "red_cross = dict(markerfacecolor='r', marker='x')\n",
    "data = (results.get(metric_type))\n",
    "\n",
    "ax1.boxplot(data, vert=False, flierprops=red_cross)\n",
    "plt.xlabel(metric_type)\n",
    "plt.show"
   ]
  },
  {
   "cell_type": "code",
   "execution_count": null,
   "metadata": {},
   "outputs": [],
   "source": [
    "# Create outlier range\n",
    "q75, q25 = np.percentile(data, [75 ,25])\n",
    "iqr = q75 - q25\n",
    "outliers = [q25-1.5*iqr,q75+1.5*iqr]\n",
    "\n",
    "# zip data\n",
    "data_no = range(len(data))\n",
    "listed_data = zip(data_no,data)\n",
    "\n",
    "data_list = list(listed_data)\n",
    "\n",
    "\n",
    "\n",
    "print('outliers are anything below ',outliers[0],' or above ',outliers[1])\n",
    "\n",
    "outlier_list = []\n",
    "for i in range(len(data)):\n",
    "    if data_list[i][1] < outliers[0]:\n",
    "        outlier_list.append(data_list[i])\n",
    "    elif data_list[i][1] > outliers[1]:\n",
    "        outlier_list.append(data_list[i])\n"
   ]
  },
  {
   "cell_type": "code",
   "execution_count": null,
   "metadata": {},
   "outputs": [],
   "source": [
    "print('the number of outliers are ',len(outlier_list) )\n",
    "#worst reconstruction\n",
    "worst = [np.min(np.asarray(outlier_list)[:,1]), np.max(np.asarray(outlier_list)[:,1]) ]\n",
    "print('for outliers, the lowest metric value is ',worst[0],' and highest is', worst[1])\n",
    "\n",
    "# The values for the worst performers! \n",
    "for i in range(len(outlier_list)):\n",
    "    if outlier_list[i][1] ==  worst[0]:\n",
    "        print(outlier_list[i])\n",
    "    elif outlier_list[i][1] == worst[1]:\n",
    "        print(outlier_list[i])\n"
   ]
  },
  {
   "cell_type": "code",
   "execution_count": null,
   "metadata": {},
   "outputs": [],
   "source": [
    "print(outlier_list)"
   ]
  },
  {
   "cell_type": "code",
   "execution_count": null,
   "metadata": {},
   "outputs": [],
   "source": [
    "#Actual\n",
    "test_num = 1784\n",
    "\n",
    "truth_out = test_loader.dataset[test_num][1]\n",
    "plt.imshow(np.reshape(truth_out.numpy(),(16,16)))\n",
    "plt.colorbar()"
   ]
  },
  {
   "cell_type": "code",
   "execution_count": null,
   "metadata": {},
   "outputs": [],
   "source": [
    "# Quickly showing that our model gives expected results. \n",
    "model.eval()\n",
    "K = torch.unsqueeze(test_loader.dataset[test_num][0], 0).cuda()\n",
    "predicted = np.reshape(model(K).detach().cpu().numpy(),(16,16))\n",
    "\n",
    "plt.imshow(predicted)\n",
    "plt.colorbar()"
   ]
  },
  {
   "cell_type": "code",
   "execution_count": null,
   "metadata": {},
   "outputs": [],
   "source": []
  },
  {
   "cell_type": "markdown",
   "metadata": {},
   "source": [
    "# Testing Stuff"
   ]
  },
  {
   "cell_type": "code",
   "execution_count": null,
   "metadata": {},
   "outputs": [],
   "source": []
  }
 ],
 "metadata": {
  "kernelspec": {
   "display_name": "Python 3.10.4 ('gundam')",
   "language": "python",
   "name": "python3"
  },
  "language_info": {
   "codemirror_mode": {
    "name": "ipython",
    "version": 3
   },
   "file_extension": ".py",
   "mimetype": "text/x-python",
   "name": "python",
   "nbconvert_exporter": "python",
   "pygments_lexer": "ipython3",
   "version": "3.10.4"
  },
  "orig_nbformat": 4,
  "vscode": {
   "interpreter": {
    "hash": "cddc3d62f9a7e02ecb46a81ab11648d63c0573e5e13f25e036352996103f8463"
   }
  }
 },
 "nbformat": 4,
 "nbformat_minor": 2
}
