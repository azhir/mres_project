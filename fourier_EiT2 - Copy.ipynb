{
 "cells": [
  {
   "cell_type": "code",
   "execution_count": 1,
   "id": "2337a998",
   "metadata": {},
   "outputs": [
    {
     "name": "stderr",
     "output_type": "stream",
     "text": [
      "c:\\Users\\azhir\\anaconda3\\envs\\gundam\\lib\\site-packages\\tqdm\\auto.py:22: TqdmWarning: IProgress not found. Please update jupyter and ipywidgets. See https://ipywidgets.readthedocs.io/en/stable/user_install.html\n",
      "  from .autonotebook import tqdm as notebook_tqdm\n"
     ]
    }
   ],
   "source": [
    "# initial set-up\n",
    "import numpy as np\n",
    "import torch\n",
    "import torch.nn as nn\n",
    "import torch.nn.functional as F\n",
    "from torch.nn.parameter import Parameter\n",
    "import matplotlib.pyplot as plt\n",
    "from sklearn.model_selection import train_test_split\n",
    "from torch.utils.data import Dataset, DataLoader, TensorDataset\n",
    "import operator\n",
    "from functools import reduce\n",
    "from functools import partial\n",
    "from timeit import default_timer\n",
    "from utilities3 import *\n",
    "\n",
    "from Adam import Adam\n",
    "from sewar.full_ref import rmse, uqi\n",
    "from skimage.metrics import structural_similarity as ssim\n",
    "from skimage.metrics import peak_signal_noise_ratio as psnr\n",
    "\n",
    "torch.manual_seed(0)\n",
    "np.random.seed(0)"
   ]
  },
  {
   "cell_type": "code",
   "execution_count": 2,
   "id": "fe429689",
   "metadata": {},
   "outputs": [],
   "source": [
    "#  CONFIGURATIONS - HYPER PARAMETERS\n",
    "################################################################\n",
    "#  configurations - HYPER PARAMETERS\n",
    "################################################################\n",
    "\n",
    "batch_size = 10\n",
    "learning_rate = 0.001\n",
    "\n",
    "epochs = 100\n",
    "step_size = 50\n",
    "gamma = 0.5\n",
    "\n",
    "modes = 16\n",
    "width = 64\n",
    "\n",
    "weight_decay=1e-4\n",
    "\n",
    "# Hyperparameters to change - epoch{10,100,200}, step_size{}, batchsize{}, gamma{}, modes{}, weight_decay{}"
   ]
  },
  {
   "cell_type": "code",
   "execution_count": 3,
   "id": "d6f4ac92",
   "metadata": {},
   "outputs": [],
   "source": [
    "#   DEFINING THE TOP FOURIER LAYER\n",
    "#####################################################################\n",
    "#   DEFINING THE TOP FOURIER LAYER\n",
    "#####################################################################\n",
    "\n",
    "class SpectralConv1d(nn.Module):\n",
    "    def __init__(self, in_channels, out_channels, modes1):\n",
    "        super(SpectralConv1d, self).__init__()\n",
    "\n",
    "        \"\"\"\n",
    "        1D Fourier layer. It does FFT, linear transform, and Inverse FFT.    \n",
    "        \"\"\"\n",
    "\n",
    "        self.in_channels = in_channels\n",
    "        self.out_channels = out_channels\n",
    "        self.modes1 = modes1  #Number of Fourier modes to multiply, at most floor(N/2) + 1\n",
    "\n",
    "        self.scale = (1 / (in_channels*out_channels))\n",
    "        self.weights1 = nn.Parameter(self.scale * torch.rand(in_channels, out_channels, self.modes1, dtype=torch.cfloat))\n",
    "\n",
    "    # Complex multiplication\n",
    "    def compl_mul1d(self, input, weights):\n",
    "        # (batch, in_channel, x ), (in_channel, out_channel, x) -> (batch, out_channel, x)\n",
    "        # batch matrix multiplication\n",
    "        return torch.einsum(\"bix,iox->box\", input, weights)\n",
    "\n",
    "    def forward(self, x):\n",
    "        batchsize = x.shape[0]\n",
    "        #Compute Fourier coeffcients up to factor of e^(- something constant)\n",
    "        x_ft = torch.fft.rfft(x)\n",
    "\n",
    "        # Multiply relevant Fourier modes\n",
    "        out_ft = torch.zeros(batchsize, self.out_channels, x.size(-1)//2 + 1,  device=x.device, dtype=torch.cfloat)\n",
    "        out_ft[:, :, :self.modes1] = self.compl_mul1d(x_ft[:, :, :self.modes1], self.weights1)\n",
    "\n",
    "        #Return to physical space\n",
    "        x = torch.fft.irfft(out_ft, n=x.size(-1))\n",
    "        return x"
   ]
  },
  {
   "cell_type": "code",
   "execution_count": 4,
   "id": "cdf399c2",
   "metadata": {},
   "outputs": [],
   "source": [
    "# DIFFERENING MODELS WITH DIFFERING FOURIER LAYERS\n",
    "\n",
    "#####################################################################\n",
    "#  1 FOURIER LAYER\n",
    "#####################################################################\n",
    "class FNO1_1L(nn.Module):\n",
    "    def __init__(self, modes, width):\n",
    "        super(FNO1_1L, self).__init__()\n",
    "\n",
    "        self.modes1 = modes\n",
    "        self.width = width\n",
    "        self.padding = 2 # pad the domain if input is non-periodic\n",
    "        self.fc0 = nn.Linear(2, self.width) # input channel is 2: (a(x), x)\n",
    "\n",
    "        self.conv0 = SpectralConv1d(self.width, self.width, self.modes1)\n",
    "        self.w0 = nn.Conv1d(self.width, self.width, 1)\n",
    "\n",
    "\n",
    "        self.fc1 = nn.Linear(self.width, 128)\n",
    "        self.fc2 = nn.Linear(128, 2)\n",
    "\n",
    "    def forward(self, x):\n",
    "        grid = self.get_grid(x.shape, x.device)\n",
    "        x = torch.cat((x, grid), dim=-1)\n",
    "        x = self.fc0(x)\n",
    "        x = x.permute(0, 2, 1)\n",
    "        # x = F.pad(x, [0,self.padding]) # pad the domain if input is non-periodic\n",
    "\n",
    "        x1 = self.conv0(x)\n",
    "        x2 = self.w0(x)\n",
    "        x = x1 + x2\n",
    "        x = F.gelu(x)\n",
    "\n",
    "        # x = x[..., :-self.padding] # pad the domain if input is non-periodic\n",
    "        x = x.permute(0, 2, 1)\n",
    "        x = self.fc1(x)\n",
    "        x = F.gelu(x)\n",
    "        x = self.fc2(x)\n",
    "        return x\n",
    "\n",
    "    def get_grid(self, shape, device):\n",
    "        batchsize, size_x = shape[0], shape[1]\n",
    "        gridx = torch.tensor(np.linspace(0, 1, size_x), dtype=torch.float)\n",
    "        gridx = gridx.reshape(1, size_x, 1).repeat([batchsize, 1, 1])\n",
    "        return gridx.to(device)\n",
    "\n",
    "\n",
    "#####################################################################\n",
    "#  2 FOURIER LAYER\n",
    "#####################################################################\n",
    "class FNO1_2L(nn.Module):\n",
    "    def __init__(self, modes, width):\n",
    "        super(FNO1_2L, self).__init__()\n",
    "\n",
    "        self.modes1 = modes\n",
    "        self.width = width\n",
    "        self.padding = 2 # pad the domain if input is non-periodic\n",
    "        self.fc0 = nn.Linear(2, self.width) # input channel is 2: (a(x), x)\n",
    "\n",
    "        self.conv0 = SpectralConv1d(self.width, self.width, self.modes1)\n",
    "        self.conv1 = SpectralConv1d(self.width, self.width, self.modes1)\n",
    "        self.w0 = nn.Conv1d(self.width, self.width, 1)\n",
    "        self.w1 = nn.Conv1d(self.width, self.width, 1)\n",
    "\n",
    "\n",
    "        self.fc1 = nn.Linear(self.width, 128)\n",
    "        self.fc2 = nn.Linear(128, 2)\n",
    "\n",
    "\n",
    "    def forward(self, x):\n",
    "        grid = self.get_grid(x.shape, x.device)\n",
    "        x = torch.cat((x, grid), dim=-1)\n",
    "        x = self.fc0(x)\n",
    "        x = x.permute(0, 2, 1)\n",
    "        # x = F.pad(x, [0,self.padding]) # pad the domain if input is non-periodic\n",
    "\n",
    "        x1 = self.conv0(x)\n",
    "        x2 = self.w0(x)\n",
    "        x = x1 + x2\n",
    "        x = F.gelu(x)\n",
    "\n",
    "        x1 = self.conv1(x)\n",
    "        x2 = self.w1(x)\n",
    "        x = x1 + x2\n",
    "        x = F.gelu(x)\n",
    "\n",
    "        # x = x[..., :-self.padding] # pad the domain if input is non-periodic\n",
    "        x = x.permute(0, 2, 1)\n",
    "        x = self.fc1(x)\n",
    "        x = F.gelu(x)\n",
    "        x = self.fc2(x)\n",
    "        return x\n",
    "\n",
    "    def get_grid(self, shape, device):\n",
    "        batchsize, size_x = shape[0], shape[1]\n",
    "        gridx = torch.tensor(np.linspace(0, 1, size_x), dtype=torch.float)\n",
    "        gridx = gridx.reshape(1, size_x, 1).repeat([batchsize, 1, 1])\n",
    "        return gridx.to(device)\n",
    "\n",
    "\n",
    "\n",
    "# Split into W and R.\n",
    "\n",
    "#####################################################################\n",
    "#  4 FOURIER LAYER\n",
    "#####################################################################\n",
    "class FNO1_4L(nn.Module):\n",
    "    def __init__(self, modes, width):\n",
    "        super(FNO1_4L, self).__init__()\n",
    "\n",
    "        self.modes1 = modes\n",
    "        self.width = width\n",
    "        self.padding = 2 # pad the domain if input is non-periodic\n",
    "        self.fc0 = nn.Linear(2, self.width) # input channel is 2: (a(x), x)\n",
    "\n",
    "        self.conv0 = SpectralConv1d(self.width, self.width, self.modes1)\n",
    "        self.conv1 = SpectralConv1d(self.width, self.width, self.modes1)\n",
    "        self.conv2 = SpectralConv1d(self.width, self.width, self.modes1)\n",
    "        self.conv3 = SpectralConv1d(self.width, self.width, self.modes1)\n",
    "        self.w0 = nn.Conv1d(self.width, self.width, 1)\n",
    "        self.w1 = nn.Conv1d(self.width, self.width, 1)\n",
    "        self.w2 = nn.Conv1d(self.width, self.width, 1)\n",
    "        self.w3 = nn.Conv1d(self.width, self.width, 1)\n",
    "\n",
    "        self.fc1 = nn.Linear(self.width, 128)\n",
    "        self.fc2 = nn.Linear(128, 2)\n",
    "\n",
    "    def forward(self, x):\n",
    "        grid = self.get_grid(x.shape, x.device)\n",
    "        x = torch.cat((x, grid), dim=-1)\n",
    "        x = self.fc0(x)\n",
    "        x = x.permute(0, 2, 1)\n",
    "        # x = F.pad(x, [0,self.padding]) # pad the domain if input is non-periodic\n",
    "\n",
    "        x1 = self.conv0(x)\n",
    "        x2 = self.w0(x)\n",
    "        x = x1 + x2\n",
    "        x = F.gelu(x)\n",
    "\n",
    "        x1 = self.conv1(x)\n",
    "        x2 = self.w1(x)\n",
    "        x = x1 + x2\n",
    "        x = F.gelu(x)\n",
    "\n",
    "        x1 = self.conv2(x)\n",
    "        x2 = self.w2(x)\n",
    "        x = x1 + x2\n",
    "        x = F.gelu(x)\n",
    "\n",
    "        x1 = self.conv3(x)\n",
    "        x2 = self.w3(x)\n",
    "        x = x1 + x2\n",
    "\n",
    "        # x = x[..., :-self.padding] # pad the domain if input is non-periodic\n",
    "        x = x.permute(0, 2, 1)\n",
    "        x = self.fc1(x)\n",
    "        x = F.gelu(x)\n",
    "        x = self.fc2(x)\n",
    "        return x\n",
    "\n",
    "    def get_grid(self, shape, device):\n",
    "        batchsize, size_x = shape[0], shape[1]\n",
    "        gridx = torch.tensor(np.linspace(0, 1, size_x), dtype=torch.float)\n",
    "        gridx = gridx.reshape(1, size_x, 1).repeat([batchsize, 1, 1])\n",
    "        return gridx.to(device)\n",
    "\n",
    "\n",
    "\n",
    "#####################################################################\n",
    "# 6 FOURIER LAYER\n",
    "#####################################################################\n",
    "class FNO1_6L(nn.Module):\n",
    "    def __init__(self, modes, width):\n",
    "        super(FNO1_6L, self).__init__()\n",
    "\n",
    "        self.modes1 = modes\n",
    "        self.width = width\n",
    "        self.padding = 2 # pad the domain if input is non-periodic\n",
    "        self.fc0 = nn.Linear(2, self.width) # input channel is 2: (a(x), x)\n",
    "        # weight outputs are diaganol. \n",
    "\n",
    "        self.conv0 = SpectralConv1d(self.width, self.width, self.modes1)\n",
    "        self.conv1 = SpectralConv1d(self.width, self.width, self.modes1)\n",
    "        self.conv2 = SpectralConv1d(self.width, self.width, self.modes1)\n",
    "        self.conv3 = SpectralConv1d(self.width, self.width, self.modes1)\n",
    "        self.conv4 = SpectralConv1d(self.width, self.width, self.modes1)\n",
    "        self.conv5 = SpectralConv1d(self.width, self.width, self.modes1)\n",
    "\n",
    "\n",
    "        self.w0 = nn.Conv1d(self.width, self.width, 1)\n",
    "        self.w1 = nn.Conv1d(self.width, self.width, 1)\n",
    "        self.w2 = nn.Conv1d(self.width, self.width, 1)\n",
    "        self.w3 = nn.Conv1d(self.width, self.width, 1)\n",
    "        self.w4 = nn.Conv1d(self.width, self.width, 1)\n",
    "        self.w5 = nn.Conv1d(self.width, self.width, 1)\n",
    "\n",
    "\n",
    "        self.fc1 = nn.Linear(self.width, 128)\n",
    "        self.fc2 = nn.Linear(128, 2)\n",
    "\n",
    "    def forward(self, x):\n",
    "        grid = self.get_grid(x.shape, x.device)\n",
    "        x = torch.cat((x, grid), dim=-1)\n",
    "        x = self.fc0(x)\n",
    "        x = x.permute(0, 2, 1)\n",
    "        # x = F.pad(x, [0,self.padding]) # pad the domain if input is non-periodic\n",
    "\n",
    "        x1 = self.conv0(x)\n",
    "        x2 = self.w0(x)\n",
    "        x = x1 + x2\n",
    "        x = F.gelu(x)\n",
    "\n",
    "        x1 = self.conv1(x)\n",
    "        x2 = self.w1(x)\n",
    "        x = x1 + x2\n",
    "        x = F.gelu(x)\n",
    "\n",
    "        x1 = self.conv2(x)\n",
    "        x2 = self.w2(x)\n",
    "        x = x1 + x2\n",
    "        x = F.gelu(x)\n",
    "\n",
    "        x1 = self.conv3(x)\n",
    "        x2 = self.w3(x)\n",
    "        x = x1 + x2\n",
    "\n",
    "        x1 = self.conv4(x)\n",
    "        x2 = self.w4(x)\n",
    "        x = x1 + x2\n",
    "\n",
    "\n",
    "        x1 = self.conv5(x)\n",
    "        x2 = self.w5(x)\n",
    "        x = x1 + x2\n",
    "\n",
    "        # x = x[..., :-self.padding] # pad the domain if input is non-periodic\n",
    "        x = x.permute(0, 2, 1)\n",
    "        x = self.fc1(x)\n",
    "        x = F.gelu(x)\n",
    "        x = self.fc2(x)\n",
    "        return x\n",
    "\n",
    "    def get_grid(self, shape, device):\n",
    "        batchsize, size_x = shape[0], shape[1]\n",
    "        gridx = torch.tensor(np.linspace(0, 1, size_x), dtype=torch.float)\n",
    "        gridx = gridx.reshape(1, size_x, 1).repeat([batchsize, 1, 1])\n",
    "        return gridx.to(device)\n",
    "\n",
    "\n",
    "\n",
    "\n",
    "#####################################################################\n",
    "# 8 FOURIER LAYER\n",
    "#####################################################################\n",
    "class FNO1_8L(nn.Module):\n",
    "    def __init__(self, modes, width):\n",
    "        super(FNO1_8L, self).__init__()\n",
    "\n",
    "        self.modes1 = modes\n",
    "        self.width = width\n",
    "        self.padding = 2 # pad the domain if input is non-periodic\n",
    "        self.fc0 = nn.Linear(2, self.width) # input channel is 2: (a(x), x)\n",
    "\n",
    "        self.conv0 = SpectralConv1d(self.width, self.width, self.modes1)\n",
    "        self.conv1 = SpectralConv1d(self.width, self.width, self.modes1)\n",
    "        self.conv2 = SpectralConv1d(self.width, self.width, self.modes1)\n",
    "        self.conv3 = SpectralConv1d(self.width, self.width, self.modes1)\n",
    "        self.conv4 = SpectralConv1d(self.width, self.width, self.modes1)\n",
    "        self.conv5 = SpectralConv1d(self.width, self.width, self.modes1)\n",
    "        self.conv6 = SpectralConv1d(self.width, self.width, self.modes1)\n",
    "        self.conv7 = SpectralConv1d(self.width, self.width, self.modes1)\n",
    "\n",
    "\n",
    "\n",
    "        self.w0 = nn.Conv1d(self.width, self.width, 1)\n",
    "        self.w1 = nn.Conv1d(self.width, self.width, 1)\n",
    "        self.w2 = nn.Conv1d(self.width, self.width, 1)\n",
    "        self.w3 = nn.Conv1d(self.width, self.width, 1)\n",
    "        self.w4 = nn.Conv1d(self.width, self.width, 1)\n",
    "        self.w5 = nn.Conv1d(self.width, self.width, 1)\n",
    "        self.w6 = nn.Conv1d(self.width, self.width, 1)\n",
    "        self.w7 = nn.Conv1d(self.width, self.width, 1)\n",
    "\n",
    "\n",
    "        self.fc1 = nn.Linear(self.width, 128)\n",
    "        self.fc2 = nn.Linear(128, 2)\n",
    "\n",
    "    def forward(self, x):\n",
    "        grid = self.get_grid(x.shape, x.device)\n",
    "        x = torch.cat((x, grid), dim=-1)\n",
    "        x = self.fc0(x)\n",
    "        x = x.permute(0, 2, 1)\n",
    "        # x = F.pad(x, [0,self.padding]) # pad the domain if input is non-periodic\n",
    "\n",
    "        x1 = self.conv0(x)\n",
    "        x2 = self.w0(x)\n",
    "        x = x1 + x2\n",
    "        x = F.gelu(x)\n",
    "\n",
    "        x1 = self.conv1(x)\n",
    "        x2 = self.w1(x)\n",
    "        x = x1 + x2\n",
    "        x = F.gelu(x)\n",
    "\n",
    "        x1 = self.conv2(x)\n",
    "        x2 = self.w2(x)\n",
    "        x = x1 + x2\n",
    "        x = F.gelu(x)\n",
    "\n",
    "        x1 = self.conv3(x)\n",
    "        x2 = self.w3(x)\n",
    "        x = x1 + x2\n",
    "\n",
    "        x1 = self.conv4(x)\n",
    "        x2 = self.w4(x)\n",
    "        x = x1 + x2\n",
    "\n",
    "\n",
    "        x1 = self.conv5(x)\n",
    "        x2 = self.w5(x)\n",
    "        x = x1 + x2\n",
    "\n",
    "        x1 = self.conv6(x)\n",
    "        x2 = self.w6(x)\n",
    "        x = x1 + x2\n",
    "\n",
    "        x1 = self.conv7(x)\n",
    "        x2 = self.w7(x)\n",
    "        x = x1 + x2\n",
    "\n",
    "        # x = x[..., :-self.padding] # pad the domain if input is non-periodic\n",
    "        x = x.permute(0, 2, 1)\n",
    "        x = self.fc1(x)\n",
    "        x = F.gelu(x)\n",
    "        x = self.fc2(x)\n",
    "        return x\n",
    "\n",
    "    def get_grid(self, shape, device):\n",
    "        batchsize, size_x = shape[0], shape[1]\n",
    "        gridx = torch.tensor(np.linspace(0, 1, size_x), dtype=torch.float)\n",
    "        gridx = gridx.reshape(1, size_x, 1).repeat([batchsize, 1, 1])\n",
    "        return gridx.to(device)\n",
    "\n",
    "\n"
   ]
  },
  {
   "cell_type": "code",
   "execution_count": 10,
   "id": "9bbba4f9",
   "metadata": {},
   "outputs": [
    {
     "name": "stdout",
     "output_type": "stream",
     "text": [
      "torch.Size([8000, 128, 1]) torch.Size([8000, 256])\n"
     ]
    }
   ],
   "source": [
    "raw_data = scipy.io.loadmat('./datasets/training_data_16x16_10k')\n",
    "\n",
    "sol = np.asarray(raw_data['solution_data'])\n",
    "mes = np.asarray(raw_data['measurement_data'])\n",
    "\n",
    "sol_temp = np.expand_dims(sol,axis = 1 )\n",
    "#sol_temp = np.sqeeze(sol_temp)\n",
    "mes_temp = np.transpose(np.expand_dims(mes,axis = 1 ),(0,2,1))\n",
    "\n",
    "\n",
    "def convert_data(data_x, data_y):\n",
    "    data_X = torch.from_numpy(data_x).float()\n",
    "    data_Y = torch.from_numpy(data_y).float()\n",
    "    return data_X, data_Y\n",
    "\n",
    "# we are solving the inverse problem, so going from measurements, to solutions\n",
    "X, y = convert_data(mes_temp, sol_temp)\n",
    "X_train, X_test, y_train, y_test = train_test_split(X, y, test_size=0.2, random_state=42)\n",
    "y_train = y_train.squeeze()\n",
    "y_test = y_test.squeeze()\n",
    "\n",
    "#batch_size = 10\n",
    "\n",
    "#train_loader = DataLoader(data_utils.TensorDataset(X_train, Y_train), batch_size=batch_size, shuffle=True)\n",
    "train_dataset = TensorDataset( X_train, y_train )\n",
    "test_dataset = TensorDataset( X_test, y_test )\n",
    "\n",
    "train_loader = DataLoader(train_dataset, shuffle=True, batch_size=batch_size)\n",
    "test_loader = torch.utils.data.DataLoader(test_dataset, batch_size=batch_size, shuffle=False)\n",
    "\n",
    "ntrain = X_train.shape[0]\n",
    "ntest = X_test.shape[0]\n",
    "\n",
    "print(X_train.shape, y_train.shape)"
   ]
  },
  {
   "cell_type": "code",
   "execution_count": 14,
   "id": "1544ea96",
   "metadata": {},
   "outputs": [],
   "source": [
    "# TRAINING AND EVALUATION\n",
    "################################################################\n",
    "# TRAINING AND EVALUATION\n",
    "################################################################\n",
    "\n",
    "\n",
    "def train_model(model, epochs, batch_size, learning_rate, weight_decay, step_size, gamma):\n",
    "    optimizer = Adam(model.parameters(), lr=learning_rate, weight_decay=weight_decay)\n",
    "    scheduler = torch.optim.lr_scheduler.StepLR(optimizer, step_size=step_size, gamma=gamma)\n",
    "    train_losses, test_losses, epoch_time = [], [], []\n",
    "\n",
    "    myloss = LpLoss(size_average=False)\n",
    "    for ep in range(epochs):\n",
    "        model.train()\n",
    "        t1 = default_timer()\n",
    "        train_mse = 0\n",
    "        train_l2 = 0\n",
    "        total_time = 0\n",
    "        for x, y in train_loader:\n",
    "            x, y = x.cuda(), y.cuda()\n",
    "\n",
    "            optimizer.zero_grad()\n",
    "            #print('in: ',x.shape)\n",
    "            out = model(x)\n",
    "            #print('out: ',out.shape)\n",
    "\n",
    "            mse = F.mse_loss(out.view(batch_size, -1), y.view(batch_size, -1), reduction='mean')\n",
    "            l2 = myloss(out.view(batch_size, -1), y.view(batch_size, -1))\n",
    "            l2.backward() # use the l2 relative loss\n",
    "\n",
    "            optimizer.step()\n",
    "            train_mse += mse.item()\n",
    "            train_l2 += l2.item()\n",
    "\n",
    "        scheduler.step()\n",
    "        model.eval()\n",
    "        test_l2 = 0.0\n",
    "        with torch.no_grad():\n",
    "            for x, y in test_loader:\n",
    "                x, y = x.cuda(), y.cuda()\n",
    "\n",
    "                out = model(x)\n",
    "                test_l2 += myloss(out.view(batch_size, -1), y.view(batch_size, -1)).item()\n",
    "\n",
    "        #train_mse /= len(train_loader)\n",
    "        train_l2 /= ntrain\n",
    "        train_losses.append(train_l2)\n",
    "        test_l2 /= ntest\n",
    "        test_losses.append(test_l2)\n",
    "\n",
    "\n",
    "        t2 = default_timer()\n",
    "        epoch_time.append(t2 - t1)\n",
    "        total_time += (t2-t1)\n",
    "        print(ep, t2 - t1, train_l2, test_l2)\n",
    "    \n",
    "    print(\"TOTAL TIME: \", total_time, sep=\"---\")\n",
    "\n",
    "    output = {\n",
    "    \"train_losses\": train_losses,\n",
    "    \"test_losses\": test_losses,\n",
    "    \"epoch_time\": epoch_time,\n",
    "    \"training_time\": total_time,\n",
    "    \"model\": model\n",
    "    }\n",
    "    return output \n",
    "# torch.save(model, 'model/ns_fourier_burgers')\n",
    "\n",
    "# scipy.io.savemat('pred/burger_test.mat', mdict={'pred': pred.cpu().numpy()})"
   ]
  },
  {
   "cell_type": "code",
   "execution_count": 15,
   "id": "18591592",
   "metadata": {},
   "outputs": [],
   "source": [
    "# MODEL METRICS\n",
    "###################################\n",
    "# MODEL METRICS\n",
    "###################################\n",
    "def model_metrics(model,test_loader,ntrain):\n",
    "    rms_values, psnr_values, ssim_values, uqi_values = [], [], [], []\n",
    "\n",
    "    for test_num in range(ntest):\n",
    "        K = torch.unsqueeze(test_loader.dataset[test_num][0], 0).cuda()\n",
    "        model.eval()\n",
    "        predicted_np = np.reshape(model(K).detach().cpu().numpy(),(16,16))\n",
    "\n",
    "        truth = test_loader.dataset[test_num][1]\n",
    "        truth_np = np.reshape(truth.numpy(),(16,16))\n",
    "\n",
    "        #diff_image = predicted - truth_np\n",
    "        #np.sqrt(np.sum(diff_image**2)/256)\n",
    "\n",
    "        rms_values.append(rmse(predicted_np, truth_np))\n",
    "        psnr_values.append(psnr(truth_np, predicted_np, data_range=predicted_np.max() - predicted_np.min()))\n",
    "        ssim_values.append(ssim(truth_np, predicted_np, data_range=predicted_np.max() - predicted_np.min()))\n",
    "        uqi_values.append(uqi(predicted_np, truth_np))\n",
    "\n",
    "    model_rms = sum(rms_values)/ len(rms_values)\n",
    "    std_rms = np.std(np.array(rms_values))\n",
    "\n",
    "    model_psnr = sum(psnr_values)/ len(psnr_values)\n",
    "    std_psnr = np.std(np.array(psnr_values))\n",
    "\n",
    "    model_ssim = sum(ssim_values)/ len(ssim_values)\n",
    "    std_ssim = np.std(np.array(ssim_values))\n",
    "\n",
    "    model_uqi = sum(uqi_values)/ len(uqi_values)\n",
    "    std_uqi = np.std(np.array(uqi_values))\n",
    "\n",
    "\n",
    "    print(\"RMSE: \", model_rms, std_rms, sep=\"---\")\n",
    "    print(\"PSNR: \", model_psnr, std_psnr, sep=\"---\")\n",
    "    print(\"SSIM: \", model_ssim, std_ssim, sep=\"---\")\n",
    "    print(\"UQI: \", model_uqi, std_uqi, sep=\"---\")\n",
    "\n",
    "\n",
    "    output = {\n",
    "    \"rms\": rms_values,\n",
    "    \"psnr\": psnr_values,\n",
    "    \"ssim\": ssim_values,\n",
    "    \"uqi\": uqi_values,\n",
    "    }\n",
    "    return output "
   ]
  },
  {
   "cell_type": "code",
   "execution_count": 19,
   "id": "0215fad7",
   "metadata": {},
   "outputs": [
    {
     "data": {
      "text/plain": [
       "<matplotlib.colorbar.Colorbar at 0x1a0a4c1eb30>"
      ]
     },
     "execution_count": 19,
     "metadata": {},
     "output_type": "execute_result"
    },
    {
     "data": {
      "image/png": "[encoded data removed]",
      "text/plain": [
       "<Figure size 432x288 with 2 Axes>"
      ]
     },
     "metadata": {
      "needs_background": "light"
     },
     "output_type": "display_data"
    }
   ],
   "source": [
    "#Actual\n",
    "test_num = 434\n",
    "truth_out = test_loader.dataset[test_num][1]\n",
    "plt.imshow(np.reshape(truth_out.numpy(),(16,16)))\n",
    "plt.colorbar()"
   ]
  },
  {
   "cell_type": "code",
   "execution_count": 21,
   "id": "e611cfa0",
   "metadata": {},
   "outputs": [
    {
     "data": {
      "text/plain": [
       "<matplotlib.colorbar.Colorbar at 0x1a0d506ad40>"
      ]
     },
     "execution_count": 21,
     "metadata": {},
     "output_type": "execute_result"
    },
    {
     "data": {
      "image/png": "[encoded data removed]",
      "text/plain": [
       "<Figure size 432x288 with 2 Axes>"
      ]
     },
     "metadata": {
      "needs_background": "light"
     },
     "output_type": "display_data"
    }
   ],
   "source": [
    "truth_out = test_loader.dataset[test_num][0]\n",
    "plt.imshow(np.reshape(truth_out.numpy(),(16,8)))\n",
    "plt.colorbar()"
   ]
  },
  {
   "cell_type": "code",
   "execution_count": 13,
   "id": "7f4d1e08",
   "metadata": {},
   "outputs": [
    {
     "name": "stdout",
     "output_type": "stream",
     "text": [
      "144002\n",
      "0 7.196735700010322 0.40674223664402964 0.1796461563706398\n",
      "1 3.1227738999878056 0.18428635244071484 0.1715457478761673\n",
      "2 3.085418500006199 0.17095361398160458 0.17763629305362702\n",
      "3 3.00643469998613 0.16579511779546738 0.16656675875186921\n",
      "4 3.004730799992103 0.1642909388691187 0.15395165187120438\n",
      "5 3.021129100001417 0.1616764949709177 0.15831468600034715\n",
      "6 3.088254300004337 0.15965173396468163 0.15455500388145446\n",
      "7 3.0422729999991134 0.15899217101931573 0.16375114625692366\n",
      "8 3.014497400028631 0.15681196697056293 0.1586033272743225\n",
      "9 3.0146820999798365 0.15609750042855738 0.1523639783859253\n",
      "10 3.058275000017602 0.15436929008364678 0.15175512599945068\n",
      "11 3.0241766999824904 0.15189817878603934 0.15035941761732102\n",
      "12 3.034877599973697 0.15045007418841125 0.14900340563058853\n",
      "13 3.0399169000447728 0.14981511525809765 0.1490183962583542\n",
      "14 2.995468500012066 0.14846872060745955 0.1469753630757332\n",
      "15 3.031753799994476 0.14756137654185295 0.14261692255735398\n",
      "16 3.0360856999759562 0.14564770601689817 0.14502261936664582\n",
      "17 3.0023344000219367 0.1458528262078762 0.14577774333953858\n",
      "18 3.0171760999946855 0.1446347004175186 0.14176945304870606\n",
      "19 3.0916564000071958 0.14404572466760873 0.14371805185079575\n",
      "TOTAL TIME: ---3.0916564000071958\n",
      "RMSE: ---0.0038650546220459106---0.0016880050166832026\n",
      "PSNR: ---22.599251176668325---2.898685831662594\n",
      "SSIM: ---0.7746421507136343---0.058962242279138564\n",
      "UQI: ---0.9882025012695895---0.00835137147815951\n"
     ]
    },
    {
     "data": {
      "text/plain": [
       "<matplotlib.colorbar.Colorbar at 0x19f9d6264a0>"
      ]
     },
     "execution_count": 13,
     "metadata": {},
     "output_type": "execute_result"
    },
    {
     "data": {
      "image/png": "[encoded data removed]",
      "text/plain": [
       "<Figure size 432x288 with 2 Axes>"
      ]
     },
     "metadata": {
      "needs_background": "light"
     },
     "output_type": "display_data"
    }
   ],
   "source": [
    "# ONE LAYER RESULTS\n",
    "############################################################################\n",
    "\n",
    "model_1L = FNO1_1L(modes, width).cuda()\n",
    "print(count_params(model_1L))\n",
    "output_1L = train_model(model_1L, 20, batch_size, learning_rate, weight_decay, step_size, gamma)\n",
    "\n",
    "output_1L_model = output_1L.get(\"model\")\n",
    "torch.save(output_1L_model, 'fno1_1l.h5')\n",
    "results_1L = model_metrics(output_1L_model,test_loader,ntrain)\n",
    "\n",
    "# ONE LAYER RESULTS\n",
    "############################################################################\n",
    "K = torch.unsqueeze(test_loader.dataset[test_num][0], 0).cuda()\n",
    "output_1L_model.eval()\n",
    "predicted = np.reshape(output_1L_model(K).detach().cpu().numpy(),(16,16))\n",
    "plt.imshow(predicted)\n",
    "plt.colorbar()"
   ]
  },
  {
   "cell_type": "code",
   "execution_count": 14,
   "id": "68613faf",
   "metadata": {},
   "outputs": [
    {
     "name": "stdout",
     "output_type": "stream",
     "text": [
      "279234\n",
      "0 4.151774600031786 0.2595294766575098 0.15780726540088655\n",
      "1 4.0751997999614105 0.1535752113312483 0.14311176708340645\n",
      "2 4.0986588999512605 0.1447731086462736 0.14903092426061632\n",
      "3 4.108540999994148 0.14182372995465994 0.13722228384017945\n",
      "4 4.0966108000138775 0.1384735744893551 0.13739443641901017\n",
      "5 4.0581099999835715 0.13648573550581933 0.1318184673190117\n",
      "6 4.090068700024858 0.1336107279136777 0.13228184115886688\n",
      "7 4.09933739999542 0.13270901162177323 0.13068380218744277\n",
      "8 4.093399600009434 0.1312423707395792 0.12965152010321618\n",
      "9 4.169808000035118 0.1295991738960147 0.12893697386980058\n",
      "10 4.108623299980536 0.12941475949436426 0.12526482877135275\n",
      "11 4.093571199977305 0.12725699899345636 0.12489828571677208\n",
      "12 4.087709000043105 0.1262984892502427 0.1266512666940689\n",
      "13 4.104753499967046 0.12536955223977567 0.122348357796669\n",
      "14 4.131080999970436 0.12377855128794908 0.12249896892905235\n",
      "15 4.183345300029032 0.12360450994223356 0.12071754249930382\n",
      "16 4.0970501999836415 0.12188527178019286 0.1218297710120678\n",
      "17 4.093469699961133 0.12038956297934056 0.12341150394082069\n",
      "18 4.202037799987011 0.11911693532764912 0.1188931851387024\n",
      "19 4.118212200002745 0.11825718649476767 0.11653430777788162\n",
      "TOTAL TIME: ---4.118212200002745\n",
      "RMSE: ---0.00314935586157463---0.0014615536191472846\n",
      "PSNR: ---24.791102661640252---3.128187032984793\n",
      "SSIM: ---0.8476741427280678---0.045882572890758325\n",
      "UQI: ---0.9924448233482411---0.005603251311771162\n"
     ]
    },
    {
     "data": {
      "text/plain": [
       "<matplotlib.colorbar.Colorbar at 0x1a026816cb0>"
      ]
     },
     "execution_count": 14,
     "metadata": {},
     "output_type": "execute_result"
    },
    {
     "data": {
      "image/png": "[encoded data removed]",
      "text/plain": [
       "<Figure size 432x288 with 2 Axes>"
      ]
     },
     "metadata": {
      "needs_background": "light"
     },
     "output_type": "display_data"
    }
   ],
   "source": [
    "# TWO LAYER RESULTS\n",
    "############################################################################\n",
    "\n",
    "model_2L = FNO1_2L(modes, width).cuda()\n",
    "print(count_params(model_2L))\n",
    "output_2L = train_model(model_2L, 20, batch_size, learning_rate, weight_decay, step_size, gamma)\n",
    "\n",
    "output_2L_model = output_2L.get(\"model\")\n",
    "torch.save(output_2L_model, 'fno1_2l.h5')\n",
    "\n",
    "\n",
    "results_2L = model_metrics(output_2L_model,test_loader,ntrain)\n",
    "\n",
    "# TWO LAYER RESULTS\n",
    "############################################################################\n",
    "output_2L_model.eval()\n",
    "predicted = np.reshape(output_2L_model(K).detach().cpu().numpy(),(16,16))\n",
    "plt.imshow(predicted)\n",
    "plt.colorbar()"
   ]
  },
  {
   "cell_type": "code",
   "execution_count": 15,
   "id": "a802dd60",
   "metadata": {},
   "outputs": [
    {
     "name": "stdout",
     "output_type": "stream",
     "text": [
      "549698\n",
      "0 6.174244900001213 0.18514237754046917 0.16615179431438445\n",
      "1 6.130873600021005 0.1442393345683813 0.14146057295799255\n",
      "2 6.14995849999832 0.13756493551284074 0.13177018415927888\n",
      "3 6.0879038000130095 0.13228589607030153 0.12847652292251588\n",
      "4 6.087925700005144 0.1293164548650384 0.12753275114297866\n",
      "5 6.064095199981239 0.1267332232668996 0.13071003952622415\n",
      "6 6.0948844000231475 0.1246943739950657 0.12913389483094215\n",
      "7 6.117122300027404 0.12403250723332167 0.12476966267824173\n",
      "8 6.101196599949617 0.12150253660976887 0.12463733506202698\n",
      "9 6.098179200023878 0.12114204992353916 0.12031641358137131\n",
      "10 6.058344199962448 0.11899547895789146 0.11976098334789276\n",
      "11 6.06628810003167 0.11766552267968655 0.11517025497555733\n",
      "12 6.050335999985691 0.1166207195147872 0.1142849087715149\n",
      "13 6.16036300000269 0.11477521838247776 0.11404477652907372\n",
      "14 6.063408899994101 0.11300158529728652 0.11676953315734863\n",
      "15 6.072028099966701 0.11188145394623279 0.11296943446993828\n",
      "16 6.166073900007177 0.11068673786520958 0.11001686292886734\n",
      "17 6.1515921000391245 0.10949887850880623 0.10955769658088683\n",
      "18 6.230668400006834 0.10875258822739124 0.11064278864860534\n",
      "19 6.226798499992583 0.10779135874658823 0.10694830173254014\n",
      "TOTAL TIME: ---6.226798499992583\n",
      "RMSE: ---0.0028946503676372743---0.001376380181522979\n",
      "PSNR: ---25.55615333009154---3.4177125903484478\n",
      "SSIM: ---0.8745045623039319---0.04397370631207591\n",
      "UQI: ---0.9936046204007094---0.004814923299372543\n"
     ]
    },
    {
     "data": {
      "text/plain": [
       "<matplotlib.colorbar.Colorbar at 0x1a037ec8160>"
      ]
     },
     "execution_count": 15,
     "metadata": {},
     "output_type": "execute_result"
    },
    {
     "data": {
      "image/png": "[encoded data removed]",
      "text/plain": [
       "<Figure size 432x288 with 2 Axes>"
      ]
     },
     "metadata": {
      "needs_background": "light"
     },
     "output_type": "display_data"
    }
   ],
   "source": [
    "# FOUR LAYER RESULTS\n",
    "############################################################################\n",
    "\n",
    "model_4L = FNO1_4L(modes, width).cuda()\n",
    "print(count_params(model_4L))\n",
    "output_4L = train_model(model_4L, 20, batch_size, learning_rate, weight_decay, step_size, gamma)\n",
    "\n",
    "output_4L_model = output_4L.get(\"model\")\n",
    "torch.save(output_4L_model, 'fno1_4l.h5')\n",
    "\n",
    "\n",
    "results_4L = model_metrics(output_4L_model,test_loader,ntrain)\n",
    "\n",
    "# FOUR LAYER RESULTS\n",
    "############################################################################\n",
    "output_4L_model.eval()\n",
    "predicted = np.reshape(output_4L_model(K).detach().cpu().numpy(),(16,16))\n",
    "plt.imshow(predicted)\n",
    "plt.colorbar()"
   ]
  },
  {
   "cell_type": "code",
   "execution_count": 16,
   "id": "6c2c6fed",
   "metadata": {},
   "outputs": [
    {
     "name": "stdout",
     "output_type": "stream",
     "text": [
      "820162\n",
      "0 8.140928799984977 0.19338392943143845 0.1468312373161316\n",
      "1 8.122203500010073 0.14339351690560578 0.13937179797887803\n",
      "2 8.026154699968174 0.13641063160449265 0.131577906280756\n",
      "3 8.078367699985392 0.1322213108614087 0.1370261921286583\n",
      "4 7.947937900025863 0.12882859003543853 0.1241217525601387\n",
      "5 7.937617599964142 0.12630030077695847 0.12919652435183526\n",
      "6 7.946283600002062 0.1253377765417099 0.12338193595409393\n",
      "7 7.9480934999883175 0.12308589275181293 0.12251488175988197\n",
      "8 7.989607399969827 0.12141708190739155 0.1267319627702236\n",
      "9 7.965316499990877 0.12010504280030727 0.11877955439686776\n",
      "10 7.966549000004306 0.11923825974017381 0.11933212330937386\n",
      "11 7.924535300000571 0.11895269490033387 0.11663846674561501\n",
      "12 8.08246639999561 0.11740515239536763 0.11730772510170936\n",
      "13 7.93455940001877 0.11630661675333977 0.11515531399846077\n",
      "14 8.033773099945392 0.11446547700464725 0.11638129940629005\n",
      "15 7.962765700009186 0.11438898283988237 0.11504935720562935\n",
      "16 8.028074999980163 0.11319472853839398 0.11351897224783897\n",
      "17 7.941212100035045 0.11179465797543525 0.11092748785018922\n",
      "18 7.949322800035588 0.11068705815821886 0.11486357834935189\n",
      "19 7.925759700010531 0.11025034423917532 0.11128512886166572\n",
      "TOTAL TIME: ---7.925759700010531\n",
      "RMSE: ---0.003005885152599696---0.0013876003659651418\n",
      "PSNR: ---25.191117403972818---3.1408803108379635\n",
      "SSIM: ---0.8666263533720185---0.04373506621767635\n",
      "UQI: ---0.993083854215953---0.004933357842871529\n"
     ]
    },
    {
     "data": {
      "text/plain": [
       "<matplotlib.colorbar.Colorbar at 0x1a04f4d12a0>"
      ]
     },
     "execution_count": 16,
     "metadata": {},
     "output_type": "execute_result"
    },
    {
     "data": {
      "image/png": "[encoded data removed]",
      "text/plain": [
       "<Figure size 432x288 with 2 Axes>"
      ]
     },
     "metadata": {
      "needs_background": "light"
     },
     "output_type": "display_data"
    }
   ],
   "source": [
    "# SIX LAYER RESULTS\n",
    "############################################################################\n",
    "\n",
    "model_6L = FNO1_6L(modes, width).cuda()\n",
    "print(count_params(model_6L))\n",
    "output_6L = train_model(model_6L, 20, batch_size, learning_rate, weight_decay, step_size, gamma)\n",
    "\n",
    "output_6L_model = output_6L.get(\"model\")\n",
    "torch.save(output_6L_model, 'fno1_6l.h5')\n",
    "\n",
    "\n",
    "results_6L = model_metrics(output_6L_model,test_loader,ntrain)\n",
    "\n",
    "# SIX LAYER RESULTS\n",
    "############################################################################\n",
    "output_6L_model.eval()\n",
    "predicted = np.reshape(output_6L_model(K).detach().cpu().numpy(),(16,16))\n",
    "plt.imshow(predicted)\n",
    "plt.colorbar()"
   ]
  },
  {
   "cell_type": "code",
   "execution_count": 17,
   "id": "4f7cb916",
   "metadata": {},
   "outputs": [
    {
     "name": "stdout",
     "output_type": "stream",
     "text": [
      "1090626\n",
      "0 9.932704899983946 0.19463550344109534 0.14464014622569085\n",
      "1 9.834571199957281 0.14569371577352286 0.1380652754306793\n",
      "2 9.82018139999127 0.13825480668246745 0.13271474280953408\n",
      "3 9.840211800008547 0.1335966268032789 0.12757292625308037\n",
      "4 9.884350900014397 0.13026601811498403 0.13327633038163186\n",
      "5 10.052396599960048 0.1280328745096922 0.13012514784932136\n",
      "6 9.793226899986621 0.12625585579127074 0.12542672049999237\n",
      "7 9.823928700003307 0.12461230419576168 0.12952425220608713\n",
      "8 9.885979499958921 0.12330249348282814 0.12146946030855178\n",
      "9 9.871740199974738 0.12231976057589054 0.12001122200489044\n",
      "10 10.004910300020128 0.12077747540175915 0.1273856853544712\n",
      "11 10.272973000013735 0.12002703888714314 0.1202031409740448\n",
      "12 10.257395200023893 0.1186651993021369 0.11671039450168609\n",
      "13 10.184535900014453 0.11687092573195695 0.12441822811961174\n",
      "14 10.17610290000448 0.11618157252669334 0.11586290964484215\n",
      "15 10.15469049999956 0.11459322998672723 0.11415149581432342\n",
      "16 10.22498070000438 0.11385210088640452 0.11427685689926148\n",
      "17 9.895774299977347 0.11232758510112763 0.11441094458103179\n",
      "18 9.835370300046634 0.11154728272557259 0.12212842971086502\n",
      "19 9.833809400035534 0.11092990016192197 0.11057542750239373\n",
      "TOTAL TIME: ---9.833809400035534\n",
      "RMSE: ---0.002987392485987206---0.001388233494215096\n",
      "PSNR: ---25.023747748065386---3.12216377087304\n",
      "SSIM: ---0.8665404505130355---0.044345524616306184\n",
      "UQI: ---0.9932722172828992---0.004990900318224103\n"
     ]
    },
    {
     "data": {
      "text/plain": [
       "<matplotlib.colorbar.Colorbar at 0x1a059272ad0>"
      ]
     },
     "execution_count": 17,
     "metadata": {},
     "output_type": "execute_result"
    },
    {
     "data": {
      "image/png": "[encoded data removed]",
      "text/plain": [
       "<Figure size 432x288 with 2 Axes>"
      ]
     },
     "metadata": {
      "needs_background": "light"
     },
     "output_type": "display_data"
    }
   ],
   "source": [
    "# EIGHT LAYER RESULTS\n",
    "############################################################################\n",
    "\n",
    "model_8L = FNO1_8L(modes, width).cuda()\n",
    "print(count_params(model_8L))\n",
    "output_8L = train_model(model_8L, 20, batch_size, learning_rate, weight_decay, step_size, gamma)\n",
    "\n",
    "output_8L_model = output_8L.get(\"model\")\n",
    "torch.save(output_8L_model, 'fno1_8l.h5')\n",
    "\n",
    "\n",
    "results_8L = model_metrics(output_8L_model,test_loader,ntrain)\n",
    "\n",
    "# EIGHT LAYER RESULTS\n",
    "############################################################################\n",
    "output_8L_model.eval()\n",
    "predicted = np.reshape(output_8L_model(K).detach().cpu().numpy(),(16,16))\n",
    "plt.imshow(predicted)\n",
    "plt.colorbar()"
   ]
  },
  {
   "cell_type": "code",
   "execution_count": 18,
   "id": "a241b73f",
   "metadata": {},
   "outputs": [
    {
     "data": {
      "text/plain": [
       "<function matplotlib.pyplot.show(close=None, block=None)>"
      ]
     },
     "execution_count": 18,
     "metadata": {},
     "output_type": "execute_result"
    },
    {
     "data": {
      "image/png": "[encoded data removed]",
      "text/plain": [
       "<Figure size 432x288 with 1 Axes>"
      ]
     },
     "metadata": {
      "needs_background": "light"
     },
     "output_type": "display_data"
    }
   ],
   "source": [
    "fig1, ax1 = plt.subplots()\n",
    "red_cross = dict(markerfacecolor='r', marker='x')\n",
    "data = (results_1L.get(\"rms\"), results_2L.get(\"rms\"), results_4L.get(\"rms\"), results_6L.get(\"rms\"), results_8L.get(\"rms\"))\n",
    "labels = ('1 fourier layer', '2 fourier layers', '4 fourier layers', '6 fourier layers', '8 fourier layers')\n",
    "\n",
    "ax1.boxplot(data, vert=False, flierprops=red_cross)\n",
    "plt.yticks(np.arange(len(labels))+1,labels)\n",
    "plt.show"
   ]
  },
  {
   "cell_type": "markdown",
   "id": "cbccb623",
   "metadata": {},
   "source": [
    "# Further Analysis"
   ]
  },
  {
   "cell_type": "code",
   "execution_count": 12,
   "id": "a39deb63",
   "metadata": {},
   "outputs": [
    {
     "data": {
      "text/plain": [
       "FNO1_4L(\n",
       "  (fc0): Linear(in_features=2, out_features=64, bias=True)\n",
       "  (conv0): SpectralConv1d()\n",
       "  (conv1): SpectralConv1d()\n",
       "  (conv2): SpectralConv1d()\n",
       "  (conv3): SpectralConv1d()\n",
       "  (w0): Conv1d(64, 64, kernel_size=(1,), stride=(1,))\n",
       "  (w1): Conv1d(64, 64, kernel_size=(1,), stride=(1,))\n",
       "  (w2): Conv1d(64, 64, kernel_size=(1,), stride=(1,))\n",
       "  (w3): Conv1d(64, 64, kernel_size=(1,), stride=(1,))\n",
       "  (fc1): Linear(in_features=64, out_features=128, bias=True)\n",
       "  (fc2): Linear(in_features=128, out_features=2, bias=True)\n",
       ")"
      ]
     },
     "execution_count": 12,
     "metadata": {},
     "output_type": "execute_result"
    }
   ],
   "source": [
    "model = torch.load( './models/fno1_4l.h5')\n",
    "model.eval()"
   ]
  },
  {
   "cell_type": "code",
   "execution_count": 13,
   "id": "6d7730c4",
   "metadata": {},
   "outputs": [
    {
     "name": "stdout",
     "output_type": "stream",
     "text": [
      "RMSE: ---0.0028946503676372743---0.001376380181522979\n",
      "PSNR: ---25.55615333009154---3.4177125903484478\n",
      "SSIM: ---0.8745045623039319---0.04397370631207591\n",
      "UQI: ---0.9936046204007094---0.004814923299372543\n"
     ]
    }
   ],
   "source": [
    "results = model_metrics(model,test_loader,ntrain)"
   ]
  },
  {
   "cell_type": "code",
   "execution_count": 166,
   "id": "f709e885",
   "metadata": {},
   "outputs": [
    {
     "data": {
      "text/plain": [
       "<function matplotlib.pyplot.show(close=None, block=None)>"
      ]
     },
     "execution_count": 166,
     "metadata": {},
     "output_type": "execute_result"
    },
    {
     "data": {
      "image/png": "[encoded data removed]",
      "text/plain": [
       "<Figure size 432x288 with 1 Axes>"
      ]
     },
     "metadata": {
      "needs_background": "light"
     },
     "output_type": "display_data"
    }
   ],
   "source": [
    "metric_type = 'ssim'         # can be the following rms, ssim, psnr\n",
    "\n",
    "fig1, ax1 = plt.subplots()\n",
    "red_cross = dict(markerfacecolor='r', marker='x')\n",
    "data = (results.get(metric_type))\n",
    "\n",
    "ax1.boxplot(data, vert=False, flierprops=red_cross)\n",
    "plt.xlabel(metric_type)\n",
    "plt.show"
   ]
  },
  {
   "cell_type": "code",
   "execution_count": 168,
   "id": "53ce9ef1",
   "metadata": {},
   "outputs": [
    {
     "name": "stdout",
     "output_type": "stream",
     "text": [
      "outliers are anything below  0.7605975790694355  or above  0.9955322651937604\n"
     ]
    }
   ],
   "source": [
    "# Create outlier range\n",
    "q75, q25 = np.percentile(data, [75 ,25])\n",
    "iqr = q75 - q25\n",
    "outliers = [q25-1.5*iqr,q75+1.5*iqr]\n",
    "\n",
    "# zip data\n",
    "data_no = range(len(data))\n",
    "listed_data = zip(data_no,data)\n",
    "\n",
    "data_list = list(listed_data)\n",
    "\n",
    "\n",
    "\n",
    "print('outliers are anything below ',outliers[0],' or above ',outliers[1])\n",
    "\n",
    "outlier_list = []\n",
    "for i in range(len(data)):\n",
    "    if data_list[i][1] < outliers[0]:\n",
    "        outlier_list.append(data_list[i])\n",
    "    elif data_list[i][1] > outliers[1]:\n",
    "        outlier_list.append(data_list[i])\n"
   ]
  },
  {
   "cell_type": "code",
   "execution_count": 169,
   "id": "59e0effe",
   "metadata": {},
   "outputs": [
    {
     "name": "stdout",
     "output_type": "stream",
     "text": [
      "the number of outliers are  38\n",
      "for outliers, the lowest metric value is  0.6458793946076185  and highest is 0.758028408586979\n",
      "(11, 0.6458793946076185)\n",
      "(469, 0.758028408586979)\n"
     ]
    }
   ],
   "source": [
    "print('the number of outliers are ',len(outlier_list) )\n",
    "#worst reconstruction\n",
    "worst = [np.min(np.asarray(outlier_list)[:,1]), np.max(np.asarray(outlier_list)[:,1]) ]\n",
    "print('for outliers, the lowest metric value is ',worst[0],' and highest is', worst[1])\n",
    "\n",
    "# The values for the worst performers! \n",
    "for i in range(len(outlier_list)):\n",
    "    if outlier_list[i][1] ==  worst[0]:\n",
    "        print(outlier_list[i])\n",
    "    elif outlier_list[i][1] == worst[1]:\n",
    "        print(outlier_list[i])\n"
   ]
  },
  {
   "cell_type": "code",
   "execution_count": null,
   "id": "cb159e34",
   "metadata": {},
   "outputs": [],
   "source": []
  },
  {
   "cell_type": "code",
   "execution_count": 170,
   "id": "d86d280b",
   "metadata": {},
   "outputs": [
    {
     "name": "stdout",
     "output_type": "stream",
     "text": [
      "[(11, 0.6458793946076185), (15, 0.7317335395514966), (47, 0.7360059870313853), (72, 0.757514780163765), (96, 0.7514397016167641), (201, 0.7532610933668912), (205, 0.7509385472536088), (303, 0.7408771118521691), (314, 0.7528085832297802), (408, 0.7578902839124203), (410, 0.7555989852547645), (412, 0.7437134182080627), (469, 0.758028408586979), (539, 0.745707793510519), (545, 0.7539971178770065), (682, 0.7235779768228531), (750, 0.7243137860298157), (753, 0.7409269170463085), (759, 0.7292254517413675), (775, 0.7238119912147521), (823, 0.7086074970103801), (939, 0.7373311465233564), (964, 0.7557848236605059), (970, 0.7031246799230576), (1001, 0.7226267969608307), (1218, 0.7256091380119324), (1331, 0.7115033964812756), (1394, 0.7385592818260193), (1531, 0.7164411564171315), (1573, 0.7545085688401013), (1635, 0.6997728721797466), (1661, 0.7542089971899987), (1693, 0.7364997550845146), (1750, 0.716685858424753), (1784, 0.7402453853189945), (1886, 0.7419008302688599), (1932, 0.6867277300357819), (1952, 0.7395341484248639)]\n"
     ]
    }
   ],
   "source": [
    "print(outlier_list)"
   ]
  },
  {
   "cell_type": "code",
   "execution_count": 171,
   "id": "a4223515",
   "metadata": {},
   "outputs": [
    {
     "data": {
      "text/plain": [
       "<matplotlib.colorbar.Colorbar at 0x22a80662bf0>"
      ]
     },
     "execution_count": 171,
     "metadata": {},
     "output_type": "execute_result"
    },
    {
     "data": {
      "image/png": "[encoded data removed]",
      "text/plain": [
       "<Figure size 432x288 with 2 Axes>"
      ]
     },
     "metadata": {
      "needs_background": "light"
     },
     "output_type": "display_data"
    }
   ],
   "source": [
    "test_num = 11\n",
    "\n",
    "# Quickly showing that our model gives expected results. \n",
    "model.eval()\n",
    "K = torch.unsqueeze(test_loader.dataset[test_num][0], 0).cuda()\n",
    "predicted = np.reshape(model(K).detach().cpu().numpy(),(16,16))\n",
    "\n",
    "plt.imshow(predicted)\n",
    "plt.colorbar()"
   ]
  },
  {
   "cell_type": "code",
   "execution_count": 172,
   "id": "43f7a5ad",
   "metadata": {},
   "outputs": [
    {
     "data": {
      "text/plain": [
       "<matplotlib.colorbar.Colorbar at 0x22a807070d0>"
      ]
     },
     "execution_count": 172,
     "metadata": {},
     "output_type": "execute_result"
    },
    {
     "data": {
      "image/png": "[encoded data removed]",
      "text/plain": [
       "<Figure size 432x288 with 2 Axes>"
      ]
     },
     "metadata": {
      "needs_background": "light"
     },
     "output_type": "display_data"
    }
   ],
   "source": [
    "#Actual\n",
    "truth_out = test_loader.dataset[test_num][1]\n",
    "plt.imshow(np.reshape(truth_out.numpy(),(16,16)))\n",
    "plt.colorbar()"
   ]
  },
  {
   "cell_type": "code",
   "execution_count": 56,
   "id": "22094e9f",
   "metadata": {},
   "outputs": [
    {
     "data": {
      "text/plain": [
       "\"'\\n[(13, 37.45871271311937), (105, 34.198502499329095), (176, 34.99373271104959), (279, 35.956186650387565), (329, 37.45871271311937), (351, 37.45871271311937), (418, 34.33680867450399), (463, 34.60681511924516), (556, 37.45871271311937), (571, 34.680421727466026), (572, 36.35967095181604), (582, 34.784840900981514), (721, 34.08103264947673), (758, 35.10849597834047), (810, 34.432132882415516), (816, 35.45720489271959), (834, 34.046182390951486), (938, 33.935244727988845), (1038, 34.16650857188501), (1040, 35.25072994666484), (1079, 34.97871582046673), (1104, 35.02570662031705), (1126, 35.36925286722584), (1138, 34.03140012729431), (1184, 34.79817857682595), (1211, 37.45871271311937), (1241, 34.55248256933281), (1252, 34.078834591461245), (1385, 35.73490016510787), (1433, 34.12425354973291), (1443, 34.32793106777404), (1545, 34.10867786906453), (1567, 36.20483069484536), (1763, 37.45871271311937), (1824, 37.45871271311937), (1835, 34.55595678689426), (1882, 35.633072624067196), (1918, 35.870422175677), (1924, 34.01327735446224), (1997, 37.45871271311937)]\\n\""
      ]
     },
     "execution_count": 56,
     "metadata": {},
     "output_type": "execute_result"
    }
   ],
   "source": [
    "''''\n",
    "[(13, 37.45871271311937), (105, 34.198502499329095), (176, 34.99373271104959), (279, 35.956186650387565), (329, 37.45871271311937), (351, 37.45871271311937), (418, 34.33680867450399), (463, 34.60681511924516), (556, 37.45871271311937), (571, 34.680421727466026), (572, 36.35967095181604), (582, 34.784840900981514), (721, 34.08103264947673), (758, 35.10849597834047), (810, 34.432132882415516), (816, 35.45720489271959), (834, 34.046182390951486), (938, 33.935244727988845), (1038, 34.16650857188501), (1040, 35.25072994666484), (1079, 34.97871582046673), (1104, 35.02570662031705), (1126, 35.36925286722584), (1138, 34.03140012729431), (1184, 34.79817857682595), (1211, 37.45871271311937), (1241, 34.55248256933281), (1252, 34.078834591461245), (1385, 35.73490016510787), (1433, 34.12425354973291), (1443, 34.32793106777404), (1545, 34.10867786906453), (1567, 36.20483069484536), (1763, 37.45871271311937), (1824, 37.45871271311937), (1835, 34.55595678689426), (1882, 35.633072624067196), (1918, 35.870422175677), (1924, 34.01327735446224), (1997, 37.45871271311937)]\n",
    "'''"
   ]
  },
  {
   "cell_type": "code",
   "execution_count": null,
   "id": "095aa01a",
   "metadata": {},
   "outputs": [],
   "source": []
  }
 ],
 "metadata": {
  "kernelspec": {
   "display_name": "Python 3.10.4 ('gundam')",
   "language": "python",
   "name": "python3"
  },
  "language_info": {
   "codemirror_mode": {
    "name": "ipython",
    "version": 3
   },
   "file_extension": ".py",
   "mimetype": "text/x-python",
   "name": "python",
   "nbconvert_exporter": "python",
   "pygments_lexer": "ipython3",
   "version": "3.10.4"
  },
  "vscode": {
   "interpreter": {
    "hash": "cddc3d62f9a7e02ecb46a81ab11648d63c0573e5e13f25e036352996103f8463"
   }
  }
 },
 "nbformat": 4,
 "nbformat_minor": 5
}
