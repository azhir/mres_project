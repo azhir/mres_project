{
 "cells": [
  {
   "cell_type": "code",
   "execution_count": 2,
   "metadata": {},
   "outputs": [
    {
     "name": "stderr",
     "output_type": "stream",
     "text": [
      "c:\\Users\\azhir\\anaconda3\\envs\\gundam\\lib\\site-packages\\tqdm\\auto.py:22: TqdmWarning: IProgress not found. Please update jupyter and ipywidgets. See https://ipywidgets.readthedocs.io/en/stable/user_install.html\n",
      "  from .autonotebook import tqdm as notebook_tqdm\n"
     ]
    }
   ],
   "source": [
    "# initial set-up\n",
    "import numpy as np\n",
    "import torch\n",
    "import torch.nn as nn\n",
    "import torch.nn.functional as F\n",
    "from torch.nn.parameter import Parameter\n",
    "import matplotlib.pyplot as plt\n",
    "from sklearn.model_selection import train_test_split\n",
    "from torch.utils.data import Dataset, DataLoader, TensorDataset\n",
    "import operator\n",
    "from functools import reduce\n",
    "from functools import partial\n",
    "from timeit import default_timer\n",
    "from utilities3 import *\n",
    "\n",
    "from Adam import Adam\n",
    "from sewar.full_ref import rmse, uqi\n",
    "from skimage.metrics import structural_similarity as ssim\n",
    "from skimage.metrics import peak_signal_noise_ratio as psnr\n",
    "\n",
    "torch.manual_seed(0)\n",
    "np.random.seed(0)"
   ]
  },
  {
   "cell_type": "code",
   "execution_count": 3,
   "metadata": {},
   "outputs": [],
   "source": [
    "#  CONFIGURATIONS - HYPER PARAMETERS\n",
    "################################################################\n",
    "#  configurations - HYPER PARAMETERS\n",
    "################################################################\n",
    "epochs = 20\n",
    "batch_size = 10\n",
    "learning_rate = 0.001\n",
    "\n",
    "epochs = 20\n",
    "step_size = 50\n",
    "gamma = 0.5\n",
    "\n",
    "width = 64\n",
    "\n",
    "weight_decay=1e-4\n",
    "\n",
    "# Hyperparameters to change - epoch{10,100,200}, step_size{}, batchsize{}, gamma{}, modes{}, weight_decay{}"
   ]
  },
  {
   "cell_type": "code",
   "execution_count": 4,
   "metadata": {},
   "outputs": [],
   "source": [
    "class CNN_1(nn.Module):\n",
    "    def __init__(self):\n",
    "        super(CNN_1, self).__init__()\n",
    "       \n",
    "        self.fc0 = nn.Linear(64, 256)\n",
    "\n",
    "        self.conv1 = nn.Conv2d(1, 128, kernel_size=5, stride=1, padding=2)\n",
    "        self.conv2 = nn.Conv2d(128, 1, kernel_size=1, stride=1, padding=0)\n",
    "        #self.conv3 = nn.Conv2d(32, 3, kernel_size=5, stride=1, padding=5//2),\n",
    "    def forward(self, x):\n",
    "       \n",
    "        x = self.fc0(x)\n",
    "        x = x.reshape(x.shape[0],1,16,16)\n",
    "\n",
    "        x = self.conv1(x)\n",
    "        x = F.relu(x)\n",
    "\n",
    "        x = self.conv2(x)        \n",
    "        x = F.sigmoid(x)\n",
    "        return x\n",
    "\n",
    "\n",
    "\n",
    "\n",
    "class CNN_2(nn.Module):\n",
    "    def __init__(self):\n",
    "        super(CNN_2, self).__init__()\n",
    "       \n",
    "        self.fc0 = nn.Linear(1, 16)\n",
    "\n",
    "        self.cnn0 = nn.Conv2d(8, 128, 5)\n",
    "\n",
    "        self.fc1 = nn.Linear(128, 128)\n",
    "        self.fc2 = nn.Linear(128,2) \n",
    "\n",
    "    def forward(self, x):\n",
    "       \n",
    "        x = self.fc0(x)\n",
    "        x = x.permute(0, 3, 1, 2)\n",
    "\n",
    "        x = self.cnn0(x)\n",
    "        x = F.relu(x)\n",
    "\n",
    "        x = self.fc1(x)\n",
    "        x = self.fc2(x)        \n",
    "        return x\n",
    "\n",
    "\n",
    "\n",
    "class CNNModel(nn.Module):\n",
    "    def __init__(self):\n",
    "        super(CNNModel, self).__init__()\n",
    "        #Convolution 1\n",
    "        self.cnn1 = nn.Conv2d(in_channels=1, \n",
    "                              out_channels=16,\n",
    "                             kernel_size=5,\n",
    "                             stride=1,\n",
    "                             padding=2)\n",
    "        self.relu1 = nn.ReLU()\n",
    "        # Max Pool 1\n",
    "        self.maxpool1 = nn.MaxPool2d(kernel_size=2)\n",
    "        #Convolution 2\n",
    "        self.cnn2 = nn.Conv2d(in_channels=16, \n",
    "                              out_channels=32,\n",
    "                             kernel_size=5,\n",
    "                             stride=1,\n",
    "                             padding=2)\n",
    "        self.relu2 = nn.ReLU()\n",
    "        # Max Pool 2\n",
    "        self.maxpool2 = nn.MaxPool2d(kernel_size=2)\n",
    "                \n",
    "        self.fc1 = nn.Linear(32*7*7, 2)\n",
    "    \n",
    "    def forward(self, x):\n",
    "        x = x.permute(0, 3, 1, 2)\n",
    "\n",
    "        # C1\n",
    "        out = self.cnn1(x)\n",
    "        out = self.relu1(out)\n",
    "        \n",
    "        #Maxpool1\n",
    "        out = self.maxpool1(out)\n",
    "        \n",
    "        #c1\n",
    "        out = self.cnn2(out)\n",
    "        out = self.relu2(out)\n",
    "        \n",
    "        #Maxpool1\n",
    "        out = self.maxpool2(out)\n",
    "        out = out.view(out.size(0), -1)\n",
    "        #Linear Function\n",
    "        \n",
    "        x = x.permute(0, 2, 3, 1)\n",
    "        out = self.fc1(out)\n",
    "\n",
    "        out = out.reshape(x.shape[0],1,16,16)\n",
    "\n",
    "        #Output \n",
    "        #return F.log_softmax(out,dim=1)\n",
    "        return out \n",
    "\n",
    "\n",
    "class ConvNet(nn.Module):\n",
    "    def __init__(self, num_classes=10):\n",
    "        super(ConvNet, self).__init__()\n",
    "        self.layer1 = nn.Sequential(\n",
    "            nn.Conv2d(1, 16, kernel_size=5, stride=1, padding=2),\n",
    "            nn.BatchNorm2d(16),\n",
    "            nn.ReLU(),\n",
    "            nn.MaxPool2d(kernel_size=2, stride=2))\n",
    "        self.layer2 = nn.Sequential(\n",
    "            nn.Conv2d(16, 32, kernel_size=5, stride=1, padding=2),\n",
    "            nn.BatchNorm2d(32),\n",
    "            nn.ReLU(),\n",
    "            nn.MaxPool2d(kernel_size=2, stride=2))\n",
    "        self.fc = nn.Linear(7*7*32, num_classes)\n",
    "            \n",
    "    def forward(self, x):\n",
    "        out = self.layer1(x)\n",
    "        out = self.layer2(out)\n",
    "        out = out.reshape(out.size(0), -1)\n",
    "        out = self.fc(out)\n",
    "        return out"
   ]
  },
  {
   "cell_type": "code",
   "execution_count": 5,
   "metadata": {},
   "outputs": [
    {
     "name": "stdout",
     "output_type": "stream",
     "text": [
      "training data: measurements torch.Size([8000, 1, 64]) solution torch.Size([8000, 1, 16, 16])\n",
      "training data: measurements torch.Size([2000, 1, 64]) solution torch.Size([2000, 1, 16, 16])\n"
     ]
    },
    {
     "name": "stderr",
     "output_type": "stream",
     "text": [
      "C:\\Users\\azhir\\AppData\\Local\\Temp\\ipykernel_29436\\1690142048.py:10: UserWarning: Casting complex values to real discards the imaginary part (Triggered internally at  C:\\cb\\pytorch_1000000000000\\work\\aten\\src\\ATen\\native\\Copy.cpp:239.)\n",
      "  data_X = torch.from_numpy(data_x).float()\n"
     ]
    }
   ],
   "source": [
    "# DATA LOADING\n",
    "############################## DATA LOADING ########################################\n",
    "raw_data = scipy.io.loadmat('./datasets/final_data')\n",
    "\n",
    "sol = np.asarray(raw_data['solution_data'])\n",
    "mes = np.asarray(raw_data['measurement_data'])\n",
    "\n",
    "\n",
    "def convert_data(data_x, data_y):\n",
    "    data_X = torch.from_numpy(data_x).float()\n",
    "    data_Y = torch.from_numpy(data_y).float()\n",
    "    return data_X, data_Y\n",
    "\n",
    "# we are solving the inverse problem, so going from measurements, to solutions\n",
    "X, y = convert_data(mes, sol)\n",
    "X_train, X_test, y_train, y_test = train_test_split(X, y, test_size=0.2, random_state=42)\n",
    "\n",
    "ntrain = X_train.shape[0]\n",
    "ntest = X_test.shape[0]\n",
    "\n",
    "X_dim = X_train.shape[1]\n",
    "y_dim = y_train.shape[1]\n",
    "\n",
    "X_train = X_train.reshape(ntrain,1,X_dim)\n",
    "X_test = X_test.reshape(ntest,1,X_dim)\n",
    "\n",
    "y_train = y_train.reshape(ntrain,1,16,16)\n",
    "y_test = y_test.reshape(ntest,1,16,16)\n",
    "\n",
    "train_dataset = TensorDataset( X_train, y_train )\n",
    "test_dataset = TensorDataset( X_test, y_test )\n",
    "\n",
    "train_loader = DataLoader(train_dataset, shuffle=True, batch_size=batch_size)\n",
    "test_loader = torch.utils.data.DataLoader(test_dataset, batch_size=batch_size, shuffle=False)\n",
    "\n",
    "print('training data: measurements', X_train.shape, 'solution', y_train.shape)\n",
    "print('training data: measurements', X_test.shape, 'solution', y_test.shape)"
   ]
  },
  {
   "cell_type": "code",
   "execution_count": 6,
   "metadata": {},
   "outputs": [],
   "source": [
    "# MODEL METRICS\n",
    "###################################\n",
    "# MODEL METRICS\n",
    "###################################\n",
    "def model_metrics(model,test_loader,ntrain):\n",
    "    rms_values, psnr_values, ssim_values, uqi_values = [], [], [], []\n",
    "\n",
    "    for test_num in range(ntest):\n",
    "        K = torch.unsqueeze(test_loader.dataset[test_num][0], 0).cuda()\n",
    "        model.eval()\n",
    "\n",
    "        predicted_np = np.reshape(model(K).detach().cpu().numpy(),(16,16))\n",
    "\n",
    "        truth = test_loader.dataset[test_num][1]\n",
    "        truth_np = np.reshape(truth.numpy(),(16,16))\n",
    "\n",
    "        #diff_image = predicted - truth_np\n",
    "        #np.sqrt(np.sum(diff_image**2)/256)\n",
    "\n",
    "        rms_values.append(rmse(predicted_np, truth_np))\n",
    "        psnr_values.append(psnr(truth_np, predicted_np, data_range=predicted_np.max() - predicted_np.min()))\n",
    "        ssim_values.append(ssim(truth_np, predicted_np, data_range=predicted_np.max() - predicted_np.min()))\n",
    "        uqi_values.append(uqi(predicted_np, truth_np))\n",
    "\n",
    "    model_rms = sum(rms_values)/ len(rms_values)\n",
    "    std_rms = np.std(np.array(rms_values))\n",
    "\n",
    "    model_psnr = sum(psnr_values)/ len(psnr_values)\n",
    "    std_psnr = np.std(np.array(psnr_values))\n",
    "\n",
    "    model_ssim = sum(ssim_values)/ len(ssim_values)\n",
    "    std_ssim = np.std(np.array(ssim_values))\n",
    "\n",
    "    model_uqi = sum(uqi_values)/ len(uqi_values)\n",
    "    std_uqi = np.std(np.array(uqi_values))\n",
    "\n",
    "\n",
    "    print(\"RMSE: \", round(model_rms,5), round(std_rms,5), sep=\"---\")\n",
    "    print(\"PSNR: \", round(model_psnr,5), round(std_psnr,5), sep=\"---\")\n",
    "    print(\"SSIM: \", round(model_ssim,5), round(std_ssim,5), sep=\"---\")\n",
    "    #print(\"UQI: \", model_uqi, std_uqi, sep=\"---\")\n",
    "\n",
    "\n",
    "    output = {\n",
    "    \"rms\": rms_values,\n",
    "    \"psnr\": psnr_values,\n",
    "    \"ssim\": ssim_values,\n",
    "    \"uqi\": uqi_values,\n",
    "    # average values\n",
    "    'model_rms': [model_rms,std_rms],\n",
    "    'model_psnr': [model_psnr,std_psnr],\n",
    "    'model_ssim': [model_ssim,std_ssim]\n",
    "    }\n",
    "    return output "
   ]
  },
  {
   "cell_type": "code",
   "execution_count": 7,
   "metadata": {},
   "outputs": [],
   "source": [
    "# TRAINING AND EVALUATION\n",
    "################################################################\n",
    "# TRAINING AND EVALUATION\n",
    "################################################################\n",
    "\n",
    "\n",
    "def train_model(model, epochs, batch_size, learning_rate, weight_decay, step_size, gamma):\n",
    "    optimizer = Adam(model.parameters(), lr=learning_rate, weight_decay=weight_decay)\n",
    "    scheduler = torch.optim.lr_scheduler.StepLR(optimizer, step_size=step_size, gamma=gamma)\n",
    "    train_losses, test_losses, epoch_time = [], [], []\n",
    "\n",
    "    myloss = LpLoss(size_average=False)\n",
    "    for ep in range(epochs):\n",
    "        model.train()\n",
    "        t1 = default_timer()\n",
    "        train_mse = 0\n",
    "        train_l2 = 0\n",
    "        total_time = 0\n",
    "        for x, y in train_loader:\n",
    "            x, y = x.cuda(), y.cuda()\n",
    "\n",
    "            optimizer.zero_grad()\n",
    "            #print('in: ',x.shape)\n",
    "            out = model(x)\n",
    "            #print('out: ',out.shape)\n",
    "\n",
    "            mse = F.mse_loss(out.view(batch_size, -1), y.view(batch_size, -1), reduction='mean')\n",
    "            l2 = myloss(out.view(batch_size, -1), y.view(batch_size, -1))\n",
    "            l2.backward() # use the l2 relative loss\n",
    "\n",
    "            optimizer.step()\n",
    "            train_mse += mse.item()\n",
    "            train_l2 += l2.item()\n",
    "\n",
    "        scheduler.step()\n",
    "        model.eval()\n",
    "        test_l2 = 0.0\n",
    "        with torch.no_grad():\n",
    "            for x, y in test_loader:\n",
    "                x, y = x.cuda(), y.cuda()\n",
    "\n",
    "                out = model(x)\n",
    "                test_l2 += myloss(out.view(batch_size, -1), y.view(batch_size, -1)).item()\n",
    "\n",
    "        #train_mse /= len(train_loader)\n",
    "        train_l2 /= ntrain\n",
    "        train_losses.append(train_l2)\n",
    "        test_l2 /= ntest\n",
    "        test_losses.append(test_l2)\n",
    "\n",
    "\n",
    "        t2 = default_timer()\n",
    "        epoch_time.append(t2 - t1)\n",
    "\n",
    "        print(ep, t2 - t1, train_l2, test_l2)\n",
    "    total_time = sum(epoch_time)\n",
    "    print(\"TOTAL TIME: \", total_time, sep=\"---\")\n",
    "\n",
    "    output = {\n",
    "    \"train_losses\": train_losses,\n",
    "    \"test_losses\": test_losses,\n",
    "    \"epoch_time\": epoch_time,\n",
    "    \"training_time\": total_time,\n",
    "    \"model\": model\n",
    "    }\n",
    "    return output "
   ]
  },
  {
   "cell_type": "code",
   "execution_count": 8,
   "metadata": {},
   "outputs": [
    {
     "data": {
      "text/plain": [
       "<matplotlib.colorbar.Colorbar at 0x2587d16a560>"
      ]
     },
     "execution_count": 8,
     "metadata": {},
     "output_type": "execute_result"
    },
    {
     "data": {
      "image/png": "[encoded data removed]",
      "text/plain": [
       "<Figure size 432x288 with 2 Axes>"
      ]
     },
     "metadata": {
      "needs_background": "light"
     },
     "output_type": "display_data"
    }
   ],
   "source": [
    "#Actual\n",
    "test_num = 434\n",
    "truth_out = test_loader.dataset[test_num][1]\n",
    "plt.imshow(np.reshape(truth_out.numpy(),(16,16)))\n",
    "plt.colorbar()"
   ]
  },
  {
   "cell_type": "code",
   "execution_count": 9,
   "metadata": {},
   "outputs": [
    {
     "name": "stderr",
     "output_type": "stream",
     "text": [
      "c:\\Users\\azhir\\anaconda3\\envs\\gundam\\lib\\site-packages\\torch\\nn\\functional.py:1944: UserWarning: nn.functional.sigmoid is deprecated. Use torch.sigmoid instead.\n",
      "  warnings.warn(\"nn.functional.sigmoid is deprecated. Use torch.sigmoid instead.\")\n"
     ]
    },
    {
     "name": "stdout",
     "output_type": "stream",
     "text": [
      "0 6.891064999974333 0.7253216618001461 0.2643354343771934\n",
      "1 2.3510928000323474 0.2394146531522274 0.20252969682216646\n",
      "2 2.348911799956113 0.20456989689171315 0.21704939329624176\n",
      "3 2.340457299957052 0.1885648288577795 0.21015006494522095\n",
      "4 2.3638669999781996 0.17801872593164444 0.18670438504219056\n",
      "5 2.370814700028859 0.16864402540028095 0.16127094769477845\n",
      "6 2.2822093999711797 0.16351191505789756 0.15675262409448623\n",
      "7 2.4118649000301957 0.15603062200546264 0.15005148285627365\n",
      "8 2.3382708999561146 0.15250522011518478 0.14660456371307373\n",
      "9 2.3051752999890596 0.1486014964133501 0.14026258105039596\n",
      "10 2.2980830000014976 0.14540253522992133 0.13741924867033958\n",
      "11 2.3397157000144944 0.14300626304745673 0.15602109491825103\n",
      "12 2.2805473000044003 0.1415008355304599 0.14177771872282027\n",
      "13 2.2875195000087842 0.1396050970852375 0.1344684471786022\n",
      "14 2.2741953999502584 0.13784533490240575 0.1349910061955452\n",
      "15 2.351549100014381 0.1366789481267333 0.1348559471964836\n",
      "16 2.3066173000261188 0.13545921850204468 0.13161665472388268\n",
      "17 2.3006051999982446 0.13537857174873352 0.13027420091629027\n",
      "18 2.2900916999205947 0.13335993353277445 0.1307732668220997\n",
      "19 2.3865590000059456 0.13265531442314388 0.13776131421327592\n",
      "TOTAL TIME: ---51.11921229981817\n",
      "RMSE: ---0.0037---0.00154\n",
      "PSNR: ---22.16828---2.34644\n",
      "SSIM: ---0.80839---0.04444\n"
     ]
    },
    {
     "data": {
      "text/plain": [
       "<matplotlib.colorbar.Colorbar at 0x2580a161000>"
      ]
     },
     "execution_count": 9,
     "metadata": {},
     "output_type": "execute_result"
    },
    {
     "data": {
      "image/png": "[encoded data removed]",
      "text/plain": [
       "<Figure size 432x288 with 2 Axes>"
      ]
     },
     "metadata": {
      "needs_background": "light"
     },
     "output_type": "display_data"
    }
   ],
   "source": [
    "# SIGMA - TEST NETWORK\n",
    "############################################################################\n",
    "\n",
    "model_fcn_sigma = CNN_1().cuda()\n",
    "output_sigma = train_model(model_fcn_sigma, epochs, batch_size, learning_rate, weight_decay, step_size, gamma)\n",
    "\n",
    "output_sigma_model = output_sigma.get(\"model\")\n",
    "#torch.save(output_1L_model, 'fno2D_1l.h5')\n",
    "results_sigma = model_metrics(output_sigma_model,test_loader,ntrain)\n",
    "\n",
    "# TEST NETWORK RESULTS\n",
    "############################################################################\n",
    "K = torch.unsqueeze(test_loader.dataset[test_num][0], 0).cuda()\n",
    "output_sigma_model.eval()\n",
    "predicted = np.reshape(output_sigma_model(K).detach().cpu().numpy(),(16,16))\n",
    "plt.imshow(predicted)\n",
    "plt.colorbar()"
   ]
  },
  {
   "cell_type": "code",
   "execution_count": 10,
   "metadata": {},
   "outputs": [
    {
     "data": {
      "text/plain": [
       "20097"
      ]
     },
     "execution_count": 10,
     "metadata": {},
     "output_type": "execute_result"
    }
   ],
   "source": [
    "count_params(CNN_1().cuda())"
   ]
  },
  {
   "cell_type": "code",
   "execution_count": 9,
   "metadata": {},
   "outputs": [
    {
     "ename": "SyntaxError",
     "evalue": "incomplete input (4258999843.py, line 2)",
     "output_type": "error",
     "traceback": [
      "\u001b[1;36m  Input \u001b[1;32mIn [9]\u001b[1;36m\u001b[0m\n\u001b[1;33m    \u001b[0m\n\u001b[1;37m    ^\u001b[0m\n\u001b[1;31mSyntaxError\u001b[0m\u001b[1;31m:\u001b[0m incomplete input\n"
     ]
    }
   ],
   "source": [
    "for param in output_sigma_model.parameters():\n",
    "    "
   ]
  },
  {
   "cell_type": "code",
   "execution_count": null,
   "metadata": {},
   "outputs": [],
   "source": [
    "print(output_sigma_model.conv1.weight.detach().cpu().numpy())\n",
    "\n",
    "plt.imshow(output_sigma_model.conv1.weight.detach().cpu().numpy()[100,0,:,:])\n",
    "plt.colorbar()\n"
   ]
  },
  {
   "cell_type": "code",
   "execution_count": null,
   "metadata": {},
   "outputs": [],
   "source": [
    "plt.imshow(output_sigma_model.conv1.weight.detach().cpu().numpy()[11,0,:,:])\n"
   ]
  },
  {
   "cell_type": "code",
   "execution_count": null,
   "metadata": {},
   "outputs": [],
   "source": [
    "plt.imshow(output_sigma_model.conv2.weight.detach().cpu().numpy()[0,0,:,:])\n",
    "plt.colorbar()"
   ]
  },
  {
   "cell_type": "markdown",
   "metadata": {},
   "source": [
    "\n",
    "## No Activation at Output \\\n",
    "TOTAL TIME: ---60.02260470003239 \\\n",
    "RMSE: ---0.0037127026052949028---0.0013857613394051892 \\\n",
    "PSNR: ---22.69011644693345---2.028075345982437 \\\n",
    "SSIM: ---0.8060126236254511---0.04646556360044524 \\\n",
    "UQI: ---0.9899743358159191---0.0055662495667199675 \\\n",
    "\n",
    "\n",
    "# Sigmoid Activation at Output \\\n",
    "TOTAL TIME: ---51.887425200111466 \\\n",
    "RMSE: ---0.0034470120599841055---0.0015170417002827185 \\\n",
    "PSNR: ---23.428421555266524---2.6392534576879516 \\\n",
    "SSIM: ---0.8059130948960732---0.04777352207116035 \\\n",
    "UQI: ---0.9906065019419129---0.0066035246963146174 \\\n",
    "\n"
   ]
  },
  {
   "cell_type": "markdown",
   "metadata": {},
   "source": [
    "# Analaysis for Model"
   ]
  },
  {
   "cell_type": "code",
   "execution_count": null,
   "metadata": {},
   "outputs": [],
   "source": [
    "# Models\n",
    "#############################################################################\n",
    "model = model_fcn_sigma\n",
    "results =  results_sigma"
   ]
  },
  {
   "cell_type": "code",
   "execution_count": null,
   "metadata": {},
   "outputs": [],
   "source": [
    "metric_type = 'ssim'         # can be the following rms, ssim, psnr\n",
    "\n",
    "fig1, ax1 = plt.subplots()\n",
    "red_cross = dict(markerfacecolor='r', marker='x')\n",
    "data = (results.get(metric_type))\n",
    "\n",
    "ax1.boxplot(data, vert=False, flierprops=red_cross)\n",
    "plt.xlabel(metric_type)\n",
    "plt.show"
   ]
  },
  {
   "cell_type": "code",
   "execution_count": null,
   "metadata": {},
   "outputs": [],
   "source": [
    "# Create outlier range\n",
    "q75, q25 = np.percentile(data, [75 ,25])\n",
    "iqr = q75 - q25\n",
    "outliers = [q25-1.5*iqr,q75+1.5*iqr]\n",
    "\n",
    "# zip data\n",
    "data_no = range(len(data))\n",
    "listed_data = zip(data_no,data)\n",
    "\n",
    "data_list = list(listed_data)\n",
    "\n",
    "\n",
    "\n",
    "print('outliers are anything below ',outliers[0],' or above ',outliers[1])\n",
    "\n",
    "outlier_list = []\n",
    "for i in range(len(data)):\n",
    "    if data_list[i][1] < outliers[0]:\n",
    "        outlier_list.append(data_list[i])\n",
    "    elif data_list[i][1] > outliers[1]:\n",
    "        outlier_list.append(data_list[i])\n"
   ]
  },
  {
   "cell_type": "code",
   "execution_count": null,
   "metadata": {},
   "outputs": [],
   "source": [
    "print('the number of outliers are ',len(outlier_list) )\n",
    "#worst reconstruction\n",
    "worst = [np.min(np.asarray(outlier_list)[:,1]), np.max(np.asarray(outlier_list)[:,1]) ]\n",
    "print('for outliers, the lowest metric value is ',worst[0],' and highest is', worst[1])\n",
    "\n",
    "# The values for the worst performers! \n",
    "for i in range(len(outlier_list)):\n",
    "    if outlier_list[i][1] ==  worst[0]:\n",
    "        print(outlier_list[i])\n",
    "    elif outlier_list[i][1] == worst[1]:\n",
    "        print(outlier_list[i])\n"
   ]
  },
  {
   "cell_type": "code",
   "execution_count": null,
   "metadata": {},
   "outputs": [],
   "source": [
    "print(outlier_list)"
   ]
  },
  {
   "cell_type": "code",
   "execution_count": null,
   "metadata": {},
   "outputs": [],
   "source": [
    "#Actual\n",
    "name = 'ccn_'\n",
    "test_num = 1504\n",
    "\n",
    "truth_out = test_loader.dataset[test_num][1]\n",
    "plt.imshow(np.reshape(truth_out.numpy(),(16,16)))\n",
    "plt.colorbar()\n",
    "\n",
    "\n",
    "save_truth = name + metric_type + str(test_num)\n",
    "#plt.savefig('./images/'+save_truth)"
   ]
  },
  {
   "cell_type": "code",
   "execution_count": null,
   "metadata": {},
   "outputs": [],
   "source": [
    "# Quickly showing that our model gives expected results. \n",
    "model.eval()\n",
    "K = torch.unsqueeze(test_loader.dataset[test_num][0], 0).cuda()\n",
    "predicted = np.reshape(model(K).detach().cpu().numpy(),(16,16))\n",
    "\n",
    "plt.imshow(predicted)\n",
    "plt.colorbar()\n",
    "\n",
    "save_recon = save_truth + '_recon'\n",
    "plt.savefig('./images/' + save_recon)"
   ]
  },
  {
   "cell_type": "code",
   "execution_count": null,
   "metadata": {},
   "outputs": [],
   "source": [
    "test_num = 12\n",
    "\n",
    "truth_out = test_loader.dataset[test_num][1]\n",
    "plt.imshow(np.reshape(truth_out.numpy(),(16,16)))\n",
    "plt.colorbar()\n",
    "\n",
    "print(truth_out.shape)"
   ]
  },
  {
   "cell_type": "code",
   "execution_count": null,
   "metadata": {},
   "outputs": [],
   "source": [
    "temp = np.reshape(truth_out.numpy(),(16,16))\n",
    "zoom = temp[2:5,12:15]\n",
    "\n",
    "plt.imshow(zoom)\n",
    "plt.colorbar()"
   ]
  },
  {
   "cell_type": "code",
   "execution_count": null,
   "metadata": {},
   "outputs": [],
   "source": [
    "zoom_list = [(2,5,5,8),(2,5,12,15),(5,8,8,1),(6,9,2,5)]"
   ]
  },
  {
   "cell_type": "code",
   "execution_count": null,
   "metadata": {},
   "outputs": [],
   "source": [
    "original = np.reshape(truth_out.numpy(),(16,16))\n",
    "\n",
    "index = zoom_list[1]\n",
    "\n",
    "original_box = original[index[0]:index[1],index[2]:index[3]]\n",
    "\n",
    "\n",
    "plt.imshow(original_box)\n",
    "plt.colorbar()"
   ]
  },
  {
   "cell_type": "code",
   "execution_count": null,
   "metadata": {},
   "outputs": [],
   "source": [
    "model.eval()\n",
    "K = torch.unsqueeze(test_loader.dataset[test_num][0], 0).cuda()\n",
    "recon = np.reshape(model(K).detach().cpu().numpy(),(16,16))\n",
    "\n",
    "recon_box = recon[index[0]:index[1],index[2]:index[3]]\n",
    "\n",
    "plt.imshow(recon_box)\n",
    "plt.colorbar()"
   ]
  },
  {
   "cell_type": "markdown",
   "metadata": {},
   "source": [
    "# TEST STUFF OUT "
   ]
  },
  {
   "cell_type": "code",
   "execution_count": null,
   "metadata": {},
   "outputs": [],
   "source": [
    "total_step = len(train_loader)\n",
    "for epoch in range(num_epochs):\n",
    "    for i, (images, labels) in enumerate(train_loader):\n",
    "        images = images.to(device)\n",
    "        labels = labels.to(device)\n",
    "        \n",
    "        # Forward pass\n",
    "        outputs = model(images)\n",
    "        loss = criterion(outputs, labels)\n",
    "        \n",
    "        # Backward and optimize\n",
    "        optimizer.zero_grad()\n",
    "        loss.backward()\n",
    "        optimizer.step()\n",
    "        \n",
    "        if (i+1) % 100 == 0:\n",
    "            print ('Epoch [{}/{}], Step [{}/{}], Loss: {:.4f}' \n",
    "                   .format(epoch+1, num_epochs, i+1, total_step, loss.item()))\n",
    "\n",
    "# Test the model\n",
    "model.eval()  # eval mode (batchnorm uses moving mean/variance instead of mini-batch mean/variance)\n",
    "with torch.no_grad():\n",
    "    correct = 0\n",
    "    total = 0\n",
    "    for images, labels in test_loader:\n",
    "        images = images.to(device)\n",
    "        labels = labels.to(device)\n",
    "        outputs = model(images)\n",
    "        _, predicted = torch.max(outputs.data, 1)\n",
    "        total += labels.size(0)\n",
    "        correct += (predicted == labels).sum().item()\n",
    "\n",
    "    print('Test Accuracy of the model on the 10000 test images: {} %'.format(100 * correct / total))"
   ]
  }
 ],
 "metadata": {
  "kernelspec": {
   "display_name": "Python 3.10.4 ('gundam')",
   "language": "python",
   "name": "python3"
  },
  "language_info": {
   "codemirror_mode": {
    "name": "ipython",
    "version": 3
   },
   "file_extension": ".py",
   "mimetype": "text/x-python",
   "name": "python",
   "nbconvert_exporter": "python",
   "pygments_lexer": "ipython3",
   "version": "3.10.4"
  },
  "orig_nbformat": 4,
  "vscode": {
   "interpreter": {
    "hash": "cddc3d62f9a7e02ecb46a81ab11648d63c0573e5e13f25e036352996103f8463"
   }
  }
 },
 "nbformat": 4,
 "nbformat_minor": 2
}
