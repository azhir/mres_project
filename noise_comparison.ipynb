{
 "cells": [
  {
   "cell_type": "code",
   "execution_count": 1,
   "metadata": {},
   "outputs": [
    {
     "name": "stderr",
     "output_type": "stream",
     "text": [
      "c:\\Users\\azhir\\anaconda3\\envs\\gundam\\lib\\site-packages\\tqdm\\auto.py:22: TqdmWarning: IProgress not found. Please update jupyter and ipywidgets. See https://ipywidgets.readthedocs.io/en/stable/user_install.html\n",
      "  from .autonotebook import tqdm as notebook_tqdm\n"
     ]
    }
   ],
   "source": [
    "# initial set-up\n",
    "import numpy as np\n",
    "import torch\n",
    "import torch.nn as nn\n",
    "import torch.nn.functional as F\n",
    "from torch.nn.parameter import Parameter\n",
    "import matplotlib.pyplot as plt\n",
    "from sklearn.model_selection import train_test_split\n",
    "from torch.utils.data import Dataset, DataLoader, TensorDataset\n",
    "import operator\n",
    "from functools import reduce\n",
    "from functools import partial\n",
    "from timeit import default_timer\n",
    "from utilities3 import *\n",
    "\n",
    "from Adam import Adam\n",
    "from sewar.full_ref import rmse, uqi\n",
    "from skimage.metrics import structural_similarity as ssim\n",
    "from skimage.metrics import peak_signal_noise_ratio as psnr\n",
    "import timeit\n",
    "\n",
    "torch.manual_seed(0)\n",
    "np.random.seed(0)"
   ]
  },
  {
   "cell_type": "code",
   "execution_count": 2,
   "metadata": {},
   "outputs": [],
   "source": [
    "#  CONFIGURATIONS - HYPER PARAMETERS\n",
    "################################################################\n",
    "#  configurations - HYPER PARAMETERS\n",
    "################################################################\n",
    "epochs = 20\n",
    "batch_size = 10\n",
    "learning_rate = 0.001\n",
    "epochs = 20\n",
    "step_size = 50\n",
    "gamma = 0.5\n",
    "\n",
    "weight_decay=1e-4\n",
    "\n",
    "width_fno = 64\n",
    "width_fcn = 400\n",
    "modes = 5\n",
    "\n",
    "ntrain = 8000\n",
    "ntest = 2000\n",
    "# Hyperparameters to change - epoch{10,100,200}, step_size{}, batchsize{}, gamma{}, modes{}, weight_decay{}"
   ]
  },
  {
   "cell_type": "code",
   "execution_count": 28,
   "metadata": {},
   "outputs": [],
   "source": [
    "# DATA LOADING\n",
    "############################## DATA LOADING ########################################\n",
    "raw_data = scipy.io.loadmat('./datasets/complete_data')\n",
    "sol = np.asarray(raw_data['solution_data'])\n",
    "\n",
    "measurement_list = ['measurement_data', 'noise_0005', 'noise_0010', 'noise_0015', 'noise_0020', 'noise_0025', 'noise_0030']\n",
    "noise_levels = [0, 0.005, 0.010, 0.015, 0.020, 0.025, 0.030]\n",
    "ntrain = 8000\n",
    "ntest = 2000\n",
    "\n",
    "def convert_data(data_x, data_y):\n",
    "    data_X = torch.from_numpy(data_x).float()\n",
    "    data_Y = torch.from_numpy(data_y).float()\n",
    "    return data_X, data_Y\n"
   ]
  },
  {
   "cell_type": "code",
   "execution_count": 37,
   "metadata": {},
   "outputs": [],
   "source": [
    "mes1 = np.asarray(raw_data['measurement_data'])\n",
    "mes2 = np.asarray(raw_data['noise_0030'])\n"
   ]
  },
  {
   "cell_type": "code",
   "execution_count": 43,
   "metadata": {},
   "outputs": [
    {
     "data": {
      "image/png": "[encoded data removed]",
      "text/plain": [
       "<Figure size 432x288 with 2 Axes>"
      ]
     },
     "metadata": {
      "needs_background": "light"
     },
     "output_type": "display_data"
    }
   ],
   "source": [
    "plt.imshow(mes1[10,:].reshape(8,8))\n",
    "plt.colorbar()\n",
    "plt.savefig('./images/true_mes')"
   ]
  },
  {
   "cell_type": "code",
   "execution_count": 42,
   "metadata": {},
   "outputs": [
    {
     "data": {
      "image/png": "[encoded data removed]",
      "text/plain": [
       "<Figure size 432x288 with 2 Axes>"
      ]
     },
     "metadata": {
      "needs_background": "light"
     },
     "output_type": "display_data"
    }
   ],
   "source": [
    "plt.imshow(mes1[10,:].reshape(8,8) - mes2[10,:].reshape(8,8))\n",
    "plt.colorbar()\n",
    "plt.savefig('./images/noise_diff')"
   ]
  },
  {
   "cell_type": "code",
   "execution_count": 4,
   "metadata": {},
   "outputs": [],
   "source": [
    "# DATA LOADING FNO \n",
    "######################################################################\n",
    "\n",
    "def normalize_data_fno(noise):\n",
    "    mes = np.asarray(raw_data[measurement_list[noise]])\n",
    "\n",
    "\n",
    "    sol_temp = np.expand_dims(sol,axis = 1 )\n",
    "    #sol_temp = np.sqeeze(sol_temp)\n",
    "    mes_temp = np.transpose(np.expand_dims(mes,axis = 1 ),(0,2,1))\n",
    "\n",
    "    # dimensions of solution space\n",
    "    y_dim1 = 16\n",
    "    y_dim2 = 16\n",
    "\n",
    "    # dimensions of measurement space\n",
    "    x_dim2 = 8     # no of detectors\n",
    "    x_dim1 = int(mes.shape[1]/x_dim2)\n",
    "\n",
    "\n",
    "    # we are solving the inverse problem, so going from measurements, to solutions\n",
    "    X, y = convert_data(mes_temp, sol_temp)\n",
    "    X_train, X_test, y_train, y_test = train_test_split(X, y, test_size=0.2, random_state=42)\n",
    "\n",
    "\n",
    "    y_train = y_train.squeeze()\n",
    "    y_test = y_test.squeeze()\n",
    "\n",
    "    y_test = y_test.reshape(y_test.shape[0],y_dim1,y_dim2,1)\n",
    "    y_train = y_train.reshape(y_train.shape[0],y_dim1,y_dim2,1)\n",
    "\n",
    "    X_test = X_test.reshape(X_test.shape[0], x_dim1,x_dim2,1)\n",
    "    X_train = X_train.reshape(X_train.shape[0], x_dim1,x_dim2,1)\n",
    "\n",
    "    train_dataset = TensorDataset( X_train, y_train )\n",
    "    test_dataset = TensorDataset( X_test, y_test )\n",
    "\n",
    "    train_loader = DataLoader(train_dataset, shuffle=True, batch_size=batch_size)\n",
    "    test_loader = torch.utils.data.DataLoader(test_dataset, batch_size=batch_size, shuffle=False)\n",
    "\n",
    "    print(X_train.shape, y_train.shape)\n",
    "    return train_loader, test_loader"
   ]
  },
  {
   "cell_type": "code",
   "execution_count": null,
   "metadata": {},
   "outputs": [],
   "source": [
    "# LOAD FCN DATA\n",
    "############################## DATA LOADING ########################################\n",
    "def normalize_data_fcn(noise):\n",
    "    mes = np.asarray(raw_data[measurement_list[noise]])\n",
    "\n",
    "    # we are solving the inverse problem, so going from measurements, to solutions\n",
    "    X, y = convert_data(mes, sol)\n",
    "    X_train, X_test, y_train, y_test = train_test_split(X, y, test_size=0.2, random_state=42)\n",
    "\n",
    "    train_dataset = TensorDataset( X_train, y_train )\n",
    "    test_dataset = TensorDataset( X_test, y_test )\n",
    "\n",
    "    train_loader = DataLoader(train_dataset, shuffle=True, batch_size=batch_size)\n",
    "    test_loader = torch.utils.data.DataLoader(test_dataset, batch_size=batch_size, shuffle=False)\n",
    "\n",
    "    print('training: measurement', X_train.shape, 'solution', y_train.shape)\n",
    "    print('test: measurement', X_test.shape, 'solution', y_test.shape)\n",
    "    return train_loader, test_loader"
   ]
  },
  {
   "cell_type": "code",
   "execution_count": null,
   "metadata": {},
   "outputs": [],
   "source": [
    "def normalize_data_cnn(noise):\n",
    "    mes = np.asarray(raw_data[measurement_list[noise]])\n",
    "    # we are solving the inverse problem, so going from measurements, to solutions\n",
    "    X, y = convert_data(mes, sol)\n",
    "    X_train, X_test, y_train, y_test = train_test_split(X, y, test_size=0.2, random_state=42)\n",
    "\n",
    "    ntrain = X_train.shape[0]\n",
    "    ntest = X_test.shape[0]\n",
    "\n",
    "    X_dim = X_train.shape[1]\n",
    "    y_dim = y_train.shape[1]\n",
    "\n",
    "    X_train = X_train.reshape(ntrain,1,X_dim)\n",
    "    X_test = X_test.reshape(ntest,1,X_dim)\n",
    "\n",
    "    y_train = y_train.reshape(ntrain,1,16,16)\n",
    "    y_test = y_test.reshape(ntest,1,16,16)\n",
    "\n",
    "    train_dataset = TensorDataset( X_train, y_train )\n",
    "    test_dataset = TensorDataset( X_test, y_test )\n",
    "\n",
    "    train_loader = DataLoader(train_dataset, shuffle=True, batch_size=batch_size)\n",
    "    test_loader = torch.utils.data.DataLoader(test_dataset, batch_size=batch_size, shuffle=False)\n",
    "\n",
    "    print('training data: measurements', X_train.shape, 'solution', y_train.shape)\n",
    "    print('training data: measurements', X_test.shape, 'solution', y_test.shape)\n",
    "    return train_loader, test_loader"
   ]
  },
  {
   "cell_type": "code",
   "execution_count": null,
   "metadata": {},
   "outputs": [],
   "source": [
    "def normalize_data_cnn2(noise):\n",
    "    mes = np.asarray(raw_data[measurement_list[noise]])\n",
    "    # we are solving the inverse problem, so going from measurements, to solutions\n",
    "    X, y = convert_data(mes, sol)\n",
    "    X_train, X_test, y_train, y_test = train_test_split(X, y, test_size=0.2, random_state=42)\n",
    "\n",
    "    X_train = X_train.reshape(ntrain,1,8,8)\n",
    "    X_test = X_test.reshape(ntest,1,8,8)\n",
    "\n",
    "    y_train = y_train.reshape(ntrain,1,16,16)\n",
    "    y_test = y_test.reshape(ntest,1,16,16)\n",
    "\n",
    "    train_dataset = TensorDataset( X_train, y_train )\n",
    "    test_dataset = TensorDataset( X_test, y_test )\n",
    "\n",
    "    train_loader = DataLoader(train_dataset, shuffle=True, batch_size=batch_size)\n",
    "    test_loader = torch.utils.data.DataLoader(test_dataset, batch_size=batch_size, shuffle=False)\n",
    "\n",
    "    print('training data: measurements', X_train.shape, 'solution', y_train.shape)\n",
    "    print('training data: measurements', X_test.shape, 'solution', y_test.shape)\n",
    "    return train_loader, test_loader"
   ]
  },
  {
   "cell_type": "code",
   "execution_count": 5,
   "metadata": {},
   "outputs": [],
   "source": [
    "# MODEL METRICS\n",
    "###################################\n",
    "\n",
    "def model_metrics(model,test_loader,ntrain):\n",
    "    rms_values, psnr_values, ssim_values, uqi_values = [], [], [], []\n",
    "\n",
    "    for test_num in range(ntest):\n",
    "        K = torch.unsqueeze(test_loader.dataset[test_num][0], 0).cuda()\n",
    "        model.eval()\n",
    "\n",
    "        predicted_np = np.reshape(model(K).detach().cpu().numpy(),(16,16))\n",
    "\n",
    "        truth = test_loader.dataset[test_num][1]\n",
    "        truth_np = np.reshape(truth.numpy(),(16,16))\n",
    "\n",
    "        #diff_image = predicted - truth_np\n",
    "        #np.sqrt(np.sum(diff_image**2)/256)\n",
    "\n",
    "        rms_values.append(rmse(predicted_np, truth_np))\n",
    "        psnr_values.append(psnr(truth_np, predicted_np, data_range=predicted_np.max() - predicted_np.min()))\n",
    "        ssim_values.append(ssim(truth_np, predicted_np, data_range=predicted_np.max() - predicted_np.min()))\n",
    "        uqi_values.append(uqi(predicted_np, truth_np))\n",
    "\n",
    "    model_rms = sum(rms_values)/ len(rms_values)\n",
    "    std_rms = np.std(np.array(rms_values))\n",
    "\n",
    "    model_psnr = sum(psnr_values)/ len(psnr_values)\n",
    "    std_psnr = np.std(np.array(psnr_values))\n",
    "\n",
    "    model_ssim = sum(ssim_values)/ len(ssim_values)\n",
    "    std_ssim = np.std(np.array(ssim_values))\n",
    "\n",
    "    model_uqi = sum(uqi_values)/ len(uqi_values)\n",
    "    std_uqi = np.std(np.array(uqi_values))\n",
    "\n",
    "\n",
    "    print(\"RMSE: \", round(model_rms,5), round(std_rms,5), sep=\"---\")\n",
    "    print(\"PSNR: \", round(model_psnr,5), round(std_psnr,5), sep=\"---\")\n",
    "    print(\"SSIM: \", round(model_ssim,5), round(std_ssim,5), sep=\"---\")\n",
    "    #print(\"UQI: \", model_uqi, std_uqi, sep=\"---\")\n",
    "\n",
    "\n",
    "    output = {\n",
    "    \"rms\": rms_values,\n",
    "    \"psnr\": psnr_values,\n",
    "    \"ssim\": ssim_values,\n",
    "    \"uqi\": uqi_values,\n",
    "    # average values\n",
    "    'model_rms': [round(model_rms,5),round(std_rms,5)],\n",
    "    'model_psnr': [round(model_psnr,5),round(std_psnr,5)],\n",
    "    'model_ssim': [round(model_ssim,5),round(std_ssim,5)]\n",
    "    }\n",
    "    return output "
   ]
  },
  {
   "cell_type": "code",
   "execution_count": 6,
   "metadata": {},
   "outputs": [],
   "source": [
    "# TRAINING AND EVALUATION\n",
    "################################################################\n",
    "\n",
    "def train_model(model, epochs, batch_size, learning_rate, weight_decay, step_size, gamma, load_train, load_test):\n",
    "    optimizer = Adam(model.parameters(), lr=learning_rate, weight_decay=weight_decay)\n",
    "    scheduler = torch.optim.lr_scheduler.StepLR(optimizer, step_size=step_size, gamma=gamma)\n",
    "    train_losses, test_losses, epoch_time = [], [], []\n",
    "\n",
    "    myloss = LpLoss(size_average=False)\n",
    "    for ep in range(epochs):\n",
    "        model.train()\n",
    "        t1 = default_timer()\n",
    "        train_mse = 0\n",
    "        train_l2 = 0\n",
    "        total_time = 0\n",
    "        for x, y in load_train:\n",
    "            x, y = x.cuda(), y.cuda()\n",
    "\n",
    "            optimizer.zero_grad()\n",
    "            #print('in: ',x.shape)\n",
    "            out = model(x)\n",
    "            #print('out: ',out.shape)\n",
    "\n",
    "            mse = F.mse_loss(out.view(batch_size, -1), y.view(batch_size, -1), reduction='mean')\n",
    "            l2 = myloss(out.view(batch_size, -1), y.view(batch_size, -1))\n",
    "            l2.backward() # use the l2 relative loss\n",
    "\n",
    "            optimizer.step()\n",
    "            train_mse += mse.item()\n",
    "            train_l2 += l2.item()\n",
    "\n",
    "        scheduler.step()\n",
    "        model.eval()\n",
    "        test_l2 = 0.0\n",
    "        with torch.no_grad():\n",
    "            for x, y in load_test:\n",
    "                x, y = x.cuda(), y.cuda()\n",
    "\n",
    "                out = model(x)\n",
    "                test_l2 += myloss(out.view(batch_size, -1), y.view(batch_size, -1)).item()\n",
    "\n",
    "        #train_mse /= len(train_loader)\n",
    "        train_l2 /= ntrain\n",
    "        train_losses.append(train_l2)\n",
    "        test_l2 /= ntest\n",
    "        test_losses.append(test_l2)\n",
    "\n",
    "\n",
    "        t2 = default_timer()\n",
    "        epoch_time.append(t2 - t1)\n",
    "\n",
    "        print(ep, t2 - t1, train_l2, test_l2)\n",
    "    total_time = sum(epoch_time)\n",
    "    print(\"TOTAL TIME: \", round(total_time,2), sep=\"---\")\n",
    "\n",
    "    output = {\n",
    "    \"train_losses\": train_losses,\n",
    "    \"test_losses\": test_losses,\n",
    "    \"epoch_time\": epoch_time,\n",
    "    \"training_time\": total_time,\n",
    "    \"model\": model\n",
    "    }\n",
    "    return output "
   ]
  },
  {
   "cell_type": "code",
   "execution_count": 7,
   "metadata": {},
   "outputs": [],
   "source": [
    "#   DEFINING THE TOP 2D FOURIER LAYER\n",
    "#####################################################################\n",
    "\n",
    "class SpectralConv2d(nn.Module):\n",
    "    def __init__(self, in_channels, out_channels, modes1, modes2):\n",
    "        super(SpectralConv2d, self).__init__()\n",
    "\n",
    "        \"\"\"\n",
    "        2D Fourier layer. It does FFT, linear transform, and Inverse FFT.    \n",
    "        \"\"\"\n",
    "\n",
    "        self.in_channels = in_channels\n",
    "        self.out_channels = out_channels\n",
    "        self.modes1 = modes1 #Number of Fourier modes to multiply, at most floor(N/2) + 1\n",
    "        self.modes2 = modes2\n",
    "\n",
    "        self.scale = (1 / (in_channels * out_channels))\n",
    "        self.weights1 = nn.Parameter(self.scale * torch.rand(in_channels, out_channels, self.modes1, self.modes2, dtype=torch.cfloat))\n",
    "        self.weights2 = nn.Parameter(self.scale * torch.rand(in_channels, out_channels, self.modes1, self.modes2, dtype=torch.cfloat))\n",
    "\n",
    "    # Complex multiplication\n",
    "    def compl_mul2d(self, input, weights):\n",
    "        # (batch, in_channel, x,y ), (in_channel, out_channel, x,y) -> (batch, out_channel, x,y)\n",
    "        #print('input',input.shape)\n",
    "        #print('weights',weights.shape)\n",
    "        #print(\"bixy,ioxy->boxy\")\n",
    "        R_out = torch.einsum(\"bixy,ioxy->boxy\", input, weights)\n",
    "        #print(R_out.shape)\n",
    "        return R_out            # WEIGHT FOR SPECTRAL LAYERS\n",
    "\n",
    "    def forward(self, x):\n",
    "        batchsize = x.shape[0]\n",
    "        #Compute Fourier coeffcients up to factor of e^(- something constant)\n",
    "        x_ft = torch.fft.rfft2(x)\n",
    "\n",
    "        # Multiply relevant Fourier modes\n",
    "        out_ft = torch.zeros(batchsize, self.out_channels,  x.size(-2), x.size(-1)//2 + 1, dtype=torch.cfloat, device=x.device)\n",
    "        #print('what is out_ft', out_ft.shape)\n",
    "        out_ft[:, :, :self.modes1, :self.modes2] = \\\n",
    "            self.compl_mul2d(x_ft[:, :, :self.modes1, :self.modes2], self.weights1)\n",
    "        out_ft[:, :, -self.modes1:, :self.modes2] = \\\n",
    "            self.compl_mul2d(x_ft[:, :, -self.modes1:, :self.modes2], self.weights2)\n",
    "        #Return to physical space\n",
    "        x = torch.fft.irfft2(out_ft, s=(x.size(-2), x.size(-1)))\n",
    "        return x"
   ]
  },
  {
   "cell_type": "code",
   "execution_count": 8,
   "metadata": {},
   "outputs": [],
   "source": [
    "# MODELS\n",
    "############################ 8 FOURIER LAYER NETWORK ARCHITECTURE #############################################\n",
    "class FNO(nn.Module):\n",
    "    def __init__(self, modes1, modes2,  width):\n",
    "        super(FNO, self).__init__()\n",
    "\n",
    "        \"\"\"\n",
    "        The overall network. It contains 4 layers of the Fourier layer.\n",
    "        1. Lift the input to the desire channel dimension by self.fc0 .\n",
    "        2. 4 layers of the integral operators u' = (W + K)(u).\n",
    "            W defined by self.w; K defined by self.conv .\n",
    "        3. Project from the channel space to the output space by self.fc1 and self.fc2 .\n",
    "        \n",
    "        input: the solution of the coefficient function and locations (a(x, y), x, y)\n",
    "        input shape: (batchsize, x=s, y=s, c=3)\n",
    "        output: the solution \n",
    "        output shape: (batchsize, x=s, y=s, c=1)\n",
    "        \"\"\"\n",
    "\n",
    "        self.modes1 = modes1\n",
    "        self.modes2 = modes2\n",
    "        self.width = width\n",
    "        self.padding = 16 # pad the domain if input is non-periodic\n",
    "        self.fc0 = nn.Linear(1, self.width) # input channel is 3: (a(x, y), x, y)\n",
    "\n",
    "        self.conv0 = SpectralConv2d(self.width, self.width, self.modes1, self.modes2)\n",
    "        self.conv1 = SpectralConv2d(self.width, self.width, self.modes1, self.modes2)\n",
    "        self.conv2 = SpectralConv2d(self.width, self.width, self.modes1, self.modes2)\n",
    "        self.conv3 = SpectralConv2d(self.width, self.width, self.modes1, self.modes2)\n",
    "        self.conv4 = SpectralConv2d(self.width, self.width, self.modes1, self.modes2)\n",
    "        self.conv5 = SpectralConv2d(self.width, self.width, self.modes1, self.modes2)\n",
    "        self.conv6 = SpectralConv2d(self.width, self.width, self.modes1, self.modes2)\n",
    "        self.conv7 = SpectralConv2d(self.width, self.width, self.modes1, self.modes2)\n",
    "        self.w0 = nn.Conv2d(self.width, self.width, 1)\n",
    "        self.w1 = nn.Conv2d(self.width, self.width, 1)\n",
    "        self.w2 = nn.Conv2d(self.width, self.width, 1)\n",
    "        self.w3 = nn.Conv2d(self.width, self.width, 1)\n",
    "        self.w4 = nn.Conv2d(self.width, self.width, 1)\n",
    "        self.w5 = nn.Conv2d(self.width, self.width, 1)\n",
    "        self.w6 = nn.Conv2d(self.width, self.width, 1)\n",
    "        self.w7 = nn.Conv2d(self.width, self.width, 1)\n",
    "\n",
    "\n",
    "\n",
    "        self.fc1 = nn.Linear(self.width, 128)\n",
    "        self.fc2 = nn.Linear(128, 4)\n",
    "\n",
    "    def forward(self, x):\n",
    "        #grid = self.get_grid(x.shape, x.device)\n",
    "        #print('x grid input shape', x.shape, 'grid input shape', grid.shape)\n",
    "        #x = torch.cat((x, grid), dim=-1)\n",
    "        x = self.fc0(x)\n",
    "        x = x.permute(0, 3, 1, 2)\n",
    "        #x = F.pad(x, [0,self.padding, 0,self.padding])\n",
    "\n",
    "        x1 = self.conv0(x)\n",
    "        x2 = self.w0(x)\n",
    "        x = x1 + x2\n",
    "        x = F.gelu(x)\n",
    "\n",
    "        x1 = self.conv1(x)\n",
    "        x2 = self.w1(x)\n",
    "        x = x1 + x2\n",
    "        x = F.gelu(x)\n",
    "\n",
    "        x1 = self.conv2(x)\n",
    "        x2 = self.w2(x)                \n",
    "        x = x1 + x2\n",
    "        x = F.gelu(x)\n",
    "\n",
    "        x1 = self.conv3(x)\n",
    "        x2 = self.w3(x)\n",
    "        x = x1 + x2\n",
    "        x = F.gelu(x)\n",
    "\n",
    "\n",
    "        x1 = self.conv4(x)\n",
    "        x2 = self.w4(x)\n",
    "        x = x1 + x2\n",
    "        x = F.gelu(x)\n",
    "\n",
    "\n",
    "        x1 = self.conv5(x)\n",
    "        x2 = self.w5(x)\n",
    "        x = x2\n",
    "        x = F.gelu(x)\n",
    "\n",
    "        x1 = self.conv6(x)\n",
    "        x2 = self.w6(x)\n",
    "        x = x1 + x2\n",
    "        x = F.gelu(x)\n",
    "\n",
    "        x1 = self.conv7(x)\n",
    "        x2 = self.w7(x)\n",
    "        x = x1 + x2\n",
    "        \n",
    "        #x = x[..., :-self.padding, :-self.padding]\n",
    "        x = x.permute(0, 2, 3, 1)\n",
    "        x = self.fc1(x)\n",
    "        x = F.gelu(x)\n",
    "        x = self.fc2(x)\n",
    "        return x\n",
    "\n",
    "########### CNN\n",
    "#####################################################################\n",
    "class CNN(nn.Module):\n",
    "    def __init__(self):\n",
    "        super(CNN, self).__init__()\n",
    "       \n",
    "        self.fc0 = nn.Linear(64, 256)\n",
    "        self.conv1 = nn.Conv2d(1, 128, kernel_size=5, stride=1, padding=2)\n",
    "        self.conv2 = nn.Conv2d(128, 128, kernel_size=1, stride=1, padding=0)\n",
    "        self.conv3 = nn.Conv2d(128, 1, kernel_size=1, stride=1, padding=0)\n",
    "\n",
    "    def forward(self, x):\n",
    "       \n",
    "        x = self.fc0(x)\n",
    "        x = x.reshape(x.shape[0],1,16,16)\n",
    "\n",
    "        x = self.conv1(x)\n",
    "        x = F.relu(x)\n",
    "\n",
    "        x = self.conv2(x)\n",
    "        x = F.relu(x)\n",
    "\n",
    "        x = self.conv3(x)\n",
    "        x = F.sigmoid(x)\n",
    "        return x\n",
    "\n",
    "\n",
    "\n",
    "class CNN2(nn.Module):\n",
    "    def __init__(self):\n",
    "        super(CNN2, self).__init__()\n",
    "        self.conv1 = nn.Conv2d(1, 128, kernel_size=1, stride=1, padding=4)\n",
    "        self.conv2 = nn.Conv2d(128, 1, kernel_size=5, stride=1, padding=2)\n",
    "\n",
    "    def forward(self, x):\n",
    "        x = self.conv1(x)\n",
    "        x = F.relu(x)\n",
    "        x = self.conv2(x)\n",
    "        return x\n",
    "\n",
    "\n",
    "\n",
    "########### FCN\n",
    "#####################################################################\n",
    "class FCN(nn.Module):\n",
    "    def __init__(self):\n",
    "        super(FCN, self).__init__()\n",
    "       \n",
    "        self.fc0 = nn.Linear(64, 400)\n",
    "        self.fc1 = nn.Linear(400, 256)\n",
    "\n",
    "    def forward(self, x):       \n",
    "        x = self.fc0(x)\n",
    "        x = F.relu(x)\n",
    "\n",
    "        x = self.fc1(x)\n",
    "        x = F.sigmoid(x)\n",
    "        return x"
   ]
  },
  {
   "cell_type": "markdown",
   "metadata": {},
   "source": [
    "# TRAINING"
   ]
  },
  {
   "cell_type": "code",
   "execution_count": null,
   "metadata": {},
   "outputs": [],
   "source": [
    "output_file_name = 'noise_results.txt'"
   ]
  },
  {
   "cell_type": "code",
   "execution_count": null,
   "metadata": {},
   "outputs": [],
   "source": [
    "with open(output_file_name, 'w') as output:\n",
    "    output.write('textbf{ Model } & textbf{ Noise Level } & textbf{No of Parameters} & textbf{Training Time /sec} & textbf{RMSE} & textbf{PSNR} & textbf{SSIM} \\n')"
   ]
  },
  {
   "cell_type": "code",
   "execution_count": null,
   "metadata": {},
   "outputs": [],
   "source": [
    "test_num = 434\n",
    "train_loader, test_loader = normalize_data_fno(1)\n",
    "K = torch.unsqueeze(test_loader.dataset[test_num][0], 0).cuda()"
   ]
  },
  {
   "cell_type": "code",
   "execution_count": null,
   "metadata": {},
   "outputs": [],
   "source": [
    "#for noise in range(6):\n",
    "\n",
    "noise = 0\n",
    "train_loader, test_loader = normalize_data_fno(noise)\n",
    "\n",
    "# ONE LAYER RESULTS\n",
    "############################################################################\n",
    "modes = 5\n",
    "model_fno = FNO(modes, modes, width_fno).cuda()\n",
    "\n",
    "no_param_fno = count_params(model_fno)\n",
    "print(no_param_fno)\n",
    "\n",
    "output_fno = train_model(model_fno, 20, batch_size, learning_rate, weight_decay, step_size, gamma, train_loader, test_loader)\n",
    "time_fno  = round(output_fno.get('training_time'),2)\n",
    "\n",
    "fno_model = output_fno.get(\"model\")\n",
    "results_fno = model_metrics(fno_model,test_loader,ntrain)\n",
    "\n",
    "# EIGHT LAYER RESULTS\n",
    "############################################################################\n",
    "fno_model.eval()\n",
    "predicted = np.reshape(fno_model(K).detach().cpu().numpy(),(16,16))\n",
    "plt.imshow(predicted)\n",
    "plt.colorbar()\n",
    "\n",
    "# SAVE DATA\n",
    "######################## SAVE DATA #########################################################\n",
    "#output.write('textbf{ Model } & textbf{ Noise Level } & textbf{No of Parameters} & textbf{Training Time /sec} & textbf{RMSE} & textbf{PSNR} & textbf{SSIM} \\n')\n",
    "\n",
    "# Open a file with access mode 'a'\n",
    "#file_object = open(output_file_name, 'a')\n",
    "\n",
    "# Append 'hello' at the end of file\n",
    "#info = 'FNO & ' + str(noise_levels[noise]) + ' & ' + str(no_param_fno) + ' & ' + str(time_fno) + ' & '\n",
    "#info_rms = str(results_fno.get('model_rms')[0]) + ' \\ textpm ' + str(results_fno.get('model_rms')[1]) + '  &  '\n",
    "#info_psnr = str(results_fno.get('model_psnr')[0]) + ' \\ textpm ' + str(results_fno.get('model_psnr')[1]) + '  &  '\n",
    "#info_ssim = str(results_fno.get('model_ssim')[0]) + ' \\ textpm ' + str(results_fno.get('model_ssim')[1]) + '  &  ' + '\\n'\n",
    "\n",
    "#file_object.write(info + info_rms + info_psnr + info_ssim)\n",
    "# Close the file\n",
    "#file_object.close()"
   ]
  },
  {
   "cell_type": "code",
   "execution_count": null,
   "metadata": {},
   "outputs": [],
   "source": [
    "#for noise in range(6):\n",
    "noise = 6\n",
    "train_loader, test_loader = normalize_data_fcn(noise)\n",
    "\n",
    "# ONE LAYER RESULTS\n",
    "############################################################################\n",
    "model_fcn = FCN().cuda()\n",
    "\n",
    "no_param_fcn = count_params(model_fcn)\n",
    "print(no_param_fcn)\n",
    "\n",
    "output_fcn = train_model(model_fcn, 20, batch_size, learning_rate, weight_decay, step_size, gamma)\n",
    "time_fcn  = round(output_fcn.get('training_time'),2)\n",
    "\n",
    "fcn_model = output_fcn.get(\"model\")\n",
    "results_fcn = model_metrics(fcn_model,test_loader,ntrain)\n",
    "\n",
    "# EIGHT LAYER RESULTS\n",
    "############################################################################\n",
    "#fcn_model.eval()\n",
    "#predicted = np.reshape(fcn_model(K).detach().cpu().numpy(),(16,16))\n",
    "#plt.imshow(predicted)\n",
    "#plt.colorbar()\n",
    "\n",
    "# SAVE DATA\n",
    "######################## SAVE DATA #########################################################\n",
    "#output.write('textbf{ Model } & textbf{ Noise Level } & textbf{No of Parameters} & textbf{Training Time /sec} & textbf{RMSE} & textbf{PSNR} & textbf{SSIM} \\n')\n",
    "\n",
    "# Open a file with access mode 'a'\n",
    "file_object = open(output_file_name, 'a')\n",
    "# Append 'hello' at the end of file\n",
    "info = 'MLP & ' + str(noise_levels[noise]) + ' & ' + str(no_param_fcn) + ' & ' + str(time_fcn) + ' & '\n",
    "info_rms = str(results_fcn.get('model_rms')[0]) + ' \\ textpm ' + str(results_fcn.get('model_rms')[1]) + '  &  '\n",
    "info_psnr = str(results_fcn.get('model_psnr')[0]) + ' \\ textpm ' + str(results_fcn.get('model_psnr')[1]) + '  &  '\n",
    "info_ssim = str(results_fcn.get('model_ssim')[0]) + ' \\ textpm ' + str(results_fcn.get('model_ssim')[1]) + '  &  ' + '\\n'\n",
    "\n",
    "file_object.write(info + info_rms + info_psnr + info_ssim)\n",
    "# Close the file\n",
    "file_object.close()"
   ]
  },
  {
   "cell_type": "code",
   "execution_count": null,
   "metadata": {},
   "outputs": [],
   "source": [
    "#for noise in range(6):\n",
    "\n",
    "noise = 1\n",
    "train_loader, test_loader = normalize_data_cnn(noise)\n",
    "\n",
    "# ONE LAYER RESULTS\n",
    "############################################################################\n",
    "model = CNN().cuda()\n",
    "\n",
    "no_param = count_params(model)\n",
    "print(no_param)\n",
    "\n",
    "output = train_model(model, 20, batch_size, learning_rate, weight_decay, step_size, gamma)\n",
    "time  = round(output.get('training_time'),2)\n",
    "\n",
    "out_model = output.get(\"model\")\n",
    "results = model_metrics(out_model,test_loader,ntrain)\n",
    "\n",
    "# EIGHT LAYER RESULTS\n",
    "############################################################################\n",
    "#out_model.eval()\n",
    "#predicted = np.reshape(out_model(K).detach().cpu().numpy(),(16,16))\n",
    "#plt.imshow(predicted)\n",
    "#plt.colorbar()\n",
    "\n",
    "# SAVE DATA\n",
    "######################## SAVE DATA #########################################################\n",
    "#output.write('textbf{ Model } & textbf{ Noise Level } & textbf{No of Parameters} & textbf{Training Time /sec} & textbf{RMSE} & textbf{PSNR} & textbf{SSIM} \\n')\n",
    "\n",
    "# Open a file with access mode 'a'\n",
    "file_object = open(output_file_name, 'a')\n",
    "# Append 'hello' at the end of file\n",
    "info = 'CNN & ' + str(noise_levels[noise]) + ' & ' + str(no_param) + ' & ' + str(time) + ' & '\n",
    "info_rms = str(results.get('model_rms')[0]) + ' \\ textpm ' + str(results.get('model_rms')[1]) + '  &  '\n",
    "info_psnr = str(results.get('model_psnr')[0]) + ' \\ textpm ' + str(results.get('model_psnr')[1]) + '  &  '\n",
    "info_ssim = str(results.get('model_ssim')[0]) + ' \\ textpm ' + str(results.get('model_ssim')[1]) + '  &  ' + '\\n'\n",
    "\n",
    "file_object.write(info + info_rms + info_psnr + info_ssim)\n",
    "# Close the file\n",
    "file_object.close()"
   ]
  },
  {
   "cell_type": "code",
   "execution_count": null,
   "metadata": {},
   "outputs": [],
   "source": [
    "test_num = 434\n",
    "\n",
    "K = torch.unsqueeze(test_loader.dataset[test_num][0], 0).cuda()\n",
    "out_model.eval()\n",
    "predicted = np.reshape(out_model(K).detach().cpu().numpy(),(16,16))\n",
    "plt.imshow(predicted)\n",
    "plt.colorbar()"
   ]
  },
  {
   "cell_type": "code",
   "execution_count": null,
   "metadata": {},
   "outputs": [],
   "source": [
    "#for noise in range(6):\n",
    "\n",
    "noise = 0\n",
    "train_loader, test_loader = normalize_data_cnn2(noise)\n",
    "\n",
    "# ONE LAYER RESULTS\n",
    "############################################################################\n",
    "model = CNN2().cuda()\n",
    "\n",
    "no_param = count_params(model)\n",
    "print(no_param)\n",
    "\n",
    "output = train_model(model, 20, batch_size, learning_rate, weight_decay, step_size, gamma)\n",
    "time  = round(output.get('training_time'),2)\n",
    "\n",
    "out_model = output.get(\"model\")\n",
    "results = model_metrics(out_model,test_loader,ntrain)\n",
    "\n",
    "# EIGHT LAYER RESULTS\n",
    "############################################################################\n",
    "#out_model.eval()\n",
    "#predicted = np.reshape(out_model(K).detach().cpu().numpy(),(16,16))\n",
    "#plt.imshow(predicted)\n",
    "#plt.colorbar()\n",
    "\n",
    "# SAVE DATA\n",
    "######################## SAVE DATA #########################################################\n",
    "#output.write('textbf{ Model } & textbf{ Noise Level } & textbf{No of Parameters} & textbf{Training Time /sec} & textbf{RMSE} & textbf{PSNR} & textbf{SSIM} \\n')\n",
    "output_file_name = 'noise_results.txt'\n",
    "# Open a file with access mode 'a'\n",
    "file_object = open(output_file_name, 'a')\n",
    "# Append 'hello' at the end of file\n",
    "info = 'CNN & ' + str(noise_levels[noise]) + ' & ' + str(no_param) + ' & ' + str(time) + ' & '\n",
    "info_rms = str(results.get('model_rms')[0]) + ' \\ textpm ' + str(results.get('model_rms')[1]) + '  &  '\n",
    "info_psnr = str(results.get('model_psnr')[0]) + ' \\ textpm ' + str(results.get('model_psnr')[1]) + '  &  '\n",
    "info_ssim = str(results.get('model_ssim')[0]) + ' \\ textpm ' + str(results.get('model_ssim')[1]) + '  &  ' + '\\n'\n",
    "\n",
    "#file_object.write(info + info_rms + info_psnr + info_ssim)\n",
    "# Close the file\n",
    "#file_object.close()"
   ]
  },
  {
   "cell_type": "markdown",
   "metadata": {},
   "source": [
    "# Final Test - Train on perfect and Test on Noise"
   ]
  },
  {
   "cell_type": "code",
   "execution_count": null,
   "metadata": {},
   "outputs": [],
   "source": [
    "noise = 0\n",
    "train_loader_fcn, test_loader_fcn = normalize_data_fcn(noise)\n",
    "train_loader_cnn, test_loader_cnn = normalize_data_cnn(noise)\n",
    "train_loader_fno, test_loader_fno = normalize_data_fno(noise)\n",
    "\n",
    "\n",
    "# FCN MODEL TRAINING\n",
    "############################################################################\n",
    "model = FCN().cuda()\n",
    "no_param_fcn = count_params(model)\n",
    "print(no_param_fcn)\n",
    "output = train_model(model, 20, batch_size, learning_rate, weight_decay, step_size, gamma, train_loader_fcn, test_loader_fcn)\n",
    "time_fcn  = round(output.get('training_time'),2)\n",
    "model_fcn = output.get(\"model\")\n",
    "\n",
    "\n",
    "\n",
    "# CNN MODEL TRAINING\n",
    "############################################################################\n",
    "model = CNN().cuda()\n",
    "no_param_cnn = count_params(model)\n",
    "print(no_param_cnn)\n",
    "output = train_model(model, 20, batch_size, learning_rate, weight_decay, step_size, gamma, train_loader_cnn, test_loader_cnn)\n",
    "time_cnn  = round(output.get('training_time'),2)\n",
    "model_cnn = output.get(\"model\")\n",
    "\n",
    "\n",
    "\n",
    "# FNO MODEL TRAINING\n",
    "############################################################################\n",
    "model = FNO(modes, modes, width_fno).cuda()\n",
    "no_param_fno = count_params(model)\n",
    "print(no_param_fno)\n",
    "output = train_model(model, 20, batch_size, learning_rate, weight_decay, step_size, gamma, train_loader_fno, test_loader_fno)\n",
    "time_fno  = round(output.get('training_time'),2)\n",
    "model_fno = output.get(\"model\")"
   ]
  },
  {
   "cell_type": "code",
   "execution_count": 27,
   "metadata": {},
   "outputs": [
    {
     "data": {
      "text/plain": [
       "3457"
      ]
     },
     "execution_count": 27,
     "metadata": {},
     "output_type": "execute_result"
    }
   ],
   "source": [
    "no_param_cnn = count_params(CNN2().cuda())\n",
    "no_param_cnn"
   ]
  },
  {
   "cell_type": "code",
   "execution_count": null,
   "metadata": {},
   "outputs": [],
   "source": [
    "test_noise = 4\n",
    "print('FCN')\n",
    "train_loader, test_loader = normalize_data_fcn(test_noise)\n",
    "start = timeit.default_timer()\n",
    "results_fcn = model_metrics(model_fcn,test_loader,ntrain)\n",
    "infer_time_fcn = timeit.default_timer() - start\n",
    "\n",
    "print('CNN')\n",
    "train_loader, test_loader = normalize_data_cnn(test_noise)\n",
    "start = timeit.default_timer()\n",
    "results_cnn = model_metrics(model_cnn,test_loader,ntrain)\n",
    "infer_time_cnn = timeit.default_timer() - start\n",
    "\n",
    "print('FNO')\n",
    "train_loader, test_loader = normalize_data_fno(test_noise)\n",
    "start = timeit.default_timer()\n",
    "results_fno = model_metrics(model_fno,test_loader,ntrain)\n",
    "infer_time_fno =  timeit.default_timer() - start"
   ]
  },
  {
   "cell_type": "code",
   "execution_count": null,
   "metadata": {},
   "outputs": [],
   "source": [
    "#FCN\n",
    "############################################################\n",
    "# Open a file with access mode 'a'\n",
    "file_object = open(output_file_name, 'a')\n",
    "# Append 'hello' at the end of file\n",
    "info = 'FCN_test ' + str(no_param_fcn) + ' & ' + str(noise_levels[test_noise])  + ' & ' + str(time_fcn) + ' & ' + str(infer_time_fcn) + ' & '\n",
    "info_rms = str(results_fcn.get('model_rms')[0]) + ' \\ textpm ' + str(results_fcn.get('model_rms')[1]) + '  &  '\n",
    "info_psnr = str(results_fcn.get('model_psnr')[0]) + ' \\ textpm ' + str(results_fcn.get('model_psnr')[1]) + '  &  '\n",
    "info_ssim = str(results_fcn.get('model_ssim')[0]) + ' \\ textpm ' + str(results_fcn.get('model_ssim')[1]) + '  \\ \\  ' + '\\n'\n",
    "\n",
    "file_object.write(info + info_rms + info_psnr + info_ssim)\n",
    "# Close the file\n",
    "file_object.close()\n",
    "\n",
    "#CNN\n",
    "############################################################\n",
    "# Open a file with access mode 'a'\n",
    "file_object = open(output_file_name, 'a')\n",
    "# Append 'hello' at the end of file\n",
    "info = 'CNN_test '  + str(no_param_cnn) + ' & ' + str(noise_levels[test_noise]) + ' & ' + str(time_cnn) + ' & ' + str(infer_time_cnn) + ' & '\n",
    "info_rms = str(results_cnn.get('model_rms')[0]) + ' \\ textpm ' + str(results_cnn.get('model_rms')[1]) + '  &  '\n",
    "info_psnr = str(results_cnn.get('model_psnr')[0]) + ' \\ textpm ' + str(results_cnn.get('model_psnr')[1]) + '  &  '\n",
    "info_ssim = str(results_cnn.get('model_ssim')[0]) + ' \\ textpm ' + str(results_cnn.get('model_ssim')[1]) + '  \\ \\ ' + '\\n'\n",
    "\n",
    "file_object.write(info + info_rms + info_psnr + info_ssim)\n",
    "# Close the file\n",
    "file_object.close()\n",
    "\n",
    "#FNO\n",
    "###########################################################\n",
    "# Open a file with access mode 'a'\n",
    "file_object = open(output_file_name, 'a')\n",
    "# Append 'hello' at the end of file\n",
    "info = 'FNO_test '+ str(no_param_fno) + ' & ' + str(noise_levels[test_noise]) + ' & ' + str(time_fno) + ' & ' + str(infer_time_fno) + ' & '\n",
    "info_rms = str(results_fno.get('model_rms')[0]) + ' \\ textpm ' + str(results_fno.get('model_rms')[1]) + '  &  '\n",
    "info_psnr = str(results_fno.get('model_psnr')[0]) + ' \\ textpm ' + str(results_fno.get('model_psnr')[1]) + '  &  '\n",
    "info_ssim = str(results_fno.get('model_ssim')[0]) + ' \\ textpm ' + str(results_fno.get('model_ssim')[1]) + '  \\ \\  ' + '\\n'\n",
    "\n",
    "file_object.write(info + info_rms + info_psnr + info_ssim)\n",
    "# Close the file\n",
    "file_object.close()"
   ]
  },
  {
   "cell_type": "markdown",
   "metadata": {},
   "source": [
    "# FNO CHANGING MODES"
   ]
  },
  {
   "cell_type": "code",
   "execution_count": null,
   "metadata": {},
   "outputs": [],
   "source": [
    "noise = 0\n",
    "train_loader_fno, test_loader_fno = normalize_data_fno(noise)\n",
    "\n",
    "modes = 0\n",
    "# FNO MODEL TRAINING\n",
    "############################################################################\n",
    "model = FNO(modes, modes, width_fno).cuda()\n",
    "no_param_fno = count_params(model)\n",
    "print(no_param_fno)\n",
    "output = train_model(model, 20, batch_size, learning_rate, weight_decay, step_size, gamma, train_loader_fno, test_loader_fno)\n",
    "time_fno  = round(output.get('training_time'),2)\n",
    "model_fno = output.get(\"model\")"
   ]
  },
  {
   "cell_type": "code",
   "execution_count": null,
   "metadata": {},
   "outputs": [],
   "source": [
    "test_noise = 0\n",
    "\n",
    "print('FNO')\n",
    "train_loader, test_loader = normalize_data_fno(test_noise)\n",
    "start = timeit.default_timer()\n",
    "results_fno = model_metrics(model_fno,test_loader,ntrain)\n",
    "infer_time_fno =  timeit.default_timer() - start"
   ]
  },
  {
   "cell_type": "code",
   "execution_count": null,
   "metadata": {},
   "outputs": [],
   "source": [
    "#FNO\n",
    "###########################################################\n",
    "# Open a file with access mode 'a'\n",
    "file_object = open(output_file_name, 'a')\n",
    "# Append 'hello' at the end of file\n",
    "info = 'FNO_test ' + ' | ' + str(no_param_fno) + ' | ' + str(modes) + ' & ' + str(noise_levels[test_noise]) + ' & ' + str(time_fno) + ' & ' + str(infer_time_fno) + ' & '\n",
    "info_rms = str(results_fno.get('model_rms')[0]) + ' \\ textpm ' + str(results_fno.get('model_rms')[1]) + '  &  '\n",
    "info_psnr = str(results_fno.get('model_psnr')[0]) + ' \\ textpm ' + str(results_fno.get('model_psnr')[1]) + '  &  '\n",
    "info_ssim = str(results_fno.get('model_ssim')[0]) + ' \\ textpm ' + str(results_fno.get('model_ssim')[1]) + '  \\ \\  ' + '\\n'\n",
    "\n",
    "file_object.write(info + info_rms + info_psnr + info_ssim)\n",
    "# Close the file\n",
    "file_object.close()"
   ]
  },
  {
   "cell_type": "markdown",
   "metadata": {},
   "source": [
    "# Changing Modes"
   ]
  },
  {
   "cell_type": "code",
   "execution_count": null,
   "metadata": {},
   "outputs": [],
   "source": [
    "output_file_name = 'modes_results.txt'\n",
    "with open(output_file_name, 'w') as output:\n",
    "    output.write('textbf{ Model } & textbf{ Noise Level } & textbf{Training Time /sec} & textbf{Inference Time /sec}  & textbf{RMSE} & textbf{PSNR} & textbf{SSIM} \\n')"
   ]
  },
  {
   "cell_type": "code",
   "execution_count": null,
   "metadata": {},
   "outputs": [],
   "source": [
    "# QUICK RUN \n",
    "\n",
    "\n",
    "noise = 0\n",
    "train_loader_fno, test_loader_fno = normalize_data_fno(noise)\n",
    "\n",
    "for j in range(7):\n",
    "    modes = j + 1\n",
    "    print('No of Modes:',modes)\n",
    "    # FNO MODEL TRAINING\n",
    "    ############################################################################\n",
    "    model = FNO(modes, modes, width_fno).cuda()\n",
    "    no_param_fno = count_params(model)\n",
    "    print(no_param_fno)\n",
    "    output = train_model(model, 20, batch_size, learning_rate, weight_decay, step_size, gamma, train_loader_fno, test_loader_fno)\n",
    "    time_fno  = round(output.get('training_time'),2)\n",
    "    model_fno = output.get(\"model\")\n",
    "\n",
    "    for i in range(7):\n",
    "        test_noise = i\n",
    "        print('noise levels:', noise_levels[test_noise])\n",
    "        train_loader, test_loader = normalize_data_fno(test_noise)\n",
    "        start = timeit.default_timer()\n",
    "        results_fno = model_metrics(model_fno,test_loader,ntest)\n",
    "        infer_time_fno =  timeit.default_timer() - start\n",
    "\n",
    "\n",
    "        #FNO\n",
    "        ###########################################################\n",
    "        # Open a file with access mode 'a'\n",
    "        file_object = open(output_file_name, 'a')\n",
    "        # Append 'hello' at the end of file\n",
    "        info = 'FNO_test ' + ' | ' + str(no_param_fno) + ' | ' + str(modes) + ' & ' + str(noise_levels[test_noise]) + ' & ' + str(time_fno) + ' & ' + str(infer_time_fno) + ' & '\n",
    "        info_rms = str(results_fno.get('model_rms')[0]) + ' \\ textpm ' + str(results_fno.get('model_rms')[1]) + '  &  '\n",
    "        info_psnr = str(results_fno.get('model_psnr')[0]) + ' \\ textpm ' + str(results_fno.get('model_psnr')[1]) + '  &  '\n",
    "        info_ssim = str(results_fno.get('model_ssim')[0]) + ' \\ textpm ' + str(results_fno.get('model_ssim')[1]) + '  \\ \\  ' + '\\n'\n",
    "\n",
    "        file_object.write(info + info_rms + info_psnr + info_ssim)\n",
    "        # Close the file\n",
    "        file_object.close()"
   ]
  },
  {
   "cell_type": "markdown",
   "metadata": {},
   "source": [
    "# GN RECONSTRUCTIONS"
   ]
  },
  {
   "cell_type": "code",
   "execution_count": null,
   "metadata": {},
   "outputs": [],
   "source": [
    "# MODEL METRICS\n",
    "###################################\n",
    "# MODEL METRICS\n",
    "###################################\n",
    "def basic_metrics(recon_data,true_data, no_recon):\n",
    "    rms_values, psnr_values, ssim_values, uqi_values = [], [], [], []\n",
    "\n",
    "    for test_num in range(no_recon):\n",
    "        predicted_np = np.reshape(recon_data[test_num,:],(16,16))\n",
    "        truth_np = np.reshape(true_data[test_num,:],(16,16))\n",
    "\n",
    "        rms_values.append(rmse(predicted_np, truth_np))\n",
    "        psnr_values.append(psnr(truth_np, predicted_np, data_range=predicted_np.max() - predicted_np.min()))\n",
    "        ssim_values.append(ssim(truth_np, predicted_np, data_range=predicted_np.max() - predicted_np.min()))\n",
    "        uqi_values.append(uqi(predicted_np, truth_np))\n",
    "\n",
    "    model_rms = sum(rms_values)/ len(rms_values)\n",
    "    std_rms = np.std(np.array(rms_values))\n",
    "\n",
    "    model_psnr = sum(psnr_values)/ len(psnr_values)\n",
    "    std_psnr = np.std(np.array(psnr_values))\n",
    "\n",
    "    model_ssim = sum(ssim_values)/ len(ssim_values)\n",
    "    std_ssim = np.std(np.array(ssim_values))\n",
    "\n",
    "    model_uqi = sum(uqi_values)/ len(uqi_values)\n",
    "    std_uqi = np.std(np.array(uqi_values))\n",
    "\n",
    "\n",
    "    print(\"RMSE: \", model_rms, std_rms, sep=\"---\")\n",
    "    print(\"PSNR: \", model_psnr, std_psnr, sep=\"---\")\n",
    "    print(\"SSIM: \", model_ssim, std_ssim, sep=\"---\")\n",
    "    print(\"UQI: \", model_uqi, std_uqi, sep=\"---\")\n",
    "\n",
    "\n",
    "    output = {\n",
    "    \"rms\": rms_values,\n",
    "    \"psnr\": psnr_values,\n",
    "    \"ssim\": ssim_values,\n",
    "    \"uqi\": uqi_values,\n",
    "    # average values\n",
    "    'model_rms': [round(model_rms,5),round(std_rms,5)],\n",
    "    'model_psnr': [round(model_psnr,5),round(std_psnr,5)],\n",
    "    'model_ssim': [round(model_ssim,5),round(std_ssim,5)]\n",
    "    }\n",
    "    return output "
   ]
  },
  {
   "cell_type": "code",
   "execution_count": null,
   "metadata": {},
   "outputs": [],
   "source": [
    "measurement_list = ['recon000', 'recon005', 'recon010', 'recon015', 'recon020', 'recon025', 'recon030']\n",
    "noise_levels = [0, 0.005, 0.010, 0.015, 0.020, 0.025, 0.030]\n",
    "\n",
    "gn_raw_data = scipy.io.loadmat('./datasets/recon_info3')\n",
    "truth_gn = np.asarray(gn_raw_data['solution_data'])\n",
    "recon_gn = np.asarray(gn_raw_data[measurement_list[4]])\n",
    "\n",
    "gn_metrics = basic_metrics( truth_gn, recon_gn, truth_gn.shape[0] )"
   ]
  },
  {
   "cell_type": "code",
   "execution_count": null,
   "metadata": {},
   "outputs": [],
   "source": [
    "output_file_name = 'gn_recon_results.txt'\n",
    "with open(output_file_name, 'w') as output:\n",
    "    output.write('textbf{ Model 4} & textbf{ Noise Level } & textbf{Training Time /sec} & textbf{Inference Time /sec}  & textbf{RMSE} & textbf{PSNR} & textbf{SSIM} \\n')"
   ]
  },
  {
   "cell_type": "code",
   "execution_count": null,
   "metadata": {},
   "outputs": [],
   "source": [
    "for test_noise in range(7):\n",
    "\n",
    "    print('noise levels:', noise_levels[test_noise])\n",
    "\n",
    "    truth_gn = np.asarray(gn_raw_data['solution_data'])\n",
    "    recon_gn = np.asarray(gn_raw_data[measurement_list[test_noise]])\n",
    "\n",
    "    gn_metrics = basic_metrics(truth_gn, recon_gn, truth_gn.shape[0] )\n",
    "\n",
    "    ###########################################################\n",
    "    # Open a file with access mode 'a'\n",
    "    file_object = open(output_file_name, 'a')\n",
    "    # Append 'hello' at the end of file\n",
    "    info = 'GN | ' + ' & ' + str(noise_levels[test_noise]) + ' & '\n",
    "    info_rms = str(gn_metrics.get('model_rms')[0]) + ' \\ textpm ' + str(gn_metrics.get('model_rms')[1]) + '  &  '\n",
    "    info_psnr = str(gn_metrics.get('model_psnr')[0]) + ' \\ textpm ' + str(gn_metrics.get('model_psnr')[1]) + '  &  '\n",
    "    info_ssim = str(gn_metrics.get('model_ssim')[0]) + ' \\ textpm ' + str(gn_metrics.get('model_ssim')[1]) + '  \\ \\  ' + '\\n'\n",
    "\n",
    "    file_object.write(info + info_rms + info_psnr + info_ssim)\n",
    "    # Close the file\n",
    "    file_object.close()"
   ]
  },
  {
   "cell_type": "markdown",
   "metadata": {},
   "source": [
    "# Extracting Weights"
   ]
  },
  {
   "cell_type": "code",
   "execution_count": 9,
   "metadata": {},
   "outputs": [],
   "source": [
    "raw_data = scipy.io.loadmat('./datasets/complete_data')\n",
    "sol = np.asarray(raw_data['solution_data'])\n",
    "\n",
    "measurement_list = ['measurement_data', 'noise_0005', 'noise_0010', 'noise_0015', 'noise_0020', 'noise_0025', 'noise_0030']\n",
    "noise_levels = [0, 0.005, 0.010, 0.015, 0.020, 0.025, 0.030]\n",
    "\n",
    "def convert_data(data_x, data_y):\n",
    "    data_X = torch.from_numpy(data_x).float()\n",
    "    data_Y = torch.from_numpy(data_y).float()\n",
    "    return data_X, data_Y\n"
   ]
  },
  {
   "cell_type": "code",
   "execution_count": 10,
   "metadata": {},
   "outputs": [
    {
     "name": "stdout",
     "output_type": "stream",
     "text": [
      "torch.Size([8000, 8, 8, 1]) torch.Size([8000, 16, 16, 1])\n",
      "3319044\n",
      "0 22.51182090002112 0.1800370864495635 0.13592949658632278\n",
      "1 18.200162600027397 0.11520917343348265 0.11755641740560531\n",
      "2 18.806938600027934 0.10760775880515576 0.10049111637473106\n",
      "3 18.62872929999139 0.10350436840951442 0.09833613899350166\n",
      "4 18.387220400036313 0.10054832569509745 0.09950213500857354\n",
      "5 18.949103599996306 0.09721411293745041 0.0948738306760788\n",
      "6 18.896837000036612 0.09572897669672965 0.09751357662677765\n",
      "7 19.402558899950236 0.09337729661166667 0.09686530569195748\n",
      "8 18.593907599919476 0.09084574564546347 0.09329555809497833\n",
      "9 18.795522700063884 0.08752337554097175 0.08636723211407661\n",
      "10 19.067815800081007 0.08609373126924037 0.08719506844878197\n",
      "11 19.15727089997381 0.08423371016234159 0.08539615067839622\n",
      "12 19.011483300011605 0.08162397232651711 0.08094565531611443\n",
      "13 19.221232899930328 0.07957397313416004 0.08413897284865379\n",
      "14 19.319567700033076 0.07819080709666014 0.08147603350877762\n",
      "15 18.688469599932432 0.07657538738101721 0.07762056016921998\n",
      "16 18.590241799945943 0.07551474296301604 0.08149539771676063\n",
      "17 18.680284700007178 0.07443879234418273 0.07588905864953994\n",
      "18 18.802574099972844 0.0728948730044067 0.0763690413236618\n",
      "19 18.60080559994094 0.0720221366994083 0.0748955419063568\n",
      "TOTAL TIME: ---380.31\n",
      "RMSE: ---0.00204---0.00106\n",
      "PSNR: ---28.89771---3.53417\n",
      "SSIM: ---0.93857---0.02779\n"
     ]
    }
   ],
   "source": [
    "# QUICK RUN \n",
    "\n",
    "noise = 0\n",
    "train_loader_fno, test_loader_fno = normalize_data_fno(noise)\n",
    "modes = 5\n",
    "\n",
    "# FNO MODEL TRAINING\n",
    "############################################################################\n",
    "model = FNO(modes, modes, width_fno).cuda()\n",
    "no_param_fno = count_params(model)\n",
    "print(no_param_fno)\n",
    "\n",
    "output = train_model(model, 20, batch_size, learning_rate, weight_decay, step_size, gamma, train_loader_fno, test_loader_fno)\n",
    "time_fno  = round(output.get('training_time'),2)\n",
    "model_fno = output.get(\"model\")\n",
    "\n",
    "# GETTING METRIC\n",
    "############################################################################\n",
    "start = timeit.default_timer()\n",
    "results_fno = model_metrics(model_fno,test_loader_fno,ntrain)\n",
    "infer_time_fno =  timeit.default_timer() - start\n"
   ]
  },
  {
   "cell_type": "code",
   "execution_count": 11,
   "metadata": {},
   "outputs": [],
   "source": [
    "torch.save(model_fno, 'fno2D_final.h5')\n"
   ]
  },
  {
   "cell_type": "markdown",
   "metadata": {},
   "source": [
    "# trained model"
   ]
  },
  {
   "cell_type": "markdown",
   "metadata": {},
   "source": [
    "fc0  - upscale\n",
    "conv0  to conv7 - spectral filters\n",
    "w0 to w7 - linear weights\n",
    "fc1 fc2 - both downscale  "
   ]
  },
  {
   "cell_type": "code",
   "execution_count": 12,
   "metadata": {},
   "outputs": [
    {
     "data": {
      "text/plain": [
       "<bound method Module.type of FNO(\n",
       "  (fc0): Linear(in_features=1, out_features=64, bias=True)\n",
       "  (conv0): SpectralConv2d()\n",
       "  (conv1): SpectralConv2d()\n",
       "  (conv2): SpectralConv2d()\n",
       "  (conv3): SpectralConv2d()\n",
       "  (conv4): SpectralConv2d()\n",
       "  (conv5): SpectralConv2d()\n",
       "  (conv6): SpectralConv2d()\n",
       "  (conv7): SpectralConv2d()\n",
       "  (w0): Conv2d(64, 64, kernel_size=(1, 1), stride=(1, 1))\n",
       "  (w1): Conv2d(64, 64, kernel_size=(1, 1), stride=(1, 1))\n",
       "  (w2): Conv2d(64, 64, kernel_size=(1, 1), stride=(1, 1))\n",
       "  (w3): Conv2d(64, 64, kernel_size=(1, 1), stride=(1, 1))\n",
       "  (w4): Conv2d(64, 64, kernel_size=(1, 1), stride=(1, 1))\n",
       "  (w5): Conv2d(64, 64, kernel_size=(1, 1), stride=(1, 1))\n",
       "  (w6): Conv2d(64, 64, kernel_size=(1, 1), stride=(1, 1))\n",
       "  (w7): Conv2d(64, 64, kernel_size=(1, 1), stride=(1, 1))\n",
       "  (fc1): Linear(in_features=64, out_features=128, bias=True)\n",
       "  (fc2): Linear(in_features=128, out_features=4, bias=True)\n",
       ")>"
      ]
     },
     "execution_count": 12,
     "metadata": {},
     "output_type": "execute_result"
    }
   ],
   "source": [
    "model_fno.type"
   ]
  },
  {
   "cell_type": "code",
   "execution_count": null,
   "metadata": {},
   "outputs": [],
   "source": [
    "print(model_fno.w0.state_dict().keys(),'\\n')\n",
    "print(model_fno.conv0.state_dict().keys(),'\\n')\n"
   ]
  },
  {
   "cell_type": "code",
   "execution_count": 13,
   "metadata": {},
   "outputs": [
    {
     "name": "stdout",
     "output_type": "stream",
     "text": [
      "upscale weights odict_keys(['weight', 'bias'])\n",
      "fourier weights odict_keys(['weights1', 'weights2'])\n",
      "linear weights odict_keys(['weight', 'bias'])\n"
     ]
    }
   ],
   "source": [
    "print('upscale weights', model_fno.fc0.state_dict().keys())\n",
    "print('fourier weights', model_fno.conv0.state_dict().keys())\n",
    "print('linear weights', model_fno.w0.state_dict().keys())"
   ]
  },
  {
   "cell_type": "code",
   "execution_count": 20,
   "metadata": {},
   "outputs": [
    {
     "data": {
      "text/plain": [
       "torch.Size([64, 64, 5, 5])"
      ]
     },
     "execution_count": 20,
     "metadata": {},
     "output_type": "execute_result"
    }
   ],
   "source": [
    "conv_plot = model_fno.conv0.state_dict()['weights1']\n",
    "conv_plot.shape"
   ]
  },
  {
   "cell_type": "code",
   "execution_count": 22,
   "metadata": {},
   "outputs": [
    {
     "data": {
      "text/plain": [
       "<matplotlib.colorbar.Colorbar at 0x1bacd046500>"
      ]
     },
     "execution_count": 22,
     "metadata": {},
     "output_type": "execute_result"
    },
    {
     "data": {
      "image/png": "[encoded data removed]",
      "text/plain": [
       "<Figure size 432x288 with 2 Axes>"
      ]
     },
     "metadata": {
      "needs_background": "light"
     },
     "output_type": "display_data"
    }
   ],
   "source": [
    "mode = 0\n",
    "plt.imshow( conv_plot.detach().cpu().numpy().real[1,1,:,:] )\n",
    "plt.colorbar()\n",
    "#plt.savefig('./images/filters/fno_' + 'conv5_' + str(mode) + '_re')"
   ]
  },
  {
   "cell_type": "code",
   "execution_count": 25,
   "metadata": {},
   "outputs": [
    {
     "data": {
      "text/plain": [
       "<matplotlib.colorbar.Colorbar at 0x1baf2e847f0>"
      ]
     },
     "execution_count": 25,
     "metadata": {},
     "output_type": "execute_result"
    },
    {
     "data": {
      "image/png": "[encoded data removed]",
      "text/plain": [
       "<Figure size 432x288 with 2 Axes>"
      ]
     },
     "metadata": {
      "needs_background": "light"
     },
     "output_type": "display_data"
    }
   ],
   "source": [
    "plt.imshow( conv_plot.detach().cpu().numpy().imag[4,4,:,:] )\n",
    "plt.colorbar()\n",
    "#plt.savefig('."
   ]
  },
  {
   "cell_type": "code",
   "execution_count": 19,
   "metadata": {},
   "outputs": [
    {
     "name": "stdout",
     "output_type": "stream",
     "text": [
      "torch.Size([64, 64, 1, 1])\n"
     ]
    }
   ],
   "source": [
    "w_num = 5\n",
    "w_plot = model_fno.w5.state_dict()['weight']\n",
    "print(w_plot.shape)"
   ]
  },
  {
   "cell_type": "code",
   "execution_count": null,
   "metadata": {},
   "outputs": [],
   "source": [
    "plt.imshow( w_plot.detach().cpu().numpy()[:,:,0,0] )\n",
    "plt.colorbar()\n",
    "\n",
    "plt.savefig('./images/filters/fno_' + 'w' + str(w_num) )"
   ]
  },
  {
   "cell_type": "code",
   "execution_count": null,
   "metadata": {},
   "outputs": [],
   "source": [
    "# LINEAR PLOT\n",
    "w_plot = model_fno.w7.state_dict()['weight']\n",
    "print(w_plot.shape)\n",
    "plt.imshow( w_plot.detach().cpu().numpy()[:,:,0,0] )"
   ]
  },
  {
   "cell_type": "code",
   "execution_count": null,
   "metadata": {},
   "outputs": [],
   "source": [
    "# LINEAR PLOT\n",
    "w_plot = model_fno.conv7.state_dict()['weights1']\n",
    "print(w_plot.shape)\n",
    "plt.imshow( w_plot.detach().cpu().numpy().real[:,:,0,0] )\n",
    "\n",
    "#plt.savefig('./images/fno_'+'weights_' + +'_real')"
   ]
  },
  {
   "cell_type": "code",
   "execution_count": null,
   "metadata": {},
   "outputs": [],
   "source": [
    "plt.savefig('./images/gn_'+'boxplot_'+str(metric_type))"
   ]
  },
  {
   "cell_type": "markdown",
   "metadata": {},
   "source": [
    "# ConvNet Filters"
   ]
  },
  {
   "cell_type": "code",
   "execution_count": null,
   "metadata": {},
   "outputs": [],
   "source": [
    "# CNN MODEL TRAINING\n",
    "############################################################################\n",
    "train_loader, test_loader = normalize_data_cnn(0)\n",
    "\n",
    "model = CNN().cuda()\n",
    "no_param_cnn = count_params(model)\n",
    "print(no_param_cnn)\n",
    "output = train_model(model, 20, batch_size, learning_rate, weight_decay, step_size, gamma, train_loader, test_loader)\n",
    "time_cnn  = round(output.get('training_time'),2)\n",
    "model_cnn = output.get(\"model\")"
   ]
  },
  {
   "cell_type": "code",
   "execution_count": null,
   "metadata": {},
   "outputs": [],
   "source": [
    "print('CNN')\n",
    "start = timeit.default_timer()\n",
    "results_cnn = model_metrics(model_cnn,test_loader,ntrain)\n",
    "infer_time_cnn = timeit.default_timer() - start"
   ]
  },
  {
   "cell_type": "code",
   "execution_count": null,
   "metadata": {},
   "outputs": [],
   "source": [
    "model_cnn.type"
   ]
  },
  {
   "cell_type": "code",
   "execution_count": null,
   "metadata": {},
   "outputs": [],
   "source": [
    "print(model_cnn.conv1.state_dict().keys(),'\\n')"
   ]
  },
  {
   "cell_type": "code",
   "execution_count": null,
   "metadata": {},
   "outputs": [],
   "source": [
    "w_plot = model_cnn.conv2.state_dict()['weight']\n",
    "print(w_plot.shape)\n",
    "plt.imshow( w_plot.detach().cpu().numpy()[:,:,0,0] )\n",
    "plt.colorbar()\n",
    "\n",
    "#plt.savefig('./images/filters/cnn_w2')"
   ]
  },
  {
   "cell_type": "code",
   "execution_count": null,
   "metadata": {},
   "outputs": [],
   "source": [
    "# First Layer\n",
    "w_plot = model_cnn.conv1.state_dict()['weight']\n",
    "print(w_plot.shape)\n",
    "temp = w_plot.detach().cpu().numpy()[0,0,:,:]\n",
    "\n",
    "plt.imshow(temp)\n",
    "plt.colorbar()\n",
    "\n",
    "#plt.imshow( temp.reshape(8,16) )\n",
    "#plt.colorbar(fraction=0.047*(0.5))\n",
    "\n",
    "plt.savefig('./images/filters/cnn_kernel1')\n"
   ]
  },
  {
   "cell_type": "code",
   "execution_count": null,
   "metadata": {},
   "outputs": [],
   "source": [
    "# Final Layer\n",
    "w_plot = model_cnn.conv3.state_dict()['weight']\n",
    "print(w_plot.shape)\n",
    "temp = w_plot.detach().cpu().numpy()[0,:,0,0]\n",
    "\n",
    "plt.imshow( temp.reshape(8,16))\n",
    "plt.colorbar(fraction=0.047*(0.5))\n",
    "\n",
    "plt.savefig('./images/filters/cnn_w3')\n"
   ]
  }
 ],
 "metadata": {
  "kernelspec": {
   "display_name": "Python 3.10.4 ('gundam')",
   "language": "python",
   "name": "python3"
  },
  "language_info": {
   "codemirror_mode": {
    "name": "ipython",
    "version": 3
   },
   "file_extension": ".py",
   "mimetype": "text/x-python",
   "name": "python",
   "nbconvert_exporter": "python",
   "pygments_lexer": "ipython3",
   "version": "3.10.4"
  },
  "orig_nbformat": 4,
  "vscode": {
   "interpreter": {
    "hash": "cddc3d62f9a7e02ecb46a81ab11648d63c0573e5e13f25e036352996103f8463"
   }
  }
 },
 "nbformat": 4,
 "nbformat_minor": 2
}
