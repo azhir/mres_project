{
 "cells": [
  {
   "cell_type": "code",
   "execution_count": 1,
   "metadata": {},
   "outputs": [
    {
     "name": "stderr",
     "output_type": "stream",
     "text": [
      "c:\\Users\\azhir\\anaconda3\\envs\\gundam\\lib\\site-packages\\tqdm\\auto.py:22: TqdmWarning: IProgress not found. Please update jupyter and ipywidgets. See https://ipywidgets.readthedocs.io/en/stable/user_install.html\n",
      "  from .autonotebook import tqdm as notebook_tqdm\n"
     ]
    }
   ],
   "source": [
    "# initial set-up\n",
    "import numpy as np\n",
    "import torch\n",
    "import torch.nn as nn\n",
    "import torch.nn.functional as F\n",
    "from torch.nn.parameter import Parameter\n",
    "import matplotlib.pyplot as plt\n",
    "from sklearn.model_selection import train_test_split\n",
    "from torch.utils.data import Dataset, DataLoader, TensorDataset\n",
    "import operator\n",
    "from functools import reduce\n",
    "from functools import partial\n",
    "from timeit import default_timer\n",
    "from utilities3 import *\n",
    "\n",
    "from Adam import Adam\n",
    "from sewar.full_ref import rmse, uqi\n",
    "from skimage.metrics import structural_similarity as ssim\n",
    "from skimage.metrics import peak_signal_noise_ratio as psnr\n",
    "\n",
    "torch.manual_seed(0)\n",
    "np.random.seed(0)"
   ]
  },
  {
   "cell_type": "code",
   "execution_count": 2,
   "metadata": {},
   "outputs": [],
   "source": [
    "#  CONFIGURATIONS - HYPER PARAMETERS\n",
    "################################################################\n",
    "#  configurations - HYPER PARAMETERS\n",
    "################################################################\n",
    "\n",
    "batch_size = 10\n",
    "learning_rate = 0.001\n",
    "\n",
    "epochs = 100\n",
    "step_size = 50\n",
    "gamma = 0.5\n",
    "\n",
    "modes = 5\n",
    "width = 64\n",
    "\n",
    "weight_decay=1e-4\n",
    "\n",
    "# Hyperparameters to change - epoch{10,100,200}, step_size{}, batchsize{}, gamma{}, modes{}, weight_decay{}"
   ]
  },
  {
   "cell_type": "code",
   "execution_count": 3,
   "metadata": {},
   "outputs": [],
   "source": [
    "#   DEFINING THE TOP 2D FOURIER LAYER\n",
    "#####################################################################\n",
    "#   DEFINING THE TOP 2D FOURIER LAYER\n",
    "\n",
    "class SpectralConv2d(nn.Module):\n",
    "    def __init__(self, in_channels, out_channels, modes1, modes2):\n",
    "        super(SpectralConv2d, self).__init__()\n",
    "\n",
    "        \"\"\"\n",
    "        2D Fourier layer. It does FFT, linear transform, and Inverse FFT.    \n",
    "        \"\"\"\n",
    "\n",
    "        self.in_channels = in_channels\n",
    "        self.out_channels = out_channels\n",
    "        self.modes1 = modes1 #Number of Fourier modes to multiply, at most floor(N/2) + 1\n",
    "        self.modes2 = modes2\n",
    "\n",
    "        self.scale = (1 / (in_channels * out_channels))\n",
    "        self.weights1 = nn.Parameter(self.scale * torch.rand(in_channels, out_channels, self.modes1, self.modes2, dtype=torch.cfloat))\n",
    "        self.weights2 = nn.Parameter(self.scale * torch.rand(in_channels, out_channels, self.modes1, self.modes2, dtype=torch.cfloat))\n",
    "\n",
    "    # Complex multiplication\n",
    "    def compl_mul2d(self, input, weights):\n",
    "        # (batch, in_channel, x,y ), (in_channel, out_channel, x,y) -> (batch, out_channel, x,y)\n",
    "        #print('input',input.shape)\n",
    "        #print('weights',weights.shape)\n",
    "        #print(\"bixy,ioxy->boxy\")\n",
    "        R_out = torch.einsum(\"bixy,ioxy->boxy\", input, weights)\n",
    "        #print(R_out.shape)\n",
    "        return R_out\n",
    "\n",
    "    def forward(self, x):\n",
    "        batchsize = x.shape[0]\n",
    "        #Compute Fourier coeffcients up to factor of e^(- something constant)\n",
    "        x_ft = torch.fft.rfft2(x)\n",
    "\n",
    "        # Multiply relevant Fourier modes\n",
    "        out_ft = torch.zeros(batchsize, self.out_channels,  x.size(-2), x.size(-1)//2 + 1, dtype=torch.cfloat, device=x.device)\n",
    "        #print('what is out_ft', out_ft.shape)\n",
    "        out_ft[:, :, :self.modes1, :self.modes2] = \\\n",
    "            self.compl_mul2d(x_ft[:, :, :self.modes1, :self.modes2], self.weights1)\n",
    "        out_ft[:, :, -self.modes1:, :self.modes2] = \\\n",
    "            self.compl_mul2d(x_ft[:, :, -self.modes1:, :self.modes2], self.weights2)\n",
    "        #Return to physical space\n",
    "        x = torch.fft.irfft2(out_ft, s=(x.size(-2), x.size(-1)))\n",
    "        return x"
   ]
  },
  {
   "cell_type": "code",
   "execution_count": 20,
   "metadata": {},
   "outputs": [],
   "source": [
    "# MODELS\n",
    "####################################### MODELS ###############################\n",
    "class FNO2d(nn.Module):\n",
    "    def __init__(self, modes1, modes2,  width):\n",
    "        super(FNO2d, self).__init__()\n",
    "\n",
    "        \"\"\"\n",
    "        The overall network. It contains 4 layers of the Fourier layer.\n",
    "        1. Lift the input to the desire channel dimension by self.fc0 .\n",
    "        2. 4 layers of the integral operators u' = (W + K)(u).\n",
    "            W defined by self.w; K defined by self.conv .\n",
    "        3. Project from the channel space to the output space by self.fc1 and self.fc2 .\n",
    "        \n",
    "        input: the solution of the coefficient function and locations (a(x, y), x, y)\n",
    "        input shape: (batchsize, x=s, y=s, c=3)\n",
    "        output: the solution \n",
    "        output shape: (batchsize, x=s, y=s, c=1)\n",
    "        \"\"\"\n",
    "\n",
    "        self.modes1 = modes1\n",
    "        self.modes2 = modes2\n",
    "        self.width = width\n",
    "        self.padding = 16 # pad the domain if input is non-periodic\n",
    "        self.fc0 = nn.Linear(3, self.width) # input channel is 3: (a(x, y), x, y)\n",
    "\n",
    "        self.conv0 = SpectralConv2d(self.width, self.width, self.modes1, self.modes2)\n",
    "        self.conv1 = SpectralConv2d(self.width, self.width, self.modes1, self.modes2)\n",
    "        self.conv2 = SpectralConv2d(self.width, self.width, self.modes1, self.modes2)\n",
    "        self.conv3 = SpectralConv2d(self.width, self.width, self.modes1, self.modes2)\n",
    "        self.w0 = nn.Conv2d(self.width, self.width, 1)\n",
    "        self.w1 = nn.Conv2d(self.width, self.width, 1)\n",
    "        self.w2 = nn.Conv2d(self.width, self.width, 1)\n",
    "        self.w3 = nn.Conv2d(self.width, self.width, 1)\n",
    "\n",
    "        self.fc1 = nn.Linear(self.width, 128)\n",
    "        self.fc2 = nn.Linear(128, 4)\n",
    "\n",
    "    def forward(self, x):\n",
    "        grid = self.get_grid(x.shape, x.device)\n",
    "        #print('x grid input shape', x.shape, 'grid input shape', grid.shape)\n",
    "        x = torch.cat((x, grid), dim=-1)\n",
    "        x = self.fc0(x)\n",
    "        x = x.permute(0, 3, 1, 2)\n",
    "        #x = F.pad(x, [0,self.padding, 0,self.padding])\n",
    "\n",
    "        x1 = self.conv0(x)\n",
    "        x2 = self.w0(x)\n",
    "        x = x1 + x2\n",
    "        x = F.gelu(x)\n",
    "\n",
    "        x1 = self.conv1(x)\n",
    "        x2 = self.w1(x)\n",
    "        x = x1 + x2\n",
    "        x = F.gelu(x)\n",
    "\n",
    "        x1 = self.conv2(x)\n",
    "        x2 = self.w2(x)\n",
    "        x = x1 + x2\n",
    "        x = F.gelu(x)\n",
    "\n",
    "        x1 = self.conv3(x)\n",
    "        x2 = self.w3(x)\n",
    "        x = x1 + x2\n",
    "\n",
    "        #x = x[..., :-self.padding, :-self.padding]\n",
    "        x = x.permute(0, 2, 3, 1)\n",
    "        x = self.fc1(x)\n",
    "        x = F.gelu(x)\n",
    "        x = self.fc2(x)\n",
    "        return x\n",
    "    \n",
    "    def get_grid(self, shape, device):\n",
    "        batchsize, size_x, size_y = shape[0], shape[1], shape[2]\n",
    "        gridx = torch.tensor(np.linspace(0, 1, size_x), dtype=torch.float)\n",
    "        gridx = gridx.reshape(1, size_x, 1, 1).repeat([batchsize, 1, size_y, 1])\n",
    "        gridy = torch.tensor(np.linspace(0, 1, size_y), dtype=torch.float)\n",
    "        gridy = gridy.reshape(1, 1, size_y, 1).repeat([batchsize, size_x, 1, 1])\n",
    "        return torch.cat((gridx, gridy), dim=-1).to(device)\n",
    "\n",
    "\n",
    "\n",
    "################################ 1 FOURIER LAYER NETWORK ARCHITECTURE ###########################################\n",
    "\n",
    "class FNO2d_1L(nn.Module):\n",
    "    def __init__(self, modes1, modes2,  width):\n",
    "        super(FNO2d_1L, self).__init__()\n",
    "\n",
    "        \"\"\"\n",
    "        The overall network. It contains 4 layers of the Fourier layer.\n",
    "        1. Lift the input to the desire channel dimension by self.fc0 .\n",
    "        2. 4 layers of the integral operators u' = (W + K)(u).\n",
    "            W defined by self.w; K defined by self.conv .\n",
    "        3. Project from the channel space to the output space by self.fc1 and self.fc2 .\n",
    "        \n",
    "        input: the solution of the coefficient function and locations (a(x, y), x, y)\n",
    "        input shape: (batchsize, x=s, y=s, c=3)\n",
    "        output: the solution \n",
    "        output shape: (batchsize, x=s, y=s, c=1)\n",
    "        \"\"\"\n",
    "\n",
    "        self.modes1 = modes1\n",
    "        self.modes2 = modes2\n",
    "        self.width = width\n",
    "        self.padding = 16 # pad the domain if input is non-periodic\n",
    "        self.fc0 = nn.Linear(1, self.width) # input channel is 3: (a(x, y), x, y)\n",
    "\n",
    "        self.conv0 = SpectralConv2d(self.width, self.width, self.modes1, self.modes2)\n",
    "        self.w0 = nn.Conv2d(self.width, self.width, 1)\n",
    "\n",
    "        self.fc1 = nn.Linear(self.width, 128)\n",
    "        self.fc2 = nn.Linear(128, 4)\n",
    "\n",
    "    def forward(self, x):\n",
    "        #grid = self.get_grid(x.shape, x.device)\n",
    "        #print('x grid input shape', x.shape, 'grid input shape', grid.shape)\n",
    "        #x = torch.cat((x, grid), dim=-1)\n",
    "        \n",
    "        x = self.fc0(x)\n",
    "        x = x.permute(0, 3, 1, 2)\n",
    "        #x = F.pad(x, [0,self.padding, 0,self.padding])\n",
    "        x1 = self.conv0(x)\n",
    "        x2 = self.w0(x)\n",
    "        x = x1 + x2\n",
    "\n",
    "        #x = x[..., :-self.padding, :-self.padding]\n",
    "        x = x.permute(0, 2, 3, 1)\n",
    "        x = self.fc1(x)\n",
    "        x = F.gelu(x)\n",
    "        x = self.fc2(x)\n",
    "        return x\n",
    "    \n",
    "    def get_grid(self, shape, device):\n",
    "        batchsize, size_x, size_y = shape[0], shape[1], shape[2]\n",
    "        gridx = torch.tensor(np.linspace(0, 1, size_x), dtype=torch.float)\n",
    "        gridx = gridx.reshape(1, size_x, 1, 1).repeat([batchsize, 1, size_y, 1])\n",
    "        gridy = torch.tensor(np.linspace(0, 1, size_y), dtype=torch.float)\n",
    "        gridy = gridy.reshape(1, 1, size_y, 1).repeat([batchsize, size_x, 1, 1])\n",
    "        return torch.cat((gridx, gridy), dim=-1).to(device)\n",
    "\n",
    "\n",
    "\n",
    "############################ 2 FOURIER LAYER NETWORK ARCHITECTURE #############################################\n",
    "class FNO2d_2L(nn.Module):\n",
    "    def __init__(self, modes1, modes2,  width):\n",
    "        super(FNO2d_2L, self).__init__()\n",
    "\n",
    "        \"\"\"\n",
    "        The overall network. It contains 4 layers of the Fourier layer.\n",
    "        1. Lift the input to the desire channel dimension by self.fc0 .\n",
    "        2. 4 layers of the integral operators u' = (W + K)(u).\n",
    "            W defined by self.w; K defined by self.conv .\n",
    "        3. Project from the channel space to the output space by self.fc1 and self.fc2 .\n",
    "        \n",
    "        input: the solution of the coefficient function and locations (a(x, y), x, y)\n",
    "        input shape: (batchsize, x=s, y=s, c=3)\n",
    "        output: the solution \n",
    "        output shape: (batchsize, x=s, y=s, c=1)\n",
    "        \"\"\"\n",
    "\n",
    "        self.modes1 = modes1\n",
    "        self.modes2 = modes2\n",
    "        self.width = width\n",
    "        self.padding = 16 # pad the domain if input is non-periodic\n",
    "        self.fc0 = nn.Linear(1, self.width) # input channel is 3: (a(x, y), x, y)\n",
    "\n",
    "        self.conv0 = SpectralConv2d(self.width, self.width, self.modes1, self.modes2)\n",
    "        self.conv1 = SpectralConv2d(self.width, self.width, self.modes1, self.modes2)\n",
    "        #self.conv2 = SpectralConv2d(self.width, self.width, self.modes1, self.modes2)\n",
    "        #self.conv3 = SpectralConv2d(self.width, self.width, self.modes1, self.modes2)\n",
    "        self.w0 = nn.Conv2d(self.width, self.width, 1)\n",
    "        self.w1 = nn.Conv2d(self.width, self.width, 1)\n",
    "        #self.w2 = nn.Conv2d(self.width, self.width, 1)\n",
    "        #self.w3 = nn.Conv2d(self.width, self.width, 1)\n",
    "\n",
    "        self.fc1 = nn.Linear(self.width, 128)\n",
    "        self.fc2 = nn.Linear(128, 4)\n",
    "\n",
    "    def forward(self, x):\n",
    "        #grid = self.get_grid(x.shape, x.device)\n",
    "        #print('x grid input shape', x.shape, 'grid input shape', grid.shape)\n",
    "        #x = torch.cat((x, grid), dim=-1)\n",
    "        x = self.fc0(x)\n",
    "        x = x.permute(0, 3, 1, 2)\n",
    "        #x = F.pad(x, [0,self.padding, 0,self.padding])\n",
    "\n",
    "        x1 = self.conv0(x)\n",
    "        x2 = self.w0(x)\n",
    "        x = x1 + x2\n",
    "        x = F.gelu(x)\n",
    "\n",
    "        x1 = self.conv1(x)\n",
    "        x2 = self.w1(x)\n",
    "        x = x1 + x2\n",
    "\n",
    "        #x = x[..., :-self.padding, :-self.padding]\n",
    "        x = x.permute(0, 2, 3, 1)\n",
    "        x = self.fc1(x)\n",
    "        x = F.gelu(x)\n",
    "        x = self.fc2(x)\n",
    "        return x\n",
    "    \n",
    "    def get_grid(self, shape, device):\n",
    "        batchsize, size_x, size_y = shape[0], shape[1], shape[2]\n",
    "        gridx = torch.tensor(np.linspace(0, 1, size_x), dtype=torch.float)\n",
    "        gridx = gridx.reshape(1, size_x, 1, 1).repeat([batchsize, 1, size_y, 1])\n",
    "        gridy = torch.tensor(np.linspace(0, 1, size_y), dtype=torch.float)\n",
    "        gridy = gridy.reshape(1, 1, size_y, 1).repeat([batchsize, size_x, 1, 1])\n",
    "        return torch.cat((gridx, gridy), dim=-1).to(device)\n",
    "\n",
    "\n",
    "\n",
    "\n",
    "\n",
    "\n",
    "############################ 4 FOURIER LAYER NETWORK ARCHITECTURE #############################################\n",
    "class FNO2d_4L(nn.Module):\n",
    "    def __init__(self, modes1, modes2,  width):\n",
    "        super(FNO2d_4L, self).__init__()\n",
    "\n",
    "        \"\"\"\n",
    "        The overall network. It contains 4 layers of the Fourier layer.\n",
    "        1. Lift the input to the desire channel dimension by self.fc0 .\n",
    "        2. 4 layers of the integral operators u' = (W + K)(u).\n",
    "            W defined by self.w; K defined by self.conv .\n",
    "        3. Project from the channel space to the output space by self.fc1 and self.fc2 .\n",
    "        \n",
    "        input: the solution of the coefficient function and locations (a(x, y), x, y)\n",
    "        input shape: (batchsize, x=s, y=s, c=3)\n",
    "        output: the solution \n",
    "        output shape: (batchsize, x=s, y=s, c=1)\n",
    "        \"\"\"\n",
    "\n",
    "        self.modes1 = modes1\n",
    "        self.modes2 = modes2\n",
    "        self.width = width\n",
    "        self.padding = 16 # pad the domain if input is non-periodic\n",
    "        self.fc0 = nn.Linear(1, self.width) # input channel is 3: (a(x, y), x, y)\n",
    "\n",
    "        self.conv0 = SpectralConv2d(self.width, self.width, self.modes1, self.modes2)\n",
    "        self.conv1 = SpectralConv2d(self.width, self.width, self.modes1, self.modes2)\n",
    "        self.conv2 = SpectralConv2d(self.width, self.width, self.modes1, self.modes2)\n",
    "        self.conv3 = SpectralConv2d(self.width, self.width, self.modes1, self.modes2)\n",
    "        self.w0 = nn.Conv2d(self.width, self.width, 1)\n",
    "        self.w1 = nn.Conv2d(self.width, self.width, 1)\n",
    "        self.w2 = nn.Conv2d(self.width, self.width, 1)\n",
    "        self.w3 = nn.Conv2d(self.width, self.width, 1)\n",
    "\n",
    "        self.fc1 = nn.Linear(self.width, 128)\n",
    "        self.fc2 = nn.Linear(128, 4)\n",
    "\n",
    "    def forward(self, x):\n",
    "        #grid = self.get_grid(x.shape, x.device)\n",
    "        #print('x grid input shape', x.shape, 'grid input shape', grid.shape)\n",
    "        #x = torch.cat((x, grid), dim=-1)\n",
    "        x = self.fc0(x)\n",
    "        x = x.permute(0, 3, 1, 2)\n",
    "        #x = F.pad(x, [0,self.padding, 0,self.padding])\n",
    "\n",
    "        x1 = self.conv0(x)\n",
    "        x2 = self.w0(x)\n",
    "        x = x1 + x2\n",
    "        x = F.gelu(x)\n",
    "\n",
    "        x1 = self.conv1(x)\n",
    "        x2 = self.w1(x)\n",
    "        x = x1 + x2\n",
    "        x = F.gelu(x)\n",
    "\n",
    "        x1 = self.conv2(x)\n",
    "        x2 = self.w2(x)\n",
    "        x = x1 + x2\n",
    "        x = F.gelu(x)\n",
    "\n",
    "        x1 = self.conv3(x)\n",
    "        x2 = self.w3(x)\n",
    "        x = x1 + x2\n",
    "\n",
    "        #x = x[..., :-self.padding, :-self.padding]\n",
    "        x = x.permute(0, 2, 3, 1)\n",
    "        x = self.fc1(x)\n",
    "        x = F.gelu(x)\n",
    "        x = self.fc2(x)\n",
    "        return x\n",
    "    \n",
    "    def get_grid(self, shape, device):\n",
    "        batchsize, size_x, size_y = shape[0], shape[1], shape[2]\n",
    "        gridx = torch.tensor(np.linspace(0, 1, size_x), dtype=torch.float)\n",
    "        gridx = gridx.reshape(1, size_x, 1, 1).repeat([batchsize, 1, size_y, 1])\n",
    "        gridy = torch.tensor(np.linspace(0, 1, size_y), dtype=torch.float)\n",
    "        gridy = gridy.reshape(1, 1, size_y, 1).repeat([batchsize, size_x, 1, 1])\n",
    "        return torch.cat((gridx, gridy), dim=-1).to(device)\n",
    "\n",
    "\n",
    "############################ 6 FOURIER LAYER NETWORK ARCHITECTURE #############################################\n",
    "class FNO2d_6L(nn.Module):\n",
    "    def __init__(self, modes1, modes2,  width):\n",
    "        super(FNO2d_6L, self).__init__()\n",
    "\n",
    "        \"\"\"\n",
    "        The overall network. It contains 4 layers of the Fourier layer.\n",
    "        1. Lift the input to the desire channel dimension by self.fc0 .\n",
    "        2. 4 layers of the integral operators u' = (W + K)(u).\n",
    "            W defined by self.w; K defined by self.conv .\n",
    "        3. Project from the channel space to the output space by self.fc1 and self.fc2 .\n",
    "        \n",
    "        input: the solution of the coefficient function and locations (a(x, y), x, y)\n",
    "        input shape: (batchsize, x=s, y=s, c=3)\n",
    "        output: the solution \n",
    "        output shape: (batchsize, x=s, y=s, c=1)\n",
    "        \"\"\"\n",
    "\n",
    "        self.modes1 = modes1\n",
    "        self.modes2 = modes2\n",
    "        self.width = width\n",
    "        self.padding = 16 # pad the domain if input is non-periodic\n",
    "        self.fc0 = nn.Linear(1, self.width) # input channel is 3: (a(x, y), x, y)\n",
    "\n",
    "        self.conv0 = SpectralConv2d(self.width, self.width, self.modes1, self.modes2)\n",
    "        self.conv1 = SpectralConv2d(self.width, self.width, self.modes1, self.modes2)\n",
    "        self.conv2 = SpectralConv2d(self.width, self.width, self.modes1, self.modes2)\n",
    "        self.conv3 = SpectralConv2d(self.width, self.width, self.modes1, self.modes2)\n",
    "        self.conv4 = SpectralConv2d(self.width, self.width, self.modes1, self.modes2)\n",
    "        self.conv5 = SpectralConv2d(self.width, self.width, self.modes1, self.modes2)\n",
    "        self.w0 = nn.Conv2d(self.width, self.width, 1)\n",
    "        self.w1 = nn.Conv2d(self.width, self.width, 1)\n",
    "        self.w2 = nn.Conv2d(self.width, self.width, 1)\n",
    "        self.w3 = nn.Conv2d(self.width, self.width, 1)\n",
    "        self.w4 = nn.Conv2d(self.width, self.width, 1)\n",
    "        self.w5 = nn.Conv2d(self.width, self.width, 1)\n",
    "\n",
    "\n",
    "\n",
    "        self.fc1 = nn.Linear(self.width, 128)\n",
    "        self.fc2 = nn.Linear(128, 4)\n",
    "\n",
    "    def forward(self, x):\n",
    "        #grid = self.get_grid(x.shape, x.device)\n",
    "        #print('x grid input shape', x.shape, 'grid input shape', grid.shape)\n",
    "        #x = torch.cat((x, grid), dim=-1)\n",
    "        x = self.fc0(x)\n",
    "        x = x.permute(0, 3, 1, 2)\n",
    "        #x = F.pad(x, [0,self.padding, 0,self.padding])\n",
    "\n",
    "        x1 = self.conv0(x)\n",
    "        x2 = self.w0(x)\n",
    "        x = x1 + x2\n",
    "        x = F.gelu(x)\n",
    "\n",
    "        x1 = self.conv1(x)\n",
    "        x2 = self.w1(x)\n",
    "        x = x1 + x2\n",
    "        x = F.gelu(x)\n",
    "\n",
    "        x1 = self.conv2(x)\n",
    "        x2 = self.w2(x)\n",
    "        x = x1 + x2\n",
    "        x = F.gelu(x)\n",
    "\n",
    "        x1 = self.conv3(x)\n",
    "        x2 = self.w3(x)\n",
    "        x = x1 + x2\n",
    "        x = F.gelu(x)\n",
    "\n",
    "\n",
    "        x1 = self.conv4(x)\n",
    "        x2 = self.w4(x)\n",
    "        x = x1 + x2\n",
    "        x = F.gelu(x)\n",
    "\n",
    "\n",
    "        x1 = self.conv5(x)\n",
    "        x2 = self.w5(x)\n",
    "        x = x1 + x2\n",
    "\n",
    "        #x = x[..., :-self.padding, :-self.padding]\n",
    "        x = x.permute(0, 2, 3, 1)\n",
    "        x = self.fc1(x)\n",
    "        x = F.gelu(x)\n",
    "        x = self.fc2(x)\n",
    "        return x\n",
    "    \n",
    "    def get_grid(self, shape, device):\n",
    "        batchsize, size_x, size_y = shape[0], shape[1], shape[2]\n",
    "        gridx = torch.tensor(np.linspace(0, 1, size_x), dtype=torch.float)\n",
    "        gridx = gridx.reshape(1, size_x, 1, 1).repeat([batchsize, 1, size_y, 1])\n",
    "        gridy = torch.tensor(np.linspace(0, 1, size_y), dtype=torch.float)\n",
    "        gridy = gridy.reshape(1, 1, size_y, 1).repeat([batchsize, size_x, 1, 1])\n",
    "        return torch.cat((gridx, gridy), dim=-1).to(device)\n",
    "\n",
    "\n",
    "\n",
    "\n",
    "\n",
    "############################ 8 FOURIER LAYER NETWORK ARCHITECTURE #############################################\n",
    "class FNO2d_8L(nn.Module):\n",
    "    def __init__(self, modes1, modes2,  width):\n",
    "        super(FNO2d_8L, self).__init__()\n",
    "\n",
    "        \"\"\"\n",
    "        The overall network. It contains 4 layers of the Fourier layer.\n",
    "        1. Lift the input to the desire channel dimension by self.fc0 .\n",
    "        2. 4 layers of the integral operators u' = (W + K)(u).\n",
    "            W defined by self.w; K defined by self.conv .\n",
    "        3. Project from the channel space to the output space by self.fc1 and self.fc2 .\n",
    "        \n",
    "        input: the solution of the coefficient function and locations (a(x, y), x, y)\n",
    "        input shape: (batchsize, x=s, y=s, c=3)\n",
    "        output: the solution \n",
    "        output shape: (batchsize, x=s, y=s, c=1)\n",
    "        \"\"\"\n",
    "\n",
    "        self.modes1 = modes1\n",
    "        self.modes2 = modes2\n",
    "        self.width = width\n",
    "        self.padding = 16 # pad the domain if input is non-periodic\n",
    "        self.fc0 = nn.Linear(1, self.width) # input channel is 3: (a(x, y), x, y)\n",
    "\n",
    "        self.conv0 = SpectralConv2d(self.width, self.width, self.modes1, self.modes2)\n",
    "        self.conv1 = SpectralConv2d(self.width, self.width, self.modes1, self.modes2)\n",
    "        self.conv2 = SpectralConv2d(self.width, self.width, self.modes1, self.modes2)\n",
    "        self.conv3 = SpectralConv2d(self.width, self.width, self.modes1, self.modes2)\n",
    "        self.conv4 = SpectralConv2d(self.width, self.width, self.modes1, self.modes2)\n",
    "        self.conv5 = SpectralConv2d(self.width, self.width, self.modes1, self.modes2)\n",
    "        self.conv6 = SpectralConv2d(self.width, self.width, self.modes1, self.modes2)\n",
    "        self.conv7 = SpectralConv2d(self.width, self.width, self.modes1, self.modes2)\n",
    "        self.w0 = nn.Conv2d(self.width, self.width, 1)\n",
    "        self.w1 = nn.Conv2d(self.width, self.width, 1)\n",
    "        self.w2 = nn.Conv2d(self.width, self.width, 1)\n",
    "        self.w3 = nn.Conv2d(self.width, self.width, 1)\n",
    "        self.w4 = nn.Conv2d(self.width, self.width, 1)\n",
    "        self.w5 = nn.Conv2d(self.width, self.width, 1)\n",
    "        self.w6 = nn.Conv2d(self.width, self.width, 1)\n",
    "        self.w7 = nn.Conv2d(self.width, self.width, 1)\n",
    "\n",
    "\n",
    "\n",
    "        self.fc1 = nn.Linear(self.width, 128)\n",
    "        self.fc2 = nn.Linear(128, 4)\n",
    "\n",
    "    def forward(self, x):\n",
    "        #grid = self.get_grid(x.shape, x.device)\n",
    "        #print('x grid input shape', x.shape, 'grid input shape', grid.shape)\n",
    "        #x = torch.cat((x, grid), dim=-1)\n",
    "        x = self.fc0(x)\n",
    "        x = x.permute(0, 3, 1, 2)\n",
    "        #x = F.pad(x, [0,self.padding, 0,self.padding])\n",
    "\n",
    "        x1 = self.conv0(x)\n",
    "        x2 = self.w0(x)\n",
    "        x = x1 + x2\n",
    "        x = F.gelu(x)\n",
    "\n",
    "        x1 = self.conv1(x)\n",
    "        x2 = self.w1(x)\n",
    "        x = x1 + x2\n",
    "        x = F.gelu(x)\n",
    "\n",
    "        x1 = self.conv2(x)\n",
    "        x2 = self.w2(x)\n",
    "        x = x1 + x2\n",
    "        x = F.gelu(x)\n",
    "\n",
    "        x1 = self.conv3(x)\n",
    "        x2 = self.w3(x)\n",
    "        x = x1 + x2\n",
    "        x = F.gelu(x)\n",
    "\n",
    "\n",
    "        x1 = self.conv4(x)\n",
    "        x2 = self.w4(x)\n",
    "        x = x1 + x2\n",
    "        x = F.gelu(x)\n",
    "\n",
    "\n",
    "        x1 = self.conv5(x)\n",
    "        x2 = self.w5(x)\n",
    "        x = x1 + x2\n",
    "        x = F.gelu(x)\n",
    "\n",
    "        x1 = self.conv6(x)\n",
    "        x2 = self.w6(x)\n",
    "        x = x1 + x2\n",
    "        x = F.gelu(x)\n",
    "\n",
    "        x1 = self.conv7(x)\n",
    "        x2 = self.w7(x)\n",
    "        x = x1 + x2\n",
    "        \n",
    "        #x = x[..., :-self.padding, :-self.padding]\n",
    "        x = x.permute(0, 2, 3, 1)\n",
    "        x = self.fc1(x)\n",
    "        x = F.gelu(x)\n",
    "        x = self.fc2(x)\n",
    "        return x\n",
    "    \n",
    "    def get_grid(self, shape, device):\n",
    "        batchsize, size_x, size_y = shape[0], shape[1], shape[2]\n",
    "        gridx = torch.tensor(np.linspace(0, 1, size_x), dtype=torch.float)\n",
    "        gridx = gridx.reshape(1, size_x, 1, 1).repeat([batchsize, 1, size_y, 1])\n",
    "        gridy = torch.tensor(np.linspace(0, 1, size_y), dtype=torch.float)\n",
    "        gridy = gridy.reshape(1, 1, size_y, 1).repeat([batchsize, size_x, 1, 1])\n",
    "        return torch.cat((gridx, gridy), dim=-1).to(device)\n"
   ]
  },
  {
   "cell_type": "code",
   "execution_count": 5,
   "metadata": {},
   "outputs": [
    {
     "name": "stdout",
     "output_type": "stream",
     "text": [
      "torch.Size([8000, 8, 8, 1]) torch.Size([8000, 16, 16, 1])\n"
     ]
    }
   ],
   "source": [
    "# DATA LOADING\n",
    "############################## DATA LOADING ########################################\n",
    "raw_data = scipy.io.loadmat('./datasets/10k_real_dataset')\n",
    "\n",
    "sol = np.asarray(raw_data['solution_data'])\n",
    "mes = np.asarray(raw_data['measurement_data'])\n",
    "\n",
    "sol_temp = np.expand_dims(sol,axis = 1 )\n",
    "#sol_temp = np.sqeeze(sol_temp)\n",
    "mes_temp = np.transpose(np.expand_dims(mes,axis = 1 ),(0,2,1))\n",
    "\n",
    "# dimensions of solution space\n",
    "y_dim1 = 16\n",
    "y_dim2 = 16\n",
    "\n",
    "# dimensions of measurement space\n",
    "x_dim2 = 8     # no of detectors\n",
    "x_dim1 = int(mes.shape[1]/x_dim2)\n",
    "\n",
    "def convert_data(data_x, data_y):\n",
    "    data_X = torch.from_numpy(data_x).float()\n",
    "    data_Y = torch.from_numpy(data_y).float()\n",
    "    return data_X, data_Y\n",
    "\n",
    "# we are solving the inverse problem, so going from measurements, to solutions\n",
    "X, y = convert_data(mes_temp, sol_temp)\n",
    "X_train, X_test, y_train, y_test = train_test_split(X, y, test_size=0.2, random_state=42)\n",
    "\n",
    "#y_normalizer = UnitGaussianNormalizer(y_train)\n",
    "#y_train = y_normalizer.encode(y_train)\n",
    "\n",
    "#x_normalizer = UnitGaussianNormalizer(X_train)\n",
    "#X_train = x_normalizer.encode(X_train)\n",
    "#X_test = x_normalizer.encode(X_test)\n",
    "\n",
    "y_train = y_train.squeeze()\n",
    "y_test = y_test.squeeze()\n",
    "\n",
    "y_test = y_test.reshape(y_test.shape[0],y_dim1,y_dim2,1)\n",
    "y_train = y_train.reshape(y_train.shape[0],y_dim1,y_dim2,1)\n",
    "\n",
    "X_test = X_test.reshape(X_test.shape[0], x_dim1,x_dim2,1)\n",
    "X_train = X_train.reshape(X_train.shape[0], x_dim1,x_dim2,1)\n",
    "\n",
    "#batch_size = 10\n",
    "#train_loader = DataLoader(data_utils.TensorDataset(X_train, Y_train), batch_size=batch_size, shuffle=True)\n",
    "train_dataset = TensorDataset( X_train, y_train )\n",
    "test_dataset = TensorDataset( X_test, y_test )\n",
    "\n",
    "train_loader = DataLoader(train_dataset, shuffle=True, batch_size=batch_size)\n",
    "test_loader = torch.utils.data.DataLoader(test_dataset, batch_size=batch_size, shuffle=False)\n",
    "\n",
    "ntrain = X_train.shape[0]\n",
    "ntest = X_test.shape[0]\n",
    "\n",
    "print(X_train.shape, y_train.shape)"
   ]
  },
  {
   "cell_type": "code",
   "execution_count": 6,
   "metadata": {},
   "outputs": [],
   "source": [
    "# MODEL METRICS\n",
    "###################################\n",
    "# MODEL METRICS\n",
    "###################################\n",
    "def model_metrics(model,test_loader,ntrain):\n",
    "    rms_values, psnr_values, ssim_values, uqi_values = [], [], [], []\n",
    "\n",
    "    for test_num in range(ntest):\n",
    "        K = torch.unsqueeze(test_loader.dataset[test_num][0], 0).cuda()\n",
    "        model.eval()\n",
    "        predicted_np = np.reshape(model(K).detach().cpu().numpy(),(16,16))\n",
    "\n",
    "        truth = test_loader.dataset[test_num][1]\n",
    "        truth_np = np.reshape(truth.numpy(),(16,16))\n",
    "\n",
    "        #diff_image = predicted - truth_np\n",
    "        #np.sqrt(np.sum(diff_image**2)/256)\n",
    "\n",
    "        rms_values.append(rmse(predicted_np, truth_np))\n",
    "        psnr_values.append(psnr(truth_np, predicted_np, data_range=predicted_np.max() - predicted_np.min()))\n",
    "        ssim_values.append(ssim(truth_np, predicted_np, data_range=predicted_np.max() - predicted_np.min()))\n",
    "        uqi_values.append(uqi(predicted_np, truth_np))\n",
    "\n",
    "    model_rms = sum(rms_values)/ len(rms_values)\n",
    "    std_rms = np.std(np.array(rms_values))\n",
    "\n",
    "    model_psnr = sum(psnr_values)/ len(psnr_values)\n",
    "    std_psnr = np.std(np.array(psnr_values))\n",
    "\n",
    "    model_ssim = sum(ssim_values)/ len(ssim_values)\n",
    "    std_ssim = np.std(np.array(ssim_values))\n",
    "\n",
    "    model_uqi = sum(uqi_values)/ len(uqi_values)\n",
    "    std_uqi = np.std(np.array(uqi_values))\n",
    "\n",
    "\n",
    "    print(\"RMSE: \", model_rms, std_rms, sep=\"---\")\n",
    "    print(\"PSNR: \", model_psnr, std_psnr, sep=\"---\")\n",
    "    print(\"SSIM: \", model_ssim, std_ssim, sep=\"---\")\n",
    "    print(\"UQI: \", model_uqi, std_uqi, sep=\"---\")\n",
    "\n",
    "\n",
    "    output = {\n",
    "    \"rms\": rms_values,\n",
    "    \"psnr\": psnr_values,\n",
    "    \"ssim\": ssim_values,\n",
    "    \"uqi\": uqi_values,\n",
    "    }\n",
    "    return output "
   ]
  },
  {
   "cell_type": "code",
   "execution_count": 7,
   "metadata": {},
   "outputs": [],
   "source": [
    "# TRAINING AND EVALUATION\n",
    "################################################################\n",
    "# TRAINING AND EVALUATION\n",
    "################################################################\n",
    "\n",
    "\n",
    "def train_model(model, epochs, batch_size, learning_rate, weight_decay, step_size, gamma):\n",
    "    optimizer = Adam(model.parameters(), lr=learning_rate, weight_decay=weight_decay)\n",
    "    scheduler = torch.optim.lr_scheduler.StepLR(optimizer, step_size=step_size, gamma=gamma)\n",
    "    train_losses, test_losses, epoch_time = [], [], []\n",
    "\n",
    "    myloss = LpLoss(size_average=False)\n",
    "    for ep in range(epochs):\n",
    "        model.train()\n",
    "        t1 = default_timer()\n",
    "        train_mse = 0\n",
    "        train_l2 = 0\n",
    "        total_time = 0\n",
    "        for x, y in train_loader:\n",
    "            x, y = x.cuda(), y.cuda()\n",
    "\n",
    "            optimizer.zero_grad()\n",
    "            #print('in: ',x.shape)\n",
    "            out = model(x)\n",
    "            #print('out: ',out.shape)\n",
    "\n",
    "            mse = F.mse_loss(out.view(batch_size, -1), y.view(batch_size, -1), reduction='mean')\n",
    "            l2 = myloss(out.view(batch_size, -1), y.view(batch_size, -1))\n",
    "            l2.backward() # use the l2 relative loss\n",
    "\n",
    "            optimizer.step()\n",
    "            train_mse += mse.item()\n",
    "            train_l2 += l2.item()\n",
    "\n",
    "        scheduler.step()\n",
    "        model.eval()\n",
    "        test_l2 = 0.0\n",
    "        with torch.no_grad():\n",
    "            for x, y in test_loader:\n",
    "                x, y = x.cuda(), y.cuda()\n",
    "\n",
    "                out = model(x)\n",
    "                test_l2 += myloss(out.view(batch_size, -1), y.view(batch_size, -1)).item()\n",
    "\n",
    "        #train_mse /= len(train_loader)\n",
    "        train_l2 /= ntrain\n",
    "        train_losses.append(train_l2)\n",
    "        test_l2 /= ntest\n",
    "        test_losses.append(test_l2)\n",
    "\n",
    "\n",
    "        t2 = default_timer()\n",
    "        epoch_time.append(t2 - t1)\n",
    "\n",
    "        print(ep, t2 - t1, train_l2, test_l2)\n",
    "    total_time = sum(epoch_time)\n",
    "    print(\"TOTAL TIME: \", total_time, sep=\"---\")\n",
    "\n",
    "    output = {\n",
    "    \"train_losses\": train_losses,\n",
    "    \"test_losses\": test_losses,\n",
    "    \"epoch_time\": epoch_time,\n",
    "    \"training_time\": total_time,\n",
    "    \"model\": model\n",
    "    }\n",
    "    return output \n",
    "# torch.save(model, 'model/ns_fourier_burgers')\n",
    "\n",
    "# scipy.io.savemat('pred/burger_test.mat', mdict={'pred': pred.cpu().numpy()})"
   ]
  },
  {
   "cell_type": "code",
   "execution_count": 8,
   "metadata": {},
   "outputs": [
    {
     "data": {
      "text/plain": [
       "<matplotlib.colorbar.Colorbar at 0x200d7986b00>"
      ]
     },
     "execution_count": 8,
     "metadata": {},
     "output_type": "execute_result"
    },
    {
     "data": {
      "image/png": "[encoded data removed]",
      "text/plain": [
       "<Figure size 432x288 with 2 Axes>"
      ]
     },
     "metadata": {
      "needs_background": "light"
     },
     "output_type": "display_data"
    }
   ],
   "source": [
    "#Actual\n",
    "test_num = 434\n",
    "truth_out = test_loader.dataset[test_num][1]\n",
    "plt.imshow(np.reshape(truth_out.numpy(),(16,16)))\n",
    "plt.colorbar()"
   ]
  },
  {
   "cell_type": "code",
   "execution_count": 9,
   "metadata": {},
   "outputs": [
    {
     "name": "stdout",
     "output_type": "stream",
     "text": [
      "1664132\n",
      "0 15.778823100030422 0.16038231813907625 0.1178160474896431\n",
      "1 11.918571799993515 0.11722089995443821 0.11099148917198182\n",
      "2 11.87934929993935 0.11030273996293545 0.1099895547926426\n",
      "3 11.668465499999002 0.10576386893540621 0.10982627540826798\n",
      "4 11.881511899991892 0.10506339667737484 0.10126307472586632\n",
      "5 11.909641499980353 0.10136061401665211 0.09699635115265846\n",
      "6 12.361726299975999 0.09909122120589017 0.09746725341677666\n",
      "7 11.839472600026056 0.09693719031661749 0.09419297191500664\n",
      "8 11.968980899895541 0.09550126920640468 0.09403715750575066\n",
      "9 11.880381199996918 0.09278836233913898 0.09442267188429833\n",
      "10 11.943030399968848 0.09157198558747769 0.08911058244109153\n",
      "11 11.92792519996874 0.08957839392125606 0.09207874244451522\n",
      "12 12.691127400030382 0.08832280821353197 0.08647756305336952\n",
      "13 11.987587500014342 0.08676323526352644 0.08742640990018845\n",
      "14 12.004790000035428 0.08592151791602373 0.08654781568050385\n",
      "15 12.010600499925204 0.08414055518060923 0.08376656353473663\n",
      "16 12.083412899984978 0.08351351632922888 0.08519928508996963\n",
      "17 12.022043899982236 0.08281351589411497 0.08307241967320442\n",
      "18 11.935004699975252 0.08203340477496386 0.08368912994861603\n",
      "19 12.085791600053199 0.08122628730535507 0.08168128660321236\n",
      "TOTAL TIME: ---243.77823819976766\n",
      "RMSE: ---0.0022110482946825698---0.0010373864409785277\n",
      "PSNR: ---27.961208936016714---2.93345938217103\n",
      "SSIM: ---0.9203021421582628---0.023301601928583618\n",
      "UQI: ---0.9962201742469637---0.002852534065083848\n"
     ]
    },
    {
     "data": {
      "text/plain": [
       "<matplotlib.image.AxesImage at 0x200dad34310>"
      ]
     },
     "execution_count": 9,
     "metadata": {},
     "output_type": "execute_result"
    },
    {
     "data": {
      "image/png": "[encoded data removed]",
      "text/plain": [
       "<Figure size 432x288 with 1 Axes>"
      ]
     },
     "metadata": {
      "needs_background": "light"
     },
     "output_type": "display_data"
    }
   ],
   "source": [
    "# ONE LAYER RESULTS\n",
    "############################################################################\n",
    "\n",
    "model_1L = FNO2d(modes, modes, width).cuda()\n",
    "print(count_params(model_1L))\n",
    "output_1L = train_model(model_1L, 20, batch_size, learning_rate, weight_decay, step_size, gamma)\n",
    "\n",
    "output_1L_model = output_1L.get(\"model\")\n",
    "torch.save(output_1L_model, 'fno2D_1l.h5')\n",
    "results_1L = model_metrics(output_1L_model,test_loader,ntrain)\n",
    "\n",
    "# ONE LAYER RESULTS\n",
    "############################################################################\n",
    "K = torch.unsqueeze(test_loader.dataset[test_num][0], 0).cuda()\n",
    "output_1L_model.eval()\n",
    "predicted = np.reshape(output_1L_model(K).detach().cpu().numpy(),(16,16))\n",
    "plt.imshow(predicted)"
   ]
  },
  {
   "cell_type": "code",
   "execution_count": 10,
   "metadata": {},
   "outputs": [
    {
     "data": {
      "text/plain": [
       "<matplotlib.image.AxesImage at 0x200f8e6fb80>"
      ]
     },
     "execution_count": 10,
     "metadata": {},
     "output_type": "execute_result"
    },
    {
     "data": {
      "image/png": "[encoded data removed]",
      "text/plain": [
       "<Figure size 432x288 with 1 Axes>"
      ]
     },
     "metadata": {
      "needs_background": "light"
     },
     "output_type": "display_data"
    }
   ],
   "source": [
    "K = torch.unsqueeze(test_loader.dataset[test_num][0], 0).cuda()\n",
    "output_1L_model.eval()\n",
    "predicted = np.reshape(output_1L_model(K).detach().cpu().numpy(),(16,16))\n",
    "plt.imshow(predicted)"
   ]
  },
  {
   "cell_type": "code",
   "execution_count": 19,
   "metadata": {},
   "outputs": [
    {
     "name": "stdout",
     "output_type": "stream",
     "text": [
      "422724\n",
      "0 5.005744399968535 2.067723028600216 0.6878974881172181\n",
      "1 4.703218099894002 0.5106693753302097 0.3356432716846466\n",
      "2 4.739129199995659 0.32728948602080343 0.3531242672204971\n",
      "3 4.712262300075963 0.26377962593734267 0.2486000412106514\n",
      "4 5.077905000071041 0.2522142539024353 0.23865583115816116\n",
      "5 4.9268125999951735 0.24238622371852397 0.2366520054936409\n",
      "6 4.908343099988997 0.36171659457683564 0.8334909756183624\n",
      "7 5.085611999966204 0.2885590569227934 0.24972486209869385\n",
      "8 4.8940969000104815 0.24390580201148987 0.24459325098991394\n",
      "9 5.121048600063659 0.23138192975521088 0.23289519172906875\n",
      "10 4.690891099977307 0.2262935496121645 0.22130060243606567\n",
      "11 4.462268600007519 0.21938364149630069 0.21953573101758958\n",
      "12 4.48292879993096 0.21658472068607806 0.2066345419883728\n",
      "13 4.45986029994674 0.21302167777717113 0.2075312957763672\n",
      "14 4.457008600002155 0.2083724732398987 0.20001100766658783\n",
      "15 4.420207499992102 0.20600614120066166 0.2035417086482048\n",
      "16 4.493276500026695 0.2023373096883297 0.1979447755217552\n",
      "17 4.4668003000551835 0.20002259548008441 0.193339975297451\n",
      "18 4.661736999987625 0.19671747796237468 0.19617264628410339\n",
      "19 4.445747899939306 0.19335650837421417 0.1898781259059906\n",
      "TOTAL TIME: ---94.21489879989531\n",
      "RMSE: ---0.005167601973700827---0.003012010821654778\n",
      "PSNR: ---21.14819073842498---3.415905530260687\n",
      "SSIM: ---0.7196471703448045---0.08362785628566534\n",
      "UQI: ---0.979569170616077---0.021341134768626764\n"
     ]
    },
    {
     "data": {
      "text/plain": [
       "<matplotlib.colorbar.Colorbar at 0x202139bc4c0>"
      ]
     },
     "execution_count": 19,
     "metadata": {},
     "output_type": "execute_result"
    },
    {
     "data": {
      "image/png": "[encoded data removed]",
      "text/plain": [
       "<Figure size 432x288 with 2 Axes>"
      ]
     },
     "metadata": {
      "needs_background": "light"
     },
     "output_type": "display_data"
    }
   ],
   "source": [
    "# ONE LAYER RESULTS\n",
    "############################################################################\n",
    "\n",
    "model_1L = FNO2d_1L(modes, modes, width).cuda()\n",
    "print(count_params(model_1L))\n",
    "output_1L = train_model(model_1L, 20, batch_size, learning_rate, weight_decay, step_size, gamma)\n",
    "\n",
    "output_1L_model = output_1L.get(\"model\")\n",
    "torch.save(output_1L_model, 'fno2D_1l.h5')\n",
    "results_1L = model_metrics(output_1L_model,test_loader,ntrain)\n",
    "\n",
    "# ONE LAYER RESULTS\n",
    "############################################################################\n",
    "K = torch.unsqueeze(test_loader.dataset[test_num][0], 0).cuda()\n",
    "output_1L_model.eval()\n",
    "predicted = np.reshape(output_1L_model(K).detach().cpu().numpy(),(16,16))\n",
    "plt.imshow(predicted)\n",
    "plt.colorbar()"
   ]
  },
  {
   "cell_type": "code",
   "execution_count": 26,
   "metadata": {},
   "outputs": [
    {
     "data": {
      "image/png": "[encoded data removed]",
      "text/plain": [
       "<Figure size 432x288 with 2 Axes>"
      ]
     },
     "metadata": {
      "needs_background": "light"
     },
     "output_type": "display_data"
    }
   ],
   "source": [
    "K = torch.unsqueeze(test_loader.dataset[test_num][0], 0).cuda()\n",
    "output_1L_model.eval()\n",
    "predicted = np.reshape(output_1L_model(K).detach().cpu().numpy(),(16,16))\n",
    "plt.imshow(predicted)\n",
    "plt.colorbar()\n",
    "\n",
    "save_recon = 'fno2d_1lv2.png'\n",
    "plt.savefig('./images/' + save_recon)"
   ]
  },
  {
   "cell_type": "code",
   "execution_count": null,
   "metadata": {},
   "outputs": [],
   "source": [
    "# ONE LAYER RESULTS\n",
    "############################################################################\n",
    "K = torch.unsqueeze(test_loader.dataset[test_num][0], 0).cuda()\n",
    "output_1L_model.eval()\n",
    "predicted = np.reshape(output_1L_model(K).detach().cpu().numpy(),(16,16))\n",
    "plt.imshow(predicted)\n",
    "plt.colorbar()"
   ]
  },
  {
   "cell_type": "code",
   "execution_count": 21,
   "metadata": {},
   "outputs": [
    {
     "name": "stdout",
     "output_type": "stream",
     "text": [
      "836484\n",
      "0 7.141834900015965 0.42256637385487555 0.19488429695367812\n",
      "1 6.990076299989596 0.16884796153008938 0.15128537636995315\n",
      "2 6.908984599984251 0.1558324271440506 0.171465447306633\n",
      "3 6.588973799953237 0.14567889449745416 0.1447165310382843\n",
      "4 6.564982699928805 0.13851879741996526 0.13354485803842545\n",
      "5 6.991382900043391 0.1319749773219228 0.12156500312685967\n",
      "6 7.01495199999772 0.1290064985603094 0.12479944890737533\n",
      "7 7.254868599935435 0.12538483606278897 0.1196617086827755\n",
      "8 6.913460700074211 0.1232480472549796 0.1216067577302456\n",
      "9 6.920857799937949 0.12207339201122522 0.11451838898658752\n",
      "10 7.446004300029017 0.11998881682753564 0.12443550828099251\n",
      "11 6.851698400103487 0.11914094388484955 0.11475301212072372\n",
      "12 6.932945900014602 0.11754936887323857 0.12110403829813003\n",
      "13 7.087445199955255 0.11560967921465636 0.11552983498573303\n",
      "14 6.7857817999320105 0.11489671593159437 0.11255586650967599\n",
      "15 6.9037842999678105 0.11309167228639126 0.11196553403139115\n",
      "16 6.980031400104053 0.1122719257324934 0.10667348000407219\n",
      "17 6.943986999918707 0.11166492109000682 0.10894332087039947\n",
      "18 6.957351900055073 0.11048553268611432 0.10791926848888397\n",
      "19 6.980679300031625 0.1096121838092804 0.1065925895869732\n",
      "TOTAL TIME: ---139.1600837999722\n",
      "RMSE: ---0.0028915586837720115---0.0014379598295822546\n",
      "PSNR: ---25.805866966540982---2.9038474097345244\n",
      "SSIM: ---0.8787039995517893---0.03385190876543129\n",
      "UQI: ---0.9937477944861587---0.005016463374633976\n"
     ]
    },
    {
     "data": {
      "text/plain": [
       "<matplotlib.colorbar.Colorbar at 0x20213d43d00>"
      ]
     },
     "execution_count": 21,
     "metadata": {},
     "output_type": "execute_result"
    },
    {
     "data": {
      "image/png": "[encoded data removed]",
      "text/plain": [
       "<Figure size 432x288 with 2 Axes>"
      ]
     },
     "metadata": {
      "needs_background": "light"
     },
     "output_type": "display_data"
    }
   ],
   "source": [
    "# TWO LAYER RESULTS\n",
    "############################################################################\n",
    "\n",
    "model_2L = FNO2d_2L(modes, modes, width).cuda()\n",
    "print(count_params(model_2L))\n",
    "output_2L = train_model(model_2L, 20, batch_size, learning_rate, weight_decay, step_size, gamma)\n",
    "\n",
    "output_2L_model = output_2L.get(\"model\")\n",
    "torch.save(output_2L_model, 'fno2d_2l.h5')\n",
    "\n",
    "\n",
    "results_2L = model_metrics(output_2L_model,test_loader,ntrain)\n",
    "\n",
    "# TWO LAYER RESULTS\n",
    "############################################################################\n",
    "output_2L_model.eval()\n",
    "predicted = np.reshape(output_2L_model(K).detach().cpu().numpy(),(16,16))\n",
    "plt.imshow(predicted)\n",
    "plt.colorbar()"
   ]
  },
  {
   "cell_type": "code",
   "execution_count": 29,
   "metadata": {},
   "outputs": [
    {
     "data": {
      "image/png": "[encoded data removed]",
      "text/plain": [
       "<Figure size 432x288 with 2 Axes>"
      ]
     },
     "metadata": {
      "needs_background": "light"
     },
     "output_type": "display_data"
    }
   ],
   "source": [
    "K = torch.unsqueeze(test_loader.dataset[test_num][0], 0).cuda()\n",
    "output_2L_model.eval()\n",
    "predicted = np.reshape(output_2L_model(K).detach().cpu().numpy(),(16,16))\n",
    "plt.imshow(predicted)\n",
    "plt.colorbar()\n",
    "\n",
    "save_recon = 'fno2d_2lv2.png'\n",
    "plt.savefig('./images/' + save_recon)"
   ]
  },
  {
   "cell_type": "code",
   "execution_count": 22,
   "metadata": {},
   "outputs": [
    {
     "name": "stdout",
     "output_type": "stream",
     "text": [
      "1664004\n",
      "0 11.309421300073154 0.2002257088571787 0.14734102952480316\n",
      "1 10.792567700031213 0.12636020001769066 0.12365811336040497\n",
      "2 11.036727600032464 0.11546137902885675 0.10873916533589363\n",
      "3 10.864561300026253 0.10894458112865686 0.11734052443504334\n",
      "4 10.894826299976557 0.10462580928206444 0.12137091916799546\n",
      "5 10.795651899999939 0.10360214952379465 0.10013678765296936\n",
      "6 11.014472999959253 0.09946882100403309 0.09621623760461807\n",
      "7 11.13466119999066 0.09853911431133747 0.1010513559281826\n",
      "8 10.669030799996108 0.09658654318004846 0.09648101878166199\n",
      "9 10.664278000011109 0.09504840384423732 0.09324809762835502\n",
      "10 10.52470790001098 0.09353347913175822 0.09732904157042503\n",
      "11 10.741318300017156 0.09134833167493343 0.10316959619522095\n",
      "12 10.436344100045972 0.09072769071906805 0.09453065985441209\n",
      "13 10.348832000046968 0.08975541651248932 0.09007075548171997\n",
      "14 10.110861700028181 0.08811451552063226 0.08843406653404236\n",
      "15 10.333875499898568 0.0870195537135005 0.09283193388581276\n",
      "16 10.371555300080217 0.08646376213431359 0.08660351863503456\n",
      "17 10.317778300028294 0.08429391294717789 0.08711083573102951\n",
      "18 10.370519199990667 0.0835933333337307 0.0844818249642849\n",
      "19 10.465539500000887 0.08260537052154542 0.084916015625\n",
      "TOTAL TIME: ---213.1975309002446\n",
      "RMSE: ---0.0023021139212343975---0.0011189680487990992\n",
      "PSNR: ---27.89006167705236---2.9356194146163275\n",
      "SSIM: ---0.9170722236268264---0.024183965794042504\n",
      "UQI: ---0.9958578031638732---0.0032579491387699595\n"
     ]
    },
    {
     "data": {
      "text/plain": [
       "<matplotlib.colorbar.Colorbar at 0x20213e60f40>"
      ]
     },
     "execution_count": 22,
     "metadata": {},
     "output_type": "execute_result"
    },
    {
     "data": {
      "image/png": "[encoded data removed]",
      "text/plain": [
       "<Figure size 432x288 with 2 Axes>"
      ]
     },
     "metadata": {
      "needs_background": "light"
     },
     "output_type": "display_data"
    }
   ],
   "source": [
    "# FOUR LAYER RESULTS\n",
    "############################################################################\n",
    "\n",
    "model_4L = FNO2d_4L(modes, modes, width).cuda()\n",
    "print(count_params(model_4L))\n",
    "output_4L = train_model(model_4L, 20, batch_size, learning_rate, weight_decay, step_size, gamma)\n",
    "\n",
    "output_4L_model = output_4L.get(\"model\")\n",
    "torch.save(output_4L_model, 'fno2d_4l.h5')\n",
    "\n",
    "\n",
    "results_4L = model_metrics(output_4L_model,test_loader,ntrain)\n",
    "\n",
    "# FOUR LAYER RESULTS\n",
    "############################################################################\n",
    "output_4L_model.eval()\n",
    "predicted = np.reshape(output_4L_model(K).detach().cpu().numpy(),(16,16))\n",
    "plt.imshow(predicted)\n",
    "plt.colorbar()"
   ]
  },
  {
   "cell_type": "code",
   "execution_count": 31,
   "metadata": {},
   "outputs": [
    {
     "data": {
      "image/png": "[encoded data removed]",
      "text/plain": [
       "<Figure size 432x288 with 2 Axes>"
      ]
     },
     "metadata": {
      "needs_background": "light"
     },
     "output_type": "display_data"
    }
   ],
   "source": [
    "K = torch.unsqueeze(test_loader.dataset[test_num][0], 0).cuda()\n",
    "output_4L_model.eval()\n",
    "predicted = np.reshape(output_4L_model(K).detach().cpu().numpy(),(16,16))\n",
    "plt.imshow(predicted)\n",
    "plt.colorbar()\n",
    "\n",
    "save_recon = 'fno2d_4lv2.png'\n",
    "plt.savefig('./images/' + save_recon)"
   ]
  },
  {
   "cell_type": "code",
   "execution_count": 23,
   "metadata": {},
   "outputs": [
    {
     "name": "stdout",
     "output_type": "stream",
     "text": [
      "2491524\n",
      "0 14.87088830000721 0.19137074983865024 0.12793705758452414\n",
      "1 15.574207699974068 0.11786281887441874 0.11578672501444817\n",
      "2 14.978639399982058 0.11038288802653551 0.10327227556705475\n",
      "3 15.309618100058287 0.10448137789219618 0.09998197436332702\n",
      "4 15.149742000037804 0.10137588246911765 0.0979411401450634\n",
      "5 15.004409999935888 0.09714830461889505 0.09560677191615105\n",
      "6 15.304969800054096 0.09458006894588471 0.09724472719430924\n",
      "7 15.583600500016473 0.09242247483879328 0.0901684876382351\n",
      "8 15.555071400012821 0.08921614076942205 0.09078393828868866\n",
      "9 15.170897600008175 0.08658405292034149 0.08548553025722504\n",
      "10 14.989378799917176 0.084892521828413 0.08322032004594802\n",
      "11 15.279916499974206 0.08230121233314276 0.0835042773783207\n",
      "12 15.130609499989077 0.08095632650703191 0.08323352241516113\n",
      "13 15.584670100011863 0.07937971355021 0.08217397356033325\n",
      "14 15.377392500056885 0.07846905455738307 0.0784683047235012\n",
      "15 15.163527900003828 0.0771027340143919 0.08063860589265823\n",
      "16 15.087221800000407 0.07568415074050426 0.07897545889019966\n",
      "17 15.323808599961922 0.07503106360137463 0.0756219707429409\n",
      "18 14.84329460002482 0.07417848332226276 0.07836852538585663\n",
      "19 14.740015899995342 0.07312967719137668 0.07902659574151039\n",
      "TOTAL TIME: ---304.0218810000224\n",
      "RMSE: ---0.0021442960860123287---0.0010454838247100958\n",
      "PSNR: ---28.19067978075635---3.109283774459266\n",
      "SSIM: ---0.9274590195825908---0.025459422013031904\n",
      "UQI: ---0.996121903848526---0.002989368682853756\n"
     ]
    },
    {
     "data": {
      "text/plain": [
       "<matplotlib.colorbar.Colorbar at 0x20213f65960>"
      ]
     },
     "execution_count": 23,
     "metadata": {},
     "output_type": "execute_result"
    },
    {
     "data": {
      "image/png": "[encoded data removed]",
      "text/plain": [
       "<Figure size 432x288 with 2 Axes>"
      ]
     },
     "metadata": {
      "needs_background": "light"
     },
     "output_type": "display_data"
    }
   ],
   "source": [
    "# SIX LAYER RESULTS\n",
    "############################################################################\n",
    "\n",
    "model_6L = FNO2d_6L(modes, modes, width).cuda()\n",
    "print(count_params(model_6L))\n",
    "output_6L = train_model(model_6L, 20, batch_size, learning_rate, weight_decay, step_size, gamma)\n",
    "\n",
    "output_6L_model = output_6L.get(\"model\")\n",
    "torch.save(output_6L_model, 'fno2d_6l.h5')\n",
    "\n",
    "\n",
    "results_6L = model_metrics(output_6L_model,test_loader,ntrain)\n",
    "\n",
    "# SIX LAYER RESULTS\n",
    "############################################################################\n",
    "output_6L_model.eval()\n",
    "predicted = np.reshape(output_6L_model(K).detach().cpu().numpy(),(16,16))\n",
    "plt.imshow(predicted)\n",
    "plt.colorbar()"
   ]
  },
  {
   "cell_type": "code",
   "execution_count": 32,
   "metadata": {},
   "outputs": [
    {
     "data": {
      "image/png": "[encoded data removed]",
      "text/plain": [
       "<Figure size 432x288 with 2 Axes>"
      ]
     },
     "metadata": {
      "needs_background": "light"
     },
     "output_type": "display_data"
    }
   ],
   "source": [
    "K = torch.unsqueeze(test_loader.dataset[test_num][0], 0).cuda()\n",
    "output_6L_model.eval()\n",
    "predicted = np.reshape(output_6L_model(K).detach().cpu().numpy(),(16,16))\n",
    "plt.imshow(predicted)\n",
    "plt.colorbar()\n",
    "\n",
    "save_recon = 'fno2d_6lv2.png'\n",
    "plt.savefig('./images/' + save_recon)"
   ]
  },
  {
   "cell_type": "code",
   "execution_count": 24,
   "metadata": {},
   "outputs": [
    {
     "name": "stdout",
     "output_type": "stream",
     "text": [
      "3319044\n",
      "0 19.240684400079772 0.18398479649424554 0.16249239951372146\n",
      "1 18.64479479996953 0.1171138851866126 0.10701238039135932\n",
      "2 18.52794330008328 0.10778585117310285 0.10741129633784294\n",
      "3 18.59807780000847 0.10257182750850916 0.10210089674592018\n",
      "4 19.444980500033125 0.09943931718170643 0.10568370291590691\n",
      "5 19.262601600028574 0.09646184297651053 0.10115936678647995\n",
      "6 18.16440569993574 0.09306026768684388 0.09266208392381668\n",
      "7 17.986484799999744 0.08928042861074209 0.08962332242727279\n",
      "8 18.013392199994996 0.08708407996594905 0.08756852117180824\n",
      "9 17.94495180004742 0.0845836722701788 0.0829616917669773\n",
      "10 17.953629699884914 0.08261946355551482 0.07960188868641853\n",
      "11 17.95136139995884 0.0801137866973877 0.07928015002608299\n",
      "12 18.02285579999443 0.0788593833707273 0.0803406697511673\n",
      "13 18.086372600053437 0.07727927486598492 0.07665965902805329\n",
      "14 18.020965999923646 0.07467080505937337 0.07517400225996972\n",
      "15 18.000838099978864 0.07401480348408222 0.07517337185144425\n",
      "16 17.976913399994373 0.07233434771001339 0.07685534676909447\n",
      "17 18.492720399983227 0.07154286201670766 0.07668198102712631\n",
      "18 17.984301900025457 0.07061832549795509 0.07622697931528091\n",
      "19 18.27235159999691 0.069575160138309 0.07604884251952171\n",
      "TOTAL TIME: ---366.59062779997475\n",
      "RMSE: ---0.002060723172229561---0.001003297738904216\n",
      "PSNR: ---28.45171449348112---3.063351172965496\n",
      "SSIM: ---0.9399998560329061---0.026768640714467544\n",
      "UQI: ---0.9963534287009581---0.002572526516125402\n"
     ]
    },
    {
     "data": {
      "text/plain": [
       "<matplotlib.colorbar.Colorbar at 0x2021406e860>"
      ]
     },
     "execution_count": 24,
     "metadata": {},
     "output_type": "execute_result"
    },
    {
     "data": {
      "image/png": "[encoded data removed]",
      "text/plain": [
       "<Figure size 432x288 with 2 Axes>"
      ]
     },
     "metadata": {
      "needs_background": "light"
     },
     "output_type": "display_data"
    }
   ],
   "source": [
    "# EIGHT LAYER RESULTS\n",
    "############################################################################\n",
    "\n",
    "model_8L = FNO2d_8L(modes, modes, width).cuda()\n",
    "print(count_params(model_8L))\n",
    "output_8L = train_model(model_8L, 20, batch_size, learning_rate, weight_decay, step_size, gamma)\n",
    "\n",
    "output_8L_model = output_8L.get(\"model\")\n",
    "torch.save(output_8L_model, 'fno2d_8l.h5')\n",
    "\n",
    "\n",
    "results_8L = model_metrics(output_8L_model,test_loader,ntrain)\n",
    "\n",
    "# EIGHT LAYER RESULTS\n",
    "############################################################################\n",
    "output_8L_model.eval()\n",
    "predicted = np.reshape(output_8L_model(K).detach().cpu().numpy(),(16,16))\n",
    "plt.imshow(predicted)\n",
    "plt.colorbar()"
   ]
  },
  {
   "cell_type": "code",
   "execution_count": 33,
   "metadata": {},
   "outputs": [
    {
     "data": {
      "image/png": "[encoded data removed]",
      "text/plain": [
       "<Figure size 432x288 with 2 Axes>"
      ]
     },
     "metadata": {
      "needs_background": "light"
     },
     "output_type": "display_data"
    }
   ],
   "source": [
    "K = torch.unsqueeze(test_loader.dataset[test_num][0], 0).cuda()\n",
    "output_8L_model.eval()\n",
    "predicted = np.reshape(output_8L_model(K).detach().cpu().numpy(),(16,16))\n",
    "plt.imshow(predicted)\n",
    "plt.colorbar()\n",
    "\n",
    "save_recon = 'fno2d_8lv2.png'\n",
    "#plt.savefig('./images/' + save_recon)"
   ]
  },
  {
   "cell_type": "code",
   "execution_count": 39,
   "metadata": {},
   "outputs": [
    {
     "data": {
      "text/plain": [
       "(0.9399998560329061, 0.026768640714467544)"
      ]
     },
     "execution_count": 39,
     "metadata": {},
     "output_type": "execute_result"
    }
   ],
   "source": [
    "np.mean(results_8L.get('ssim')), np.std(results_8L.get('ssim'))"
   ]
  },
  {
   "cell_type": "markdown",
   "metadata": {},
   "source": [
    "\n",
    "1 Layer\n",
    "1663874\n",
    "TOTAL TIME: ---104.38236680000045\n",
    "RMSE: ---0.003333161725894805---0.0014171824567482318\n",
    "PSNR: ---24.067089899473018---2.413291335653067\n",
    "SSIM: ---0.8197815650537099---0.04497284891212154\n",
    "UQI: ---0.9915629132112711---0.005649804945150558\n",
    "\n",
    "\n",
    "2 Layers\n",
    "1663874\n",
    "TOTAL TIME: ---143.48116810000647\n",
    "RMSE: ---0.0027410914288945065---0.0011752522343180846\n",
    "PSNR: ---25.95367455584884---2.5063768173878174\n",
    "SSIM: ---0.8848788476675741---0.029903798962027727\n",
    "UQI: ---0.9943801326523857---0.003707518941374275\n",
    "\n",
    "4 Layers\n",
    "1663874\n",
    "TOTAL TIME: ---227.48713970000608\n",
    "RMSE: ---0.002347279514966445---0.0011405515295433307\n",
    "PSNR: ---27.147017014638685---3.243962829021885\n",
    "SSIM: ---0.9145873484188117---0.031239407287163026\n",
    "UQI: ---0.9958147433170024---0.0033591851001756\n",
    "\n",
    "\n",
    "6 Layers\n",
    "2491394\n",
    "TOTAL TIME: ---307.26531749999776\n",
    "RMSE: ---0.002281007437099186---0.0011749824330908503\n",
    "PSNR: ---27.458660881427257---3.5743994881985213\n",
    "SSIM: ---0.9198570618445581---0.03522675931308244\n",
    "UQI: ---0.9958861323842791---0.003541185767768024\n",
    "\n",
    "\n",
    "8 Layers\n",
    "3318914\n",
    "TOTAL TIME: ---395.32088559999465\n",
    "RMSE: ---0.0022373626727182337---0.001182591818362234\n",
    "PSNR: ---27.794198608356076---3.699650379845133\n",
    "SSIM: ---0.9288647265634355---0.03427569857412951\n",
    "UQI: ---0.996174387737361---0.0033645843224606\n",
    "\n",
    "\n"
   ]
  },
  {
   "cell_type": "code",
   "execution_count": 40,
   "metadata": {},
   "outputs": [
    {
     "data": {
      "text/plain": [
       "<function matplotlib.pyplot.show(close=None, block=None)>"
      ]
     },
     "execution_count": 40,
     "metadata": {},
     "output_type": "execute_result"
    },
    {
     "data": {
      "image/png": "[encoded data removed]",
      "text/plain": [
       "<Figure size 432x288 with 1 Axes>"
      ]
     },
     "metadata": {
      "needs_background": "light"
     },
     "output_type": "display_data"
    }
   ],
   "source": [
    "fig1, ax1 = plt.subplots()\n",
    "red_cross = dict(markerfacecolor='r', marker='x')\n",
    "data = (results_1L.get(\"rms\"), results_2L.get(\"rms\"), results_4L.get(\"rms\"), results_6L.get(\"rms\"), results_8L.get(\"rms\"))\n",
    "labels = ('1 fourier layer', '2 fourier layers', '4 fourier layers', '6 fourier layers', '8 fourier layers')\n",
    "\n",
    "ax1.boxplot(data, vert=False, flierprops=red_cross)\n",
    "plt.yticks(np.arange(len(labels))+1,labels)\n",
    "plt.xlabel('RMSE')\n",
    "plt.show"
   ]
  },
  {
   "cell_type": "code",
   "execution_count": 41,
   "metadata": {},
   "outputs": [
    {
     "data": {
      "text/plain": [
       "<function matplotlib.pyplot.show(close=None, block=None)>"
      ]
     },
     "execution_count": 41,
     "metadata": {},
     "output_type": "execute_result"
    },
    {
     "data": {
      "image/png": "[encoded data removed]",
      "text/plain": [
       "<Figure size 432x288 with 1 Axes>"
      ]
     },
     "metadata": {
      "needs_background": "light"
     },
     "output_type": "display_data"
    }
   ],
   "source": [
    "fig1, ax1 = plt.subplots()\n",
    "red_cross = dict(markerfacecolor='r', marker='x')\n",
    "data = (results_1L.get(\"psnr\"), results_2L.get(\"psnr\"), results_4L.get(\"psnr\"), results_6L.get(\"psnr\"), results_8L.get(\"psnr\"))\n",
    "labels = ('1 fourier layer', '2 fourier layers', '4 fourier layers', '6 fourier layers', '8 fourier layers')\n",
    "\n",
    "ax1.boxplot(data, vert=False, flierprops=red_cross)\n",
    "plt.yticks(np.arange(len(labels))+1,labels)\n",
    "plt.xlabel('PSNR')\n",
    "plt.show"
   ]
  },
  {
   "cell_type": "code",
   "execution_count": 42,
   "metadata": {},
   "outputs": [
    {
     "data": {
      "text/plain": [
       "<function matplotlib.pyplot.show(close=None, block=None)>"
      ]
     },
     "execution_count": 42,
     "metadata": {},
     "output_type": "execute_result"
    },
    {
     "data": {
      "image/png": "[encoded data removed]",
      "text/plain": [
       "<Figure size 432x288 with 1 Axes>"
      ]
     },
     "metadata": {
      "needs_background": "light"
     },
     "output_type": "display_data"
    }
   ],
   "source": [
    "fig1, ax1 = plt.subplots()\n",
    "red_cross = dict(markerfacecolor='r', marker='x')\n",
    "data = (results_1L.get(\"ssim\"), results_2L.get(\"ssim\"), results_4L.get(\"ssim\"), results_6L.get(\"ssim\"), results_8L.get(\"ssim\"))\n",
    "labels = ('1 fourier layer', '2 fourier layers', '4 fourier layers', '6 fourier layers', '8 fourier layers')\n",
    "\n",
    "ax1.boxplot(data, vert=False, flierprops=red_cross)\n",
    "plt.yticks(np.arange(len(labels))+1,labels)\n",
    "plt.xlabel('SSIM')\n",
    "plt.show"
   ]
  },
  {
   "cell_type": "markdown",
   "metadata": {},
   "source": [
    "# Loading in Models"
   ]
  },
  {
   "cell_type": "code",
   "execution_count": null,
   "metadata": {},
   "outputs": [],
   "source": [
    "# loading our chosen model \n",
    "\n",
    "model = torch.load( './models/fno2d_8l.h5')"
   ]
  },
  {
   "cell_type": "code",
   "execution_count": null,
   "metadata": {},
   "outputs": [],
   "source": [
    "# printing out he results of our saved model\n",
    "results = model_metrics(model,test_loader,ntrain)"
   ]
  },
  {
   "cell_type": "code",
   "execution_count": null,
   "metadata": {},
   "outputs": [],
   "source": [
    "metric_name = 'ssim'        # rms, psnr, ssim\n",
    "\n",
    "fig1, ax1 = plt.subplots()\n",
    "red_cross = dict(markerfacecolor='r', marker='x')\n",
    "data = (results.get(metric_name))\n",
    "\n",
    "ax1.boxplot(data, vert=False, flierprops=red_cross)\n",
    "plt.xlabel(metric_name)\n",
    "plt.show"
   ]
  },
  {
   "cell_type": "code",
   "execution_count": null,
   "metadata": {},
   "outputs": [],
   "source": [
    "# Create outlier range\n",
    "q75, q25 = np.percentile(data, [75 ,25])\n",
    "iqr = q75 - q25\n",
    "outliers = [q25-1.5*iqr,q75+1.5*iqr]\n",
    "\n",
    "# zip data\n",
    "data_no = range(len(data))\n",
    "listed_data = zip(data_no,data)\n",
    "\n",
    "data_list = list(listed_data)"
   ]
  },
  {
   "cell_type": "code",
   "execution_count": null,
   "metadata": {},
   "outputs": [],
   "source": [
    "print('outliers are anything below ',outliers[0],' or above ',outliers[1])\n",
    "\n",
    "outlier_list = []\n",
    "for i in range(len(data)):\n",
    "    if data_list[i][1] < outliers[0]:\n",
    "        outlier_list.append(data_list[i])\n",
    "    elif data_list[i][1] > outliers[1]:\n",
    "        outlier_list.append(data_list[i])"
   ]
  },
  {
   "cell_type": "code",
   "execution_count": null,
   "metadata": {},
   "outputs": [],
   "source": [
    "print('the number of outliers are ',len(outlier_list) )\n",
    "#worst reconstruction\n",
    "worst = [np.min(np.asarray(outlier_list)[:,1]), np.max(np.asarray(outlier_list)[:,1]) ]\n",
    "print('for outliers, the lowest metric value is ',worst[0],' and highest is', worst[1])\n",
    "\n",
    "# The values for the worst performers! \n",
    "for i in range(len(outlier_list)):\n",
    "    if outlier_list[i][1] ==  worst[0]:\n",
    "        print(outlier_list[i])\n",
    "    elif outlier_list[i][1] == worst[1]:\n",
    "        print(outlier_list[i])\n",
    "\n"
   ]
  },
  {
   "cell_type": "code",
   "execution_count": null,
   "metadata": {},
   "outputs": [],
   "source": [
    "print(outlier_list)"
   ]
  },
  {
   "cell_type": "code",
   "execution_count": null,
   "metadata": {},
   "outputs": [],
   "source": [
    "test_num = 76\n",
    "truth_out = test_loader.dataset[test_num][1]\n",
    "plt.imshow(np.reshape(truth_out.numpy(),(16,16)))\n",
    "plt.colorbar()"
   ]
  },
  {
   "cell_type": "code",
   "execution_count": null,
   "metadata": {},
   "outputs": [],
   "source": [
    "# Quickly showing that our model gives expected results. \n",
    "model.eval()\n",
    "K = torch.unsqueeze(test_loader.dataset[test_num][0], 0).cuda()\n",
    "predicted = np.reshape(model(K).detach().cpu().numpy(),(16,16))\n",
    "\n",
    "plt.imshow(predicted)\n",
    "plt.colorbar()"
   ]
  },
  {
   "cell_type": "markdown",
   "metadata": {},
   "source": [
    "# Dealing with Panda's Data Frames"
   ]
  },
  {
   "cell_type": "code",
   "execution_count": null,
   "metadata": {},
   "outputs": [],
   "source": [
    "import pandas as pd"
   ]
  },
  {
   "cell_type": "code",
   "execution_count": null,
   "metadata": {},
   "outputs": [],
   "source": [
    "df_fno1d = pd.read_pickle('ssim_fno1')"
   ]
  },
  {
   "cell_type": "code",
   "execution_count": null,
   "metadata": {},
   "outputs": [],
   "source": [
    "df_fno2d = pd.DataFrame(outlier_list, columns =['Image_No', 'ssim_score' ])"
   ]
  },
  {
   "cell_type": "code",
   "execution_count": null,
   "metadata": {},
   "outputs": [],
   "source": [
    "df1_len = df_fno1d.shape[0]\n",
    "\n",
    "comparison = []\n",
    "for i in range(df1_len):\n",
    "    if df_fno1d.loc[:,'Image_No'][i] in df_fno2d['Image_No'].unique():\n",
    "        temp1 = df_fno2d.loc[:,'Image_No'][i]\n",
    "        temp2 = df_fno2d.loc[:,'ssim_score'][i]\n",
    "        temp3 = df_fno1d.loc[:,'ssim_score'][i]\n",
    "        comparison.append([temp1,temp2,temp3])\n",
    "\n",
    "\n"
   ]
  },
  {
   "cell_type": "code",
   "execution_count": null,
   "metadata": {},
   "outputs": [],
   "source": [
    "len(comparison)"
   ]
  },
  {
   "cell_type": "code",
   "execution_count": null,
   "metadata": {},
   "outputs": [],
   "source": [
    "comparison"
   ]
  }
 ],
 "metadata": {
  "kernelspec": {
   "display_name": "Python 3.10.4 ('gundam')",
   "language": "python",
   "name": "python3"
  },
  "language_info": {
   "codemirror_mode": {
    "name": "ipython",
    "version": 3
   },
   "file_extension": ".py",
   "mimetype": "text/x-python",
   "name": "python",
   "nbconvert_exporter": "python",
   "pygments_lexer": "ipython3",
   "version": "3.10.4"
  },
  "orig_nbformat": 4,
  "vscode": {
   "interpreter": {
    "hash": "cddc3d62f9a7e02ecb46a81ab11648d63c0573e5e13f25e036352996103f8463"
   }
  }
 },
 "nbformat": 4,
 "nbformat_minor": 2
}
